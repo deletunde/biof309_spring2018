{
 "cells": [
  {
   "cell_type": "markdown",
   "metadata": {},
   "source": [
    "% Iterators & Generators\n",
    "% Martin Skarzynski\n",
    "% 2018-04-17\n",
    "\n",
    "# Built-in Iterators\n",
    "- `enumerate`\n",
    "- `zip`\n",
    "- `map`\n",
    "- `filter`\n",
    "\n",
    "# Iterators as function arguments\n",
    "- `*args`\n",
    "- `**kwargs`\n",
    "\n",
    "# `itertools` iterators\n",
    "- `permutations`\n",
    "- `combinations`\n",
    "- `product`\n",
    "\n",
    "# Generators\n",
    "- Generator expressions\n",
    "- Built-in generators `count`\n",
    "- Generators using `yield`"
   ]
  }
 ],
 "metadata": {},
 "nbformat": 4,
 "nbformat_minor": 2
}
