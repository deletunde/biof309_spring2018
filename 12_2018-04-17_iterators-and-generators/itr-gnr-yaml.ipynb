{
 "cells": [
  {
   "cell_type": "markdown",
   "metadata": {},
   "source": [
    "---\n",
    "title: Iterators & Generators\n",
    "author: Martin Skarzynski\n",
    "date: 2018-04-17\n",
    "---\n",
    "\n",
    "# Built-in Iterators\n",
    "- `enumerate`\n",
    "- `zip`\n",
    "- `map`\n",
    "- `filter`\n",
    "\n",
    "# Iterators as function arguments\n",
    "- `*args`\n",
    "- `**kwargs`\n",
    "\n",
    "# `itertools` iterators\n",
    "- `permutations`\n",
    "- `combinations`\n",
    "- `product`\n",
    "\n",
    "# Generators\n",
    "- Generator expressions\n",
    "- Built-in generators `count`\n",
    "- Generators using `yield`"
   ]
  },
  {
   "cell_type": "code",
   "execution_count": null,
   "metadata": {},
   "outputs": [],
   "source": []
  }
 ],
 "metadata": {
  "kernelspec": {
   "display_name": "Python 3",
   "language": "python",
   "name": "python3"
  },
  "language_info": {
   "codemirror_mode": {
    "name": "ipython",
    "version": 3
   },
   "file_extension": ".py",
   "mimetype": "text/x-python",
   "name": "python",
   "nbconvert_exporter": "python",
   "pygments_lexer": "ipython3",
   "version": "3.6.4"
  }
 },
 "nbformat": 4,
 "nbformat_minor": 2
}
