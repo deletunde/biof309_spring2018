{
 "cells": [
  {
   "cell_type": "markdown",
   "metadata": {
    "button": false,
    "deletable": true,
    "new_sheet": false,
    "run_control": {
     "read_only": false
    }
   },
   "source": [
    "---\n",
    "title: \"Modular programming\"\n",
    "teaching: 15\n",
    "exercises: 15\n",
    "questions:\n",
    "- \"How can I create my own functions?\"\n",
    "objectives:\n",
    "- \"Learn about the advantages of modular programming\"\n",
    "- \"Explain and identify the difference between function definition and function call.\"\n",
    "- \"Write a function that takes a small, fixed number of arguments and produces a single result.\"\n",
    "keypoints:\n",
    "- \"Break programs down into functions to make them easier to understand.\"\n",
    "- \"Define a function using `def` with a name, parameters, and a block of code.\"\n",
    "- \"Defining a function does not run it.\"\n",
    "- \"Arguments in call are matched to parameters in definition.\"\n",
    "- \"Functions may return a result to their caller using `return`.\"\n",
    "---\n",
    "\n",
    "## Break programs down into functions to make them easier to understand.\n",
    "\n",
    "*   Human beings can only keep a few items in working memory at a time.\n",
    "*   Understand larger/more complicated ideas by understanding and combining pieces.\n",
    "    *   Components in a machine.\n",
    "    *   Lemmas when proving theorems.\n",
    "\n",
    "*   Functions serve the same purpose in programs.\n",
    "    *   *Encapsulate* complexity so that we can treat it as a single \"thing\".\n",
    "*   Also enables *re-use*.\n",
    "    *   Write one time, use many times.\n",
    "\n",
    "## Define a function using `def` with a name, parameters, and a block of code.\n",
    "\n",
    "*   Begin the definition of a new function with `def`.\n",
    "*   Followed by the name of the function.\n",
    "    *   Must obey the same rules as variable names.\n",
    "*   Then *parameters* in parentheses.\n",
    "    *   Empty parentheses if the function doesn't take any inputs.\n",
    "    *   We will discuss this in detail in a moment.\n",
    "*   Then a colon.\n",
    "*   Then an indented block of code."
   ]
  },
  {
   "cell_type": "code",
   "execution_count": null,
   "metadata": {
    "button": false,
    "collapsed": true,
    "deletable": true,
    "new_sheet": false,
    "run_control": {
     "read_only": false
    }
   },
   "outputs": [],
   "source": [
    "def print_greeting():\n",
    "    \"\"\"Print hello\"\"\"\n",
    "    print('Hello!')"
   ]
  },
  {
   "cell_type": "markdown",
   "metadata": {
    "button": false,
    "deletable": true,
    "new_sheet": false,
    "run_control": {
     "read_only": false
    }
   },
   "source": [
    "{: .python}\n",
    "\n",
    "## Defining a function does not run it.\n",
    "\n",
    "*   Defining a function does not run it.\n",
    "    *   Like assigning a value to a variable.\n",
    "*   Must call the function to execute the code it contains."
   ]
  },
  {
   "cell_type": "code",
   "execution_count": null,
   "metadata": {
    "button": false,
    "collapsed": true,
    "deletable": true,
    "new_sheet": false,
    "run_control": {
     "read_only": false
    }
   },
   "outputs": [],
   "source": [
    "print_greeting()"
   ]
  },
  {
   "cell_type": "markdown",
   "metadata": {
    "button": false,
    "deletable": true,
    "new_sheet": false,
    "run_control": {
     "read_only": false
    }
   },
   "source": [
    "{: .python}"
   ]
  },
  {
   "cell_type": "code",
   "execution_count": null,
   "metadata": {
    "button": false,
    "collapsed": true,
    "deletable": true,
    "new_sheet": false,
    "run_control": {
     "read_only": false
    }
   },
   "outputs": [],
   "source": [
    "Hello!"
   ]
  },
  {
   "cell_type": "markdown",
   "metadata": {
    "button": false,
    "deletable": true,
    "new_sheet": false,
    "run_control": {
     "read_only": false
    }
   },
   "source": [
    "{: .output}\n",
    "\n",
    "\n",
    "## Functions with arguments\n",
    "\n",
    "* Functions are more useful than this if they take arguments.\n",
    "* You can specify default values for these arguments\n",
    "* Use the return function to provide output from a function (that isn't of type NoneType)"
   ]
  },
  {
   "cell_type": "code",
   "execution_count": null,
   "metadata": {
    "button": false,
    "collapsed": true,
    "deletable": true,
    "new_sheet": false,
    "run_control": {
     "read_only": false
    }
   },
   "outputs": [],
   "source": [
    "def increase_magnitude(x=5,i=2):\n",
    "    \"\"\"This increases the magnitude of a number by by 10 to the power of i\"\"\"\n",
    "    x = x * (10 ** i)\n",
    "    return x\n",
    "\n",
    "increase_magnitude(50, 3)"
   ]
  },
  {
   "cell_type": "markdown",
   "metadata": {
    "button": false,
    "deletable": true,
    "new_sheet": false,
    "run_control": {
     "read_only": false
    }
   },
   "source": [
    "{: .python}"
   ]
  },
  {
   "cell_type": "code",
   "execution_count": null,
   "metadata": {
    "button": false,
    "collapsed": true,
    "deletable": true,
    "new_sheet": false,
    "run_control": {
     "read_only": false
    }
   },
   "outputs": [],
   "source": [
    "50000"
   ]
  },
  {
   "cell_type": "markdown",
   "metadata": {
    "button": false,
    "deletable": true,
    "new_sheet": false,
    "run_control": {
     "read_only": false
    }
   },
   "source": [
    "{: .output}\n",
    "\n",
    "\n",
    "## Return statements\n",
    "\n",
    "*   May occur anywhere in the function.\n",
    "*   But functions are easier to understand if `return` occurs:\n",
    "    *   At the start to handle special cases.\n",
    "    *   At the very end, with a final result.\n",
    "\n",
    "## Reading the head of a file\n",
    "\n",
    "We wish to determine the appropriate files to work with for our analysis. We\n",
    "could write a for loop and perform the appropriate operations within the body\n",
    "of the loop. Let's write some basic functions for this instead. We'll start by working on\n",
    "the console interactively on the console to figure out what it is that we want\n",
    "to do."
   ]
  },
  {
   "cell_type": "code",
   "execution_count": null,
   "metadata": {
    "button": false,
    "collapsed": true,
    "deletable": true,
    "new_sheet": false,
    "run_control": {
     "read_only": false
    }
   },
   "outputs": [],
   "source": [
    "filepath = csvs[0]\n",
    "with filepath.open('r') as f:\n",
    "    output = []\n",
    "    for line in range(2):\n",
    "        output.append(f.readline())\n",
    "output"
   ]
  },
  {
   "cell_type": "markdown",
   "metadata": {
    "button": false,
    "deletable": true,
    "new_sheet": false,
    "run_control": {
     "read_only": false
    }
   },
   "source": [
    "{: .python}"
   ]
  },
  {
   "cell_type": "code",
   "execution_count": null,
   "metadata": {
    "button": false,
    "collapsed": true,
    "deletable": true,
    "new_sheet": false,
    "run_control": {
     "read_only": false
    }
   },
   "outputs": [],
   "source": [
    "['https://s3.amazonaws.com/fcp-indi/data/Projects/ABIDE_Initiative/Outputs/freesurfer/5.1/Pitt_0050002/mri/T1.mgz,50002,abide_initiative\\n',\n",
    " 'https://s3.amazonaws.com/fcp-indi/data/Projects/ABIDE_Initiative/Outputs/freesurfer/5.1/Pitt_0050003/mri/T1.mgz,50003,abide_initiative\\n']"
   ]
  },
  {
   "cell_type": "markdown",
   "metadata": {
    "button": false,
    "deletable": true,
    "new_sheet": false,
    "run_control": {
     "read_only": false
    }
   },
   "source": [
    "{: .output}\n",
    "\n",
    "We'll now encapsulate that in a function. In addition we wish to:\n",
    "*    specify the number of lines returned programmatically.\n",
    "*    document what our function does.\n",
    "*    explicitly define the dependency on pathlib before we define our function.\n",
    "     This helps when we save our function to a file."
   ]
  },
  {
   "cell_type": "code",
   "execution_count": null,
   "metadata": {
    "button": false,
    "collapsed": true,
    "deletable": true,
    "new_sheet": false,
    "run_control": {
     "read_only": false
    }
   },
   "outputs": [],
   "source": [
    "from pathlib import Path\n",
    "def get_lines(filepath,nlines=2):\n",
    "    \"\"\"Return a list of length nlines, for as many lines of the file\"\"\"\n",
    "    with filepath.open('r') as f:\n",
    "        output = []\n",
    "        for line in range(nlines):\n",
    "            output.append(f.readline())\n",
    "    return output"
   ]
  },
  {
   "cell_type": "markdown",
   "metadata": {
    "button": false,
    "deletable": true,
    "new_sheet": false,
    "run_control": {
     "read_only": false
    }
   },
   "source": [
    "{: .python}\n",
    "\n",
    "Let's save this function to a file so that we can maintain a module of functions that are useful for reuse:"
   ]
  },
  {
   "cell_type": "code",
   "execution_count": null,
   "metadata": {
    "button": false,
    "collapsed": true,
    "deletable": true,
    "new_sheet": false,
    "run_control": {
     "read_only": false
    }
   },
   "outputs": [],
   "source": [
    "%save my_funcs N # enter the last line number"
   ]
  },
  {
   "cell_type": "markdown",
   "metadata": {
    "button": false,
    "deletable": true,
    "new_sheet": false,
    "run_control": {
     "read_only": false
    }
   },
   "source": [
    "{: .python}"
   ]
  },
  {
   "cell_type": "code",
   "execution_count": null,
   "metadata": {
    "button": false,
    "collapsed": true,
    "deletable": true,
    "new_sheet": false,
    "run_control": {
     "read_only": false
    }
   },
   "outputs": [],
   "source": [
    "The following commands were written to file `my_funcs.py`:\n",
    "from pathlib import Path\n",
    "def get_lines(filepath,nlines=2):\n",
    "    \"\"\"Return a list of length nlines, for as many lines of the file\"\"\"\n",
    "    with filepath.open('r') as f:\n",
    "        output = []\n",
    "        for line in range(nlines):\n",
    "            output.append(f.readline())\n",
    "    return output"
   ]
  },
  {
   "cell_type": "markdown",
   "metadata": {
    "button": false,
    "deletable": true,
    "new_sheet": false,
    "run_control": {
     "read_only": false
    }
   },
   "source": [
    "{: .output}\n",
    "\n",
    "## Counting the number of lines in a file\n",
    "\n",
    "Another useful operation we would like is to count the number of lines in the\n",
    "file:"
   ]
  },
  {
   "cell_type": "code",
   "execution_count": null,
   "metadata": {
    "button": false,
    "collapsed": true,
    "deletable": true,
    "new_sheet": false,
    "run_control": {
     "read_only": false
    }
   },
   "outputs": [],
   "source": [
    " def count_lines(filepath):\n",
    "    \"\"\"Count the number of lines in a text file\"\"\"\n",
    "    if filepath.stat().st_size == 0:\n",
    "        return 0\n",
    "    else:\n",
    "        with filepath.open('r') as f:\n",
    "            for i, _ in enumerate(f):\n",
    "                pass\n",
    "        \n",
    "        return i+1 # because enumerate starts counting at 0    "
   ]
  },
  {
   "cell_type": "markdown",
   "metadata": {
    "button": false,
    "deletable": true,
    "new_sheet": false,
    "run_control": {
     "read_only": false
    }
   },
   "source": [
    "{: .python}"
   ]
  },
  {
   "cell_type": "code",
   "execution_count": null,
   "metadata": {
    "button": false,
    "collapsed": true,
    "deletable": true,
    "new_sheet": false,
    "run_control": {
     "read_only": false
    }
   },
   "outputs": [],
   "source": [
    "count_lines(file_path)"
   ]
  },
  {
   "cell_type": "markdown",
   "metadata": {
    "button": false,
    "deletable": true,
    "new_sheet": false,
    "run_control": {
     "read_only": false
    }
   },
   "source": [
    "{: .python}"
   ]
  },
  {
   "cell_type": "code",
   "execution_count": null,
   "metadata": {
    "button": false,
    "collapsed": true,
    "deletable": true,
    "new_sheet": false,
    "run_control": {
     "read_only": false
    }
   },
   "outputs": [],
   "source": [
    "8060"
   ]
  },
  {
   "cell_type": "markdown",
   "metadata": {
    "button": false,
    "deletable": true,
    "new_sheet": false,
    "run_control": {
     "read_only": false
    }
   },
   "source": [
    "{: .output}"
   ]
  },
  {
   "cell_type": "code",
   "execution_count": null,
   "metadata": {
    "button": false,
    "collapsed": true,
    "deletable": true,
    "new_sheet": false,
    "run_control": {
     "read_only": false
    }
   },
   "outputs": [],
   "source": [
    "%save my_funcs N # the line number of the function definition"
   ]
  },
  {
   "cell_type": "markdown",
   "metadata": {
    "button": false,
    "deletable": true,
    "new_sheet": false,
    "run_control": {
     "read_only": false
    }
   },
   "source": [
    "{: .python}"
   ]
  },
  {
   "cell_type": "code",
   "execution_count": null,
   "metadata": {
    "button": false,
    "collapsed": true,
    "deletable": true,
    "new_sheet": false,
    "run_control": {
     "read_only": false
    }
   },
   "outputs": [],
   "source": [
    "The following commands were written to file `my_funcs.py`:\n",
    "def count_lines(filepath):\n",
    "    \"\"\"Count the number of lines in a text file\"\"\"\n",
    "    if filepath.stat().st_size == 0:\n",
    "        return 0\n",
    "    else:\n",
    "        with filepath.open('r') as f:\n",
    "            for i, _ in enumerate(f):\n",
    "                pass\n",
    "        \n",
    "        return i+1 # because enumerate starts counting at 0"
   ]
  },
  {
   "cell_type": "markdown",
   "metadata": {
    "button": false,
    "deletable": true,
    "new_sheet": false,
    "run_control": {
     "read_only": false
    }
   },
   "source": [
    "{: .output}\n",
    "\n",
    "## Another layer of encapsulation\n",
    "\n",
    "Finally we'll write a function that encapsulates the functionality of our previous functions:"
   ]
  },
  {
   "cell_type": "code",
   "execution_count": null,
   "metadata": {
    "button": false,
    "collapsed": true,
    "deletable": true,
    "new_sheet": false,
    "run_control": {
     "read_only": false
    }
   },
   "outputs": [],
   "source": [
    "def get_file_info(filepath,nlines=2):\n",
    "    \"\"\"\"\n",
    "    get_file_info(filepath[, nlines]) -> list\n",
    "\n",
    "    Return a line count and the first few lines of  a file as a string\"\"\"\n",
    "    \n",
    "    output = filepath.name + ': Num lines: ' + str(count_lines(filepath)) + '\\n\\n'\n",
    "    output += ''.join(get_lines(filepath, nlines))\n",
    "    return output"
   ]
  },
  {
   "cell_type": "markdown",
   "metadata": {
    "button": false,
    "deletable": true,
    "new_sheet": false,
    "run_control": {
     "read_only": false
    }
   },
   "source": [
    "{: .python}"
   ]
  },
  {
   "cell_type": "code",
   "execution_count": null,
   "metadata": {
    "button": false,
    "collapsed": true,
    "deletable": true,
    "new_sheet": false,
    "run_control": {
     "read_only": false
    }
   },
   "outputs": [],
   "source": [
    "%save -a my_funcs N # the number of the last command"
   ]
  },
  {
   "cell_type": "markdown",
   "metadata": {
    "button": false,
    "deletable": true,
    "new_sheet": false,
    "run_control": {
     "read_only": false
    }
   },
   "source": [
    "{: .python}"
   ]
  },
  {
   "cell_type": "code",
   "execution_count": null,
   "metadata": {
    "button": false,
    "collapsed": true,
    "deletable": true,
    "new_sheet": false,
    "run_control": {
     "read_only": false
    }
   },
   "outputs": [],
   "source": [
    "The following commands were written to file `my_funcs.py`:\n",
    "def get_file_info(filepath,nlines=2):\n",
    "    \"\"\"\"\n",
    "    get_file_info(filepath[, nlines]) -> list\n",
    "\n",
    "    Return a line count and the first few lines of  a file as a string\"\"\"\n",
    "    \n",
    "    output = filepath.name + ': Num lines: ' + str(count_lines(filepath)) + '\\n\\n'\n",
    "    output += ''.join(get_lines(filepath, nlines))\n",
    "    return output"
   ]
  },
  {
   "cell_type": "markdown",
   "metadata": {
    "button": false,
    "deletable": true,
    "new_sheet": false,
    "run_control": {
     "read_only": false
    }
   },
   "source": [
    "{: .output}\n",
    "\n",
    "Now we can look through the csv files in metasearch to see if they contain\n",
    "useful data for our analysis:"
   ]
  },
  {
   "cell_type": "code",
   "execution_count": null,
   "metadata": {
    "button": false,
    "collapsed": true,
    "deletable": true,
    "new_sheet": false,
    "run_control": {
     "read_only": false
    }
   },
   "outputs": [],
   "source": [
    "for f in csvs:\n",
    "    print(get_file_info(f))"
   ]
  },
  {
   "cell_type": "markdown",
   "metadata": {
    "button": false,
    "deletable": true,
    "new_sheet": false,
    "run_control": {
     "read_only": false
    }
   },
   "source": [
    "{: .python}"
   ]
  },
  {
   "cell_type": "code",
   "execution_count": null,
   "metadata": {
    "button": false,
    "collapsed": true,
    "deletable": true,
    "new_sheet": false,
    "run_control": {
     "read_only": false
    }
   },
   "outputs": [],
   "source": [
    "...\n",
    "\n",
    "\n",
    "ngl_wyoming.csv: Num lines: 8267\n",
    "\n",
    "d_first_name,d_mid_name,d_last_name,d_suffix,d_birth_date,d_death_date,section_id,row_num,site_num,cem_name,cem_addr_one,cem_addr_two,city,state,zip,cem_url,cem_phone,relationship,v_first_name,v_mid_name,v_last_name,v_suffix,branch,rank,war\n",
    "\"Paul\",\"Frederick\",\"Kratzer\",\"\",\"05/12/1924\",\"04/28/2007\",\"C\",\"\",\"764\",\"OREGON TRAIL STATE VETERANS CEMETERY\",\"80 VETERANS ROAD\",\"BOX 669\",\"EVANSVILLE\",\"WY\",\"82636\",\"\",\"307-235-6673\",\"Veteran (Self)\",\"Paul\",\"Frederick\",\"Kratzer\",\"\",\"US NAVY\",\"GM2\",\"WORLD WAR II\",\n",
    "\n",
    "nutrients.csv: Num lines: 7638\n",
    "\n",
    "name,group,\"protein (g)\",\"calcium (g)\",\"sodium (g)\",\"fiber (g)\",\"vitaminc (g)\",\"potassium (g)\",\"carbohydrate (g)\",\"sugars (g)\",\"fat (g)\",\"water (g)\",calories,\"saturated (g)\",\"monounsat (g)\",\"polyunsat (g)\"\n",
    "\"Beverage, instant breakfast powder, chocolate, not reconstituted\",\"Dairy and Egg Products\",19.9,0.285,0.385,0.4,0.0769,0.947,66.2,65.8,1.4,7.4,357,0.56,0.314,0.278"
   ]
  },
  {
   "cell_type": "markdown",
   "metadata": {
    "button": false,
    "deletable": true,
    "new_sheet": false,
    "run_control": {
     "read_only": false
    }
   },
   "source": [
    "{: .output}\n",
    "\n",
    "We probably don't want all this output permanently although it can be useful\n",
    "now. For now let's save the list of csv files along with how many lines they\n",
    "have:"
   ]
  },
  {
   "cell_type": "code",
   "execution_count": null,
   "metadata": {
    "button": false,
    "collapsed": true,
    "deletable": true,
    "new_sheet": false,
    "run_control": {
     "read_only": false
    }
   },
   "outputs": [],
   "source": [
    "for f in csvs:\n",
    "    print(f, 0)"
   ]
  },
  {
   "cell_type": "markdown",
   "metadata": {
    "button": false,
    "deletable": true,
    "new_sheet": false,
    "run_control": {
     "read_only": false
    }
   },
   "source": [
    "{: .python}"
   ]
  },
  {
   "cell_type": "code",
   "execution_count": null,
   "metadata": {
    "button": false,
    "collapsed": true,
    "deletable": true,
    "new_sheet": false,
    "run_control": {
     "read_only": false
    }
   },
   "outputs": [],
   "source": [
    "%save -a metasearch_analysis.py N # the line number of the above command"
   ]
  },
  {
   "cell_type": "markdown",
   "metadata": {
    "button": false,
    "deletable": true,
    "new_sheet": false,
    "run_control": {
     "read_only": false
    }
   },
   "source": [
    "{: .python}"
   ]
  },
  {
   "cell_type": "code",
   "execution_count": null,
   "metadata": {
    "button": false,
    "collapsed": true,
    "deletable": true,
    "new_sheet": false,
    "run_control": {
     "read_only": false
    }
   },
   "outputs": [],
   "source": [
    "The following commands were written to file `metasearch_analysis.py`:\n",
    "for f in csvs:\n",
    "    print(f, 0)"
   ]
  },
  {
   "cell_type": "markdown",
   "metadata": {
    "button": false,
    "deletable": true,
    "new_sheet": false,
    "run_control": {
     "read_only": false
    }
   },
   "source": [
    "{: .output}\n",
    "\n",
    "> ## Running scripts in debugger mode\n",
    "> \n",
    "> Now is a good time to try using the ipdb debugger to see how one can observe\n",
    "> what is happening as the flow of execution through the file occurs..\n",
    "{: .callout}\n",
    "\n",
    "\n",
    "> ## Order of Operations\n",
    "> \n",
    "> The example above:\n",
    "> \n",
    "> ~~~\n",
    "> result = print_date(1871, 3, 19)\n",
    "> print('result of call is:', result)\n",
    "> ~~~\n",
    "> {: .python}\n",
    "> \n",
    "> printed:\n",
    "> ~~~\n",
    "> 1871/3/19\n",
    "> result of call is: None\n",
    "> ~~~\n",
    "> {: .output}\n",
    "> \n",
    "> Explain why the two lines of output appeared in the order they did.\n",
    "{: .challenge}\n",
    "\n",
    "\n",
    "> ## Find the python scripts\n",
    "> \n",
    "> Write a function that calls at least one of the functions developed in the\n",
    "> lesson. When given a directory as input the function should return a list\n",
    "> with as many elements as there are python files (.py) in the directory. Each\n",
    "> element should contain the name and the number of lines for a specific python\n",
    "> file (.py).\n",
    "> \n",
    "> \n",
    ">> ## Solution\n",
    ">> \n",
    ">> ~~~\n",
    ">> def get_py_files(dir_path,nlines=0):\n",
    ">>    \"\"\"Returns a list of the python files in the dir_path\n",
    ">>    dir_path should be a Path object from pathlib with\n",
    ">>    a name of a directory\"\"\"\"\n",
    ">>    \n",
    ">>    py_files = dir_path.glob('**/*.py')\n",
    ">>    output = []\n",
    ">>    for f in py_files:\n",
    ">>        output.append(get_file_info(f,nlines))\n",
    ">>     return output\n",
    ">>     \n",
    ">> print(*get_py_files(metasearch_dir))\n",
    ">> ~~~\n",
    ">> {: .python}\n",
    ">> \n",
    ">> ~~~\n",
    ">> data_not_in_repo/metasearch/crawler/brain-development/extract.py:\n",
    ">> Num lines: 12\n",
    ">> \n",
    ">> data_not_in_repo/metasearch/docs/data/merge_csv.py:\n",
    ">> Num lines: 25\n",
    ">> ~~~\n",
    ">> {: .output}\n",
    ">> \n",
    "> {: .solution}\n",
    "{: .challenge}"
   ]
  }
 ],
 "metadata": {
  "kernelspec": {
   "display_name": "Python 3",
   "language": "python",
   "name": "python3"
  },
  "language_info": {
   "codemirror_mode": {
    "name": "ipython",
    "version": 3
   },
   "file_extension": ".py",
   "mimetype": "text/x-python",
   "name": "python",
   "nbconvert_exporter": "python",
   "pygments_lexer": "ipython3",
   "version": "3.5.0"
  }
 },
 "nbformat": 4,
 "nbformat_minor": 2
}
