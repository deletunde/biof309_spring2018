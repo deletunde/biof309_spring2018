{
 "cells": [
  {
   "cell_type": "markdown",
   "metadata": {},
   "source": [
    "# Functions, Modules, and Packages\n",
    "---\n",
    "Resources\n"
   ]
  },
  {
   "cell_type": "markdown",
   "metadata": {},
   "source": [
    "TODO\n",
    "- review last lesson (basics)\n",
    "- what was covered in previous homework\n",
    "- functions = tools\n",
    "- modules = toolbox\n",
    "- packages = spec\n",
    "- specialized garage\n",
    "\n",
    "make a function\n",
    "create module\n",
    "download a package (numpy)\n",
    "integrate a package function into our module\n",
    "\n",
    "make something: something to choose random class member or make teams\n"
   ]
  },
  {
   "cell_type": "markdown",
   "metadata": {},
   "source": [
    "## References\n",
    "\n",
    "* [A Whirlwind Tour of Python](https://github.com/jakevdp/WhirlwindTourOfPython) - [Jake Vanderplas](https://github.com/jakevdp)\n",
    "* [Numpy Style Guide](http://sphinxcontrib-napoleon.readthedocs.io/en/latest/example_numpy.html)"
   ]
  },
  {
   "cell_type": "markdown",
   "metadata": {},
   "source": [
    "## Outline\n",
    "---\n",
    "1. Review\n",
    "    * Variable - \n",
    "    * Data types: integer, float, string, \n",
    "2. Functions\n",
    "    * What are they?\n",
    "    * Define a function\n",
    "    * Difference between functions and methods\n",
    "3. Modules\n",
    "    * Create a module with functions\n",
    "4. Packages"
   ]
  },
  {
   "cell_type": "markdown",
   "metadata": {},
   "source": [
    "## Shortcuts\n",
    "---"
   ]
  },
  {
   "cell_type": "code",
   "execution_count": null,
   "metadata": {
    "collapsed": true
   },
   "outputs": [],
   "source": [
    "# shift + tab -> show function input\n",
    "\n",
    "# shift + enter -> run the current cell\n",
    "\n",
    "# esc + a -> insert cell above\n",
    "\n",
    "# ? -> get documentation for a function"
   ]
  },
  {
   "cell_type": "markdown",
   "metadata": {},
   "source": [
    "## Review\n",
    "---"
   ]
  },
  {
   "cell_type": "code",
   "execution_count": null,
   "metadata": {
    "collapsed": true
   },
   "outputs": [],
   "source": [
    "# variable - pointer to a type\n",
    "\n",
    "# types:\n",
    "# - numeric - integer, float, complex\n",
    "# - \n",
    "\n",
    "# objects - everything in python (lists, tuple, dictionary)"
   ]
  },
  {
   "cell_type": "markdown",
   "metadata": {
    "collapsed": true
   },
   "source": [
    "## What is a function?\n",
    "---\n",
    "A function is:\n",
    "* reusable code\n",
    "* group of code with a name\n",
    "* can be called using parentheses\n",
    "\n",
    "Two ways to define a function:\n",
    "    1. def statement - any type of function\n",
    "    2. lambda statement - short anonymous functions\n",
    "    "
   ]
  },
  {
   "cell_type": "markdown",
   "metadata": {},
   "source": [
    "## Anatomy of a Def Statement\n",
    "---\n",
    "<img src=\"files/img/func.jpg\" alt=\"Anatomy of a Function\" />"
   ]
  },
  {
   "cell_type": "code",
   "execution_count": 17,
   "metadata": {
    "collapsed": true
   },
   "outputs": [],
   "source": [
    "# Anatomy of a Def Statement (using the Numpy style guide):\n",
    "\n",
    "def example_function(param1, param2):\n",
    "    \"\"\" One-line description of the function\n",
    "    \n",
    "    You would describe the function in a bit more detail here, but\n",
    "    fore most things you could just use a one-liner.  The idea is \n",
    "    that you want to come back to this code in a month and just by\n",
    "    looking at the documentation you'll know exactly what the function\n",
    "    does.  What's better, you want your documentation to be descriptive\n",
    "    enough that others can simply read through the documentation and\n",
    "    know what your code does, then they may actually use it :)\n",
    "    \n",
    "    Parameters\n",
    "    ----------\n",
    "    param1 : int\n",
    "        The first parameter.\n",
    "    param2 : str\n",
    "        The second parameter.\n",
    "        \n",
    "    Returns\n",
    "    -------\n",
    "    str\n",
    "        param2 multiplied by param1\n",
    "    \"\"\"\n",
    "    return param1 * param2"
   ]
  },
  {
   "cell_type": "code",
   "execution_count": 19,
   "metadata": {
    "collapsed": false
   },
   "outputs": [
    {
     "data": {
      "text/plain": [
       "'cheesecheese'"
      ]
     },
     "execution_count": 19,
     "metadata": {},
     "output_type": "execute_result"
    }
   ],
   "source": [
    "example_function(2,'cheese')"
   ]
  },
  {
   "cell_type": "code",
   "execution_count": null,
   "metadata": {
    "collapsed": true
   },
   "outputs": [],
   "source": [
    "# writen an example function that returns a string message\n",
    "\n",
    "def example(input):\n",
    "    return str(input) + \"!\"\n",
    "example(4)"
   ]
  },
  {
   "cell_type": "code",
   "execution_count": 6,
   "metadata": {
    "collapsed": false
   },
   "outputs": [
    {
     "name": "stdout",
     "output_type": "stream",
     "text": [
      "1-2-3\n"
     ]
    }
   ],
   "source": [
    "# functions have keyword and non-keyword arguments\n",
    "\n",
    "# \"1,2,3\" are the non-keyword arguments\n",
    "# \"sep='-'\" is a keyword argument\n",
    "print(1,2,3, sep='-')\n",
    "\n",
    "# when keyword and non-keyword arguments are used together,\n",
    "# the non-keyword arguments come first"
   ]
  },
  {
   "cell_type": "code",
   "execution_count": 9,
   "metadata": {
    "collapsed": true
   },
   "outputs": [],
   "source": [
    "# use def to create a \"hello\" function\n",
    "\n",
    "def hello(input):\n",
    "    print('Hello ' + input + '!')"
   ]
  },
  {
   "cell_type": "code",
   "execution_count": 10,
   "metadata": {
    "collapsed": false
   },
   "outputs": [
    {
     "name": "stdout",
     "output_type": "stream",
     "text": [
      "Hello michael!\n"
     ]
    }
   ],
   "source": [
    "hello('michael')"
   ]
  },
  {
   "cell_type": "code",
   "execution_count": 16,
   "metadata": {
    "collapsed": true
   },
   "outputs": [],
   "source": [
    "# another way to do this with the format() function\n",
    "\n",
    "def hello(input):\n",
    "    print('Hello {name}!'.format(name=input))"
   ]
  },
  {
   "cell_type": "code",
   "execution_count": 17,
   "metadata": {
    "collapsed": false
   },
   "outputs": [
    {
     "name": "stdout",
     "output_type": "stream",
     "text": [
      "Hello michael!\n"
     ]
    }
   ],
   "source": [
    "hello('michael')"
   ]
  },
  {
   "cell_type": "markdown",
   "metadata": {},
   "source": [
    "### Functions Exercise:\n",
    "---\n",
    "1.) Define a function that takes someone's name as the input and returns a message that incorporates the input name.    \n",
    "2.) Define a function that returns the square of an input integer.  \n",
    "3.) Combine the two functions you've just created (name message and square) in a single function.  \n",
    "4.) BONUS:   "
   ]
  },
  {
   "cell_type": "code",
   "execution_count": 2,
   "metadata": {
    "collapsed": true
   },
   "outputs": [],
   "source": [
    "# 1.) Define a function that takes someone's name as \n",
    "# the input and returns a message that incorporates\n",
    "# the input name.\n",
    "# e.g. \"Hey <name>, HIGH FIVE!!\"\n",
    "\n"
   ]
  },
  {
   "cell_type": "code",
   "execution_count": null,
   "metadata": {
    "collapsed": true
   },
   "outputs": [],
   "source": [
    "# 2.) Define a function that returns the square of \n",
    "# an input integer.\n",
    "\n"
   ]
  },
  {
   "cell_type": "code",
   "execution_count": null,
   "metadata": {
    "collapsed": true
   },
   "outputs": [],
   "source": [
    "# 3.) Combine the two functions you've just created\n",
    "# (name message and square) in a single function.\n",
    "\n"
   ]
  },
  {
   "cell_type": "markdown",
   "metadata": {},
   "source": [
    "## Lambda Functions\n",
    "---\n",
    "* Small functions without documentation"
   ]
  },
  {
   "cell_type": "code",
   "execution_count": 5,
   "metadata": {
    "collapsed": true
   },
   "outputs": [],
   "source": [
    "z = lambda x,y: print(x * y)"
   ]
  },
  {
   "cell_type": "code",
   "execution_count": 6,
   "metadata": {
    "collapsed": false
   },
   "outputs": [
    {
     "name": "stdout",
     "output_type": "stream",
     "text": [
      "12\n"
     ]
    }
   ],
   "source": [
    "z(3,4)"
   ]
  },
  {
   "cell_type": "code",
   "execution_count": null,
   "metadata": {
    "collapsed": true
   },
   "outputs": [],
   "source": [
    "things to add:\n",
    "    formatting syntax\n",
    "    return rather than print\n",
    "    combining functions"
   ]
  },
  {
   "cell_type": "code",
   "execution_count": 5,
   "metadata": {
    "collapsed": false
   },
   "outputs": [
    {
     "name": "stdout",
     "output_type": "stream",
     "text": [
      "1 2 3\n"
     ]
    }
   ],
   "source": [
    "print(1,2,3)"
   ]
  },
  {
   "cell_type": "code",
   "execution_count": 1,
   "metadata": {
    "collapsed": true
   },
   "outputs": [],
   "source": [
    "# anatomy of a function\n",
    "def function_name(argument):\n",
    "    \"\"\"\n",
    "    Docstring description of what the function does.\n",
    "    \"\"\"\n",
    "    return argument + \", NICE!\""
   ]
  },
  {
   "cell_type": "code",
   "execution_count": null,
   "metadata": {
    "collapsed": true
   },
   "outputs": [],
   "source": [
    "# function_name\n",
    "# docstring\n",
    "# argument (input)\n",
    "# return (output)"
   ]
  },
  {
   "cell_type": "code",
   "execution_count": null,
   "metadata": {
    "collapsed": true
   },
   "outputs": [],
   "source": []
  },
  {
   "cell_type": "code",
   "execution_count": null,
   "metadata": {
    "collapsed": true
   },
   "outputs": [],
   "source": [
    "# my first function\n"
   ]
  },
  {
   "cell_type": "code",
   "execution_count": null,
   "metadata": {
    "collapsed": true
   },
   "outputs": [],
   "source": [
    "chain functions together\n",
    "change output to formated file\n",
    "maybe use biopython for something\n",
    "compile functions into a script?"
   ]
  },
  {
   "cell_type": "markdown",
   "metadata": {},
   "source": []
  }
 ],
 "metadata": {
  "anaconda-cloud": {},
  "kernelspec": {
   "display_name": "Python [default]",
   "language": "python",
   "name": "python3"
  },
  "language_info": {
   "codemirror_mode": {
    "name": "ipython",
    "version": 3
   },
   "file_extension": ".py",
   "mimetype": "text/x-python",
   "name": "python",
   "nbconvert_exporter": "python",
   "pygments_lexer": "ipython3",
   "version": "3.5.2"
  }
 },
 "nbformat": 4,
 "nbformat_minor": 2
}
