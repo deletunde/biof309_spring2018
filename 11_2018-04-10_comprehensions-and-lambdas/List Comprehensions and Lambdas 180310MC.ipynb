{
 "cells": [
  {
   "cell_type": "markdown",
   "metadata": {},
   "source": [
    "# List Comprehensions and Lambdas\n",
    "## Abbreviated Python\n",
    "---\n",
    "\n",
    "## Resources:\n",
    "- [Python Comprehensions By Example](https://www.smallsurething.com/list-dict-and-set-comprehensions-by-example/)\n",
    "- [Python List Comprehension](https://www.datacamp.com/community/tutorials/python-list-comprehension) and [Python Functions](https://www.datacamp.com/community/tutorials/functions-python-tutorial)- Karlijn Willems\n",
    "- [Yet Another Pandas Tutorial (with Pokemon)](https://www.kaggle.com/shikhar1/yet-another-pandas-tutorial)"
   ]
  },
  {
   "cell_type": "markdown",
   "metadata": {},
   "source": [
    "## Lambda Functions\n",
    "---\n",
    "Lambda functions are abbreviated, single use functions, which is why you'll sometimes see them referred to as \"anonymous functions\" or \"functions without a name\".\n",
    "\n",
    "The anatomy of a lambda function:\n",
    "```python\n",
    "f = lambda x: x+2\n",
    "f(3)\n",
    "```\n",
    "Where \"lambda\" indicates that we are creating a lambda function, which is followed by an argument (which in this case is \"x\", colon, and finally the expression (or what the function should do with the argument and return to the user)."
   ]
  },
  {
   "cell_type": "code",
   "execution_count": null,
   "metadata": {
    "collapsed": false
   },
   "outputs": [],
   "source": [
    "# simple lambda function\n",
    "f=lambda x: x + 2\n",
    "f(3)"
   ]
  },
  {
   "cell_type": "code",
   "execution_count": null,
   "metadata": {
    "collapsed": false
   },
   "outputs": [],
   "source": [
    "# what's gonna happen if we call the above function again?\n",
    "f(3)"
   ]
  },
  {
   "cell_type": "code",
   "execution_count": null,
   "metadata": {
    "collapsed": false
   },
   "outputs": [],
   "source": [
    "# you can also add conditional statements to your lambda functions\n",
    "f = lambda x: 'even' if x%2==2 else 'odd'\n",
    "f(3)"
   ]
  },
  {
   "cell_type": "markdown",
   "metadata": {
    "collapsed": true
   },
   "source": [
    "## Lambdas in the Wild!\n",
    "You'll commonly see lamda functions combined with the filter(), map(), or reduce() functions"
   ]
  },
  {
   "cell_type": "code",
   "execution_count": null,
   "metadata": {
    "collapsed": false
   },
   "outputs": [],
   "source": [
    "# use map and lambdas\n",
    "# use list() to see the map\n",
    "a = [1,2,3,4]\n",
    "b = [17,12,11,10]\n",
    "list(map(lambda x,y:x+y, a,b))"
   ]
  },
  {
   "cell_type": "code",
   "execution_count": null,
   "metadata": {
    "collapsed": false
   },
   "outputs": [],
   "source": [
    "# lets try lambda functions with pokemon!\n",
    "import pandas as pd\n",
    "df = pd.read_csv('pokemon.csv')\n",
    "df.head()"
   ]
  },
  {
   "cell_type": "code",
   "execution_count": null,
   "metadata": {
    "collapsed": false
   },
   "outputs": [],
   "source": [
    "# create a new column that is the difference between attack and defense\n",
    "df['att-def_delta'] = df.apply(lambda x:x.Attack-x.Defense, axis=1)\n",
    "df.head()"
   ]
  },
  {
   "cell_type": "markdown",
   "metadata": {
    "collapsed": false
   },
   "source": [
    "## Exercise\n",
    "1. Make a new column called \"attack_lvl\" that ranks a pokemon's attack as high, medium, or low (using a lambda function)\n",
    "    - you can use the describe() function on the dataframe to get an idea of the attack range\n",
    "2. Make another new column called \"def_lvl\" that ranks a pokemon's defense as high, medium, or low (again, using a lambda function)\n",
    "3. Make a new dataframe called ultra_mons that contains data for all the pokemon that have a high attack and defense level"
   ]
  },
  {
   "cell_type": "code",
   "execution_count": null,
   "metadata": {
    "collapsed": true
   },
   "outputs": [],
   "source": [
    "# add an \"attack_lvl\" column\n"
   ]
  },
  {
   "cell_type": "code",
   "execution_count": null,
   "metadata": {
    "collapsed": true
   },
   "outputs": [],
   "source": [
    "# add a \"defense_lvl\" column\n"
   ]
  },
  {
   "cell_type": "code",
   "execution_count": null,
   "metadata": {
    "collapsed": true
   },
   "outputs": [],
   "source": [
    "# make a new dataframe called \"ultra_mon\"\n"
   ]
  },
  {
   "cell_type": "markdown",
   "metadata": {},
   "source": [
    "## Solutions:"
   ]
  },
  {
   "cell_type": "code",
   "execution_count": null,
   "metadata": {
    "collapsed": false
   },
   "outputs": [],
   "source": [
    "# solution 1\n",
    "df['attack_lvl'] = df['Attack'].apply(lambda x: 'high' if x>120 else ('medium' if 80<=x<=120 else 'low'))\n",
    "df.head()"
   ]
  },
  {
   "cell_type": "code",
   "execution_count": null,
   "metadata": {
    "collapsed": false
   },
   "outputs": [],
   "source": [
    "# solution 2\n",
    "df['def_lvl'] = df['Defense'].apply(lambda x: 'high' if x>120 else ('medium' if 80<=x<=120 else 'low'))\n",
    "df.head()"
   ]
  },
  {
   "cell_type": "code",
   "execution_count": null,
   "metadata": {
    "collapsed": false
   },
   "outputs": [],
   "source": [
    "# solution 3\n",
    "ultra_mons = df[(df['attack_lvl']=='high') & (df['def_lvl']=='high')]\n",
    "ultra_mons"
   ]
  },
  {
   "cell_type": "markdown",
   "metadata": {},
   "source": [
    "## Comprehensions\n",
    "\n",
    "Think of comprehensions as a one-line for loop that can generate a list, dictionary, or set\n",
    "\n",
    "---\n",
    "### Review of Lists\n",
    "- Lists are one of four built-in data structures in Python (lists, tuples, dictionaries, sets)  \n",
    "- The values within the list do not need to be of the same type.  \n",
    "- Lists are a sequence type, which means their order matters\n",
    "    - Other sequence types: strings, tuples, sets\n",
    "    - Sequence types can be iterated"
   ]
  },
  {
   "cell_type": "code",
   "execution_count": null,
   "metadata": {
    "collapsed": false
   },
   "outputs": [],
   "source": [
    "# example list\n",
    "a = 5\n",
    "b = 3.3\n",
    "my_dict = {'one':1, 'two':2, 'three':3}\n",
    "my_list = ['my string', 5, my_dict, b, a]\n",
    "len(my_list)"
   ]
  },
  {
   "cell_type": "markdown",
   "metadata": {},
   "source": [
    "## List Comprehension\n",
    "---\n",
    "A list comprehension makes it easier to generate a list by combining the list object with a for loop. \n",
    "\n",
    "The anatomy of a list comprehenison is:\n",
    "```python\n",
    "list_comp = [x for x in iterable]\n",
    "```\n",
    "Note that it's made up of:\n",
    "1. square brackets - indicating that this is a list object\n",
    "2. \"for\" - generating a for loop\n",
    "3. \"in iterable\" - provides the iterator to loop over\n",
    "\n",
    "Mathematical examples:\n",
    "```\n",
    "S = {0, 1, 4, 9, 16, 25, 36, 49, 64, 81}\n",
    "V = {1, 2, 4, 8, 16, 32, 64, 128, 256, 512, 1024, 2048, 4096}\n",
    "M = {0, 4, 16, 36, 64}\n",
    "```\n",
    "can be abbreviated as...\n",
    "```\n",
    "S = {x² : x in {0 ... 9}}\n",
    "V = (1, 2, 4, 8, ..., 2¹²)\n",
    "M = {x | x in S and x even}\n",
    "```\n",
    "It's just shorthand for describing a sequence.  We can convert these sequences to the following list comprehensions:\n",
    "```python\n",
    "S = [x**2 for x in range(10)]\n",
    "V = [2**i for i in range(13)]\n",
    "M = [x for x in S if x % 2 == 0]\n",
    "```"
   ]
  },
  {
   "cell_type": "code",
   "execution_count": null,
   "metadata": {
    "collapsed": false
   },
   "outputs": [],
   "source": [
    "# simple list comprehension\n",
    "[x for x in range(10)]"
   ]
  },
  {
   "cell_type": "code",
   "execution_count": null,
   "metadata": {
    "collapsed": false
   },
   "outputs": [],
   "source": [
    "# add some math to it!\n",
    "[x**2 for x in range(10)]"
   ]
  },
  {
   "cell_type": "code",
   "execution_count": null,
   "metadata": {
    "collapsed": false
   },
   "outputs": [],
   "source": [
    "# add a conditional statement\n",
    "[x**2 for x in range(10) if x % 2 == 0]"
   ]
  },
  {
   "cell_type": "markdown",
   "metadata": {},
   "source": [
    "## Exercise\n",
    "1. Write a list comprehension that converts a list of temperatures from celsius to fahrenheit\n",
    "2. Add a conditional statement to the list comprehension that returns only temperatures above 0 degrees celsius\n",
    "3. BONUS: add an \"else\" statement that returns \"cold\" for any temperature below 0 degrees celsius\n",
    "4. MEGA BONUS: what if you want your conditional statements to act on the fahrenheit temperatures and not the celsius temperatures?"
   ]
  },
  {
   "cell_type": "code",
   "execution_count": null,
   "metadata": {
    "collapsed": true
   },
   "outputs": [],
   "source": [
    "# convert celsius to fahrenheit\n",
    "celsius = [0,10,20.1,34.5]\n",
    "fahrenheit = "
   ]
  },
  {
   "cell_type": "code",
   "execution_count": null,
   "metadata": {
    "collapsed": true
   },
   "outputs": [],
   "source": [
    "# add a conditional statement to the list comprehension\n"
   ]
  },
  {
   "cell_type": "code",
   "execution_count": null,
   "metadata": {
    "collapsed": true
   },
   "outputs": [],
   "source": [
    "# add an else statement\n"
   ]
  },
  {
   "cell_type": "code",
   "execution_count": null,
   "metadata": {
    "collapsed": true
   },
   "outputs": [],
   "source": [
    "# have the conditional statements operate on the fahrenheit temperatures\n"
   ]
  },
  {
   "cell_type": "markdown",
   "metadata": {},
   "source": [
    "## Solutions:"
   ]
  },
  {
   "cell_type": "code",
   "execution_count": null,
   "metadata": {
    "collapsed": false
   },
   "outputs": [],
   "source": [
    "# solution 1\n",
    "celsius = [0,10,-5, 20.1, -11.3, 34.5]\n",
    "\n",
    "fahrenheit = [ ((9/5)*temp + 32) for temp in celsius ]\n",
    "fahrenheit"
   ]
  },
  {
   "cell_type": "code",
   "execution_count": null,
   "metadata": {
    "collapsed": false
   },
   "outputs": [],
   "source": [
    "# solution 2\n",
    "celsius = [0,10,-5, 20.1, -11.3, 34.5]\n",
    "\n",
    "fahrenheit = [ ((9/5)*temp + 32) for temp in celsius if temp > 0]\n",
    "fahrenheit"
   ]
  },
  {
   "cell_type": "code",
   "execution_count": null,
   "metadata": {
    "collapsed": false
   },
   "outputs": [],
   "source": [
    "# solution 3\n",
    "celsius = [0,10,-5, 20.1, -11.3, 34.5]\n",
    "\n",
    "fahrenheit = [ ((9/5)*temp + 32) if temp > 0 else 'cold' for temp in celsius] # note that the if statement can before or after the for loop\n",
    "fahrenheit"
   ]
  },
  {
   "cell_type": "code",
   "execution_count": null,
   "metadata": {
    "collapsed": false
   },
   "outputs": [],
   "source": [
    "# solution 4\n",
    "celsius = [0,10,-5, 20.1, -11.3, 34.5]\n",
    "\n",
    "fahrenheit = [ temp if temp > 32 else 'cold' for temp in [((9/5)*temp + 32) for temp in celsius]]\n",
    "fahrenheit"
   ]
  }
 ],
 "metadata": {
  "anaconda-cloud": {},
  "kernelspec": {
   "display_name": "Python [default]",
   "language": "python",
   "name": "python3"
  },
  "language_info": {
   "codemirror_mode": {
    "name": "ipython",
    "version": 3
   },
   "file_extension": ".py",
   "mimetype": "text/x-python",
   "name": "python",
   "nbconvert_exporter": "python",
   "pygments_lexer": "ipython3",
   "version": "3.5.5"
  }
 },
 "nbformat": 4,
 "nbformat_minor": 1
}
