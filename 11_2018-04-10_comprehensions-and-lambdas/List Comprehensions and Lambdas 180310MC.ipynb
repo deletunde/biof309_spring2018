{
 "cells": [
  {
   "cell_type": "markdown",
   "metadata": {},
   "source": [
    "# List Comprehensions and Lambdas\n",
    "## Getting into some Python shorthand\n",
    "---\n",
    "## TODO:\n",
    "- lambda functions\n",
    "- comprehensions\n",
    "    - list comprehensions\n",
    "        - recap of a list\n",
    "        - using list comprehsnisons\n",
    "        - incorporate with lambdas \n",
    "        - incorporate with conditionals\n",
    "        - nested list comprehensions\n",
    "    - dictionary comprehensions\n",
    "\n",
    "## Resources:\n",
    "- [Python Comprehensions By Example](https://www.smallsurething.com/list-dict-and-set-comprehensions-by-example/)\n",
    "- [Python List Comprehension](https://www.datacamp.com/community/tutorials/python-list-comprehension) and [Python Functions](https://www.datacamp.com/community/tutorials/functions-python-tutorial- Karlijn Willems\n"
   ]
  },
  {
   "cell_type": "markdown",
   "metadata": {},
   "source": [
    "## Lambda Functions\n",
    "---\n",
    "Lambda functions are shorthand for functions with the catch that they are one-off or throw-away functions, which helps explain why they are also called \"anonymous functions\" or \"functions without a name\"."
   ]
  },
  {
   "cell_type": "markdown",
   "metadata": {},
   "source": [
    "## Python Comprehensions\n",
    "---\n",
    "### Lists\n",
    "\n",
    "One of four built-in data structures in Python (tuples, dictionaries, sets), and the values within the list do not need to be of the same type.  Another important not for lists is that theyre are an ordered collection, or sequence type.  Sequence types (which includes lists, strings, tuples, and sets) can be iterated "
   ]
  },
  {
   "cell_type": "code",
   "execution_count": 10,
   "metadata": {
    "collapsed": false
   },
   "outputs": [
    {
     "data": {
      "text/plain": [
       "5"
      ]
     },
     "execution_count": 10,
     "metadata": {},
     "output_type": "execute_result"
    }
   ],
   "source": [
    "# example list\n",
    "a = 5\n",
    "b = 3.3\n",
    "my_dict = {'one':1, 'two':2, 'three':3}\n",
    "my_list = ['my string', 5, my_dict, b, a]\n",
    "len(my_list)"
   ]
  },
  {
   "cell_type": "markdown",
   "metadata": {},
   "source": [
    "## List Comprehension\n",
    "---\n",
    "A list comprehension makes it easier to generate a list by combining the list object with a for loop. \n",
    "\n",
    "The anatomy of a list comprehenison is:\n",
    "```python\n",
    "list_comp = [x for x in iterable]\n",
    "```\n",
    "Note that it's made up of:\n",
    "1. square brackets - indicating that this is a list object\n",
    "2. \"for\" - generating a for loop\n",
    "3. \"in iterable\" - provides the iterator to loop over\n",
    "\n",
    "Mathematical examples:\n",
    "```\n",
    "S = {0, 1, 4, 9, 16, 25, 36, 49, 64, 81}\n",
    "V = {1, 2, 4, 8, 16, 32, 64, 128, 256, 512, 1024, 2048, 4096}\n",
    "M = {0, 4, 16, 36, 64}\n",
    "```\n",
    "can be abbreviated as...\n",
    "```\n",
    "S = {x² : x in {0 ... 9}}\n",
    "V = (1, 2, 4, 8, ..., 2¹²)\n",
    "M = {x | x in S and x even}\n",
    "```\n",
    "It's just shorthand for describing a sequence.  We can convert these sequences to the following list comprehensions:\n",
    "```python\n",
    "S = [x**2 for x in range(10)]\n",
    "V = [2**i for i in range(13)]\n",
    "M = [x for x in S if x % 2 == 0]\n",
    "```"
   ]
  },
  {
   "cell_type": "code",
   "execution_count": 23,
   "metadata": {
    "collapsed": false
   },
   "outputs": [
    {
     "data": {
      "text/plain": [
       "0.3333333333333333"
      ]
     },
     "execution_count": 23,
     "metadata": {},
     "output_type": "execute_result"
    }
   ],
   "source": [
    "# quick exercise\n"
   ]
  },
  {
   "cell_type": "markdown",
   "metadata": {},
   "source": [
    "## You can use list comprehensions to replace...\n",
    "---\n",
    "A list comprehension can be used as a substitute for:\n",
    "- for loops\n",
    "- lambda functions\n",
    "- `map()`\n",
    "- `filter()`\n",
    "- `reduce()`\n",
    "\n",
    "### For loops\n",
    "List comprehensions are a more compact version of writing a for loop"
   ]
  },
  {
   "cell_type": "code",
   "execution_count": 27,
   "metadata": {
    "collapsed": false
   },
   "outputs": [
    {
     "name": "stdout",
     "output_type": "stream",
     "text": [
      "[0, 1, 2, 3, 4, 5, 6, 7, 8, 9]\n",
      "[0, 4, 16, 36, 64]\n"
     ]
    }
   ],
   "source": [
    "# for loop example\n",
    "\n",
    "# Initialize `numbers`\n",
    "numbers = range(10)\n",
    "print(list(numbers))\n",
    "\n",
    "# Initialize `new_list`\n",
    "new_list = []\n",
    "\n",
    "# Add values to `new_list`\n",
    "for n in numbers:\n",
    "    if n%2==0: # check that n is an even integer\n",
    "        new_list.append(n**2)\n",
    "\n",
    "# Print `new_list`\n",
    "print(new_list)"
   ]
  },
  {
   "cell_type": "code",
   "execution_count": 28,
   "metadata": {
    "collapsed": false
   },
   "outputs": [
    {
     "name": "stdout",
     "output_type": "stream",
     "text": [
      "[0, 4, 16, 36, 64]\n"
     ]
    }
   ],
   "source": [
    "# equivalent list comprehension\n",
    "\n",
    "# Create `new_list` \n",
    "new_list = [n**2 for n in numbers if n%2==0]\n",
    "\n",
    "# Print `new_list`\n",
    "print(new_list)"
   ]
  },
  {
   "cell_type": "code",
   "execution_count": 29,
   "metadata": {
    "collapsed": false
   },
   "outputs": [
    {
     "name": "stdout",
     "output_type": "stream",
     "text": [
      "0.046317372005432844\n",
      "0.05566744803218171\n"
     ]
    }
   ],
   "source": [
    "# Import `timeit`\n",
    "import timeit\n",
    "# Define `power_two()` \n",
    "def power_two(numbers):\n",
    "    for n in numbers:\n",
    "        if n%2==0:\n",
    "            new_list.append(n**2)\n",
    "    return new_list\n",
    "\n",
    "# Print the execution time \n",
    "print(timeit.timeit('power_two(numbers)', globals=globals(), number=10000))\n",
    "\n",
    "print(timeit.timeit('[n**2 for n in range(10) if n%2==0]', number=10000))"
   ]
  },
  {
   "cell_type": "markdown",
   "metadata": {},
   "source": [
    "### Lambda functions"
   ]
  },
  {
   "cell_type": "code",
   "execution_count": null,
   "metadata": {
    "collapsed": true
   },
   "outputs": [],
   "source": [
    "# lambda and map() function example\n",
    "\n",
    "# Initialize the `kilometer` list \n",
    "kilometer = [39.2, 36.5, 37.3, 37.8]\n",
    "\n",
    "# Construct `feet` with `map()`\n",
    "feet = map(lambda x: float(3280.8399)*x, kilometer)\n",
    "\n",
    "# Print `feet` as a list \n",
    "print(list(feet))"
   ]
  },
  {
   "cell_type": "code",
   "execution_count": null,
   "metadata": {
    "collapsed": true
   },
   "outputs": [],
   "source": [
    "# equivalent list comprehension\n",
    "\n",
    "# Convert `kilometer` to `feet` \n",
    "feet = [float(3280.8399)*x for x in kilometer]\n",
    "\n",
    "# Print `feet`\n",
    "print(feet)"
   ]
  },
  {
   "cell_type": "markdown",
   "metadata": {},
   "source": [
    "### Conditionals in a List Comprehension"
   ]
  },
  {
   "cell_type": "markdown",
   "metadata": {},
   "source": [
    "### Nested List Comprehensions"
   ]
  },
  {
   "cell_type": "code",
   "execution_count": null,
   "metadata": {
    "collapsed": true
   },
   "outputs": [],
   "source": []
  },
  {
   "cell_type": "code",
   "execution_count": 34,
   "metadata": {
    "collapsed": false
   },
   "outputs": [
    {
     "data": {
      "text/plain": [
       "[1, 2, 3, 4, 5, 6, 7, 8]"
      ]
     },
     "execution_count": 34,
     "metadata": {},
     "output_type": "execute_result"
    }
   ],
   "source": [
    "# create a nested list\n",
    "list_of_list = [[1,2,3],[4,5,6],[7,8]]\n",
    "\n",
    "# Flatten `list_of_list`\n",
    "[y for x in list_of_list for y in x]"
   ]
  },
  {
   "cell_type": "code",
   "execution_count": 36,
   "metadata": {
    "collapsed": false
   },
   "outputs": [
    {
     "data": {
      "text/plain": [
       "[[1, 4, 7], [2, 5, 8], [3, 6, 4]]"
      ]
     },
     "execution_count": 36,
     "metadata": {},
     "output_type": "execute_result"
    }
   ],
   "source": [
    "# transpose a matrix\n",
    "matrix = [[1,2,3],[4,5,6],[7,8,4]]\n",
    "[[row[i] for row in matrix] for i in range(3)]\n"
   ]
  },
  {
   "cell_type": "code",
   "execution_count": null,
   "metadata": {
    "collapsed": true
   },
   "outputs": [],
   "source": [
    "# equivalent transpose as a for loop\n",
    "transposed = []\n",
    "\n",
    "for i in range(3):\n",
    "     transposed_row = []\n",
    "     for row in matrix:\n",
    "            transposed_row.append(row[i])\n",
    "     transposed.append(transposed_row)"
   ]
  },
  {
   "cell_type": "markdown",
   "metadata": {},
   "source": []
  }
 ],
 "metadata": {
  "anaconda-cloud": {},
  "kernelspec": {
   "display_name": "Python [default]",
   "language": "python",
   "name": "python3"
  },
  "language_info": {
   "codemirror_mode": {
    "name": "ipython",
    "version": 3
   },
   "file_extension": ".py",
   "mimetype": "text/x-python",
   "name": "python",
   "nbconvert_exporter": "python",
   "pygments_lexer": "ipython3",
   "version": "3.5.5"
  }
 },
 "nbformat": 4,
 "nbformat_minor": 1
}
