{
 "cells": [
  {
   "cell_type": "markdown",
   "metadata": {},
   "source": [
    "# Data Visualization in Python\n",
    "\n",
    "## To cover:\n",
    "- [Matplotlib](https://matplotlib.org/#)\n",
    "- [Plotly](https://plot.ly/python/)\n",
    "- [Bokeh](https://bokeh.pydata.org/en/latest/)\n",
    "\n",
    "## Goals:\n",
    "- use pandas dataframe\n",
    "- customize graph\n",
    "- save graph\n",
    "- generate multiple graphs in a grid\n",
    "- interactive graph?\n",
    "\n",
    "## Resources:\n",
    "- [Python Data Visualization — Comparing 5 Tools](https://codeburst.io/overview-of-python-data-visualization-tools-e32e1f716d10)\n",
    "\n"
   ]
  },
  {
   "cell_type": "code",
   "execution_count": null,
   "metadata": {
    "collapsed": true
   },
   "outputs": [],
   "source": []
  }
 ],
 "metadata": {
  "kernelspec": {
   "display_name": "Python 3",
   "language": "python",
   "name": "python3"
  },
  "language_info": {
   "codemirror_mode": {
    "name": "ipython",
    "version": 3
   },
   "file_extension": ".py",
   "mimetype": "text/x-python",
   "name": "python",
   "nbconvert_exporter": "python",
   "pygments_lexer": "ipython3",
   "version": "3.6.2"
  }
 },
 "nbformat": 4,
 "nbformat_minor": 2
}
