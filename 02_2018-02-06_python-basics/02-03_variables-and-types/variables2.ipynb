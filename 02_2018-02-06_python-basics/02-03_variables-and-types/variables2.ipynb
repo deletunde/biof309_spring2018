{
 "cells": [
  {
   "cell_type": "markdown",
   "metadata": {},
   "source": [
    "---\n",
    "title: \"Variables and Assignment\"\n",
    "teaching: 10\n",
    "exercises: 10\n",
    "questions:\n",
    "- \"How can I store data in programs?\"\n",
    "objectives:\n",
    "- \"Write programs that assign scalar values to variables and perform calculations with those values.\"\n",
    "- \"Correctly trace value changes in programs that use scalar assignment.\"\n",
    "keypoints:\n",
    "- \"Use variables to store values.\"\n",
    "- \"Use `print` to display values.\"\n",
    "- \"Variables must be created before they are used.\"\n",
    "- \"Variables can be used in calculations.\"\n",
    "- \"Use an index to get a single character from a string.\"\n",
    "- \"Use a slice to get a substring.\"\n",
    "- \"Use the built-in function `len` to find the length of a string.\"\n",
    "- \"Python is case-sensitive.\"\n",
    "- \"Use meaningful variable names.\"\n",
    "- \"Variables in the current environment can be displayed or deleted using the\n",
    "`%whos` and `%reset` IPython magics.\"\n",
    "---\n",
    "\n",
    "## Use variables to store values.\n",
    "\n",
    "*   Variables are names for values.\n",
    "*   In Python the `=` symbol assigns the value on the right to the name on the left.\n",
    "*   The variable is created when a value is assigned to it.\n",
    "*   Here, Python assigns a volume size to a variable `roi_vol`\n",
    "    and a name in quotation marks to a variable `roi_label`."
   ]
  },
  {
   "cell_type": "code",
   "execution_count": null,
   "metadata": {},
   "outputs": [],
   "source": [
    "roi_vol = 130\n",
    "roi_label = 'hippocampus'"
   ]
  },
  {
   "cell_type": "markdown",
   "metadata": {},
   "source": [
    "{: .python}\n",
    "\n",
    "*   Variable names:\n",
    "    *   cannot start with a digit\n",
    "    *   cannot contain spaces, quotation marks, or other punctuation\n",
    "    *   *may* contain an underscore (typically used to separate words in long variable names)\n",
    "*   Underscores at the start like `__roi_vol` have a special meaning\n",
    "    so we won't do that until we understand the convention.\n",
    "\n",
    "## Variables can be displayed by simply executing them as an expression"
   ]
  },
  {
   "cell_type": "code",
   "execution_count": null,
   "metadata": {},
   "outputs": [],
   "source": [
    "roi_vol"
   ]
  },
  {
   "cell_type": "markdown",
   "metadata": {},
   "source": [
    "{: .python}"
   ]
  },
  {
   "cell_type": "code",
   "execution_count": null,
   "metadata": {},
   "outputs": [],
   "source": [
    "130"
   ]
  },
  {
   "cell_type": "markdown",
   "metadata": {},
   "source": [
    "{: .output}"
   ]
  },
  {
   "cell_type": "code",
   "execution_count": null,
   "metadata": {},
   "outputs": [],
   "source": [
    "roi_label"
   ]
  },
  {
   "cell_type": "markdown",
   "metadata": {},
   "source": [
    "{: .python}"
   ]
  },
  {
   "cell_type": "code",
   "execution_count": null,
   "metadata": {},
   "outputs": [],
   "source": [
    "'hippocampus'"
   ]
  },
  {
   "cell_type": "markdown",
   "metadata": {},
   "source": [
    "{: .output}\n",
    "\n",
    "## Variables must be created before they are used.\n",
    "\n",
    "*   If a variable doesn't exist yet, or if the name has been mis-spelled,\n",
    "    Python reports an error.\n",
    "    *   Unlike some languages, which \"guess\" a default value."
   ]
  },
  {
   "cell_type": "code",
   "execution_count": null,
   "metadata": {},
   "outputs": [],
   "source": [
    "brain_volume"
   ]
  },
  {
   "cell_type": "markdown",
   "metadata": {},
   "source": [
    "{: .python}"
   ]
  },
  {
   "cell_type": "code",
   "execution_count": null,
   "metadata": {},
   "outputs": [],
   "source": [
    "----------------------------------------------------------\n",
    "NameError                Traceback (most recent call last)\n",
    "<ipython-input-12-dec7c88e2504> in <module>()\n",
    "----> 1 brain_volume\n",
    "\n",
    "NameError: name 'brain_volume' is not defined"
   ]
  },
  {
   "cell_type": "markdown",
   "metadata": {},
   "source": [
    "{: .error}\n",
    "\n",
    "*   The last line of an error message is usually the most informative.\n",
    "<!-- *   We will look at error messages in detail [later]({{ page.root }}/05-error-messages/). -->\n",
    "\n",
    "## Use comments to add documentation to programs."
   ]
  },
  {
   "cell_type": "code",
   "execution_count": null,
   "metadata": {},
   "outputs": [],
   "source": [
    "# This sentence isn't executed by Python.\n",
    "# print(brain_volume)\n",
    "brain_volume = 1351   # Neither is this - anything after '#' is ignored."
   ]
  },
  {
   "cell_type": "markdown",
   "metadata": {},
   "source": [
    "{: .python}\n",
    "\n",
    "\n",
    "## Variables can be used in calculations.\n",
    "\n",
    "*   We can use variables in calculations just as if they were values.\n",
    "    *   Remember, we assigned 130 to `roi_vol` a few lines ago."
   ]
  },
  {
   "cell_type": "code",
   "execution_count": null,
   "metadata": {},
   "outputs": [],
   "source": [
    "corrected_roi_vol = roi_vol + 3\n",
    "# Volume with a correction for a systematic bias: \n",
    "corrected_roi_vol"
   ]
  },
  {
   "cell_type": "markdown",
   "metadata": {},
   "source": [
    "{: .python}"
   ]
  },
  {
   "cell_type": "code",
   "execution_count": null,
   "metadata": {},
   "outputs": [],
   "source": [
    "133"
   ]
  },
  {
   "cell_type": "markdown",
   "metadata": {},
   "source": [
    "{: .output}\n",
    "\n",
    "## Use an index to get a single character from a string.\n",
    "\n",
    "*   Sometimes called a \"subscript\".\n",
    "*   Each character in a string is in a particular location.\n",
    "*   Use the location's index in square brackets to get the character.\n",
    "*   Locations are numbered from 0 rather than 1."
   ]
  },
  {
   "cell_type": "code",
   "execution_count": null,
   "metadata": {},
   "outputs": [],
   "source": [
    "roi_label = 'hippocampus'\n",
    "roi_label[0]"
   ]
  },
  {
   "cell_type": "markdown",
   "metadata": {},
   "source": [
    "{: .python}"
   ]
  },
  {
   "cell_type": "code",
   "execution_count": null,
   "metadata": {},
   "outputs": [],
   "source": [
    "h"
   ]
  },
  {
   "cell_type": "markdown",
   "metadata": {},
   "source": [
    "{: .output}\n",
    "\n",
    "## Use a slice to get a substring.\n",
    "\n",
    "*   A slice extracts elements, based on a start and stop value\n",
    "*   A slice consists of `[start:stop]`.\n",
    "*   From the start value (inclusive) up to but not including the stop value (exclusive).\n",
    "*   So the difference between stop and start is the slice's length."
   ]
  },
  {
   "cell_type": "code",
   "execution_count": null,
   "metadata": {},
   "outputs": [],
   "source": [
    "roi_label[0:5]"
   ]
  },
  {
   "cell_type": "markdown",
   "metadata": {},
   "source": [
    "{: .python}"
   ]
  },
  {
   "cell_type": "code",
   "execution_count": null,
   "metadata": {},
   "outputs": [],
   "source": [
    "hippo"
   ]
  },
  {
   "cell_type": "markdown",
   "metadata": {},
   "source": [
    "{: .output}\n",
    "\n",
    "## A slice with a different step\n",
    "* We don't have to take every element in the range we specify. We can specify\n",
    "the step  by which we take elements from the string."
   ]
  },
  {
   "cell_type": "code",
   "execution_count": null,
   "metadata": {},
   "outputs": [],
   "source": [
    "roi_label[0:5:2]"
   ]
  },
  {
   "cell_type": "markdown",
   "metadata": {},
   "source": [
    "{: .python}"
   ]
  },
  {
   "cell_type": "code",
   "execution_count": null,
   "metadata": {},
   "outputs": [],
   "source": [
    "hpo"
   ]
  },
  {
   "cell_type": "markdown",
   "metadata": {},
   "source": [
    "{: .output}\n",
    "\n",
    "\n",
    "## Use the built-in function `len` to find the length of a string."
   ]
  },
  {
   "cell_type": "code",
   "execution_count": null,
   "metadata": {},
   "outputs": [],
   "source": [
    "len(roi_label)"
   ]
  },
  {
   "cell_type": "markdown",
   "metadata": {},
   "source": [
    "{: .python}"
   ]
  },
  {
   "cell_type": "code",
   "execution_count": null,
   "metadata": {},
   "outputs": [],
   "source": [
    "11"
   ]
  },
  {
   "cell_type": "markdown",
   "metadata": {},
   "source": [
    "{: .output}\n",
    "\n",
    "*   Nested functions are evaluated from the inside out,\n",
    "    just like in mathematics.\n",
    "\n",
    "\n",
    "\n",
    "## Python is case-sensitive.\n",
    "\n",
    "*   Python thinks that upper- and lower-case letters are different,\n",
    "    so `Name` and `name` are different variables.\n",
    "*   There are conventions for using upper-case letters at the start of variable names\n",
    "    so we will use lower-case letters for now.\n",
    "\n",
    "## Use `print` to display values.\n",
    "\n",
    "*   Python has a built-in function called `print` that prints things as text.\n",
    "*   Call the function (i.e., tell Python to run it) by using its name.\n",
    "*   Provide values to the function (i.e., the things to print) in parentheses.\n",
    "*   The values passed to the function are called 'arguments'"
   ]
  },
  {
   "cell_type": "code",
   "execution_count": null,
   "metadata": {},
   "outputs": [],
   "source": [
    "print(roi_label)"
   ]
  },
  {
   "cell_type": "markdown",
   "metadata": {},
   "source": [
    "{: .python}"
   ]
  },
  {
   "cell_type": "code",
   "execution_count": null,
   "metadata": {},
   "outputs": [],
   "source": [
    "hippocampus"
   ]
  },
  {
   "cell_type": "markdown",
   "metadata": {},
   "source": [
    "{: .output}"
   ]
  },
  {
   "cell_type": "code",
   "execution_count": null,
   "metadata": {},
   "outputs": [],
   "source": [
    "print('The', roi_label, 'is', roi_vol, 'cubic mm')"
   ]
  },
  {
   "cell_type": "markdown",
   "metadata": {},
   "source": [
    "{: .python}"
   ]
  },
  {
   "cell_type": "code",
   "execution_count": null,
   "metadata": {},
   "outputs": [],
   "source": [
    "The hippocampus is 130 cubic mm"
   ]
  },
  {
   "cell_type": "markdown",
   "metadata": {},
   "source": [
    "{: .output}\n",
    "\n",
    "*   `print` automatically puts a single space between items to separate them.\n",
    "*   And wraps around to a new line at the end.\n",
    "\n",
    "\n",
    "## Use meaningful variable names.\n",
    "\n",
    "*   Python doesn't care what you call variables as long as they obey the rules\n",
    "    (alphanumeric characters and the underscore)."
   ]
  },
  {
   "cell_type": "code",
   "execution_count": null,
   "metadata": {},
   "outputs": [],
   "source": [
    "flabadab = 42\n",
    "ewr_422_yY = 'Ahmed'\n",
    "print(ewr_422_yY, 'is', flabadab, 'years old')\n",
    "flabadab = 700\n",
    "ewr_422_yY = 'frontal cortex'\n",
    "print('The',ewr_422_yY, 'is', flabadab, 'cubic mm')"
   ]
  },
  {
   "cell_type": "markdown",
   "metadata": {},
   "source": [
    "{: .python}"
   ]
  },
  {
   "cell_type": "code",
   "execution_count": null,
   "metadata": {},
   "outputs": [],
   "source": [
    "Ahmed is 42 years old\n",
    "The frontal cortex is 700 cubic mm"
   ]
  },
  {
   "cell_type": "markdown",
   "metadata": {},
   "source": [
    "{: .output}\n",
    "\n",
    "*   Use meaningful variable names to help other people understand what the program does.\n",
    "*   The most important \"other person\" is your future self.\n",
    "\n",
    "## Variables exist in the IPython environment\n",
    "We can list the variables we have defined, along with some details about them,\n",
    "by executing the IPython magic `%whos`:"
   ]
  },
  {
   "cell_type": "code",
   "execution_count": null,
   "metadata": {},
   "outputs": [],
   "source": [
    "%whos"
   ]
  },
  {
   "cell_type": "markdown",
   "metadata": {},
   "source": [
    "{: .python}\n",
    "\n",
    "* These variables do not exist on the hard disk of the computer. They will not\n",
    "  continue to exist if we stop our current IPython kernel (by executing\n",
    "  `exit`). Ideally, in any time in our analysis we should be able to remove\n",
    "  these variables and regenerate them  again by running a script file\n",
    "  containing all of the commands we used to get to our current state.\n",
    "\n",
    "* We will learn the tools that IPython provides to do this.\n",
    "\n",
    "* For now we will simply learn how to delete all of the variables in the\n",
    "  current environment. This is done using the `%reset` IPython magic and typing\n",
    "  `y` and enter to confirm:"
   ]
  },
  {
   "cell_type": "code",
   "execution_count": null,
   "metadata": {},
   "outputs": [],
   "source": [
    "%reset"
   ]
  },
  {
   "cell_type": "markdown",
   "metadata": {},
   "source": [
    "{: .python}"
   ]
  },
  {
   "cell_type": "code",
   "execution_count": null,
   "metadata": {},
   "outputs": [],
   "source": [
    "Once deleted, variables cannot be recovered. Proceed (y/[n])? "
   ]
  },
  {
   "cell_type": "markdown",
   "metadata": {},
   "source": [
    "{: .output}"
   ]
  },
  {
   "cell_type": "code",
   "execution_count": null,
   "metadata": {},
   "outputs": [],
   "source": [
    "y"
   ]
  },
  {
   "cell_type": "markdown",
   "metadata": {},
   "source": [
    "{: .source}\n",
    "\n",
    "\n",
    "> ## Swapping Values\n",
    ">\n",
    "> Draw a table showing the values of the variables in this program\n",
    "> after each statement is executed.\n",
    "> In simple terms, what do the last three lines of this program do?\n",
    ">\n",
    "> ~~~\n",
    "> lowest = 1.0\n",
    "> highest = 3.0\n",
    "> volume = lowest\n",
    "> lowest = highest\n",
    "> highest = volume\n",
    "> ~~~\n",
    "> {: .python}\n",
    "{: .challenge}\n",
    "\n",
    "> ## Predicting Values\n",
    ">\n",
    "> What is the final value of `important_label` in the program below?\n",
    "> (Try to predict the value without running the program,\n",
    "> then check your prediction.)\n",
    ">\n",
    "> ~~~\n",
    "> label = \"hippocampus\"\n",
    "> important_label = label\n",
    "> label = \"visual\"\n",
    "> ~~~\n",
    "> {: .python}\n",
    "{: .challenge}\n",
    "\n",
    "> ## Challenge\n",
    ">\n",
    "> If you assign `roi_vol = 130`,\n",
    "> what happens if you try to get the second digit of `roi_vol`?\n",
    ">\n",
    "> > ## Solution\n",
    "> > Numbers are not stored in the written representation,\n",
    "> > so they can't be treated like strings.\n",
    "> >\n",
    "> > ~~~\n",
    "> > roi_vol = 130\n",
    "> > print(roi_vol[1])\n",
    "> > ~~~\n",
    "> > {: .python}\n",
    "> > ~~~\n",
    "> > TypeError: 'int' object is not subscriptable\n",
    "> > ~~~\n",
    "> > {: .error}\n",
    "> {: .solution}\n",
    "{: .challenge}\n",
    "\n",
    "> ## Choosing a Name\n",
    ">\n",
    "> Which is a better variable name, `m`, `min`, or `minutes`?\n",
    "> Why?\n",
    "> Hint: think about which code you would rather inherit\n",
    "> from someone who is leaving the lab:\n",
    ">\n",
    "> 1. `ts = m * 60 + s`\n",
    "> 2. `tot_sec = min * 60 + sec`\n",
    "> 3. `total_seconds = minutes * 60 + seconds`\n",
    ">\n",
    "> > ## Solution\n",
    "> >\n",
    "> > `minutes` is better because `min` might mean something like \"minimum\"\n",
    "> > (and actually does in Python, but we haven't seen that yet).\n",
    "> {: .solution}\n",
    "{: .challenge}\n",
    "\n",
    "> ## Slicing\n",
    ">\n",
    "> What does the following program print?\n",
    ">\n",
    "> ~~~\n",
    "> sequence_type = 'MP_RAGE'\n",
    "> print('sequence_type[1:3] is:', sequence_type[1:3])\n",
    "> ~~~\n",
    "> \n",
    "> > ## Solution\n",
    "> >~~~\n",
    "> >sequence_type[1:3] is: P_\n",
    "> >~~~\n",
    "> >{: .output}\n",
    ">  {: .solution}\n",
    "{: .challenge}"
   ]
  }
 ],
 "metadata": {},
 "nbformat": 4,
 "nbformat_minor": 2
}
