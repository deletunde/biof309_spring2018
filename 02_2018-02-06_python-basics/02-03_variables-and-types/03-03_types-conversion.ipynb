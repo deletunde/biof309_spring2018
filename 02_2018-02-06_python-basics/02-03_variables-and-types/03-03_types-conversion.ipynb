{
 "cells": [
  {
   "cell_type": "markdown",
   "metadata": {},
   "source": [
    "---\n",
    "title: \"Data Types and Type Conversion\"\n",
    "teaching: 10\n",
    "exercises: 10\n",
    "questions:\n",
    "- \"What kinds of data do programs store?\"\n",
    "- \"How can I convert one type to another?\"\n",
    "objectives:\n",
    "- \"Explain key differences between integers and floating point numbers.\"\n",
    "- \"Explain key differences between numbers and character strings.\"\n",
    "- \"Use built-in functions to convert between integers, floating point numbers, and strings.\"\n",
    "keypoints:\n",
    "- \"Every value has a type.\"\n",
    "- \"Use the built-in function `type` to find the type of a value.\"\n",
    "- \"Types control what operations can be done on values.\"\n",
    "- \"Strings can be added and multiplied.\"\n",
    "- \"Strings have a length (but numbers don't).\"\n",
    "- \"Must convert numbers to strings or vice versa when operating on them.\"\n",
    "- \"Can mix integers and floats freely in operations.\"\n",
    "- \"Variables only change value when something is assigned to them.\"\n",
    "---\n",
    "## Every value has a type.\n",
    "\n",
    "*   Every value in a program has a specific type.\n",
    "*   Integer (`int`): counting numbers like 3 or -512.\n",
    "*   Floating point number (`float`): fractional numbers like 3.14159 or -2.5.\n",
    "    *   Integers are used to count, floats are used to measure.\n",
    "*   Character string (usually just called \"string\", `str`): text.\n",
    "    *   Written in either single quotes or double quotes (as long as they match).\n",
    "    *   The quotation marks aren't printed when the string is displayed.\n",
    "\n",
    "## Use the built-in function `type` to find the type of a value.\n",
    "\n",
    "*   Use the built-in function `type` to find out what type a value has.\n",
    "*   Works on variables as well.\n",
    "    *   But remember: the *value* has the type --- the *variable* is just a label."
   ]
  },
  {
   "cell_type": "code",
   "execution_count": null,
   "metadata": {},
   "outputs": [],
   "source": [
    "type(52)"
   ]
  },
  {
   "cell_type": "markdown",
   "metadata": {},
   "source": [
    "{: .python}"
   ]
  },
  {
   "cell_type": "code",
   "execution_count": null,
   "metadata": {},
   "outputs": [],
   "source": [
    "<class 'int'>"
   ]
  },
  {
   "cell_type": "markdown",
   "metadata": {},
   "source": [
    "{: .output}"
   ]
  },
  {
   "cell_type": "code",
   "execution_count": null,
   "metadata": {},
   "outputs": [],
   "source": [
    "disease = 'schizophrenia'\n",
    "type(disease)"
   ]
  },
  {
   "cell_type": "markdown",
   "metadata": {},
   "source": [
    "{: .python}"
   ]
  },
  {
   "cell_type": "code",
   "execution_count": null,
   "metadata": {},
   "outputs": [],
   "source": [
    "str"
   ]
  },
  {
   "cell_type": "markdown",
   "metadata": {},
   "source": [
    "{: .output}\n",
    "\n",
    "## Types control what operations can be done on values.\n",
    "\n",
    "*   A value's type determines what the program can do to it."
   ]
  },
  {
   "cell_type": "code",
   "execution_count": null,
   "metadata": {},
   "outputs": [],
   "source": [
    "5 - 3"
   ]
  },
  {
   "cell_type": "markdown",
   "metadata": {},
   "source": [
    "{: .python}"
   ]
  },
  {
   "cell_type": "code",
   "execution_count": null,
   "metadata": {},
   "outputs": [],
   "source": [
    "2"
   ]
  },
  {
   "cell_type": "markdown",
   "metadata": {},
   "source": [
    "{: .output}"
   ]
  },
  {
   "cell_type": "code",
   "execution_count": null,
   "metadata": {},
   "outputs": [],
   "source": [
    "'frontotemporal' - 'fronto'"
   ]
  },
  {
   "cell_type": "markdown",
   "metadata": {},
   "source": [
    "{: .python}"
   ]
  },
  {
   "cell_type": "code",
   "execution_count": null,
   "metadata": {},
   "outputs": [],
   "source": [
    "---------------------------------------------------------------------------\n",
    "TypeError                                 Traceback (most recent call last)\n",
    "<ipython-input-2-67f5626a1e07> in <module>()\n",
    "----> 1 print('frontotemporal' - 'fronto')\n",
    "\n",
    "TypeError: unsupported operand type(s) for -: 'str' and 'str'"
   ]
  },
  {
   "cell_type": "markdown",
   "metadata": {},
   "source": [
    "{: .error}\n",
    "\n",
    "## Strings can be added and multiplied.\n",
    "\n",
    "*   \"Adding\" character strings concatenates them."
   ]
  },
  {
   "cell_type": "code",
   "execution_count": null,
   "metadata": {},
   "outputs": [],
   "source": [
    "roi_label = 'fronto' + 'temporal'\n",
    "roi_label"
   ]
  },
  {
   "cell_type": "markdown",
   "metadata": {},
   "source": [
    "{: .python}"
   ]
  },
  {
   "cell_type": "code",
   "execution_count": null,
   "metadata": {},
   "outputs": [],
   "source": [
    "fronto temporal"
   ]
  },
  {
   "cell_type": "markdown",
   "metadata": {},
   "source": [
    "{: .output}\n",
    "\n",
    "*   Multiplying a character string by an integer replicates it.\n",
    "    *   Since multiplication is just repeated addition."
   ]
  },
  {
   "cell_type": "code",
   "execution_count": null,
   "metadata": {},
   "outputs": [],
   "source": [
    "dna_repeat_sequence = 'CAG' * 10\n",
    "dna_repeat_sequence"
   ]
  },
  {
   "cell_type": "markdown",
   "metadata": {},
   "source": [
    "{: .python}"
   ]
  },
  {
   "cell_type": "code",
   "execution_count": null,
   "metadata": {},
   "outputs": [],
   "source": [
    "CAGCAGCAGCAGCAGCAGCAGCAGCAGCAG"
   ]
  },
  {
   "cell_type": "markdown",
   "metadata": {},
   "source": [
    "{: .output}\n",
    "\n",
    "## Strings have a length (but numbers don't).\n",
    "\n",
    "*   The built-in function `len` counts the number of characters in a string."
   ]
  },
  {
   "cell_type": "code",
   "execution_count": null,
   "metadata": {},
   "outputs": [],
   "source": [
    "len(dna_repeat_sequence)"
   ]
  },
  {
   "cell_type": "markdown",
   "metadata": {},
   "source": [
    "{: .python}"
   ]
  },
  {
   "cell_type": "code",
   "execution_count": null,
   "metadata": {},
   "outputs": [],
   "source": [
    "30"
   ]
  },
  {
   "cell_type": "markdown",
   "metadata": {},
   "source": [
    "{: .output}\n",
    "\n",
    "*   But numbers don't have a length (not even zero)."
   ]
  },
  {
   "cell_type": "code",
   "execution_count": null,
   "metadata": {},
   "outputs": [],
   "source": [
    "len(52)"
   ]
  },
  {
   "cell_type": "markdown",
   "metadata": {},
   "source": [
    "{: .python}"
   ]
  },
  {
   "cell_type": "code",
   "execution_count": null,
   "metadata": {},
   "outputs": [],
   "source": [
    "---------------------------------------------------------------------------\n",
    "TypeError                                 Traceback (most recent call last)\n",
    "<ipython-input-3-f769e8e8097d> in <module>()\n",
    "----> 1 print(len(52))\n",
    "\n",
    "TypeError: object of type 'int' has no len()"
   ]
  },
  {
   "cell_type": "markdown",
   "metadata": {},
   "source": [
    "{: .error}\n",
    "\n",
    "## Must convert numbers to strings or vice versa when operating on them.\n",
    "\n",
    "*   Cannot add numbers and strings."
   ]
  },
  {
   "cell_type": "code",
   "execution_count": null,
   "metadata": {},
   "outputs": [],
   "source": [
    "1 + '2'"
   ]
  },
  {
   "cell_type": "markdown",
   "metadata": {},
   "source": [
    "{: .python}"
   ]
  },
  {
   "cell_type": "code",
   "execution_count": null,
   "metadata": {},
   "outputs": [],
   "source": [
    "---------------------------------------------------------------------------\n",
    "TypeError                                 Traceback (most recent call last)\n",
    "<ipython-input-4-fe4f54a023c6> in <module>()\n",
    "----> 1 1 + '2')\n",
    "\n",
    "TypeError: unsupported operand type(s) for +: 'int' and 'str'"
   ]
  },
  {
   "cell_type": "markdown",
   "metadata": {},
   "source": [
    "{: .error}\n",
    "\n",
    "*   Not allowed because it's ambiguous: should `1 + '2'` be `3` or `'12'`?\n",
    "*   Some types can be converted to other types by using the type name as a function."
   ]
  },
  {
   "cell_type": "code",
   "execution_count": null,
   "metadata": {},
   "outputs": [],
   "source": [
    "1 + int('2')"
   ]
  },
  {
   "cell_type": "markdown",
   "metadata": {},
   "source": [
    "{: .python}"
   ]
  },
  {
   "cell_type": "code",
   "execution_count": null,
   "metadata": {},
   "outputs": [],
   "source": [
    "3"
   ]
  },
  {
   "cell_type": "markdown",
   "metadata": {},
   "source": [
    "{: .output}"
   ]
  },
  {
   "cell_type": "code",
   "execution_count": null,
   "metadata": {},
   "outputs": [],
   "source": [
    "str(1) + '2'"
   ]
  },
  {
   "cell_type": "markdown",
   "metadata": {},
   "source": [
    "{: .python}"
   ]
  },
  {
   "cell_type": "code",
   "execution_count": null,
   "metadata": {},
   "outputs": [],
   "source": [
    "12"
   ]
  },
  {
   "cell_type": "markdown",
   "metadata": {},
   "source": [
    "{: .output}\n",
    "\n",
    "## Can mix integers and floats freely in operations.\n",
    "\n",
    "*   Integers and floating-point numbers can be mixed in arithmetic.\n",
    "    *   Python automatically converts integers to floats as needed."
   ]
  },
  {
   "cell_type": "code",
   "execution_count": null,
   "metadata": {},
   "outputs": [],
   "source": [
    "1 / 2.0"
   ]
  },
  {
   "cell_type": "markdown",
   "metadata": {},
   "source": [
    "{: .python}"
   ]
  },
  {
   "cell_type": "code",
   "execution_count": null,
   "metadata": {},
   "outputs": [],
   "source": [
    "0.5"
   ]
  },
  {
   "cell_type": "markdown",
   "metadata": {},
   "source": [
    "{: .output}\n",
    "\n",
    "> ## Division Types\n",
    "> \n",
    "> The `//` operator calculates the whole-number result of division,\n",
    "> while the '%' operator calculates the remainder from division:\n",
    "> \n",
    "> ~~~\n",
    "> 5 // 3\n",
    "> ~~~\n",
    "> {: .python}\n",
    "> \n",
    "> ~~~\n",
    "> 1\n",
    "> ~~~\n",
    "> {: .output}\n",
    "> \n",
    "> ~~~\n",
    "> 5 % 3\n",
    "> ~~~\n",
    "> {: .python}\n",
    "> \n",
    "> ~~~\n",
    "> 2\n",
    "> ~~~\n",
    "> {: .output}\n",
    "> \n",
    "{: .callout}"
   ]
  },
  {
   "cell_type": "code",
   "execution_count": null,
   "metadata": {},
   "outputs": [],
   "source": [
    "# three squared is:\n",
    "3.0 ** 2"
   ]
  },
  {
   "cell_type": "markdown",
   "metadata": {},
   "source": [
    "{: .python}"
   ]
  },
  {
   "cell_type": "code",
   "execution_count": null,
   "metadata": {},
   "outputs": [],
   "source": [
    "# three squared is :\n",
    "9.0"
   ]
  },
  {
   "cell_type": "markdown",
   "metadata": {},
   "source": [
    "{: .output}\n",
    "\n",
    "## Variables only change value when something is assigned to them.\n",
    "\n",
    "*   If we make one cell in a spreadsheet depend on another,\n",
    "    and update the latter,\n",
    "    the former updates automatically.\n",
    "*   This does **not** happen in programming languages."
   ]
  },
  {
   "cell_type": "code",
   "execution_count": null,
   "metadata": {},
   "outputs": [],
   "source": [
    "brain_volume = 1246\n",
    "brain_volume_corrected = brain_volume * 1.2\n",
    "brain_volume = 1400\n",
    "brain_volume"
   ]
  },
  {
   "cell_type": "markdown",
   "metadata": {},
   "source": [
    "{: .python}"
   ]
  },
  {
   "cell_type": "code",
   "execution_count": null,
   "metadata": {},
   "outputs": [],
   "source": [
    "1400"
   ]
  },
  {
   "cell_type": "markdown",
   "metadata": {},
   "source": [
    "{: .output}"
   ]
  },
  {
   "cell_type": "code",
   "execution_count": null,
   "metadata": {},
   "outputs": [],
   "source": [
    "brain_volume_corrected"
   ]
  },
  {
   "cell_type": "markdown",
   "metadata": {},
   "source": [
    "{: .python}"
   ]
  },
  {
   "cell_type": "code",
   "execution_count": null,
   "metadata": {},
   "outputs": [],
   "source": [
    "1495.2"
   ]
  },
  {
   "cell_type": "markdown",
   "metadata": {},
   "source": [
    "{: .output}\n",
    "\n",
    "*   The computer reads the value of `brain_volume` when doing the multiplication,\n",
    "    creates a new value, and assigns it to `brain_volume_corrected`.\n",
    "*   After that, `brain_volume_corrected` does not remember where it came from.\n",
    "\n",
    "> ## Fractions\n",
    "> \n",
    "> What type of value is 3.4?\n",
    "> How can you find out?\n",
    "> \n",
    "> > ## Solution\n",
    "> > \n",
    "> > It is a floating-point number (often abbreviated \"float\").\n",
    "> > \n",
    "> > ~~~\n",
    "> > print(type(3.4))\n",
    "> > ~~~\n",
    "> > {: .python}\n",
    "> > ~~~\n",
    "> > <class 'float'>\n",
    "> > ~~~\n",
    "> > {: .output}\n",
    "> {: .solution}\n",
    "{: .challenge}\n",
    "\n",
    "> ## Automatic Type Conversion\n",
    "> \n",
    "> What type of value is 3.25 + 4?\n",
    "> \n",
    "> > ## Solution\n",
    "> > \n",
    "> > It is a float:\n",
    "> > integers are automatically converted to floats as necessary.\n",
    "> > \n",
    "> > ~~~\n",
    "> > result = 3.25 + 4\n",
    "> > print(result, 'is', type(result))\n",
    "> > ~~~\n",
    "> > {: .python}\n",
    "> > ~~~\n",
    "> > 7.25 is <class 'float'>\n",
    "> > ~~~\n",
    "> > {: .output}\n",
    "> {: .solution}\n",
    "{: .challenge}\n",
    "\n",
    "> ## Choose a Type\n",
    "> \n",
    "> What type of value (integer, floating point number, or character string)\n",
    "> would you use to represent each of the following?\n",
    "> \n",
    "> 1. Number of days since the start of the year.\n",
    "> 2. Time elapsed since the start of the year.\n",
    "> 3. Brain volume.\n",
    "> 4. Number of scan sequences used in a scan session.\n",
    "> 5. Disease state.\n",
    "> 6. Scan sequence name.\n",
    "{: .challenge}\n",
    "\n",
    "> ## Type Conversions with Numbers\n",
    "> \n",
    "> `float` will convert a string to a floating point number,\n",
    "> and `int` will convert a floating point number to an integer:\n",
    "> \n",
    "> ~~~\n",
    "> float(\"3.4\")\n",
    "> ~~~\n",
    "> {: .python}\n",
    "> \n",
    "> ~~~\n",
    "> 3.4\n",
    "> ~~~\n",
    "> {: .output}\n",
    "> \n",
    "> ~~~\n",
    "> int(3.4)\n",
    "> ~~~\n",
    "> {: .python}\n",
    "> \n",
    "> ~~~\n",
    "> 3\n",
    "> ~~~\n",
    "> {: .output}\n",
    "> \n",
    "> Given that,\n",
    "> what do you expect this program to do?\n",
    "> What does it actually do?\n",
    "> Why do you think it does that?\n",
    "> \n",
    "> ~~~\n",
    "> int(\"3.4\")\n",
    "> ~~~\n",
    "> {: .python}\n",
    "> > ## Solution\n",
    "> > ~~~\n",
    "> > We would expect to return an integer value of 3.\n",
    "> > However, it returns the error:\n",
    "> > \n",
    "> > ~~~\n",
    "> > {: .output}\n",
    "> > \n",
    "> > ~~~\n",
    "> > ----------------------------------------------------------\n",
    "> > ValueError               Traceback (most recent call last)\n",
    "> > <ipython-input-92-ec6729dfccdc> in <module>()\n",
    "> > ----> 1 int(\"3.4\")\n",
    "> > \n",
    "> > ValueError: invalid literal for int() with base 10: '3.4'\n",
    "> > ~~~\n",
    "> > {: .error}\n",
    "> {: .solution}\n",
    "{: .challenge}"
   ]
  }
 ],
 "metadata": {},
 "nbformat": 4,
 "nbformat_minor": 2
}
