{
  "cells": [
    {
      "cell_type": "markdown",
      "source": [
        "# Methods\n",
        "\n",
        "We've already seen a few example of methods when learning about Object and Data Structure Types in Python. Methods are essentially functions built into objects.\n",
        "\n",
        "Methods will perform specific actions on the object and can also take arguments, just like a function. This lecture will serve as just a brief introduction to methods.\n",
        "\n",
        "Methods are in the form:\n",
        "\n",
        "    object.method(arg1,arg2,etc...)\n",
        "    \n",
        "We can think of methods as having an argument 'self' referring to the object itself. \n",
        "\nLets take a quick look at what an example of the various methods a list has:"
      ],
      "metadata": {}
    },
    {
      "cell_type": "code",
      "source": [
        "# Create a simple list\n",
        "l = [1,2,3,4,5]"
      ],
      "outputs": [],
      "execution_count": 2,
      "metadata": {
        "collapsed": true
      }
    },
    {
      "cell_type": "markdown",
      "source": [
        "Fortunately, with iPython and the Jupyter Notebook we can quickly see all the possible methods using the tab key. The methods for a list are:\n",
        "\n",
        "* append\n",
        "* count\n",
        "* extend\n",
        "* insert\n",
        "* pop\n",
        "* remove\n",
        "* reverse\n",
        "* sort\n",
        "\nLet's try out a few of them:"
      ],
      "metadata": {}
    },
    {
      "cell_type": "markdown",
      "source": [
        "append() allows us to add elements to the end of a list:"
      ],
      "metadata": {}
    },
    {
      "cell_type": "code",
      "source": [
        "l.append(6)"
      ],
      "outputs": [],
      "execution_count": 3,
      "metadata": {
        "collapsed": true
      }
    },
    {
      "cell_type": "code",
      "source": [
        "l"
      ],
      "outputs": [
        {
          "output_type": "execute_result",
          "execution_count": 4,
          "data": {
            "text/plain": [
              "[1, 2, 3, 4, 5, 6]"
            ]
          },
          "metadata": {}
        }
      ],
      "execution_count": 4,
      "metadata": {
        "collapsed": false
      }
    },
    {
      "cell_type": "markdown",
      "source": [
        "Great! Now how about count()? The count() method will count the number of occurrences of an element in a list."
      ],
      "metadata": {}
    },
    {
      "cell_type": "code",
      "source": [
        "# Check how many times 2 shows up in the list\n",
        "l.count(2)"
      ],
      "outputs": [
        {
          "output_type": "execute_result",
          "execution_count": 7,
          "data": {
            "text/plain": [
              "1"
            ]
          },
          "metadata": {}
        }
      ],
      "execution_count": 7,
      "metadata": {
        "collapsed": false
      }
    },
    {
      "cell_type": "markdown",
      "source": [
        "You can always use Shift+Tab in the Jupyter Notebook to get more help about the method. In general Python you can use the help() function: "
      ],
      "metadata": {}
    },
    {
      "cell_type": "code",
      "source": [
        "help(l.count)"
      ],
      "outputs": [
        {
          "output_type": "stream",
          "name": "stdout",
          "text": [
            "Help on built-in function count:\n",
            "\n",
            "count(...)\n",
            "    L.count(value) -> integer -- return number of occurrences of value\n",
            "\n"
          ]
        }
      ],
      "execution_count": 17,
      "metadata": {
        "collapsed": false
      }
    },
    {
      "cell_type": "markdown",
      "source": [
        "Feel free to play around with the rest of the methods for a list. Later on in this section your quiz will involve using help and Google searching for methods of different types of objects!"
      ],
      "metadata": {}
    },
    {
      "cell_type": "markdown",
      "source": [
        "Great! By this lecture you should feel comfortable calling methods of objects in Python!"
      ],
      "metadata": {}
    }
  ],
  "metadata": {
    "kernelspec": {
      "display_name": "Python 2",
      "language": "python",
      "name": "python2"
    },
    "language_info": {
      "codemirror_mode": {
        "name": "ipython",
        "version": 2
      },
      "file_extension": ".py",
      "mimetype": "text/x-python",
      "name": "python",
      "nbconvert_exporter": "python",
      "pygments_lexer": "ipython2",
      "version": "2.7.10"
    },
    "nteract": {
      "version": "0.2.0"
    }
  },
  "nbformat": 4,
  "nbformat_minor": 0
}