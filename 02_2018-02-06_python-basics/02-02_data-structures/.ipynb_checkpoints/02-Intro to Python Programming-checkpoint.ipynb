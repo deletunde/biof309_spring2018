{
 "cells": [
  {
   "cell_type": "markdown",
   "metadata": {
    "slideshow": {
     "slide_type": "slide"
    }
   },
   "source": [
    "# Introduction to Python Programming"
   ]
  },
  {
   "cell_type": "markdown",
   "metadata": {
    "slideshow": {
     "slide_type": "fragment"
    }
   },
   "source": [
    "<img align=left src=\"https://www.python.org/static/community_logos/python-logo-master-v3-TM.png\">"
   ]
  },
  {
   "cell_type": "markdown",
   "metadata": {
    "slideshow": {
     "slide_type": "skip"
    }
   },
   "source": [
    "---"
   ]
  },
  {
   "cell_type": "markdown",
   "metadata": {
    "slideshow": {
     "slide_type": "slide"
    }
   },
   "source": [
    "# Why Python?\n",
    "\n",
    "<img src=\"http://imgs.xkcd.com/comics/python.png\">"
   ]
  },
  {
   "cell_type": "markdown",
   "metadata": {
    "slideshow": {
     "slide_type": "skip"
    }
   },
   "source": [
    "---"
   ]
  },
  {
   "cell_type": "code",
   "execution_count": 107,
   "metadata": {
    "collapsed": false,
    "slideshow": {
     "slide_type": "skip"
    }
   },
   "outputs": [
    {
     "name": "stdout",
     "output_type": "stream",
     "text": [
      "The Zen of Python, by Tim Peters\n",
      "\n",
      "Beautiful is better than ugly.\n",
      "Explicit is better than implicit.\n",
      "Simple is better than complex.\n",
      "Complex is better than complicated.\n",
      "Flat is better than nested.\n",
      "Sparse is better than dense.\n",
      "Readability counts.\n",
      "Special cases aren't special enough to break the rules.\n",
      "Although practicality beats purity.\n",
      "Errors should never pass silently.\n",
      "Unless explicitly silenced.\n",
      "In the face of ambiguity, refuse the temptation to guess.\n",
      "There should be one-- and preferably only one --obvious way to do it.\n",
      "Although that way may not be obvious at first unless you're Dutch.\n",
      "Now is better than never.\n",
      "Although never is often better than *right* now.\n",
      "If the implementation is hard to explain, it's a bad idea.\n",
      "If the implementation is easy to explain, it may be a good idea.\n",
      "Namespaces are one honking great idea -- let's do more of those!\n"
     ]
    }
   ],
   "source": [
    "import this"
   ]
  },
  {
   "cell_type": "markdown",
   "metadata": {
    "slideshow": {
     "slide_type": "skip"
    }
   },
   "source": [
    "---"
   ]
  },
  {
   "cell_type": "markdown",
   "metadata": {
    "slideshow": {
     "slide_type": "slide"
    }
   },
   "source": [
    "# Goals\n",
    "\n",
    "- Introduce you to the basics of the python programming language\n",
    "- Introduce you to the integrated development environments (IDE)\n",
    "- Enable you to modify existing scripts for your own purposes and write scripts on your own\n",
    "- Prepare you for the remaining seminars"
   ]
  },
  {
   "cell_type": "markdown",
   "metadata": {
    "slideshow": {
     "slide_type": "skip"
    }
   },
   "source": [
    "---"
   ]
  },
  {
   "cell_type": "markdown",
   "metadata": {},
   "source": [
    "## Long Term Evolution E. coli"
   ]
  },
  {
   "cell_type": "markdown",
   "metadata": {},
   "source": [
    "Abstract: \n",
    "    \"Adaptation by natural selection depends on the rates, effects and interactions of many mutations, making it difficult to determine what proportion of mutations in an evolving lineage are beneficial. Here we analysed __264 complete genomes__ from __12 Escherichia coli__ populations to characterize their dynamics over __50,000 generations__. The populations that retained the ancestral mutation rate support a model in which most fixed mutations are beneficial, the fraction of beneficial mutations declines as fitness rises, and neutral mutations accumulate at a constant rate. We also compared these populations to mutation-accumulation lines evolved under a bottlenecking regime that minimizes selection. Nonsynonymous mutations, intergenic mutations, insertions and deletions are overrepresented in the long-term populations, further supporting the inference that most mutations that reached high frequency were favoured by selection. These results illuminate the shifting balance of forces that govern genome evolution in populations adapting to a new environment.\" [Tempo and mode of genome evolution in a 50,000-generation experiment\n",
    "Tenaillon O Barrick J Ribeck N Deatherage D Blanchard J Dasgupta A Wu G Wielgoss S Cruveiller S Médigue C Schneider D Lenski R. Nature 2016 vol: 536 (7615) pp: 165-170](http://www.nature.com/nature/journal/v536/n7615/abs/nature18959.html)\n",
    "\n"
   ]
  },
  {
   "cell_type": "markdown",
   "metadata": {},
   "source": [
    "Figure 1:"
   ]
  },
  {
   "cell_type": "markdown",
   "metadata": {},
   "source": [
    "<img src=\"images/nature18959-f1.jpg\", width=600, height=600>"
   ]
  },
  {
   "cell_type": "markdown",
   "metadata": {},
   "source": [
    "## LTEE\n",
    "\n",
    "12 samples from a single original E. coli colony.\n",
    "- Ara-1, Ara-2, Ara-3, Ara-4, Ara-5, Ara-6\n",
    "- Ara+1, Ara+2, Ara+3, Ara+4, Ara+5, Ara+6"
   ]
  },
  {
   "cell_type": "markdown",
   "metadata": {},
   "source": [
    "11 Generation milestones:\n",
    "- 500, 1000, 1500, 2000, 5000, 10000, 15000, 20000, 30000, 40000, 50000"
   ]
  },
  {
   "cell_type": "markdown",
   "metadata": {},
   "source": [
    "There are also two clones of each time point:\n",
    "\n",
    "- 'A', 'B'"
   ]
  },
  {
   "cell_type": "markdown",
   "metadata": {},
   "source": [
    "Validate the number of data points:"
   ]
  },
  {
   "cell_type": "code",
   "execution_count": null,
   "metadata": {
    "collapsed": true
   },
   "outputs": [],
   "source": []
  },
  {
   "cell_type": "markdown",
   "metadata": {},
   "source": [
    "    12 * 11 * 2"
   ]
  },
  {
   "cell_type": "markdown",
   "metadata": {
    "slideshow": {
     "slide_type": "slide"
    }
   },
   "source": [
    "## Variables"
   ]
  },
  {
   "cell_type": "markdown",
   "metadata": {},
   "source": [
    "Lets create a variable that will store the name of our data file. \n",
    "\n",
    "Get a list of the files in the curent folder using the Jupyter / IPython magic:"
   ]
  },
  {
   "cell_type": "markdown",
   "metadata": {},
   "source": [
    "    !ls"
   ]
  },
  {
   "cell_type": "markdown",
   "metadata": {},
   "source": [
    "Lets use some more magic to take a quick look at the data file:"
   ]
  },
  {
   "cell_type": "markdown",
   "metadata": {},
   "source": [
    "    !head -n 3 count.LTEE.final_masked.csv"
   ]
  },
  {
   "cell_type": "code",
   "execution_count": null,
   "metadata": {
    "collapsed": true
   },
   "outputs": [],
   "source": []
  },
  {
   "cell_type": "markdown",
   "metadata": {},
   "source": [
    "What can we tell about our data file?"
   ]
  },
  {
   "cell_type": "markdown",
   "metadata": {},
   "source": [
    "---"
   ]
  },
  {
   "cell_type": "markdown",
   "metadata": {},
   "source": [
    "Create a new variable and use it to store the name of our file"
   ]
  },
  {
   "cell_type": "code",
   "execution_count": 13,
   "metadata": {
    "collapsed": true
   },
   "outputs": [],
   "source": [
    "    data_file = 'count.LTEE.final_masked.csv'"
   ]
  },
  {
   "cell_type": "code",
   "execution_count": null,
   "metadata": {
    "collapsed": true
   },
   "outputs": [],
   "source": []
  },
  {
   "cell_type": "markdown",
   "metadata": {},
   "source": [
    "Lets' print the variable to make sure it has been stored:"
   ]
  },
  {
   "cell_type": "markdown",
   "metadata": {
    "slideshow": {
     "slide_type": "fragment"
    }
   },
   "source": [
    "    print(data_file)"
   ]
  },
  {
   "cell_type": "code",
   "execution_count": null,
   "metadata": {
    "collapsed": true
   },
   "outputs": [],
   "source": []
  },
  {
   "cell_type": "markdown",
   "metadata": {},
   "source": [
    "## Everything in Python is an Object!"
   ]
  },
  {
   "cell_type": "markdown",
   "metadata": {},
   "source": [
    "Everything in python is an object. Let's see what type of object our varaible is:"
   ]
  },
  {
   "cell_type": "markdown",
   "metadata": {},
   "source": [
    "    type(data_file)"
   ]
  },
  {
   "cell_type": "code",
   "execution_count": null,
   "metadata": {
    "collapsed": true
   },
   "outputs": [],
   "source": []
  },
  {
   "cell_type": "markdown",
   "metadata": {
    "slideshow": {
     "slide_type": "fragment"
    }
   },
   "source": [
    "Comments\n",
    "\n",
    "    # This is a comment\n",
    "\n",
    "Anything after the pound sign (#) is ignored by the python interpreter; great for explaing what is going on in your code"
   ]
  },
  {
   "cell_type": "code",
   "execution_count": 11,
   "metadata": {
    "collapsed": true
   },
   "outputs": [],
   "source": [
    "import csv"
   ]
  },
  {
   "cell_type": "code",
   "execution_count": 190,
   "metadata": {
    "collapsed": false
   },
   "outputs": [
    {
     "name": "stdout",
     "output_type": "stream",
     "text": [
      "population clone time total\n",
      "Ara+1 A 500 4\n",
      "Ara+1 B 500 3\n",
      "Ara+1 A 1000 4\n",
      "Ara+1 B 1000 2\n",
      "Ara+1 A 1500 7\n",
      "Ara+1 B 1500 6\n",
      "Ara+1 A 2000 8\n",
      "Ara+1 B 2000 9\n",
      "Ara+1 A 5000 23\n",
      "Ara+1 B 5000 20\n",
      "Ara+1 A 10000 38\n",
      "Ara+1 B 10000 36\n",
      "Ara+1 A 15000 53\n",
      "Ara+1 B 15000 53\n",
      "Ara+1 A 20000 62\n",
      "Ara+1 B 20000 62\n",
      "Ara+1 A 30000 91\n",
      "Ara+1 B 30000 87\n",
      "Ara+1 A 40000 104\n",
      "Ara+1 B 40000 108\n",
      "Ara+1 A 50000 122\n",
      "Ara+1 B 50000 126\n",
      "Ara+2 A 500 2\n",
      "Ara+2 B 500 2\n",
      "Ara+2 A 1000 4\n",
      "Ara+2 B 1000 4\n",
      "Ara+2 A 1500 5\n",
      "Ara+2 B 1500 6\n",
      "Ara+2 A 2000 8\n",
      "Ara+2 B 2000 9\n",
      "Ara+2 A 5000 12\n",
      "Ara+2 B 5000 11\n",
      "Ara+2 A 10000 23\n",
      "Ara+2 B 10000 25\n",
      "Ara+2 A 15000 31\n",
      "Ara+2 B 15000 33\n",
      "Ara+2 A 20000 38\n",
      "Ara+2 B 20000 35\n",
      "Ara+2 A 30000 47\n",
      "Ara+2 B 30000 48\n",
      "Ara+2 A 40000 59\n",
      "Ara+2 B 40000 55\n",
      "Ara+2 A 50000 68\n",
      "Ara+2 B 50000 68\n",
      "Ara+3 A 500 2\n",
      "Ara+3 B 500 3\n",
      "Ara+3 A 1000 4\n",
      "Ara+3 B 1000 4\n",
      "Ara+3 A 1500 6\n",
      "Ara+3 B 1500 6\n",
      "Ara+3 A 2000 8\n",
      "Ara+3 B 2000 10\n",
      "Ara+3 A 5000 147\n",
      "Ara+3 B 5000 152\n",
      "Ara+3 A 10000 331\n",
      "Ara+3 B 10000 376\n",
      "Ara+3 A 15000 655\n",
      "Ara+3 B 15000 646\n",
      "Ara+3 A 20000 875\n",
      "Ara+3 B 20000 873\n",
      "Ara+3 A 30000 1133\n",
      "Ara+3 B 30000 1148\n",
      "Ara+3 A 40000 1537\n",
      "Ara+3 B 40000 1542\n",
      "Ara+3 A 50000 1734\n",
      "Ara+3 B 50000 1648\n",
      "Ara+4 A 500 2\n",
      "Ara+4 B 500 3\n",
      "Ara+4 A 1000 2\n",
      "Ara+4 B 1000 4\n",
      "Ara+4 A 1500 7\n",
      "Ara+4 B 1500 9\n",
      "Ara+4 A 2000 6\n",
      "Ara+4 B 2000 6\n",
      "Ara+4 A 5000 11\n",
      "Ara+4 B 5000 8\n",
      "Ara+4 A 10000 21\n",
      "Ara+4 B 10000 21\n",
      "Ara+4 A 15000 27\n",
      "Ara+4 B 15000 27\n",
      "Ara+4 A 20000 40\n",
      "Ara+4 B 20000 36\n",
      "Ara+4 A 30000 44\n",
      "Ara+4 B 30000 42\n",
      "Ara+4 A 40000 54\n",
      "Ara+4 B 40000 54\n",
      "Ara+4 A 50000 69\n",
      "Ara+4 B 50000 68\n",
      "Ara+5 A 500 2\n",
      "Ara+5 B 500 2\n",
      "Ara+5 A 1000 5\n",
      "Ara+5 B 1000 3\n",
      "Ara+5 A 1500 5\n",
      "Ara+5 B 1500 4\n",
      "Ara+5 A 2000 7\n",
      "Ara+5 B 2000 6\n",
      "Ara+5 A 5000 15\n",
      "Ara+5 B 5000 11\n",
      "Ara+5 A 10000 20\n",
      "Ara+5 B 10000 17\n",
      "Ara+5 A 15000 30\n",
      "Ara+5 B 15000 31\n",
      "Ara+5 A 20000 33\n",
      "Ara+5 B 20000 32\n",
      "Ara+5 A 30000 51\n",
      "Ara+5 B 30000 52\n",
      "Ara+5 A 40000 65\n",
      "Ara+5 B 40000 68\n",
      "Ara+5 A 50000 78\n",
      "Ara+5 B 50000 77\n",
      "Ara+6 A 500 2\n",
      "Ara+6 B 500 2\n",
      "Ara+6 A 1000 4\n",
      "Ara+6 B 1000 3\n",
      "Ara+6 A 1500 4\n",
      "Ara+6 B 1500 6\n",
      "Ara+6 A 2000 5\n",
      "Ara+6 B 2000 5\n",
      "Ara+6 A 5000 8\n",
      "Ara+6 B 5000 10\n",
      "Ara+6 A 10000 599\n",
      "Ara+6 B 10000 680\n",
      "Ara+6 A 15000 995\n",
      "Ara+6 B 15000 1002\n",
      "Ara+6 A 20000 1238\n",
      "Ara+6 B 20000 1359\n",
      "Ara+6 A 30000 1843\n",
      "Ara+6 B 30000 1888\n",
      "Ara+6 A 40000 2191\n",
      "Ara+6 B 40000 2026\n",
      "Ara+6 A 50000 2562\n",
      "Ara+6 B 50000 2299\n",
      "Ara-1 A 500 3\n",
      "Ara-1 B 500 5\n",
      "Ara-1 A 1000 4\n",
      "Ara-1 B 1000 6\n",
      "Ara-1 A 1500 5\n",
      "Ara-1 B 1500 7\n",
      "Ara-1 A 2000 6\n",
      "Ara-1 B 2000 6\n",
      "Ara-1 A 5000 14\n",
      "Ara-1 B 5000 15\n",
      "Ara-1 A 10000 27\n",
      "Ara-1 B 10000 28\n",
      "Ara-1 A 15000 36\n",
      "Ara-1 B 15000 36\n",
      "Ara-1 A 20000 43\n",
      "Ara-1 B 20000 41\n",
      "Ara-1 A 30000 418\n",
      "Ara-1 B 30000 512\n",
      "Ara-1 A 40000 646\n",
      "Ara-1 B 40000 855\n",
      "Ara-1 A 50000 1092\n",
      "Ara-1 B 50000 1110\n",
      "Ara-2 A 500 2\n",
      "Ara-2 B 500 2\n",
      "Ara-2 A 1000 4\n",
      "Ara-2 B 1000 3\n",
      "Ara-2 A 1500 4\n",
      "Ara-2 B 1500 4\n",
      "Ara-2 A 2000 6\n",
      "Ara-2 B 2000 5\n",
      "Ara-2 A 5000 137\n",
      "Ara-2 B 5000 127\n",
      "Ara-2 A 10000 302\n",
      "Ara-2 B 10000 320\n",
      "Ara-2 A 15000 579\n",
      "Ara-2 B 15000 503\n",
      "Ara-2 A 20000 644\n",
      "Ara-2 B 20000 654\n",
      "Ara-2 A 30000 832\n",
      "Ara-2 B 30000 637\n",
      "Ara-2 A 40000 1047\n",
      "Ara-2 B 40000 1079\n",
      "Ara-2 A 50000 1036\n",
      "Ara-2 B 50000 1090\n",
      "Ara-3 A 500 1\n",
      "Ara-3 B 500 3\n",
      "Ara-3 A 1000 6\n",
      "Ara-3 B 1000 4\n",
      "Ara-3 A 1500 7\n",
      "Ara-3 B 1500 5\n",
      "Ara-3 A 2000 9\n",
      "Ara-3 B 2000 10\n",
      "Ara-3 A 5000 16\n",
      "Ara-3 B 5000 17\n",
      "Ara-3 A 10000 26\n",
      "Ara-3 B 10000 30\n",
      "Ara-3 A 15000 39\n",
      "Ara-3 B 15000 37\n",
      "Ara-3 A 20000 47\n",
      "Ara-3 B 20000 52\n",
      "Ara-3 A 30000 53\n",
      "Ara-3 B 30000 71\n",
      "Ara-3 A 40000 387\n",
      "Ara-3 D 40000 112\n",
      "Ara-3 A 50000 774\n",
      "Ara-3 B 50000 791\n",
      "Ara-4 A 500 2\n",
      "Ara-4 B 500 2\n",
      "Ara-4 A 1000 3\n",
      "Ara-4 B 1000 3\n",
      "Ara-4 A 1500 7\n",
      "Ara-4 B 1500 8\n",
      "Ara-4 A 2000 9\n",
      "Ara-4 B 2000 7\n",
      "Ara-4 A 5000 14\n",
      "Ara-4 B 5000 12\n",
      "Ara-4 A 10000 245\n",
      "Ara-4 B 10000 267\n",
      "Ara-4 A 15000 443\n",
      "Ara-4 B 15000 465\n",
      "Ara-4 A 20000 639\n",
      "Ara-4 B 20000 607\n",
      "Ara-4 A 30000 928\n",
      "Ara-4 B 30000 906\n",
      "Ara-4 A 40000 1133\n",
      "Ara-4 B 40000 1112\n",
      "Ara-4 A 50000 1321\n",
      "Ara-4 B 50000 1319\n",
      "Ara-5 A 500 3\n",
      "Ara-5 B 500 3\n",
      "Ara-5 A 1000 5\n",
      "Ara-5 B 1000 4\n",
      "Ara-5 A 1500 5\n",
      "Ara-5 B 1500 7\n",
      "Ara-5 A 2000 9\n",
      "Ara-5 B 2000 9\n",
      "Ara-5 A 5000 15\n",
      "Ara-5 B 5000 14\n",
      "Ara-5 A 10000 28\n",
      "Ara-5 B 10000 36\n",
      "Ara-5 A 15000 37\n",
      "Ara-5 B 15000 35\n",
      "Ara-5 A 20000 44\n",
      "Ara-5 B 20000 44\n",
      "Ara-5 A 30000 76\n",
      "Ara-5 B 30000 65\n",
      "Ara-5 A 40000 73\n",
      "Ara-5 B 40000 76\n",
      "Ara-5 A 50000 89\n",
      "Ara-5 B 50000 93\n",
      "Ara-6 A 500 3\n",
      "Ara-6 B 500 1\n",
      "Ara-6 A 1000 4\n",
      "Ara-6 B 1000 5\n",
      "Ara-6 A 1500 6\n",
      "Ara-6 B 1500 5\n",
      "Ara-6 A 2000 8\n",
      "Ara-6 B 2000 9\n",
      "Ara-6 A 5000 11\n",
      "Ara-6 B 5000 16\n",
      "Ara-6 A 10000 22\n",
      "Ara-6 B 10000 26\n",
      "Ara-6 A 15000 33\n",
      "Ara-6 B 15000 35\n",
      "Ara-6 A 20000 42\n",
      "Ara-6 B 20000 44\n",
      "Ara-6 A 30000 58\n",
      "Ara-6 B 30000 57\n",
      "Ara-6 A 40000 77\n",
      "Ara-6 B 40000 67\n",
      "Ara-6 A 50000 89\n",
      "Ara-6 B 50000 76\n"
     ]
    }
   ],
   "source": [
    "# open a file, process its contents, and make sure to close it\n",
    "\n",
    "with open(data_file) as f:\n",
    "\n",
    "    reader = csv.reader(f)\n",
    "    \n",
    "    for row in reader:\n",
    "        sample = row[3]\n",
    "        generation = row[4]\n",
    "        clone = row[5]\n",
    "        total_mutations = row[6]\n",
    "        print(sample, clone, generation, total_mutations)"
   ]
  },
  {
   "cell_type": "markdown",
   "metadata": {},
   "source": [
    "We will use a package called pandas when we learn about data analysis but the csv module is useful here."
   ]
  },
  {
   "cell_type": "markdown",
   "metadata": {},
   "source": [
    "We could have read the file line-by-line and used the __split__ to split the string into elements.\n",
    "\n",
    "    fields = line.split(“,”)\n",
    "\n",
    "fields would be the equivelent of row."
   ]
  },
  {
   "cell_type": "markdown",
   "metadata": {},
   "source": [
    "## Functions"
   ]
  },
  {
   "cell_type": "code",
   "execution_count": 149,
   "metadata": {
    "collapsed": true
   },
   "outputs": [],
   "source": [
    "def extract_column_data(row):\n",
    "    \n",
    "    sample = row[3]\n",
    "    generation = row[4]\n",
    "    clone = row[5]\n",
    "    total_mutations = row[6]\n",
    "    \n",
    "    return sample, clone, generation, total_mutations\n"
   ]
  },
  {
   "cell_type": "code",
   "execution_count": null,
   "metadata": {
    "collapsed": true
   },
   "outputs": [],
   "source": []
  },
  {
   "cell_type": "code",
   "execution_count": 150,
   "metadata": {
    "collapsed": false
   },
   "outputs": [
    {
     "name": "stdout",
     "output_type": "stream",
     "text": [
      "population clone time total\n",
      "Ara+1 A 500 4\n",
      "Ara+1 B 500 3\n",
      "Ara+1 A 1000 4\n",
      "Ara+1 B 1000 2\n",
      "Ara+1 A 1500 7\n",
      "Ara+1 B 1500 6\n",
      "Ara+1 A 2000 8\n",
      "Ara+1 B 2000 9\n",
      "Ara+1 A 5000 23\n",
      "Ara+1 B 5000 20\n",
      "Ara+1 A 10000 38\n",
      "Ara+1 B 10000 36\n",
      "Ara+1 A 15000 53\n",
      "Ara+1 B 15000 53\n",
      "Ara+1 A 20000 62\n",
      "Ara+1 B 20000 62\n",
      "Ara+1 A 30000 91\n",
      "Ara+1 B 30000 87\n",
      "Ara+1 A 40000 104\n",
      "Ara+1 B 40000 108\n",
      "Ara+1 A 50000 122\n",
      "Ara+1 B 50000 126\n",
      "Ara+2 A 500 2\n",
      "Ara+2 B 500 2\n",
      "Ara+2 A 1000 4\n",
      "Ara+2 B 1000 4\n",
      "Ara+2 A 1500 5\n",
      "Ara+2 B 1500 6\n",
      "Ara+2 A 2000 8\n",
      "Ara+2 B 2000 9\n",
      "Ara+2 A 5000 12\n",
      "Ara+2 B 5000 11\n",
      "Ara+2 A 10000 23\n",
      "Ara+2 B 10000 25\n",
      "Ara+2 A 15000 31\n",
      "Ara+2 B 15000 33\n",
      "Ara+2 A 20000 38\n",
      "Ara+2 B 20000 35\n",
      "Ara+2 A 30000 47\n",
      "Ara+2 B 30000 48\n",
      "Ara+2 A 40000 59\n",
      "Ara+2 B 40000 55\n",
      "Ara+2 A 50000 68\n",
      "Ara+2 B 50000 68\n",
      "Ara+3 A 500 2\n",
      "Ara+3 B 500 3\n",
      "Ara+3 A 1000 4\n",
      "Ara+3 B 1000 4\n",
      "Ara+3 A 1500 6\n",
      "Ara+3 B 1500 6\n",
      "Ara+3 A 2000 8\n",
      "Ara+3 B 2000 10\n",
      "Ara+3 A 5000 147\n",
      "Ara+3 B 5000 152\n",
      "Ara+3 A 10000 331\n",
      "Ara+3 B 10000 376\n",
      "Ara+3 A 15000 655\n",
      "Ara+3 B 15000 646\n",
      "Ara+3 A 20000 875\n",
      "Ara+3 B 20000 873\n",
      "Ara+3 A 30000 1133\n",
      "Ara+3 B 30000 1148\n",
      "Ara+3 A 40000 1537\n",
      "Ara+3 B 40000 1542\n",
      "Ara+3 A 50000 1734\n",
      "Ara+3 B 50000 1648\n",
      "Ara+4 A 500 2\n",
      "Ara+4 B 500 3\n",
      "Ara+4 A 1000 2\n",
      "Ara+4 B 1000 4\n",
      "Ara+4 A 1500 7\n",
      "Ara+4 B 1500 9\n",
      "Ara+4 A 2000 6\n",
      "Ara+4 B 2000 6\n",
      "Ara+4 A 5000 11\n",
      "Ara+4 B 5000 8\n",
      "Ara+4 A 10000 21\n",
      "Ara+4 B 10000 21\n",
      "Ara+4 A 15000 27\n",
      "Ara+4 B 15000 27\n",
      "Ara+4 A 20000 40\n",
      "Ara+4 B 20000 36\n",
      "Ara+4 A 30000 44\n",
      "Ara+4 B 30000 42\n",
      "Ara+4 A 40000 54\n",
      "Ara+4 B 40000 54\n",
      "Ara+4 A 50000 69\n",
      "Ara+4 B 50000 68\n",
      "Ara+5 A 500 2\n",
      "Ara+5 B 500 2\n",
      "Ara+5 A 1000 5\n",
      "Ara+5 B 1000 3\n",
      "Ara+5 A 1500 5\n",
      "Ara+5 B 1500 4\n",
      "Ara+5 A 2000 7\n",
      "Ara+5 B 2000 6\n",
      "Ara+5 A 5000 15\n",
      "Ara+5 B 5000 11\n",
      "Ara+5 A 10000 20\n",
      "Ara+5 B 10000 17\n",
      "Ara+5 A 15000 30\n",
      "Ara+5 B 15000 31\n",
      "Ara+5 A 20000 33\n",
      "Ara+5 B 20000 32\n",
      "Ara+5 A 30000 51\n",
      "Ara+5 B 30000 52\n",
      "Ara+5 A 40000 65\n",
      "Ara+5 B 40000 68\n",
      "Ara+5 A 50000 78\n",
      "Ara+5 B 50000 77\n",
      "Ara+6 A 500 2\n",
      "Ara+6 B 500 2\n",
      "Ara+6 A 1000 4\n",
      "Ara+6 B 1000 3\n",
      "Ara+6 A 1500 4\n",
      "Ara+6 B 1500 6\n",
      "Ara+6 A 2000 5\n",
      "Ara+6 B 2000 5\n",
      "Ara+6 A 5000 8\n",
      "Ara+6 B 5000 10\n",
      "Ara+6 A 10000 599\n",
      "Ara+6 B 10000 680\n",
      "Ara+6 A 15000 995\n",
      "Ara+6 B 15000 1002\n",
      "Ara+6 A 20000 1238\n",
      "Ara+6 B 20000 1359\n",
      "Ara+6 A 30000 1843\n",
      "Ara+6 B 30000 1888\n",
      "Ara+6 A 40000 2191\n",
      "Ara+6 B 40000 2026\n",
      "Ara+6 A 50000 2562\n",
      "Ara+6 B 50000 2299\n",
      "Ara-1 A 500 3\n",
      "Ara-1 B 500 5\n",
      "Ara-1 A 1000 4\n",
      "Ara-1 B 1000 6\n",
      "Ara-1 A 1500 5\n",
      "Ara-1 B 1500 7\n",
      "Ara-1 A 2000 6\n",
      "Ara-1 B 2000 6\n",
      "Ara-1 A 5000 14\n",
      "Ara-1 B 5000 15\n",
      "Ara-1 A 10000 27\n",
      "Ara-1 B 10000 28\n",
      "Ara-1 A 15000 36\n",
      "Ara-1 B 15000 36\n",
      "Ara-1 A 20000 43\n",
      "Ara-1 B 20000 41\n",
      "Ara-1 A 30000 418\n",
      "Ara-1 B 30000 512\n",
      "Ara-1 A 40000 646\n",
      "Ara-1 B 40000 855\n",
      "Ara-1 A 50000 1092\n",
      "Ara-1 B 50000 1110\n",
      "Ara-2 A 500 2\n",
      "Ara-2 B 500 2\n",
      "Ara-2 A 1000 4\n",
      "Ara-2 B 1000 3\n",
      "Ara-2 A 1500 4\n",
      "Ara-2 B 1500 4\n",
      "Ara-2 A 2000 6\n",
      "Ara-2 B 2000 5\n",
      "Ara-2 A 5000 137\n",
      "Ara-2 B 5000 127\n",
      "Ara-2 A 10000 302\n",
      "Ara-2 B 10000 320\n",
      "Ara-2 A 15000 579\n",
      "Ara-2 B 15000 503\n",
      "Ara-2 A 20000 644\n",
      "Ara-2 B 20000 654\n",
      "Ara-2 A 30000 832\n",
      "Ara-2 B 30000 637\n",
      "Ara-2 A 40000 1047\n",
      "Ara-2 B 40000 1079\n",
      "Ara-2 A 50000 1036\n",
      "Ara-2 B 50000 1090\n",
      "Ara-3 A 500 1\n",
      "Ara-3 B 500 3\n",
      "Ara-3 A 1000 6\n",
      "Ara-3 B 1000 4\n",
      "Ara-3 A 1500 7\n",
      "Ara-3 B 1500 5\n",
      "Ara-3 A 2000 9\n",
      "Ara-3 B 2000 10\n",
      "Ara-3 A 5000 16\n",
      "Ara-3 B 5000 17\n",
      "Ara-3 A 10000 26\n",
      "Ara-3 B 10000 30\n",
      "Ara-3 A 15000 39\n",
      "Ara-3 B 15000 37\n",
      "Ara-3 A 20000 47\n",
      "Ara-3 B 20000 52\n",
      "Ara-3 A 30000 53\n",
      "Ara-3 B 30000 71\n",
      "Ara-3 A 40000 387\n",
      "Ara-3 D 40000 112\n",
      "Ara-3 A 50000 774\n",
      "Ara-3 B 50000 791\n",
      "Ara-4 A 500 2\n",
      "Ara-4 B 500 2\n",
      "Ara-4 A 1000 3\n",
      "Ara-4 B 1000 3\n",
      "Ara-4 A 1500 7\n",
      "Ara-4 B 1500 8\n",
      "Ara-4 A 2000 9\n",
      "Ara-4 B 2000 7\n",
      "Ara-4 A 5000 14\n",
      "Ara-4 B 5000 12\n",
      "Ara-4 A 10000 245\n",
      "Ara-4 B 10000 267\n",
      "Ara-4 A 15000 443\n",
      "Ara-4 B 15000 465\n",
      "Ara-4 A 20000 639\n",
      "Ara-4 B 20000 607\n",
      "Ara-4 A 30000 928\n",
      "Ara-4 B 30000 906\n",
      "Ara-4 A 40000 1133\n",
      "Ara-4 B 40000 1112\n",
      "Ara-4 A 50000 1321\n",
      "Ara-4 B 50000 1319\n",
      "Ara-5 A 500 3\n",
      "Ara-5 B 500 3\n",
      "Ara-5 A 1000 5\n",
      "Ara-5 B 1000 4\n",
      "Ara-5 A 1500 5\n",
      "Ara-5 B 1500 7\n",
      "Ara-5 A 2000 9\n",
      "Ara-5 B 2000 9\n",
      "Ara-5 A 5000 15\n",
      "Ara-5 B 5000 14\n",
      "Ara-5 A 10000 28\n",
      "Ara-5 B 10000 36\n",
      "Ara-5 A 15000 37\n",
      "Ara-5 B 15000 35\n",
      "Ara-5 A 20000 44\n",
      "Ara-5 B 20000 44\n",
      "Ara-5 A 30000 76\n",
      "Ara-5 B 30000 65\n",
      "Ara-5 A 40000 73\n",
      "Ara-5 B 40000 76\n",
      "Ara-5 A 50000 89\n",
      "Ara-5 B 50000 93\n",
      "Ara-6 A 500 3\n",
      "Ara-6 B 500 1\n",
      "Ara-6 A 1000 4\n",
      "Ara-6 B 1000 5\n",
      "Ara-6 A 1500 6\n",
      "Ara-6 B 1500 5\n",
      "Ara-6 A 2000 8\n",
      "Ara-6 B 2000 9\n",
      "Ara-6 A 5000 11\n",
      "Ara-6 B 5000 16\n",
      "Ara-6 A 10000 22\n",
      "Ara-6 B 10000 26\n",
      "Ara-6 A 15000 33\n",
      "Ara-6 B 15000 35\n",
      "Ara-6 A 20000 42\n",
      "Ara-6 B 20000 44\n",
      "Ara-6 A 30000 58\n",
      "Ara-6 B 30000 57\n",
      "Ara-6 A 40000 77\n",
      "Ara-6 B 40000 67\n",
      "Ara-6 A 50000 89\n",
      "Ara-6 B 50000 76\n"
     ]
    }
   ],
   "source": [
    "with open(data_file) as f:\n",
    "\n",
    "    reader = csv.reader(f)\n",
    "    \n",
    "    for row in reader:\n",
    "        sample, clone, generation, total_mutations = extract_column_data(row)\n",
    "        print(sample, clone, generation, total_mutations)"
   ]
  },
  {
   "cell_type": "code",
   "execution_count": 151,
   "metadata": {
    "collapsed": true
   },
   "outputs": [],
   "source": [
    "def extract_column_data2(row, sample_col=3, generation_col=4, clone_col=5, total_mutations_col=6):\n",
    "    \n",
    "    sample = row[sample_col]\n",
    "    generation = row[generation_col]\n",
    "    clone = row[clone_col]\n",
    "    total_mutations = row[total_mutations_col]\n",
    "    \n",
    "    return sample, clone, generation, total_mutations"
   ]
  },
  {
   "cell_type": "code",
   "execution_count": null,
   "metadata": {
    "collapsed": true
   },
   "outputs": [],
   "source": []
  },
  {
   "cell_type": "code",
   "execution_count": 153,
   "metadata": {
    "collapsed": false
   },
   "outputs": [
    {
     "name": "stdout",
     "output_type": "stream",
     "text": [
      "population clone time total\n",
      "Ara+1 A 500 4\n",
      "Ara+1 B 500 3\n",
      "Ara+1 A 1000 4\n",
      "Ara+1 B 1000 2\n",
      "Ara+1 A 1500 7\n",
      "Ara+1 B 1500 6\n",
      "Ara+1 A 2000 8\n",
      "Ara+1 B 2000 9\n",
      "Ara+1 A 5000 23\n",
      "Ara+1 B 5000 20\n",
      "Ara+1 A 10000 38\n",
      "Ara+1 B 10000 36\n",
      "Ara+1 A 15000 53\n",
      "Ara+1 B 15000 53\n",
      "Ara+1 A 20000 62\n",
      "Ara+1 B 20000 62\n",
      "Ara+1 A 30000 91\n",
      "Ara+1 B 30000 87\n",
      "Ara+1 A 40000 104\n",
      "Ara+1 B 40000 108\n",
      "Ara+1 A 50000 122\n",
      "Ara+1 B 50000 126\n",
      "Ara+2 A 500 2\n",
      "Ara+2 B 500 2\n",
      "Ara+2 A 1000 4\n",
      "Ara+2 B 1000 4\n",
      "Ara+2 A 1500 5\n",
      "Ara+2 B 1500 6\n",
      "Ara+2 A 2000 8\n",
      "Ara+2 B 2000 9\n",
      "Ara+2 A 5000 12\n",
      "Ara+2 B 5000 11\n",
      "Ara+2 A 10000 23\n",
      "Ara+2 B 10000 25\n",
      "Ara+2 A 15000 31\n",
      "Ara+2 B 15000 33\n",
      "Ara+2 A 20000 38\n",
      "Ara+2 B 20000 35\n",
      "Ara+2 A 30000 47\n",
      "Ara+2 B 30000 48\n",
      "Ara+2 A 40000 59\n",
      "Ara+2 B 40000 55\n",
      "Ara+2 A 50000 68\n",
      "Ara+2 B 50000 68\n",
      "Ara+3 A 500 2\n",
      "Ara+3 B 500 3\n",
      "Ara+3 A 1000 4\n",
      "Ara+3 B 1000 4\n",
      "Ara+3 A 1500 6\n",
      "Ara+3 B 1500 6\n",
      "Ara+3 A 2000 8\n",
      "Ara+3 B 2000 10\n",
      "Ara+3 A 5000 147\n",
      "Ara+3 B 5000 152\n",
      "Ara+3 A 10000 331\n",
      "Ara+3 B 10000 376\n",
      "Ara+3 A 15000 655\n",
      "Ara+3 B 15000 646\n",
      "Ara+3 A 20000 875\n",
      "Ara+3 B 20000 873\n",
      "Ara+3 A 30000 1133\n",
      "Ara+3 B 30000 1148\n",
      "Ara+3 A 40000 1537\n",
      "Ara+3 B 40000 1542\n",
      "Ara+3 A 50000 1734\n",
      "Ara+3 B 50000 1648\n",
      "Ara+4 A 500 2\n",
      "Ara+4 B 500 3\n",
      "Ara+4 A 1000 2\n",
      "Ara+4 B 1000 4\n",
      "Ara+4 A 1500 7\n",
      "Ara+4 B 1500 9\n",
      "Ara+4 A 2000 6\n",
      "Ara+4 B 2000 6\n",
      "Ara+4 A 5000 11\n",
      "Ara+4 B 5000 8\n",
      "Ara+4 A 10000 21\n",
      "Ara+4 B 10000 21\n",
      "Ara+4 A 15000 27\n",
      "Ara+4 B 15000 27\n",
      "Ara+4 A 20000 40\n",
      "Ara+4 B 20000 36\n",
      "Ara+4 A 30000 44\n",
      "Ara+4 B 30000 42\n",
      "Ara+4 A 40000 54\n",
      "Ara+4 B 40000 54\n",
      "Ara+4 A 50000 69\n",
      "Ara+4 B 50000 68\n",
      "Ara+5 A 500 2\n",
      "Ara+5 B 500 2\n",
      "Ara+5 A 1000 5\n",
      "Ara+5 B 1000 3\n",
      "Ara+5 A 1500 5\n",
      "Ara+5 B 1500 4\n",
      "Ara+5 A 2000 7\n",
      "Ara+5 B 2000 6\n",
      "Ara+5 A 5000 15\n",
      "Ara+5 B 5000 11\n",
      "Ara+5 A 10000 20\n",
      "Ara+5 B 10000 17\n",
      "Ara+5 A 15000 30\n",
      "Ara+5 B 15000 31\n",
      "Ara+5 A 20000 33\n",
      "Ara+5 B 20000 32\n",
      "Ara+5 A 30000 51\n",
      "Ara+5 B 30000 52\n",
      "Ara+5 A 40000 65\n",
      "Ara+5 B 40000 68\n",
      "Ara+5 A 50000 78\n",
      "Ara+5 B 50000 77\n",
      "Ara+6 A 500 2\n",
      "Ara+6 B 500 2\n",
      "Ara+6 A 1000 4\n",
      "Ara+6 B 1000 3\n",
      "Ara+6 A 1500 4\n",
      "Ara+6 B 1500 6\n",
      "Ara+6 A 2000 5\n",
      "Ara+6 B 2000 5\n",
      "Ara+6 A 5000 8\n",
      "Ara+6 B 5000 10\n",
      "Ara+6 A 10000 599\n",
      "Ara+6 B 10000 680\n",
      "Ara+6 A 15000 995\n",
      "Ara+6 B 15000 1002\n",
      "Ara+6 A 20000 1238\n",
      "Ara+6 B 20000 1359\n",
      "Ara+6 A 30000 1843\n",
      "Ara+6 B 30000 1888\n",
      "Ara+6 A 40000 2191\n",
      "Ara+6 B 40000 2026\n",
      "Ara+6 A 50000 2562\n",
      "Ara+6 B 50000 2299\n",
      "Ara-1 A 500 3\n",
      "Ara-1 B 500 5\n",
      "Ara-1 A 1000 4\n",
      "Ara-1 B 1000 6\n",
      "Ara-1 A 1500 5\n",
      "Ara-1 B 1500 7\n",
      "Ara-1 A 2000 6\n",
      "Ara-1 B 2000 6\n",
      "Ara-1 A 5000 14\n",
      "Ara-1 B 5000 15\n",
      "Ara-1 A 10000 27\n",
      "Ara-1 B 10000 28\n",
      "Ara-1 A 15000 36\n",
      "Ara-1 B 15000 36\n",
      "Ara-1 A 20000 43\n",
      "Ara-1 B 20000 41\n",
      "Ara-1 A 30000 418\n",
      "Ara-1 B 30000 512\n",
      "Ara-1 A 40000 646\n",
      "Ara-1 B 40000 855\n",
      "Ara-1 A 50000 1092\n",
      "Ara-1 B 50000 1110\n",
      "Ara-2 A 500 2\n",
      "Ara-2 B 500 2\n",
      "Ara-2 A 1000 4\n",
      "Ara-2 B 1000 3\n",
      "Ara-2 A 1500 4\n",
      "Ara-2 B 1500 4\n",
      "Ara-2 A 2000 6\n",
      "Ara-2 B 2000 5\n",
      "Ara-2 A 5000 137\n",
      "Ara-2 B 5000 127\n",
      "Ara-2 A 10000 302\n",
      "Ara-2 B 10000 320\n",
      "Ara-2 A 15000 579\n",
      "Ara-2 B 15000 503\n",
      "Ara-2 A 20000 644\n",
      "Ara-2 B 20000 654\n",
      "Ara-2 A 30000 832\n",
      "Ara-2 B 30000 637\n",
      "Ara-2 A 40000 1047\n",
      "Ara-2 B 40000 1079\n",
      "Ara-2 A 50000 1036\n",
      "Ara-2 B 50000 1090\n",
      "Ara-3 A 500 1\n",
      "Ara-3 B 500 3\n",
      "Ara-3 A 1000 6\n",
      "Ara-3 B 1000 4\n",
      "Ara-3 A 1500 7\n",
      "Ara-3 B 1500 5\n",
      "Ara-3 A 2000 9\n",
      "Ara-3 B 2000 10\n",
      "Ara-3 A 5000 16\n",
      "Ara-3 B 5000 17\n",
      "Ara-3 A 10000 26\n",
      "Ara-3 B 10000 30\n",
      "Ara-3 A 15000 39\n",
      "Ara-3 B 15000 37\n",
      "Ara-3 A 20000 47\n",
      "Ara-3 B 20000 52\n",
      "Ara-3 A 30000 53\n",
      "Ara-3 B 30000 71\n",
      "Ara-3 A 40000 387\n",
      "Ara-3 D 40000 112\n",
      "Ara-3 A 50000 774\n",
      "Ara-3 B 50000 791\n",
      "Ara-4 A 500 2\n",
      "Ara-4 B 500 2\n",
      "Ara-4 A 1000 3\n",
      "Ara-4 B 1000 3\n",
      "Ara-4 A 1500 7\n",
      "Ara-4 B 1500 8\n",
      "Ara-4 A 2000 9\n",
      "Ara-4 B 2000 7\n",
      "Ara-4 A 5000 14\n",
      "Ara-4 B 5000 12\n",
      "Ara-4 A 10000 245\n",
      "Ara-4 B 10000 267\n",
      "Ara-4 A 15000 443\n",
      "Ara-4 B 15000 465\n",
      "Ara-4 A 20000 639\n",
      "Ara-4 B 20000 607\n",
      "Ara-4 A 30000 928\n",
      "Ara-4 B 30000 906\n",
      "Ara-4 A 40000 1133\n",
      "Ara-4 B 40000 1112\n",
      "Ara-4 A 50000 1321\n",
      "Ara-4 B 50000 1319\n",
      "Ara-5 A 500 3\n",
      "Ara-5 B 500 3\n",
      "Ara-5 A 1000 5\n",
      "Ara-5 B 1000 4\n",
      "Ara-5 A 1500 5\n",
      "Ara-5 B 1500 7\n",
      "Ara-5 A 2000 9\n",
      "Ara-5 B 2000 9\n",
      "Ara-5 A 5000 15\n",
      "Ara-5 B 5000 14\n",
      "Ara-5 A 10000 28\n",
      "Ara-5 B 10000 36\n",
      "Ara-5 A 15000 37\n",
      "Ara-5 B 15000 35\n",
      "Ara-5 A 20000 44\n",
      "Ara-5 B 20000 44\n",
      "Ara-5 A 30000 76\n",
      "Ara-5 B 30000 65\n",
      "Ara-5 A 40000 73\n",
      "Ara-5 B 40000 76\n",
      "Ara-5 A 50000 89\n",
      "Ara-5 B 50000 93\n",
      "Ara-6 A 500 3\n",
      "Ara-6 B 500 1\n",
      "Ara-6 A 1000 4\n",
      "Ara-6 B 1000 5\n",
      "Ara-6 A 1500 6\n",
      "Ara-6 B 1500 5\n",
      "Ara-6 A 2000 8\n",
      "Ara-6 B 2000 9\n",
      "Ara-6 A 5000 11\n",
      "Ara-6 B 5000 16\n",
      "Ara-6 A 10000 22\n",
      "Ara-6 B 10000 26\n",
      "Ara-6 A 15000 33\n",
      "Ara-6 B 15000 35\n",
      "Ara-6 A 20000 42\n",
      "Ara-6 B 20000 44\n",
      "Ara-6 A 30000 58\n",
      "Ara-6 B 30000 57\n",
      "Ara-6 A 40000 77\n",
      "Ara-6 B 40000 67\n",
      "Ara-6 A 50000 89\n",
      "Ara-6 B 50000 76\n"
     ]
    }
   ],
   "source": [
    "with open(data_file) as f:\n",
    "\n",
    "    reader = csv.reader(f)\n",
    "    \n",
    "    for row in reader:\n",
    "        sample, clone, generation, total_mutations = extract_column_data2(row)\n",
    "        print(sample, clone, generation, total_mutations)"
   ]
  },
  {
   "cell_type": "markdown",
   "metadata": {},
   "source": [
    "How do we store the data that we have?"
   ]
  },
  {
   "cell_type": "markdown",
   "metadata": {},
   "source": [
    "One way to do it is to save the data to a file as we extract it."
   ]
  },
  {
   "cell_type": "markdown",
   "metadata": {
    "slideshow": {
     "slide_type": "slide"
    }
   },
   "source": [
    "# Reading and Writing Files"
   ]
  },
  {
   "cell_type": "markdown",
   "metadata": {
    "slideshow": {
     "slide_type": "slide"
    }
   },
   "source": [
    "## Writing to a File"
   ]
  },
  {
   "cell_type": "code",
   "execution_count": 156,
   "metadata": {
    "collapsed": true
   },
   "outputs": [],
   "source": [
    "# We have to open a file for writing BEFORE we can write to it...\n",
    "\n",
    "output_file_handle = open(\"generation_mutation_data.txt\", \"w\")\n",
    "\n",
    "# We can also give an absolute path like /Users/username/Documents/dna.txt"
   ]
  },
  {
   "cell_type": "code",
   "execution_count": 157,
   "metadata": {
    "collapsed": false
   },
   "outputs": [],
   "source": [
    "with open(data_file) as f:\n",
    "\n",
    "    reader = csv.reader(f)\n",
    "    \n",
    "    for row in reader:\n",
    "        sample, clone, generation, total_mutations = extract_column_data2(row)\n",
    "        \n",
    "        output_file_handle.write('%s, %s, %s, %s\\n' % (sample, clone, generation, total_mutations))"
   ]
  },
  {
   "cell_type": "code",
   "execution_count": 158,
   "metadata": {
    "collapsed": false
   },
   "outputs": [
    {
     "data": {
      "text/plain": [
       "_io.TextIOWrapper"
      ]
     },
     "execution_count": 158,
     "metadata": {},
     "output_type": "execute_result"
    }
   ],
   "source": [
    "type(output_file_handle)"
   ]
  },
  {
   "cell_type": "code",
   "execution_count": 159,
   "metadata": {
    "collapsed": true
   },
   "outputs": [],
   "source": [
    "# remember to close the file\n",
    "\n",
    "output_file_handle.close()"
   ]
  },
  {
   "cell_type": "markdown",
   "metadata": {
    "slideshow": {
     "slide_type": "slide"
    }
   },
   "source": [
    "## Reading a file"
   ]
  },
  {
   "cell_type": "markdown",
   "metadata": {},
   "source": [
    "Lets se if we did in fact create a file..."
   ]
  },
  {
   "cell_type": "code",
   "execution_count": 66,
   "metadata": {
    "collapsed": false
   },
   "outputs": [
    {
     "name": "stdout",
     "output_type": "stream",
     "text": [
      "01-How to Run Python Code.ipynb      count.LTEE.final_masked.csv\r\n",
      "02-Intro to Python Programming.ipynb generation_mutation_data.txt\r\n",
      "03-Learn Python 3 in Y minutes.ipynb \u001b[34mimages\u001b[m\u001b[m\r\n",
      "\u001b[34mResources\u001b[m\u001b[m\r\n"
     ]
    }
   ],
   "source": [
    "    !ls"
   ]
  },
  {
   "cell_type": "code",
   "execution_count": 160,
   "metadata": {
    "collapsed": false
   },
   "outputs": [
    {
     "name": "stdout",
     "output_type": "stream",
     "text": [
      "population, clone, time, total\r\n",
      "Ara+1, A, 500, 4\r\n",
      "Ara+1, B, 500, 3\r\n",
      "Ara+1, A, 1000, 4\r\n",
      "Ara+1, B, 1000, 2\r\n",
      "Ara+1, A, 1500, 7\r\n",
      "Ara+1, B, 1500, 6\r\n",
      "Ara+1, A, 2000, 8\r\n",
      "Ara+1, B, 2000, 9\r\n",
      "Ara+1, A, 5000, 23\r\n",
      "Ara+1, B, 5000, 20\r\n",
      "Ara+1, A, 10000, 38\r\n",
      "Ara+1, B, 10000, 36\r\n",
      "Ara+1, A, 15000, 53\r\n",
      "Ara+1, B, 15000, 53\r\n",
      "Ara+1, A, 20000, 62\r\n",
      "Ara+1, B, 20000, 62\r\n",
      "Ara+1, A, 30000, 91\r\n",
      "Ara+1, B, 30000, 87\r\n",
      "Ara+1, A, 40000, 104\r\n",
      "Ara+1, B, 40000, 108\r\n",
      "Ara+1, A, 50000, 122\r\n",
      "Ara+1, B, 50000, 126\r\n",
      "Ara+2, A, 500, 2\r\n",
      "Ara+2, B, 500, 2\r\n",
      "Ara+2, A, 1000, 4\r\n",
      "Ara+2, B, 1000, 4\r\n",
      "Ara+2, A, 1500, 5\r\n",
      "Ara+2, B, 1500, 6\r\n",
      "Ara+2, A, 2000, 8\r\n",
      "Ara+2, B, 2000, 9\r\n",
      "Ara+2, A, 5000, 12\r\n",
      "Ara+2, B, 5000, 11\r\n",
      "Ara+2, A, 10000, 23\r\n",
      "Ara+2, B, 10000, 25\r\n",
      "Ara+2, A, 15000, 31\r\n",
      "Ara+2, B, 15000, 33\r\n",
      "Ara+2, A, 20000, 38\r\n",
      "Ara+2, B, 20000, 35\r\n",
      "Ara+2, A, 30000, 47\r\n",
      "Ara+2, B, 30000, 48\r\n",
      "Ara+2, A, 40000, 59\r\n",
      "Ara+2, B, 40000, 55\r\n",
      "Ara+2, A, 50000, 68\r\n",
      "Ara+2, B, 50000, 68\r\n",
      "Ara+3, A, 500, 2\r\n",
      "Ara+3, B, 500, 3\r\n",
      "Ara+3, A, 1000, 4\r\n",
      "Ara+3, B, 1000, 4\r\n",
      "Ara+3, A, 1500, 6\r\n",
      "Ara+3, B, 1500, 6\r\n",
      "Ara+3, A, 2000, 8\r\n",
      "Ara+3, B, 2000, 10\r\n",
      "Ara+3, A, 5000, 147\r\n",
      "Ara+3, B, 5000, 152\r\n",
      "Ara+3, A, 10000, 331\r\n",
      "Ara+3, B, 10000, 376\r\n",
      "Ara+3, A, 15000, 655\r\n",
      "Ara+3, B, 15000, 646\r\n",
      "Ara+3, A, 20000, 875\r\n",
      "Ara+3, B, 20000, 873\r\n",
      "Ara+3, A, 30000, 1133\r\n",
      "Ara+3, B, 30000, 1148\r\n",
      "Ara+3, A, 40000, 1537\r\n",
      "Ara+3, B, 40000, 1542\r\n",
      "Ara+3, A, 50000, 1734\r\n",
      "Ara+3, B, 50000, 1648\r\n",
      "Ara+4, A, 500, 2\r\n",
      "Ara+4, B, 500, 3\r\n",
      "Ara+4, A, 1000, 2\r\n",
      "Ara+4, B, 1000, 4\r\n",
      "Ara+4, A, 1500, 7\r\n",
      "Ara+4, B, 1500, 9\r\n",
      "Ara+4, A, 2000, 6\r\n",
      "Ara+4, B, 2000, 6\r\n",
      "Ara+4, A, 5000, 11\r\n",
      "Ara+4, B, 5000, 8\r\n",
      "Ara+4, A, 10000, 21\r\n",
      "Ara+4, B, 10000, 21\r\n",
      "Ara+4, A, 15000, 27\r\n",
      "Ara+4, B, 15000, 27\r\n",
      "Ara+4, A, 20000, 40\r\n",
      "Ara+4, B, 20000, 36\r\n",
      "Ara+4, A, 30000, 44\r\n",
      "Ara+4, B, 30000, 42\r\n",
      "Ara+4, A, 40000, 54\r\n",
      "Ara+4, B, 40000, 54\r\n",
      "Ara+4, A, 50000, 69\r\n",
      "Ara+4, B, 50000, 68\r\n",
      "Ara+5, A, 500, 2\r\n",
      "Ara+5, B, 500, 2\r\n",
      "Ara+5, A, 1000, 5\r\n",
      "Ara+5, B, 1000, 3\r\n",
      "Ara+5, A, 1500, 5\r\n",
      "Ara+5, B, 1500, 4\r\n",
      "Ara+5, A, 2000, 7\r\n",
      "Ara+5, B, 2000, 6\r\n",
      "Ara+5, A, 5000, 15\r\n",
      "Ara+5, B, 5000, 11\r\n",
      "Ara+5, A, 10000, 20\r\n",
      "Ara+5, B, 10000, 17\r\n",
      "Ara+5, A, 15000, 30\r\n",
      "Ara+5, B, 15000, 31\r\n",
      "Ara+5, A, 20000, 33\r\n",
      "Ara+5, B, 20000, 32\r\n",
      "Ara+5, A, 30000, 51\r\n",
      "Ara+5, B, 30000, 52\r\n",
      "Ara+5, A, 40000, 65\r\n",
      "Ara+5, B, 40000, 68\r\n",
      "Ara+5, A, 50000, 78\r\n",
      "Ara+5, B, 50000, 77\r\n",
      "Ara+6, A, 500, 2\r\n",
      "Ara+6, B, 500, 2\r\n",
      "Ara+6, A, 1000, 4\r\n",
      "Ara+6, B, 1000, 3\r\n",
      "Ara+6, A, 1500, 4\r\n",
      "Ara+6, B, 1500, 6\r\n",
      "Ara+6, A, 2000, 5\r\n",
      "Ara+6, B, 2000, 5\r\n",
      "Ara+6, A, 5000, 8\r\n",
      "Ara+6, B, 5000, 10\r\n",
      "Ara+6, A, 10000, 599\r\n",
      "Ara+6, B, 10000, 680\r\n",
      "Ara+6, A, 15000, 995\r\n",
      "Ara+6, B, 15000, 1002\r\n",
      "Ara+6, A, 20000, 1238\r\n",
      "Ara+6, B, 20000, 1359\r\n",
      "Ara+6, A, 30000, 1843\r\n",
      "Ara+6, B, 30000, 1888\r\n",
      "Ara+6, A, 40000, 2191\r\n",
      "Ara+6, B, 40000, 2026\r\n",
      "Ara+6, A, 50000, 2562\r\n",
      "Ara+6, B, 50000, 2299\r\n",
      "Ara-1, A, 500, 3\r\n",
      "Ara-1, B, 500, 5\r\n",
      "Ara-1, A, 1000, 4\r\n",
      "Ara-1, B, 1000, 6\r\n",
      "Ara-1, A, 1500, 5\r\n",
      "Ara-1, B, 1500, 7\r\n",
      "Ara-1, A, 2000, 6\r\n",
      "Ara-1, B, 2000, 6\r\n",
      "Ara-1, A, 5000, 14\r\n",
      "Ara-1, B, 5000, 15\r\n",
      "Ara-1, A, 10000, 27\r\n",
      "Ara-1, B, 10000, 28\r\n",
      "Ara-1, A, 15000, 36\r\n",
      "Ara-1, B, 15000, 36\r\n",
      "Ara-1, A, 20000, 43\r\n",
      "Ara-1, B, 20000, 41\r\n",
      "Ara-1, A, 30000, 418\r\n",
      "Ara-1, B, 30000, 512\r\n",
      "Ara-1, A, 40000, 646\r\n",
      "Ara-1, B, 40000, 855\r\n",
      "Ara-1, A, 50000, 1092\r\n",
      "Ara-1, B, 50000, 1110\r\n",
      "Ara-2, A, 500, 2\r\n",
      "Ara-2, B, 500, 2\r\n",
      "Ara-2, A, 1000, 4\r\n",
      "Ara-2, B, 1000, 3\r\n",
      "Ara-2, A, 1500, 4\r\n",
      "Ara-2, B, 1500, 4\r\n",
      "Ara-2, A, 2000, 6\r\n",
      "Ara-2, B, 2000, 5\r\n",
      "Ara-2, A, 5000, 137\r\n",
      "Ara-2, B, 5000, 127\r\n",
      "Ara-2, A, 10000, 302\r\n",
      "Ara-2, B, 10000, 320\r\n",
      "Ara-2, A, 15000, 579\r\n",
      "Ara-2, B, 15000, 503\r\n",
      "Ara-2, A, 20000, 644\r\n",
      "Ara-2, B, 20000, 654\r\n",
      "Ara-2, A, 30000, 832\r\n",
      "Ara-2, B, 30000, 637\r\n",
      "Ara-2, A, 40000, 1047\r\n",
      "Ara-2, B, 40000, 1079\r\n",
      "Ara-2, A, 50000, 1036\r\n",
      "Ara-2, B, 50000, 1090\r\n",
      "Ara-3, A, 500, 1\r\n",
      "Ara-3, B, 500, 3\r\n",
      "Ara-3, A, 1000, 6\r\n",
      "Ara-3, B, 1000, 4\r\n",
      "Ara-3, A, 1500, 7\r\n",
      "Ara-3, B, 1500, 5\r\n",
      "Ara-3, A, 2000, 9\r\n",
      "Ara-3, B, 2000, 10\r\n",
      "Ara-3, A, 5000, 16\r\n",
      "Ara-3, B, 5000, 17\r\n",
      "Ara-3, A, 10000, 26\r\n",
      "Ara-3, B, 10000, 30\r\n",
      "Ara-3, A, 15000, 39\r\n",
      "Ara-3, B, 15000, 37\r\n",
      "Ara-3, A, 20000, 47\r\n",
      "Ara-3, B, 20000, 52\r\n",
      "Ara-3, A, 30000, 53\r\n",
      "Ara-3, B, 30000, 71\r\n",
      "Ara-3, A, 40000, 387\r\n",
      "Ara-3, D, 40000, 112\r\n",
      "Ara-3, A, 50000, 774\r\n",
      "Ara-3, B, 50000, 791\r\n",
      "Ara-4, A, 500, 2\r\n",
      "Ara-4, B, 500, 2\r\n",
      "Ara-4, A, 1000, 3\r\n",
      "Ara-4, B, 1000, 3\r\n",
      "Ara-4, A, 1500, 7\r\n",
      "Ara-4, B, 1500, 8\r\n",
      "Ara-4, A, 2000, 9\r\n",
      "Ara-4, B, 2000, 7\r\n",
      "Ara-4, A, 5000, 14\r\n",
      "Ara-4, B, 5000, 12\r\n",
      "Ara-4, A, 10000, 245\r\n",
      "Ara-4, B, 10000, 267\r\n",
      "Ara-4, A, 15000, 443\r\n",
      "Ara-4, B, 15000, 465\r\n",
      "Ara-4, A, 20000, 639\r\n",
      "Ara-4, B, 20000, 607\r\n",
      "Ara-4, A, 30000, 928\r\n",
      "Ara-4, B, 30000, 906\r\n",
      "Ara-4, A, 40000, 1133\r\n",
      "Ara-4, B, 40000, 1112\r\n",
      "Ara-4, A, 50000, 1321\r\n",
      "Ara-4, B, 50000, 1319\r\n",
      "Ara-5, A, 500, 3\r\n",
      "Ara-5, B, 500, 3\r\n",
      "Ara-5, A, 1000, 5\r\n",
      "Ara-5, B, 1000, 4\r\n",
      "Ara-5, A, 1500, 5\r\n",
      "Ara-5, B, 1500, 7\r\n",
      "Ara-5, A, 2000, 9\r\n",
      "Ara-5, B, 2000, 9\r\n",
      "Ara-5, A, 5000, 15\r\n",
      "Ara-5, B, 5000, 14\r\n",
      "Ara-5, A, 10000, 28\r\n",
      "Ara-5, B, 10000, 36\r\n",
      "Ara-5, A, 15000, 37\r\n",
      "Ara-5, B, 15000, 35\r\n",
      "Ara-5, A, 20000, 44\r\n",
      "Ara-5, B, 20000, 44\r\n",
      "Ara-5, A, 30000, 76\r\n",
      "Ara-5, B, 30000, 65\r\n",
      "Ara-5, A, 40000, 73\r\n",
      "Ara-5, B, 40000, 76\r\n",
      "Ara-5, A, 50000, 89\r\n",
      "Ara-5, B, 50000, 93\r\n",
      "Ara-6, A, 500, 3\r\n",
      "Ara-6, B, 500, 1\r\n",
      "Ara-6, A, 1000, 4\r\n",
      "Ara-6, B, 1000, 5\r\n",
      "Ara-6, A, 1500, 6\r\n",
      "Ara-6, B, 1500, 5\r\n",
      "Ara-6, A, 2000, 8\r\n",
      "Ara-6, B, 2000, 9\r\n",
      "Ara-6, A, 5000, 11\r\n",
      "Ara-6, B, 5000, 16\r\n",
      "Ara-6, A, 10000, 22\r\n",
      "Ara-6, B, 10000, 26\r\n",
      "Ara-6, A, 15000, 33\r\n",
      "Ara-6, B, 15000, 35\r\n",
      "Ara-6, A, 20000, 42\r\n",
      "Ara-6, B, 20000, 44\r\n",
      "Ara-6, A, 30000, 58\r\n",
      "Ara-6, B, 30000, 57\r\n",
      "Ara-6, A, 40000, 77\r\n",
      "Ara-6, B, 40000, 67\r\n",
      "Ara-6, A, 50000, 89\r\n",
      "Ara-6, B, 50000, 76\r\n"
     ]
    }
   ],
   "source": [
    "    !cat generation_mutation_data.txt"
   ]
  },
  {
   "cell_type": "code",
   "execution_count": 161,
   "metadata": {
    "collapsed": false,
    "slideshow": {
     "slide_type": "fragment"
    }
   },
   "outputs": [
    {
     "name": "stdout",
     "output_type": "stream",
     "text": [
      "population, clone, time, total\n",
      "Ara+1, A, 500, 4\n",
      "Ara+1, B, 500, 3\n",
      "Ara+1, A, 1000, 4\n",
      "Ara+1, B, 1000, 2\n",
      "Ara+1, A, 1500, 7\n",
      "Ara+1, B, 1500, 6\n",
      "Ara+1, A, 2000, 8\n",
      "Ara+1, B, 2000, 9\n",
      "Ara+1, A, 5000, 23\n",
      "Ara+1, B, 5000, 20\n",
      "Ara+1, A, 10000, 38\n",
      "Ara+1, B, 10000, 36\n",
      "Ara+1, A, 15000, 53\n",
      "Ara+1, B, 15000, 53\n",
      "Ara+1, A, 20000, 62\n",
      "Ara+1, B, 20000, 62\n",
      "Ara+1, A, 30000, 91\n",
      "Ara+1, B, 30000, 87\n",
      "Ara+1, A, 40000, 104\n",
      "Ara+1, B, 40000, 108\n",
      "Ara+1, A, 50000, 122\n",
      "Ara+1, B, 50000, 126\n",
      "Ara+2, A, 500, 2\n",
      "Ara+2, B, 500, 2\n",
      "Ara+2, A, 1000, 4\n",
      "Ara+2, B, 1000, 4\n",
      "Ara+2, A, 1500, 5\n",
      "Ara+2, B, 1500, 6\n",
      "Ara+2, A, 2000, 8\n",
      "Ara+2, B, 2000, 9\n",
      "Ara+2, A, 5000, 12\n",
      "Ara+2, B, 5000, 11\n",
      "Ara+2, A, 10000, 23\n",
      "Ara+2, B, 10000, 25\n",
      "Ara+2, A, 15000, 31\n",
      "Ara+2, B, 15000, 33\n",
      "Ara+2, A, 20000, 38\n",
      "Ara+2, B, 20000, 35\n",
      "Ara+2, A, 30000, 47\n",
      "Ara+2, B, 30000, 48\n",
      "Ara+2, A, 40000, 59\n",
      "Ara+2, B, 40000, 55\n",
      "Ara+2, A, 50000, 68\n",
      "Ara+2, B, 50000, 68\n",
      "Ara+3, A, 500, 2\n",
      "Ara+3, B, 500, 3\n",
      "Ara+3, A, 1000, 4\n",
      "Ara+3, B, 1000, 4\n",
      "Ara+3, A, 1500, 6\n",
      "Ara+3, B, 1500, 6\n",
      "Ara+3, A, 2000, 8\n",
      "Ara+3, B, 2000, 10\n",
      "Ara+3, A, 5000, 147\n",
      "Ara+3, B, 5000, 152\n",
      "Ara+3, A, 10000, 331\n",
      "Ara+3, B, 10000, 376\n",
      "Ara+3, A, 15000, 655\n",
      "Ara+3, B, 15000, 646\n",
      "Ara+3, A, 20000, 875\n",
      "Ara+3, B, 20000, 873\n",
      "Ara+3, A, 30000, 1133\n",
      "Ara+3, B, 30000, 1148\n",
      "Ara+3, A, 40000, 1537\n",
      "Ara+3, B, 40000, 1542\n",
      "Ara+3, A, 50000, 1734\n",
      "Ara+3, B, 50000, 1648\n",
      "Ara+4, A, 500, 2\n",
      "Ara+4, B, 500, 3\n",
      "Ara+4, A, 1000, 2\n",
      "Ara+4, B, 1000, 4\n",
      "Ara+4, A, 1500, 7\n",
      "Ara+4, B, 1500, 9\n",
      "Ara+4, A, 2000, 6\n",
      "Ara+4, B, 2000, 6\n",
      "Ara+4, A, 5000, 11\n",
      "Ara+4, B, 5000, 8\n",
      "Ara+4, A, 10000, 21\n",
      "Ara+4, B, 10000, 21\n",
      "Ara+4, A, 15000, 27\n",
      "Ara+4, B, 15000, 27\n",
      "Ara+4, A, 20000, 40\n",
      "Ara+4, B, 20000, 36\n",
      "Ara+4, A, 30000, 44\n",
      "Ara+4, B, 30000, 42\n",
      "Ara+4, A, 40000, 54\n",
      "Ara+4, B, 40000, 54\n",
      "Ara+4, A, 50000, 69\n",
      "Ara+4, B, 50000, 68\n",
      "Ara+5, A, 500, 2\n",
      "Ara+5, B, 500, 2\n",
      "Ara+5, A, 1000, 5\n",
      "Ara+5, B, 1000, 3\n",
      "Ara+5, A, 1500, 5\n",
      "Ara+5, B, 1500, 4\n",
      "Ara+5, A, 2000, 7\n",
      "Ara+5, B, 2000, 6\n",
      "Ara+5, A, 5000, 15\n",
      "Ara+5, B, 5000, 11\n",
      "Ara+5, A, 10000, 20\n",
      "Ara+5, B, 10000, 17\n",
      "Ara+5, A, 15000, 30\n",
      "Ara+5, B, 15000, 31\n",
      "Ara+5, A, 20000, 33\n",
      "Ara+5, B, 20000, 32\n",
      "Ara+5, A, 30000, 51\n",
      "Ara+5, B, 30000, 52\n",
      "Ara+5, A, 40000, 65\n",
      "Ara+5, B, 40000, 68\n",
      "Ara+5, A, 50000, 78\n",
      "Ara+5, B, 50000, 77\n",
      "Ara+6, A, 500, 2\n",
      "Ara+6, B, 500, 2\n",
      "Ara+6, A, 1000, 4\n",
      "Ara+6, B, 1000, 3\n",
      "Ara+6, A, 1500, 4\n",
      "Ara+6, B, 1500, 6\n",
      "Ara+6, A, 2000, 5\n",
      "Ara+6, B, 2000, 5\n",
      "Ara+6, A, 5000, 8\n",
      "Ara+6, B, 5000, 10\n",
      "Ara+6, A, 10000, 599\n",
      "Ara+6, B, 10000, 680\n",
      "Ara+6, A, 15000, 995\n",
      "Ara+6, B, 15000, 1002\n",
      "Ara+6, A, 20000, 1238\n",
      "Ara+6, B, 20000, 1359\n",
      "Ara+6, A, 30000, 1843\n",
      "Ara+6, B, 30000, 1888\n",
      "Ara+6, A, 40000, 2191\n",
      "Ara+6, B, 40000, 2026\n",
      "Ara+6, A, 50000, 2562\n",
      "Ara+6, B, 50000, 2299\n",
      "Ara-1, A, 500, 3\n",
      "Ara-1, B, 500, 5\n",
      "Ara-1, A, 1000, 4\n",
      "Ara-1, B, 1000, 6\n",
      "Ara-1, A, 1500, 5\n",
      "Ara-1, B, 1500, 7\n",
      "Ara-1, A, 2000, 6\n",
      "Ara-1, B, 2000, 6\n",
      "Ara-1, A, 5000, 14\n",
      "Ara-1, B, 5000, 15\n",
      "Ara-1, A, 10000, 27\n",
      "Ara-1, B, 10000, 28\n",
      "Ara-1, A, 15000, 36\n",
      "Ara-1, B, 15000, 36\n",
      "Ara-1, A, 20000, 43\n",
      "Ara-1, B, 20000, 41\n",
      "Ara-1, A, 30000, 418\n",
      "Ara-1, B, 30000, 512\n",
      "Ara-1, A, 40000, 646\n",
      "Ara-1, B, 40000, 855\n",
      "Ara-1, A, 50000, 1092\n",
      "Ara-1, B, 50000, 1110\n",
      "Ara-2, A, 500, 2\n",
      "Ara-2, B, 500, 2\n",
      "Ara-2, A, 1000, 4\n",
      "Ara-2, B, 1000, 3\n",
      "Ara-2, A, 1500, 4\n",
      "Ara-2, B, 1500, 4\n",
      "Ara-2, A, 2000, 6\n",
      "Ara-2, B, 2000, 5\n",
      "Ara-2, A, 5000, 137\n",
      "Ara-2, B, 5000, 127\n",
      "Ara-2, A, 10000, 302\n",
      "Ara-2, B, 10000, 320\n",
      "Ara-2, A, 15000, 579\n",
      "Ara-2, B, 15000, 503\n",
      "Ara-2, A, 20000, 644\n",
      "Ara-2, B, 20000, 654\n",
      "Ara-2, A, 30000, 832\n",
      "Ara-2, B, 30000, 637\n",
      "Ara-2, A, 40000, 1047\n",
      "Ara-2, B, 40000, 1079\n",
      "Ara-2, A, 50000, 1036\n",
      "Ara-2, B, 50000, 1090\n",
      "Ara-3, A, 500, 1\n",
      "Ara-3, B, 500, 3\n",
      "Ara-3, A, 1000, 6\n",
      "Ara-3, B, 1000, 4\n",
      "Ara-3, A, 1500, 7\n",
      "Ara-3, B, 1500, 5\n",
      "Ara-3, A, 2000, 9\n",
      "Ara-3, B, 2000, 10\n",
      "Ara-3, A, 5000, 16\n",
      "Ara-3, B, 5000, 17\n",
      "Ara-3, A, 10000, 26\n",
      "Ara-3, B, 10000, 30\n",
      "Ara-3, A, 15000, 39\n",
      "Ara-3, B, 15000, 37\n",
      "Ara-3, A, 20000, 47\n",
      "Ara-3, B, 20000, 52\n",
      "Ara-3, A, 30000, 53\n",
      "Ara-3, B, 30000, 71\n",
      "Ara-3, A, 40000, 387\n",
      "Ara-3, D, 40000, 112\n",
      "Ara-3, A, 50000, 774\n",
      "Ara-3, B, 50000, 791\n",
      "Ara-4, A, 500, 2\n",
      "Ara-4, B, 500, 2\n",
      "Ara-4, A, 1000, 3\n",
      "Ara-4, B, 1000, 3\n",
      "Ara-4, A, 1500, 7\n",
      "Ara-4, B, 1500, 8\n",
      "Ara-4, A, 2000, 9\n",
      "Ara-4, B, 2000, 7\n",
      "Ara-4, A, 5000, 14\n",
      "Ara-4, B, 5000, 12\n",
      "Ara-4, A, 10000, 245\n",
      "Ara-4, B, 10000, 267\n",
      "Ara-4, A, 15000, 443\n",
      "Ara-4, B, 15000, 465\n",
      "Ara-4, A, 20000, 639\n",
      "Ara-4, B, 20000, 607\n",
      "Ara-4, A, 30000, 928\n",
      "Ara-4, B, 30000, 906\n",
      "Ara-4, A, 40000, 1133\n",
      "Ara-4, B, 40000, 1112\n",
      "Ara-4, A, 50000, 1321\n",
      "Ara-4, B, 50000, 1319\n",
      "Ara-5, A, 500, 3\n",
      "Ara-5, B, 500, 3\n",
      "Ara-5, A, 1000, 5\n",
      "Ara-5, B, 1000, 4\n",
      "Ara-5, A, 1500, 5\n",
      "Ara-5, B, 1500, 7\n",
      "Ara-5, A, 2000, 9\n",
      "Ara-5, B, 2000, 9\n",
      "Ara-5, A, 5000, 15\n",
      "Ara-5, B, 5000, 14\n",
      "Ara-5, A, 10000, 28\n",
      "Ara-5, B, 10000, 36\n",
      "Ara-5, A, 15000, 37\n",
      "Ara-5, B, 15000, 35\n",
      "Ara-5, A, 20000, 44\n",
      "Ara-5, B, 20000, 44\n",
      "Ara-5, A, 30000, 76\n",
      "Ara-5, B, 30000, 65\n",
      "Ara-5, A, 40000, 73\n",
      "Ara-5, B, 40000, 76\n",
      "Ara-5, A, 50000, 89\n",
      "Ara-5, B, 50000, 93\n",
      "Ara-6, A, 500, 3\n",
      "Ara-6, B, 500, 1\n",
      "Ara-6, A, 1000, 4\n",
      "Ara-6, B, 1000, 5\n",
      "Ara-6, A, 1500, 6\n",
      "Ara-6, B, 1500, 5\n",
      "Ara-6, A, 2000, 8\n",
      "Ara-6, B, 2000, 9\n",
      "Ara-6, A, 5000, 11\n",
      "Ara-6, B, 5000, 16\n",
      "Ara-6, A, 10000, 22\n",
      "Ara-6, B, 10000, 26\n",
      "Ara-6, A, 15000, 33\n",
      "Ara-6, B, 15000, 35\n",
      "Ara-6, A, 20000, 42\n",
      "Ara-6, B, 20000, 44\n",
      "Ara-6, A, 30000, 58\n",
      "Ara-6, B, 30000, 57\n",
      "Ara-6, A, 40000, 77\n",
      "Ara-6, B, 40000, 67\n",
      "Ara-6, A, 50000, 89\n",
      "Ara-6, B, 50000, 76\n",
      "\n"
     ]
    }
   ],
   "source": [
    "output_file_handle = open(\"generation_mutation_data.txt\", \"r\")\n",
    "\n",
    "output_file_contents = output_file_handle.read()\n",
    "\n",
    "print(output_file_contents)\n",
    "\n",
    "# remember to close the file\n",
    "\n",
    "output_file_handle.close()"
   ]
  },
  {
   "cell_type": "markdown",
   "metadata": {
    "slideshow": {
     "slide_type": "slide"
    }
   },
   "source": [
    "## Looping through File, Line by Line"
   ]
  },
  {
   "cell_type": "markdown",
   "metadata": {
    "slideshow": {
     "slide_type": "fragment"
    }
   },
   "source": [
    "In a new cell below type, and run:"
   ]
  },
  {
   "cell_type": "code",
   "execution_count": 162,
   "metadata": {
    "collapsed": false,
    "slideshow": {
     "slide_type": "fragment"
    }
   },
   "outputs": [
    {
     "name": "stdout",
     "output_type": "stream",
     "text": [
      "population, clone, time, total\n",
      "\n",
      "Ara+1, A, 500, 4\n",
      "\n",
      "Ara+1, B, 500, 3\n",
      "\n",
      "Ara+1, A, 1000, 4\n",
      "\n",
      "Ara+1, B, 1000, 2\n",
      "\n",
      "Ara+1, A, 1500, 7\n",
      "\n",
      "Ara+1, B, 1500, 6\n",
      "\n",
      "Ara+1, A, 2000, 8\n",
      "\n",
      "Ara+1, B, 2000, 9\n",
      "\n",
      "Ara+1, A, 5000, 23\n",
      "\n",
      "Ara+1, B, 5000, 20\n",
      "\n",
      "Ara+1, A, 10000, 38\n",
      "\n",
      "Ara+1, B, 10000, 36\n",
      "\n",
      "Ara+1, A, 15000, 53\n",
      "\n",
      "Ara+1, B, 15000, 53\n",
      "\n",
      "Ara+1, A, 20000, 62\n",
      "\n",
      "Ara+1, B, 20000, 62\n",
      "\n",
      "Ara+1, A, 30000, 91\n",
      "\n",
      "Ara+1, B, 30000, 87\n",
      "\n",
      "Ara+1, A, 40000, 104\n",
      "\n",
      "Ara+1, B, 40000, 108\n",
      "\n",
      "Ara+1, A, 50000, 122\n",
      "\n",
      "Ara+1, B, 50000, 126\n",
      "\n",
      "Ara+2, A, 500, 2\n",
      "\n",
      "Ara+2, B, 500, 2\n",
      "\n",
      "Ara+2, A, 1000, 4\n",
      "\n",
      "Ara+2, B, 1000, 4\n",
      "\n",
      "Ara+2, A, 1500, 5\n",
      "\n",
      "Ara+2, B, 1500, 6\n",
      "\n",
      "Ara+2, A, 2000, 8\n",
      "\n",
      "Ara+2, B, 2000, 9\n",
      "\n",
      "Ara+2, A, 5000, 12\n",
      "\n",
      "Ara+2, B, 5000, 11\n",
      "\n",
      "Ara+2, A, 10000, 23\n",
      "\n",
      "Ara+2, B, 10000, 25\n",
      "\n",
      "Ara+2, A, 15000, 31\n",
      "\n",
      "Ara+2, B, 15000, 33\n",
      "\n",
      "Ara+2, A, 20000, 38\n",
      "\n",
      "Ara+2, B, 20000, 35\n",
      "\n",
      "Ara+2, A, 30000, 47\n",
      "\n",
      "Ara+2, B, 30000, 48\n",
      "\n",
      "Ara+2, A, 40000, 59\n",
      "\n",
      "Ara+2, B, 40000, 55\n",
      "\n",
      "Ara+2, A, 50000, 68\n",
      "\n",
      "Ara+2, B, 50000, 68\n",
      "\n",
      "Ara+3, A, 500, 2\n",
      "\n",
      "Ara+3, B, 500, 3\n",
      "\n",
      "Ara+3, A, 1000, 4\n",
      "\n",
      "Ara+3, B, 1000, 4\n",
      "\n",
      "Ara+3, A, 1500, 6\n",
      "\n",
      "Ara+3, B, 1500, 6\n",
      "\n",
      "Ara+3, A, 2000, 8\n",
      "\n",
      "Ara+3, B, 2000, 10\n",
      "\n",
      "Ara+3, A, 5000, 147\n",
      "\n",
      "Ara+3, B, 5000, 152\n",
      "\n",
      "Ara+3, A, 10000, 331\n",
      "\n",
      "Ara+3, B, 10000, 376\n",
      "\n",
      "Ara+3, A, 15000, 655\n",
      "\n",
      "Ara+3, B, 15000, 646\n",
      "\n",
      "Ara+3, A, 20000, 875\n",
      "\n",
      "Ara+3, B, 20000, 873\n",
      "\n",
      "Ara+3, A, 30000, 1133\n",
      "\n",
      "Ara+3, B, 30000, 1148\n",
      "\n",
      "Ara+3, A, 40000, 1537\n",
      "\n",
      "Ara+3, B, 40000, 1542\n",
      "\n",
      "Ara+3, A, 50000, 1734\n",
      "\n",
      "Ara+3, B, 50000, 1648\n",
      "\n",
      "Ara+4, A, 500, 2\n",
      "\n",
      "Ara+4, B, 500, 3\n",
      "\n",
      "Ara+4, A, 1000, 2\n",
      "\n",
      "Ara+4, B, 1000, 4\n",
      "\n",
      "Ara+4, A, 1500, 7\n",
      "\n",
      "Ara+4, B, 1500, 9\n",
      "\n",
      "Ara+4, A, 2000, 6\n",
      "\n",
      "Ara+4, B, 2000, 6\n",
      "\n",
      "Ara+4, A, 5000, 11\n",
      "\n",
      "Ara+4, B, 5000, 8\n",
      "\n",
      "Ara+4, A, 10000, 21\n",
      "\n",
      "Ara+4, B, 10000, 21\n",
      "\n",
      "Ara+4, A, 15000, 27\n",
      "\n",
      "Ara+4, B, 15000, 27\n",
      "\n",
      "Ara+4, A, 20000, 40\n",
      "\n",
      "Ara+4, B, 20000, 36\n",
      "\n",
      "Ara+4, A, 30000, 44\n",
      "\n",
      "Ara+4, B, 30000, 42\n",
      "\n",
      "Ara+4, A, 40000, 54\n",
      "\n",
      "Ara+4, B, 40000, 54\n",
      "\n",
      "Ara+4, A, 50000, 69\n",
      "\n",
      "Ara+4, B, 50000, 68\n",
      "\n",
      "Ara+5, A, 500, 2\n",
      "\n",
      "Ara+5, B, 500, 2\n",
      "\n",
      "Ara+5, A, 1000, 5\n",
      "\n",
      "Ara+5, B, 1000, 3\n",
      "\n",
      "Ara+5, A, 1500, 5\n",
      "\n",
      "Ara+5, B, 1500, 4\n",
      "\n",
      "Ara+5, A, 2000, 7\n",
      "\n",
      "Ara+5, B, 2000, 6\n",
      "\n",
      "Ara+5, A, 5000, 15\n",
      "\n",
      "Ara+5, B, 5000, 11\n",
      "\n",
      "Ara+5, A, 10000, 20\n",
      "\n",
      "Ara+5, B, 10000, 17\n",
      "\n",
      "Ara+5, A, 15000, 30\n",
      "\n",
      "Ara+5, B, 15000, 31\n",
      "\n",
      "Ara+5, A, 20000, 33\n",
      "\n",
      "Ara+5, B, 20000, 32\n",
      "\n",
      "Ara+5, A, 30000, 51\n",
      "\n",
      "Ara+5, B, 30000, 52\n",
      "\n",
      "Ara+5, A, 40000, 65\n",
      "\n",
      "Ara+5, B, 40000, 68\n",
      "\n",
      "Ara+5, A, 50000, 78\n",
      "\n",
      "Ara+5, B, 50000, 77\n",
      "\n",
      "Ara+6, A, 500, 2\n",
      "\n",
      "Ara+6, B, 500, 2\n",
      "\n",
      "Ara+6, A, 1000, 4\n",
      "\n",
      "Ara+6, B, 1000, 3\n",
      "\n",
      "Ara+6, A, 1500, 4\n",
      "\n",
      "Ara+6, B, 1500, 6\n",
      "\n",
      "Ara+6, A, 2000, 5\n",
      "\n",
      "Ara+6, B, 2000, 5\n",
      "\n",
      "Ara+6, A, 5000, 8\n",
      "\n",
      "Ara+6, B, 5000, 10\n",
      "\n",
      "Ara+6, A, 10000, 599\n",
      "\n",
      "Ara+6, B, 10000, 680\n",
      "\n",
      "Ara+6, A, 15000, 995\n",
      "\n",
      "Ara+6, B, 15000, 1002\n",
      "\n",
      "Ara+6, A, 20000, 1238\n",
      "\n",
      "Ara+6, B, 20000, 1359\n",
      "\n",
      "Ara+6, A, 30000, 1843\n",
      "\n",
      "Ara+6, B, 30000, 1888\n",
      "\n",
      "Ara+6, A, 40000, 2191\n",
      "\n",
      "Ara+6, B, 40000, 2026\n",
      "\n",
      "Ara+6, A, 50000, 2562\n",
      "\n",
      "Ara+6, B, 50000, 2299\n",
      "\n",
      "Ara-1, A, 500, 3\n",
      "\n",
      "Ara-1, B, 500, 5\n",
      "\n",
      "Ara-1, A, 1000, 4\n",
      "\n",
      "Ara-1, B, 1000, 6\n",
      "\n",
      "Ara-1, A, 1500, 5\n",
      "\n",
      "Ara-1, B, 1500, 7\n",
      "\n",
      "Ara-1, A, 2000, 6\n",
      "\n",
      "Ara-1, B, 2000, 6\n",
      "\n",
      "Ara-1, A, 5000, 14\n",
      "\n",
      "Ara-1, B, 5000, 15\n",
      "\n",
      "Ara-1, A, 10000, 27\n",
      "\n",
      "Ara-1, B, 10000, 28\n",
      "\n",
      "Ara-1, A, 15000, 36\n",
      "\n",
      "Ara-1, B, 15000, 36\n",
      "\n",
      "Ara-1, A, 20000, 43\n",
      "\n",
      "Ara-1, B, 20000, 41\n",
      "\n",
      "Ara-1, A, 30000, 418\n",
      "\n",
      "Ara-1, B, 30000, 512\n",
      "\n",
      "Ara-1, A, 40000, 646\n",
      "\n",
      "Ara-1, B, 40000, 855\n",
      "\n",
      "Ara-1, A, 50000, 1092\n",
      "\n",
      "Ara-1, B, 50000, 1110\n",
      "\n",
      "Ara-2, A, 500, 2\n",
      "\n",
      "Ara-2, B, 500, 2\n",
      "\n",
      "Ara-2, A, 1000, 4\n",
      "\n",
      "Ara-2, B, 1000, 3\n",
      "\n",
      "Ara-2, A, 1500, 4\n",
      "\n",
      "Ara-2, B, 1500, 4\n",
      "\n",
      "Ara-2, A, 2000, 6\n",
      "\n",
      "Ara-2, B, 2000, 5\n",
      "\n",
      "Ara-2, A, 5000, 137\n",
      "\n",
      "Ara-2, B, 5000, 127\n",
      "\n",
      "Ara-2, A, 10000, 302\n",
      "\n",
      "Ara-2, B, 10000, 320\n",
      "\n",
      "Ara-2, A, 15000, 579\n",
      "\n",
      "Ara-2, B, 15000, 503\n",
      "\n",
      "Ara-2, A, 20000, 644\n",
      "\n",
      "Ara-2, B, 20000, 654\n",
      "\n",
      "Ara-2, A, 30000, 832\n",
      "\n",
      "Ara-2, B, 30000, 637\n",
      "\n",
      "Ara-2, A, 40000, 1047\n",
      "\n",
      "Ara-2, B, 40000, 1079\n",
      "\n",
      "Ara-2, A, 50000, 1036\n",
      "\n",
      "Ara-2, B, 50000, 1090\n",
      "\n",
      "Ara-3, A, 500, 1\n",
      "\n",
      "Ara-3, B, 500, 3\n",
      "\n",
      "Ara-3, A, 1000, 6\n",
      "\n",
      "Ara-3, B, 1000, 4\n",
      "\n",
      "Ara-3, A, 1500, 7\n",
      "\n",
      "Ara-3, B, 1500, 5\n",
      "\n",
      "Ara-3, A, 2000, 9\n",
      "\n",
      "Ara-3, B, 2000, 10\n",
      "\n",
      "Ara-3, A, 5000, 16\n",
      "\n",
      "Ara-3, B, 5000, 17\n",
      "\n",
      "Ara-3, A, 10000, 26\n",
      "\n",
      "Ara-3, B, 10000, 30\n",
      "\n",
      "Ara-3, A, 15000, 39\n",
      "\n",
      "Ara-3, B, 15000, 37\n",
      "\n",
      "Ara-3, A, 20000, 47\n",
      "\n",
      "Ara-3, B, 20000, 52\n",
      "\n",
      "Ara-3, A, 30000, 53\n",
      "\n",
      "Ara-3, B, 30000, 71\n",
      "\n",
      "Ara-3, A, 40000, 387\n",
      "\n",
      "Ara-3, D, 40000, 112\n",
      "\n",
      "Ara-3, A, 50000, 774\n",
      "\n",
      "Ara-3, B, 50000, 791\n",
      "\n",
      "Ara-4, A, 500, 2\n",
      "\n",
      "Ara-4, B, 500, 2\n",
      "\n",
      "Ara-4, A, 1000, 3\n",
      "\n",
      "Ara-4, B, 1000, 3\n",
      "\n",
      "Ara-4, A, 1500, 7\n",
      "\n",
      "Ara-4, B, 1500, 8\n",
      "\n",
      "Ara-4, A, 2000, 9\n",
      "\n",
      "Ara-4, B, 2000, 7\n",
      "\n",
      "Ara-4, A, 5000, 14\n",
      "\n",
      "Ara-4, B, 5000, 12\n",
      "\n",
      "Ara-4, A, 10000, 245\n",
      "\n",
      "Ara-4, B, 10000, 267\n",
      "\n",
      "Ara-4, A, 15000, 443\n",
      "\n",
      "Ara-4, B, 15000, 465\n",
      "\n",
      "Ara-4, A, 20000, 639\n",
      "\n",
      "Ara-4, B, 20000, 607\n",
      "\n",
      "Ara-4, A, 30000, 928\n",
      "\n",
      "Ara-4, B, 30000, 906\n",
      "\n",
      "Ara-4, A, 40000, 1133\n",
      "\n",
      "Ara-4, B, 40000, 1112\n",
      "\n",
      "Ara-4, A, 50000, 1321\n",
      "\n",
      "Ara-4, B, 50000, 1319\n",
      "\n",
      "Ara-5, A, 500, 3\n",
      "\n",
      "Ara-5, B, 500, 3\n",
      "\n",
      "Ara-5, A, 1000, 5\n",
      "\n",
      "Ara-5, B, 1000, 4\n",
      "\n",
      "Ara-5, A, 1500, 5\n",
      "\n",
      "Ara-5, B, 1500, 7\n",
      "\n",
      "Ara-5, A, 2000, 9\n",
      "\n",
      "Ara-5, B, 2000, 9\n",
      "\n",
      "Ara-5, A, 5000, 15\n",
      "\n",
      "Ara-5, B, 5000, 14\n",
      "\n",
      "Ara-5, A, 10000, 28\n",
      "\n",
      "Ara-5, B, 10000, 36\n",
      "\n",
      "Ara-5, A, 15000, 37\n",
      "\n",
      "Ara-5, B, 15000, 35\n",
      "\n",
      "Ara-5, A, 20000, 44\n",
      "\n",
      "Ara-5, B, 20000, 44\n",
      "\n",
      "Ara-5, A, 30000, 76\n",
      "\n",
      "Ara-5, B, 30000, 65\n",
      "\n",
      "Ara-5, A, 40000, 73\n",
      "\n",
      "Ara-5, B, 40000, 76\n",
      "\n",
      "Ara-5, A, 50000, 89\n",
      "\n",
      "Ara-5, B, 50000, 93\n",
      "\n",
      "Ara-6, A, 500, 3\n",
      "\n",
      "Ara-6, B, 500, 1\n",
      "\n",
      "Ara-6, A, 1000, 4\n",
      "\n",
      "Ara-6, B, 1000, 5\n",
      "\n",
      "Ara-6, A, 1500, 6\n",
      "\n",
      "Ara-6, B, 1500, 5\n",
      "\n",
      "Ara-6, A, 2000, 8\n",
      "\n",
      "Ara-6, B, 2000, 9\n",
      "\n",
      "Ara-6, A, 5000, 11\n",
      "\n",
      "Ara-6, B, 5000, 16\n",
      "\n",
      "Ara-6, A, 10000, 22\n",
      "\n",
      "Ara-6, B, 10000, 26\n",
      "\n",
      "Ara-6, A, 15000, 33\n",
      "\n",
      "Ara-6, B, 15000, 35\n",
      "\n",
      "Ara-6, A, 20000, 42\n",
      "\n",
      "Ara-6, B, 20000, 44\n",
      "\n",
      "Ara-6, A, 30000, 58\n",
      "\n",
      "Ara-6, B, 30000, 57\n",
      "\n",
      "Ara-6, A, 40000, 77\n",
      "\n",
      "Ara-6, B, 40000, 67\n",
      "\n",
      "Ara-6, A, 50000, 89\n",
      "\n",
      "Ara-6, B, 50000, 76\n",
      "\n"
     ]
    }
   ],
   "source": [
    "file = open(\"generation_mutation_data.txt\")\n",
    "\n",
    "for line in file:\n",
    "    print(line)"
   ]
  },
  {
   "cell_type": "markdown",
   "metadata": {
    "slideshow": {
     "slide_type": "slide"
    }
   },
   "source": [
    "## Lists"
   ]
  },
  {
   "cell_type": "code",
   "execution_count": 163,
   "metadata": {
    "collapsed": true
   },
   "outputs": [],
   "source": [
    "sample_list = []\n",
    "generation_list = []\n",
    "mutation_list = []"
   ]
  },
  {
   "cell_type": "code",
   "execution_count": 164,
   "metadata": {
    "collapsed": true
   },
   "outputs": [],
   "source": [
    "with open(data_file) as f:\n",
    "\n",
    "    reader = csv.reader(f)\n",
    "    \n",
    "    for row in reader:\n",
    "        sample, clone, generation, total_mutations = extract_column_data2(row)\n",
    "        sample_list.append(sample)\n",
    "        generation_list.append(generation)\n",
    "        mutation_list.append(total_mutations)"
   ]
  },
  {
   "cell_type": "code",
   "execution_count": 165,
   "metadata": {
    "collapsed": false
   },
   "outputs": [
    {
     "data": {
      "text/plain": [
       "265"
      ]
     },
     "execution_count": 165,
     "metadata": {},
     "output_type": "execute_result"
    }
   ],
   "source": [
    "len(sample_list)"
   ]
  },
  {
   "cell_type": "code",
   "execution_count": 166,
   "metadata": {
    "collapsed": false
   },
   "outputs": [
    {
     "data": {
      "text/plain": [
       "265"
      ]
     },
     "execution_count": 166,
     "metadata": {},
     "output_type": "execute_result"
    }
   ],
   "source": [
    "len(generation_list)"
   ]
  },
  {
   "cell_type": "code",
   "execution_count": 167,
   "metadata": {
    "collapsed": false
   },
   "outputs": [
    {
     "data": {
      "text/plain": [
       "265"
      ]
     },
     "execution_count": 167,
     "metadata": {},
     "output_type": "execute_result"
    }
   ],
   "source": [
    "len(mutation_list)"
   ]
  },
  {
   "cell_type": "code",
   "execution_count": 168,
   "metadata": {
    "collapsed": false
   },
   "outputs": [
    {
     "data": {
      "text/plain": [
       "'population'"
      ]
     },
     "execution_count": 168,
     "metadata": {},
     "output_type": "execute_result"
    }
   ],
   "source": [
    "sample_list[0]"
   ]
  },
  {
   "cell_type": "markdown",
   "metadata": {},
   "source": [
    "So we have lists of samples, generations and mutations values. We we just plot this? No...\n",
    "\n",
    "Lets see what are the unique values of sample list:"
   ]
  },
  {
   "cell_type": "code",
   "execution_count": 169,
   "metadata": {
    "collapsed": false
   },
   "outputs": [
    {
     "data": {
      "text/plain": [
       "{'Ara+1',\n",
       " 'Ara+2',\n",
       " 'Ara+3',\n",
       " 'Ara+4',\n",
       " 'Ara+5',\n",
       " 'Ara+6',\n",
       " 'Ara-1',\n",
       " 'Ara-2',\n",
       " 'Ara-3',\n",
       " 'Ara-4',\n",
       " 'Ara-5',\n",
       " 'Ara-6',\n",
       " 'population'}"
      ]
     },
     "execution_count": 169,
     "metadata": {},
     "output_type": "execute_result"
    }
   ],
   "source": [
    "set(sample_list)"
   ]
  },
  {
   "cell_type": "markdown",
   "metadata": {},
   "source": [
    "Remember that in our graph we want to plot out each sample as a separate line."
   ]
  },
  {
   "cell_type": "markdown",
   "metadata": {},
   "source": [
    "So we need to save each set of sample data to a new list."
   ]
  },
  {
   "cell_type": "markdown",
   "metadata": {},
   "source": [
    "## Conditionals"
   ]
  },
  {
   "cell_type": "markdown",
   "metadata": {},
   "source": [
    "Remember what the code looked like before:"
   ]
  },
  {
   "cell_type": "markdown",
   "metadata": {},
   "source": [
    "    with open(data_file) as f:\n",
    "\n",
    "        reader = csv.reader(f)\n",
    "\n",
    "        for row in reader:\n",
    "            sample, generation, total_mutations = extract_column_data2(row)\n",
    "            sample_list.append(sample)\n",
    "            generation_list.append(generation)\n",
    "            mutation_list.append(total_mutations)"
   ]
  },
  {
   "cell_type": "markdown",
   "metadata": {
    "slideshow": {
     "slide_type": "slide"
    }
   },
   "source": [
    "# Dictionaries"
   ]
  },
  {
   "cell_type": "code",
   "execution_count": 182,
   "metadata": {
    "collapsed": true
   },
   "outputs": [],
   "source": [
    "from collections import defaultdict    \n",
    "    \n",
    "ara_dict = defaultdict(list)\n",
    "\n",
    "with open(data_file) as f:\n",
    "\n",
    "    reader = csv.reader(f)\n",
    "    \n",
    "    next(reader) # skip the header line\n",
    "    \n",
    "    for row in reader:\n",
    "        \n",
    "        sample, clone, generation, total_mutations = extract_column_data2(row)\n",
    "        \n",
    "        sample_name = \"%s-%s\" % (sample, clone)\n",
    "        \n",
    "        ara_dict[sample_name].append([generation, total_mutations])"
   ]
  },
  {
   "cell_type": "code",
   "execution_count": null,
   "metadata": {
    "collapsed": true
   },
   "outputs": [],
   "source": []
  },
  {
   "cell_type": "code",
   "execution_count": 183,
   "metadata": {
    "collapsed": false
   },
   "outputs": [
    {
     "data": {
      "text/plain": [
       "defaultdict(list,\n",
       "            {'Ara+1-A': [['500', '4'],\n",
       "              ['1000', '4'],\n",
       "              ['1500', '7'],\n",
       "              ['2000', '8'],\n",
       "              ['5000', '23'],\n",
       "              ['10000', '38'],\n",
       "              ['15000', '53'],\n",
       "              ['20000', '62'],\n",
       "              ['30000', '91'],\n",
       "              ['40000', '104'],\n",
       "              ['50000', '122']],\n",
       "             'Ara+1-B': [['500', '3'],\n",
       "              ['1000', '2'],\n",
       "              ['1500', '6'],\n",
       "              ['2000', '9'],\n",
       "              ['5000', '20'],\n",
       "              ['10000', '36'],\n",
       "              ['15000', '53'],\n",
       "              ['20000', '62'],\n",
       "              ['30000', '87'],\n",
       "              ['40000', '108'],\n",
       "              ['50000', '126']],\n",
       "             'Ara+2-A': [['500', '2'],\n",
       "              ['1000', '4'],\n",
       "              ['1500', '5'],\n",
       "              ['2000', '8'],\n",
       "              ['5000', '12'],\n",
       "              ['10000', '23'],\n",
       "              ['15000', '31'],\n",
       "              ['20000', '38'],\n",
       "              ['30000', '47'],\n",
       "              ['40000', '59'],\n",
       "              ['50000', '68']],\n",
       "             'Ara+2-B': [['500', '2'],\n",
       "              ['1000', '4'],\n",
       "              ['1500', '6'],\n",
       "              ['2000', '9'],\n",
       "              ['5000', '11'],\n",
       "              ['10000', '25'],\n",
       "              ['15000', '33'],\n",
       "              ['20000', '35'],\n",
       "              ['30000', '48'],\n",
       "              ['40000', '55'],\n",
       "              ['50000', '68']],\n",
       "             'Ara+3-A': [['500', '2'],\n",
       "              ['1000', '4'],\n",
       "              ['1500', '6'],\n",
       "              ['2000', '8'],\n",
       "              ['5000', '147'],\n",
       "              ['10000', '331'],\n",
       "              ['15000', '655'],\n",
       "              ['20000', '875'],\n",
       "              ['30000', '1133'],\n",
       "              ['40000', '1537'],\n",
       "              ['50000', '1734']],\n",
       "             'Ara+3-B': [['500', '3'],\n",
       "              ['1000', '4'],\n",
       "              ['1500', '6'],\n",
       "              ['2000', '10'],\n",
       "              ['5000', '152'],\n",
       "              ['10000', '376'],\n",
       "              ['15000', '646'],\n",
       "              ['20000', '873'],\n",
       "              ['30000', '1148'],\n",
       "              ['40000', '1542'],\n",
       "              ['50000', '1648']],\n",
       "             'Ara+4-A': [['500', '2'],\n",
       "              ['1000', '2'],\n",
       "              ['1500', '7'],\n",
       "              ['2000', '6'],\n",
       "              ['5000', '11'],\n",
       "              ['10000', '21'],\n",
       "              ['15000', '27'],\n",
       "              ['20000', '40'],\n",
       "              ['30000', '44'],\n",
       "              ['40000', '54'],\n",
       "              ['50000', '69']],\n",
       "             'Ara+4-B': [['500', '3'],\n",
       "              ['1000', '4'],\n",
       "              ['1500', '9'],\n",
       "              ['2000', '6'],\n",
       "              ['5000', '8'],\n",
       "              ['10000', '21'],\n",
       "              ['15000', '27'],\n",
       "              ['20000', '36'],\n",
       "              ['30000', '42'],\n",
       "              ['40000', '54'],\n",
       "              ['50000', '68']],\n",
       "             'Ara+5-A': [['500', '2'],\n",
       "              ['1000', '5'],\n",
       "              ['1500', '5'],\n",
       "              ['2000', '7'],\n",
       "              ['5000', '15'],\n",
       "              ['10000', '20'],\n",
       "              ['15000', '30'],\n",
       "              ['20000', '33'],\n",
       "              ['30000', '51'],\n",
       "              ['40000', '65'],\n",
       "              ['50000', '78']],\n",
       "             'Ara+5-B': [['500', '2'],\n",
       "              ['1000', '3'],\n",
       "              ['1500', '4'],\n",
       "              ['2000', '6'],\n",
       "              ['5000', '11'],\n",
       "              ['10000', '17'],\n",
       "              ['15000', '31'],\n",
       "              ['20000', '32'],\n",
       "              ['30000', '52'],\n",
       "              ['40000', '68'],\n",
       "              ['50000', '77']],\n",
       "             'Ara+6-A': [['500', '2'],\n",
       "              ['1000', '4'],\n",
       "              ['1500', '4'],\n",
       "              ['2000', '5'],\n",
       "              ['5000', '8'],\n",
       "              ['10000', '599'],\n",
       "              ['15000', '995'],\n",
       "              ['20000', '1238'],\n",
       "              ['30000', '1843'],\n",
       "              ['40000', '2191'],\n",
       "              ['50000', '2562']],\n",
       "             'Ara+6-B': [['500', '2'],\n",
       "              ['1000', '3'],\n",
       "              ['1500', '6'],\n",
       "              ['2000', '5'],\n",
       "              ['5000', '10'],\n",
       "              ['10000', '680'],\n",
       "              ['15000', '1002'],\n",
       "              ['20000', '1359'],\n",
       "              ['30000', '1888'],\n",
       "              ['40000', '2026'],\n",
       "              ['50000', '2299']],\n",
       "             'Ara-1-A': [['500', '3'],\n",
       "              ['1000', '4'],\n",
       "              ['1500', '5'],\n",
       "              ['2000', '6'],\n",
       "              ['5000', '14'],\n",
       "              ['10000', '27'],\n",
       "              ['15000', '36'],\n",
       "              ['20000', '43'],\n",
       "              ['30000', '418'],\n",
       "              ['40000', '646'],\n",
       "              ['50000', '1092']],\n",
       "             'Ara-1-B': [['500', '5'],\n",
       "              ['1000', '6'],\n",
       "              ['1500', '7'],\n",
       "              ['2000', '6'],\n",
       "              ['5000', '15'],\n",
       "              ['10000', '28'],\n",
       "              ['15000', '36'],\n",
       "              ['20000', '41'],\n",
       "              ['30000', '512'],\n",
       "              ['40000', '855'],\n",
       "              ['50000', '1110']],\n",
       "             'Ara-2-A': [['500', '2'],\n",
       "              ['1000', '4'],\n",
       "              ['1500', '4'],\n",
       "              ['2000', '6'],\n",
       "              ['5000', '137'],\n",
       "              ['10000', '302'],\n",
       "              ['15000', '579'],\n",
       "              ['20000', '644'],\n",
       "              ['30000', '832'],\n",
       "              ['40000', '1047'],\n",
       "              ['50000', '1036']],\n",
       "             'Ara-2-B': [['500', '2'],\n",
       "              ['1000', '3'],\n",
       "              ['1500', '4'],\n",
       "              ['2000', '5'],\n",
       "              ['5000', '127'],\n",
       "              ['10000', '320'],\n",
       "              ['15000', '503'],\n",
       "              ['20000', '654'],\n",
       "              ['30000', '637'],\n",
       "              ['40000', '1079'],\n",
       "              ['50000', '1090']],\n",
       "             'Ara-3-A': [['500', '1'],\n",
       "              ['1000', '6'],\n",
       "              ['1500', '7'],\n",
       "              ['2000', '9'],\n",
       "              ['5000', '16'],\n",
       "              ['10000', '26'],\n",
       "              ['15000', '39'],\n",
       "              ['20000', '47'],\n",
       "              ['30000', '53'],\n",
       "              ['40000', '387'],\n",
       "              ['50000', '774']],\n",
       "             'Ara-3-B': [['500', '3'],\n",
       "              ['1000', '4'],\n",
       "              ['1500', '5'],\n",
       "              ['2000', '10'],\n",
       "              ['5000', '17'],\n",
       "              ['10000', '30'],\n",
       "              ['15000', '37'],\n",
       "              ['20000', '52'],\n",
       "              ['30000', '71'],\n",
       "              ['50000', '791']],\n",
       "             'Ara-3-D': [['40000', '112']],\n",
       "             'Ara-4-A': [['500', '2'],\n",
       "              ['1000', '3'],\n",
       "              ['1500', '7'],\n",
       "              ['2000', '9'],\n",
       "              ['5000', '14'],\n",
       "              ['10000', '245'],\n",
       "              ['15000', '443'],\n",
       "              ['20000', '639'],\n",
       "              ['30000', '928'],\n",
       "              ['40000', '1133'],\n",
       "              ['50000', '1321']],\n",
       "             'Ara-4-B': [['500', '2'],\n",
       "              ['1000', '3'],\n",
       "              ['1500', '8'],\n",
       "              ['2000', '7'],\n",
       "              ['5000', '12'],\n",
       "              ['10000', '267'],\n",
       "              ['15000', '465'],\n",
       "              ['20000', '607'],\n",
       "              ['30000', '906'],\n",
       "              ['40000', '1112'],\n",
       "              ['50000', '1319']],\n",
       "             'Ara-5-A': [['500', '3'],\n",
       "              ['1000', '5'],\n",
       "              ['1500', '5'],\n",
       "              ['2000', '9'],\n",
       "              ['5000', '15'],\n",
       "              ['10000', '28'],\n",
       "              ['15000', '37'],\n",
       "              ['20000', '44'],\n",
       "              ['30000', '76'],\n",
       "              ['40000', '73'],\n",
       "              ['50000', '89']],\n",
       "             'Ara-5-B': [['500', '3'],\n",
       "              ['1000', '4'],\n",
       "              ['1500', '7'],\n",
       "              ['2000', '9'],\n",
       "              ['5000', '14'],\n",
       "              ['10000', '36'],\n",
       "              ['15000', '35'],\n",
       "              ['20000', '44'],\n",
       "              ['30000', '65'],\n",
       "              ['40000', '76'],\n",
       "              ['50000', '93']],\n",
       "             'Ara-6-A': [['500', '3'],\n",
       "              ['1000', '4'],\n",
       "              ['1500', '6'],\n",
       "              ['2000', '8'],\n",
       "              ['5000', '11'],\n",
       "              ['10000', '22'],\n",
       "              ['15000', '33'],\n",
       "              ['20000', '42'],\n",
       "              ['30000', '58'],\n",
       "              ['40000', '77'],\n",
       "              ['50000', '89']],\n",
       "             'Ara-6-B': [['500', '1'],\n",
       "              ['1000', '5'],\n",
       "              ['1500', '5'],\n",
       "              ['2000', '9'],\n",
       "              ['5000', '16'],\n",
       "              ['10000', '26'],\n",
       "              ['15000', '35'],\n",
       "              ['20000', '44'],\n",
       "              ['30000', '57'],\n",
       "              ['40000', '67'],\n",
       "              ['50000', '76']]})"
      ]
     },
     "execution_count": 183,
     "metadata": {},
     "output_type": "execute_result"
    }
   ],
   "source": [
    "ara_dict"
   ]
  },
  {
   "cell_type": "code",
   "execution_count": 187,
   "metadata": {
    "collapsed": true
   },
   "outputs": [],
   "source": [
    "# tuples\n",
    "\n",
    "samples = ('Ara+1', 'Ara+2', 'Ara+3', 'Ara+4', 'Ara+5', 'Ara+6',\n",
    "           'Ara-1', 'Ara-2', 'Ara-3', 'Ara-4', 'Ara-5', 'Ara-6');\n",
    "clones = ('A', 'B');"
   ]
  },
  {
   "cell_type": "code",
   "execution_count": 188,
   "metadata": {
    "collapsed": false
   },
   "outputs": [
    {
     "data": {
      "image/png": "[encoded data removed]",
      "text/plain": [
       "<matplotlib.figure.Figure at 0x10bc664a8>"
      ]
     },
     "metadata": {},
     "output_type": "display_data"
    }
   ],
   "source": [
    "import numpy as np\n",
    "import matplotlib.pyplot as plt\n",
    "\n",
    "for sample in samples:\n",
    "    \n",
    "    for clone in clones:\n",
    "        \n",
    "        data_list = ara_dict[\"%s-%s\" % (sample, clone)]\n",
    "    \n",
    "        x, y = zip(*data_list)\n",
    "    \n",
    "        plt.scatter(x, y)\n",
    "    \n",
    "        plt.plot(x, y, '-o')\n",
    "\n",
    "plt.show()"
   ]
  },
  {
   "cell_type": "markdown",
   "metadata": {},
   "source": [
    "To see examples of possible plots and code check out the gallery at the matplotlib [website](http://matplotlib.org/gallery.html)"
   ]
  },
  {
   "cell_type": "markdown",
   "metadata": {},
   "source": [
    "As a reminder:\n",
    "    \n",
    "<img src=\"images/nature18959-f1.jpg\", width=600, height=600>"
   ]
  },
  {
   "cell_type": "markdown",
   "metadata": {},
   "source": [
    "## Additional Dictionary example"
   ]
  },
  {
   "cell_type": "code",
   "execution_count": 138,
   "metadata": {
    "collapsed": false,
    "slideshow": {
     "slide_type": "slide"
    }
   },
   "outputs": [
    {
     "name": "stdout",
     "output_type": "stream",
     "text": [
      "{'AAA': 4, 'AAT': 5, 'AAG': 0, 'AAC': 0, 'ATA': 0, 'ATT': 0, 'ATG': 5, 'ATC': 10, 'AGA': 0, 'AGT': 0, 'AGG': 0, 'AGC': 0, 'ACA': 0, 'ACT': 0, 'ACG': 5, 'ACC': 0, 'TAA': 0, 'TAT': 0, 'TAG': 0, 'TAC': 5, 'TTA': 0, 'TTT': 0, 'TTG': 0, 'TTC': 0, 'TGA': 10, 'TGT': 0, 'TGG': 0, 'TGC': 0, 'TCA': 0, 'TCT': 0, 'TCG': 10, 'TCC': 0, 'GAA': 4, 'GAT': 10, 'GAG': 0, 'GAC': 0, 'GTA': 5, 'GTT': 0, 'GTG': 0, 'GTC': 0, 'GGA': 0, 'GGT': 0, 'GGG': 0, 'GGC': 0, 'GCA': 0, 'GCT': 5, 'GCG': 0, 'GCC': 0, 'CAA': 0, 'CAT': 0, 'CAG': 0, 'CAC': 0, 'CTA': 0, 'CTT': 0, 'CTG': 5, 'CTC': 0, 'CGA': 5, 'CGT': 5, 'CGG': 0, 'CGC': 5, 'CCA': 0, 'CCT': 0, 'CCG': 0, 'CCC': 0}\n"
     ]
    }
   ],
   "source": [
    "dna = \"AATGATCGATCGTACGCTGAAATGATCGATCGTACGCTGAAATGATCGATCGTACGCTGAAATGATCGATCGTACGCTGAAATGATCGATCGTACGCTGA\"\n",
    "\n",
    "counts = {}\n",
    "\n",
    "for base1 in ['A', 'T', 'G', 'C']:\n",
    "    for base2 in ['A', 'T', 'G', 'C']:\n",
    "        for base3 in ['A', 'T', 'G', 'C']:\n",
    "            trinucleotide = base1 + base2 + base3\n",
    "            count = dna.count(trinucleotide)\n",
    "            counts[trinucleotide] = count\n",
    "            \n",
    "print(counts)"
   ]
  },
  {
   "cell_type": "markdown",
   "metadata": {
    "slideshow": {
     "slide_type": "skip"
    }
   },
   "source": [
    "---"
   ]
  },
  {
   "cell_type": "markdown",
   "metadata": {
    "slideshow": {
     "slide_type": "slide"
    }
   },
   "source": [
    "# Regular Expressions"
   ]
  },
  {
   "cell_type": "markdown",
   "metadata": {
    "slideshow": {
     "slide_type": "slide"
    }
   },
   "source": [
    "## Patterns in Biology"
   ]
  },
  {
   "cell_type": "markdown",
   "metadata": {
    "slideshow": {
     "slide_type": "fragment"
    }
   },
   "source": [
    "There are a lot of patterns in biology:\n",
    "\n",
    "- protein domains\n",
    "- DNA transcription factor binding motifs\n",
    "- restriction enzyme cut sites\n",
    "- runs of mononucleotides\n",
    "\n",
    "Many problems that we want to solve that require more flexible patterns:\n",
    "\n",
    "- Given a DNA sequence, what's the length of the poly-A tail?\n",
    "- Given a gene accession name, extract the part between the third character and the underscore\n",
    "- Given a protein sequence, determine if it contains this highly-redundant domain motif"
   ]
  },
  {
   "cell_type": "markdown",
   "metadata": {
    "slideshow": {
     "slide_type": "slide"
    }
   },
   "source": [
    "## Regular expression module"
   ]
  },
  {
   "cell_type": "markdown",
   "metadata": {
    "slideshow": {
     "slide_type": "fragment"
    }
   },
   "source": [
    "To search for these patterns, we use the regular expression module “re”. \n",
    "\n",
    "    re.search(pattern, string)"
   ]
  },
  {
   "cell_type": "code",
   "execution_count": null,
   "metadata": {
    "collapsed": true,
    "slideshow": {
     "slide_type": "fragment"
    }
   },
   "outputs": [],
   "source": [
    "import re\n",
    "import numpy as np\n",
    "np."
   ]
  },
  {
   "cell_type": "code",
   "execution_count": null,
   "metadata": {
    "collapsed": false,
    "slideshow": {
     "slide_type": "fragment"
    }
   },
   "outputs": [],
   "source": [
    "dna = \"ATCGCGAATTCAC\"\n",
    "\n",
    "if re.search(r\"GAATTC\", dna):\n",
    "    print(\"restriction site found!\")"
   ]
  },
  {
   "cell_type": "code",
   "execution_count": null,
   "metadata": {
    "collapsed": false,
    "slideshow": {
     "slide_type": "fragment"
    }
   },
   "outputs": [],
   "source": [
    "if re.search(r\"GC(A|T|G|C)AA\", dna):\n",
    "    print(\"restriction site found!\")"
   ]
  },
  {
   "cell_type": "code",
   "execution_count": null,
   "metadata": {
    "collapsed": false,
    "slideshow": {
     "slide_type": "fragment"
    }
   },
   "outputs": [],
   "source": [
    "dna = \"ATCGCA\"\n",
    "if re.search(r\"GC[ATGC]+\", dna):\n",
    "    print(\"restriction site found!\")"
   ]
  },
  {
   "cell_type": "markdown",
   "metadata": {
    "slideshow": {
     "slide_type": "slide"
    }
   },
   "source": [
    "## Get String and Position of Match"
   ]
  },
  {
   "cell_type": "markdown",
   "metadata": {
    "slideshow": {
     "slide_type": "fragment"
    }
   },
   "source": [
    "Get the string that matched\n",
    "\n",
    "In a new cell below type, and run:"
   ]
  },
  {
   "cell_type": "code",
   "execution_count": null,
   "metadata": {
    "collapsed": false,
    "slideshow": {
     "slide_type": "fragment"
    }
   },
   "outputs": [],
   "source": [
    "dna = \"ATGAATAACGTACGTACGACTG\"\n",
    "\n",
    "# store the match object in the variable m\n",
    "\n",
    "m = re.search(r\"GA([AT]{3})AC([ATGC]{2})AC\", dna)\n",
    "\n",
    "print(\"entire match: \" + m.group())\n",
    "\n",
    "print(\"first bit: \" + m.group(1))\n",
    "\n",
    "print(\"second bit: \" + m.group(2))"
   ]
  },
  {
   "cell_type": "markdown",
   "metadata": {
    "slideshow": {
     "slide_type": "fragment"
    }
   },
   "source": [
    "Get the positions of the match"
   ]
  },
  {
   "cell_type": "code",
   "execution_count": null,
   "metadata": {
    "collapsed": false,
    "slideshow": {
     "slide_type": "fragment"
    }
   },
   "outputs": [],
   "source": [
    "print(\"start: \" + str(m.start()))\n",
    "\n",
    "print(\"end: \" + str(m.end()))"
   ]
  },
  {
   "cell_type": "code",
   "execution_count": null,
   "metadata": {
    "collapsed": false,
    "slideshow": {
     "slide_type": "skip"
    }
   },
   "outputs": [],
   "source": [
    "import re\n",
    "m = re.search(\"[ATGC]\", 'ATCG')\n",
    "re?"
   ]
  },
  {
   "cell_type": "code",
   "execution_count": null,
   "metadata": {
    "collapsed": true
   },
   "outputs": [],
   "source": []
  },
  {
   "cell_type": "markdown",
   "metadata": {
    "slideshow": {
     "slide_type": "slide"
    }
   },
   "source": [
    "# Files, Programs, & User Input"
   ]
  },
  {
   "cell_type": "markdown",
   "metadata": {
    "slideshow": {
     "slide_type": "slide"
    }
   },
   "source": [
    "## Basic File Manipulation"
   ]
  },
  {
   "cell_type": "markdown",
   "metadata": {
    "slideshow": {
     "slide_type": "fragment"
    }
   },
   "source": [
    "Rename a file\n",
    "\n",
    "In a new cell below type, and run:\n",
    "\n",
    "    import os\n",
    "\n",
    "    os.rename(\"old.txt\", \"new.txt\")\n",
    "\n",
    "Rename a folder\n",
    "\n",
    "    os.rename(\"/home/martin/old_folder\", \"/home/martin/new_folder\")\n",
    "\n",
    "Check to see if a file exists\n",
    "\n",
    "    if os.path.exists(\"/home/martin/email.txt\"):\n",
    "        print(\"You have mail!\")"
   ]
  },
  {
   "cell_type": "code",
   "execution_count": 109,
   "metadata": {
    "collapsed": true
   },
   "outputs": [],
   "source": [
    "import os"
   ]
  },
  {
   "cell_type": "code",
   "execution_count": null,
   "metadata": {
    "collapsed": true
   },
   "outputs": [],
   "source": [
    "os."
   ]
  },
  {
   "cell_type": "markdown",
   "metadata": {
    "slideshow": {
     "slide_type": "fragment"
    }
   },
   "source": [
    "Remove a file\n",
    "\n",
    "    os.remove(\"/home/martin/unwanted_file.txt\")\n",
    "\n",
    "Remove empty folder\n",
    "\n",
    "    os.rmdir(\"/home/martin/emtpy\")\n",
    "\n",
    "\n",
    "To delete a folder and all the files in it, use shutil.rmtree\n",
    "\n",
    "    from shutil import rmtree\n",
    "\n",
    "    shutil.rmtree(\"home/martin/full\")"
   ]
  },
  {
   "cell_type": "markdown",
   "metadata": {
    "slideshow": {
     "slide_type": "slide"
    }
   },
   "source": [
    "## Running External Programs"
   ]
  },
  {
   "cell_type": "markdown",
   "metadata": {
    "slideshow": {
     "slide_type": "fragment"
    }
   },
   "source": [
    "Run an external program\n",
    "\n",
    "In a new cell below type, and run:\n",
    "    \n",
    "    import subprocess\n",
    "\n",
    "    subprocess.call(\"/bin/date\")\n",
    "\n",
    "\n",
    "Run an external program with options\n",
    "\n",
    "    subprocess.call(\"/bin/date +%B\", shell=True)\n",
    "\n",
    "\n",
    "Saving program output\n",
    "\n",
    "    current_month = subprocess.check_output(\"/bin/date +%B\", shell=True)"
   ]
  },
  {
   "cell_type": "markdown",
   "metadata": {
    "slideshow": {
     "slide_type": "slide"
    }
   },
   "source": [
    "Now using IPython magic:"
   ]
  },
  {
   "cell_type": "code",
   "execution_count": 110,
   "metadata": {
    "collapsed": false,
    "slideshow": {
     "slide_type": "fragment"
    }
   },
   "outputs": [
    {
     "name": "stdout",
     "output_type": "stream",
     "text": [
      "Fri Oct  7 11:55:12 EDT 2016\r\n"
     ]
    }
   ],
   "source": [
    "!date"
   ]
  },
  {
   "cell_type": "markdown",
   "metadata": {
    "slideshow": {
     "slide_type": "slide"
    }
   },
   "source": [
    "## User Input"
   ]
  },
  {
   "cell_type": "markdown",
   "metadata": {
    "slideshow": {
     "slide_type": "fragment"
    }
   },
   "source": [
    "Interactive user input\n",
    "\n",
    "In a new cell below type, and run:\n",
    "\n",
    "        accession = input(\"Enter the accession name\")\n",
    "\n",
    "        # do something with the accession variable\n",
    "\n",
    "Capture command line arguments\n",
    "\n",
    "    import sys\n",
    "\n",
    "    print(sys.argv)\n",
    "\n",
    "    # python myprogram.py one two three\n",
    "\n",
    "    # sys.argv[1] return script name"
   ]
  },
  {
   "cell_type": "markdown",
   "metadata": {
    "slideshow": {
     "slide_type": "skip"
    }
   },
   "source": [
    "---"
   ]
  },
  {
   "cell_type": "markdown",
   "metadata": {
    "slideshow": {
     "slide_type": "slide"
    }
   },
   "source": [
    "# To conclude…"
   ]
  },
  {
   "cell_type": "markdown",
   "metadata": {
    "slideshow": {
     "slide_type": "slide"
    }
   },
   "source": [
    "## Goals"
   ]
  },
  {
   "cell_type": "markdown",
   "metadata": {
    "slideshow": {
     "slide_type": "fragment"
    }
   },
   "source": [
    "- Introduce you to the basics of the python programming language\n",
    "\n",
    "- Introduced you to the iPython environment\n",
    "\n",
    "- Prepare you for the next session “Introduction to Biopython for Scientists”\n",
    "\n",
    "- Enable you to write or assemble scripts of your own or modify existing scripts for your own purposes"
   ]
  },
  {
   "cell_type": "markdown",
   "metadata": {
    "slideshow": {
     "slide_type": "skip"
    }
   },
   "source": [
    "---"
   ]
  },
  {
   "cell_type": "markdown",
   "metadata": {
    "slideshow": {
     "slide_type": "slide"
    }
   },
   "source": [
    "# Resources"
   ]
  },
  {
   "cell_type": "markdown",
   "metadata": {
    "slideshow": {
     "slide_type": "fragment"
    }
   },
   "source": [
    "Websites:\n",
    "\n",
    "- http://interactivepython.org/runestone/default/user/login\n",
    "- http://www.pythonforbeginners.com\n",
    "- http://www.pythontutor.com/visualize.html#mode=display\n",
    "- https://groklearning.com\n",
    "- https://www.pythonanywhere.com/\n",
    "\n",
    "\n",
    "Free eBook in HTML / PDF\n",
    "\n",
    "- https://www.pythonlearn.com/book.php#python-for-everybody\n",
    "- http://interactivepython.org/runestone/default/user/login\n",
    "- http://greenteapress.com/thinkpython/\n",
    "- http://openbookproject.net/books/bpp4awd/index.html\n",
    "\n",
    "\n",
    "Python Regular Expressions (pattern matching)\n",
    "\n",
    "- http://www.pyregex.com\n",
    "- http://pythex.org\n",
    "\n",
    "\n",
    "Python Style Guide\n",
    "\n",
    "- http://www.python.org/dev/peps/pep-0008/\n",
    "\n",
    "Python CheatSheets\n",
    "\n",
    "- https://www.pythonsheets.com"
   ]
  },
  {
   "cell_type": "markdown",
   "metadata": {
    "slideshow": {
     "slide_type": "slide"
    }
   },
   "source": [
    "## Resources:"
   ]
  },
  {
   "cell_type": "markdown",
   "metadata": {
    "slideshow": {
     "slide_type": "fragment"
    }
   },
   "source": [
    "- [Python for Everybody: Exploring Data In Python 3 (free ebook)](https://www.pythonlearn.com/book.php)\n",
    "\n",
    "- [How to Think Like A Computer Scientist (free ebook)](http://www.greenteapress.com/thinkpython/)\n",
    "\n",
    "- [Python for Biologists](http://pythonforbiologists.com)"
   ]
  },
  {
   "cell_type": "markdown",
   "metadata": {
    "slideshow": {
     "slide_type": "skip"
    }
   },
   "source": [
    "---"
   ]
  },
  {
   "cell_type": "markdown",
   "metadata": {
    "slideshow": {
     "slide_type": "slide"
    }
   },
   "source": [
    "# Q & A"
   ]
  },
  {
   "cell_type": "markdown",
   "metadata": {
    "slideshow": {
     "slide_type": "fragment"
    }
   },
   "source": [
    "Collaborations welcome\n",
    "\n",
    "R. Burke Squires - richard.squires@nih.gov\n",
    "\n",
    "or\n",
    "\n",
    "ScienceApps@niaid.nih.gov"
   ]
  },
  {
   "cell_type": "code",
   "execution_count": null,
   "metadata": {
    "collapsed": false
   },
   "outputs": [],
   "source": []
  }
 ],
 "metadata": {
  "anaconda-cloud": {},
  "gist_id": "cedf51e5d24af8694bfe",
  "kernelspec": {
   "display_name": "Python [default]",
   "language": "python",
   "name": "python3"
  },
  "language_info": {
   "codemirror_mode": {
    "name": "ipython",
    "version": 3
   },
   "file_extension": ".py",
   "mimetype": "text/x-python",
   "name": "python",
   "nbconvert_exporter": "python",
   "pygments_lexer": "ipython3",
   "version": "3.5.3"
  }
 },
 "nbformat": 4,
 "nbformat_minor": 2
}
