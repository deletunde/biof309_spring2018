{
 "cells": [
  {
   "cell_type": "markdown",
   "metadata": {
    "button": false,
    "deletable": true,
    "new_sheet": false,
    "run_control": {
     "read_only": false
    }
   },
   "source": [
    "---\n",
    "title: \"Lists\"\n",
    "teaching: 15\n",
    "exercises: 10\n",
    "questions:\n",
    "- \"How can I store multiple values?\"\n",
    "objectives:\n",
    "- \"Explain why programs need collections of values.\"\n",
    "- \"Write programs that create flat lists, index them, slice them, and modify\n",
    "them through assignment and method calls.\"\n",
    "keypoints:\n",
    "- \"A list stores many values in a single structure.\"\n",
    "- \"Use an item's index to fetch it from a list.\"\n",
    "- \"Lists' values can be replaced by assigning to them.\"\n",
    "- \"Appending items to a list lengthens it.\"\n",
    "- \"Use `del` to remove items from a list entirely.\"\n",
    "- \"The empty list contains no values.\"\n",
    "- \"Lists may contain values of different types.\"\n",
    "- \"Character strings can be indexed like lists.\"\n",
    "- \"Character strings are immutable.\"\n",
    "- \"Indexing beyond the end of the collection is an error.\"\n",
    "---\n",
    "## A list stores many values in a single structure.\n",
    "\n",
    "*   When we wish to work with hundreds of variables defining them all explicitly\n",
    "would be at least as slow as doing them by hand. For example if we had many\n",
    "regions in the brain that we wished to analyse we might have many numbers. Each\n",
    "number would correspond to the volume of a particular ROI like `cingulate`,\n",
    "`limbic`, etc.\n",
    "*   Use a *list* to store many values together.\n",
    "    *   Contained within square brackets: `[...]`.\n",
    "    *   Values separated by commas: `,`.\n",
    "*   Use `len` to find out how many values are in a list."
   ]
  },
  {
   "cell_type": "code",
   "execution_count": null,
   "metadata": {
    "button": false,
    "collapsed": true,
    "deletable": true,
    "new_sheet": false,
    "run_control": {
     "read_only": false
    }
   },
   "outputs": [],
   "source": [
    "roi_volumes = [2.73,145.3,12.7,16.2, 27.6]\n",
    "# Volume of ROIs :  \n",
    "roi_volumes"
   ]
  },
  {
   "cell_type": "markdown",
   "metadata": {
    "button": false,
    "deletable": true,
    "new_sheet": false,
    "run_control": {
     "read_only": false
    }
   },
   "source": [
    "{: .python}"
   ]
  },
  {
   "cell_type": "code",
   "execution_count": null,
   "metadata": {
    "button": false,
    "collapsed": true,
    "deletable": true,
    "new_sheet": false,
    "run_control": {
     "read_only": false
    }
   },
   "outputs": [],
   "source": [
    "[2.73,145.3,12.7,16.2, 27.6]"
   ]
  },
  {
   "cell_type": "markdown",
   "metadata": {
    "button": false,
    "deletable": true,
    "new_sheet": false,
    "run_control": {
     "read_only": false
    }
   },
   "source": [
    "{: .output}"
   ]
  },
  {
   "cell_type": "code",
   "execution_count": null,
   "metadata": {
    "button": false,
    "collapsed": true,
    "deletable": true,
    "new_sheet": false,
    "run_control": {
     "read_only": false
    }
   },
   "outputs": [],
   "source": [
    "# length: \n",
    "len(roi_volumes)"
   ]
  },
  {
   "cell_type": "markdown",
   "metadata": {
    "button": false,
    "deletable": true,
    "new_sheet": false,
    "run_control": {
     "read_only": false
    }
   },
   "source": [
    "{: .python}"
   ]
  },
  {
   "cell_type": "code",
   "execution_count": null,
   "metadata": {
    "button": false,
    "collapsed": true,
    "deletable": true,
    "new_sheet": false,
    "run_control": {
     "read_only": false
    }
   },
   "outputs": [],
   "source": [
    "5"
   ]
  },
  {
   "cell_type": "markdown",
   "metadata": {
    "button": false,
    "deletable": true,
    "new_sheet": false,
    "run_control": {
     "read_only": false
    }
   },
   "source": [
    "{: .output}\n",
    "\n",
    "## Use an item's index to fetch it from a list.\n",
    "\n",
    "*   Just like strings."
   ]
  },
  {
   "cell_type": "code",
   "execution_count": null,
   "metadata": {
    "button": false,
    "collapsed": true,
    "deletable": true,
    "new_sheet": false,
    "run_control": {
     "read_only": false
    }
   },
   "outputs": [],
   "source": [
    "# The item with index 0 in the list is : \n",
    "roi_volumes[0]"
   ]
  },
  {
   "cell_type": "markdown",
   "metadata": {
    "button": false,
    "deletable": true,
    "new_sheet": false,
    "run_control": {
     "read_only": false
    }
   },
   "source": [
    "{: .python}"
   ]
  },
  {
   "cell_type": "code",
   "execution_count": null,
   "metadata": {
    "button": false,
    "collapsed": true,
    "deletable": true,
    "new_sheet": false,
    "run_control": {
     "read_only": false
    }
   },
   "outputs": [],
   "source": [
    "2.73"
   ]
  },
  {
   "cell_type": "markdown",
   "metadata": {
    "button": false,
    "deletable": true,
    "new_sheet": false,
    "run_control": {
     "read_only": false
    }
   },
   "source": [
    "{: .output}"
   ]
  },
  {
   "cell_type": "code",
   "execution_count": null,
   "metadata": {
    "button": false,
    "collapsed": true,
    "deletable": true,
    "new_sheet": false,
    "run_control": {
     "read_only": false
    }
   },
   "outputs": [],
   "source": [
    "# The item with index 4 in the list is : \n",
    "roi_volumes[4]"
   ]
  },
  {
   "cell_type": "markdown",
   "metadata": {
    "button": false,
    "deletable": true,
    "new_sheet": false,
    "run_control": {
     "read_only": false
    }
   },
   "source": [
    "{: .python}"
   ]
  },
  {
   "cell_type": "code",
   "execution_count": null,
   "metadata": {
    "button": false,
    "collapsed": true,
    "deletable": true,
    "new_sheet": false,
    "run_control": {
     "read_only": false
    }
   },
   "outputs": [],
   "source": [
    "27.6"
   ]
  },
  {
   "cell_type": "markdown",
   "metadata": {
    "button": false,
    "deletable": true,
    "new_sheet": false,
    "run_control": {
     "read_only": false
    }
   },
   "source": [
    "{: .output}\n",
    "\n",
    "## Lists' values can be replaced by assigning to them.\n",
    "\n",
    "*   Use an index expression on the left of assignment to replace a value."
   ]
  },
  {
   "cell_type": "code",
   "execution_count": null,
   "metadata": {
    "button": false,
    "collapsed": true,
    "deletable": true,
    "new_sheet": false,
    "run_control": {
     "read_only": false
    }
   },
   "outputs": [],
   "source": [
    "roi_volumes[0] = 26.5\n",
    "# Our list is now: \n",
    "roi_volumes"
   ]
  },
  {
   "cell_type": "markdown",
   "metadata": {
    "button": false,
    "deletable": true,
    "new_sheet": false,
    "run_control": {
     "read_only": false
    }
   },
   "source": [
    "{: .python}"
   ]
  },
  {
   "cell_type": "code",
   "execution_count": null,
   "metadata": {
    "button": false,
    "collapsed": true,
    "deletable": true,
    "new_sheet": false,
    "run_control": {
     "read_only": false
    }
   },
   "outputs": [],
   "source": [
    "Our list is now: [26.5,145.3,12.7,16.2, 27.6]"
   ]
  },
  {
   "cell_type": "markdown",
   "metadata": {
    "button": false,
    "deletable": true,
    "new_sheet": false,
    "run_control": {
     "read_only": false
    }
   },
   "source": [
    "{: .output}\n",
    "\n",
    "## Appending items to a list lengthens it.\n",
    "\n",
    "*   Use `list_name.append` to add items to the end of a list."
   ]
  },
  {
   "cell_type": "code",
   "execution_count": null,
   "metadata": {
    "button": false,
    "collapsed": true,
    "deletable": true,
    "new_sheet": false,
    "run_control": {
     "read_only": false
    }
   },
   "outputs": [],
   "source": [
    "# Our list is initially: \n",
    "roi_volumes "
   ]
  },
  {
   "cell_type": "markdown",
   "metadata": {
    "button": false,
    "deletable": true,
    "new_sheet": false,
    "run_control": {
     "read_only": false
    }
   },
   "source": [
    "{: .python}"
   ]
  },
  {
   "cell_type": "code",
   "execution_count": null,
   "metadata": {
    "button": false,
    "collapsed": true,
    "deletable": true,
    "new_sheet": false,
    "run_control": {
     "read_only": false
    }
   },
   "outputs": [],
   "source": [
    "[26.5,145.3,12.7,16.2, 27.6]"
   ]
  },
  {
   "cell_type": "markdown",
   "metadata": {
    "button": false,
    "deletable": true,
    "new_sheet": false,
    "run_control": {
     "read_only": false
    }
   },
   "source": [
    "{: .output}"
   ]
  },
  {
   "cell_type": "code",
   "execution_count": null,
   "metadata": {
    "button": false,
    "collapsed": true,
    "deletable": true,
    "new_sheet": false,
    "run_control": {
     "read_only": false
    }
   },
   "outputs": [],
   "source": [
    "roi_volumes.append(14.2)\n",
    "roi_volumes.append(140)\n",
    "# Our list has now become: \n",
    "roi_volumes"
   ]
  },
  {
   "cell_type": "markdown",
   "metadata": {
    "button": false,
    "deletable": true,
    "new_sheet": false,
    "run_control": {
     "read_only": false
    }
   },
   "source": [
    "{: .python}"
   ]
  },
  {
   "cell_type": "code",
   "execution_count": null,
   "metadata": {
    "button": false,
    "collapsed": true,
    "deletable": true,
    "new_sheet": false,
    "run_control": {
     "read_only": false
    }
   },
   "outputs": [],
   "source": [
    "[26.5,145.3,12.7,16.2, 27.6,14.2,140]"
   ]
  },
  {
   "cell_type": "markdown",
   "metadata": {
    "button": false,
    "deletable": true,
    "new_sheet": false,
    "run_control": {
     "read_only": false
    }
   },
   "source": [
    "{: .python}\n",
    "\n",
    "*   `append` is a *method* of lists.\n",
    "    *   Like a function, but tied to a particular object.\n",
    "*   Use `object_name.method_name` to call methods.\n",
    "    *   Deliberately resembles the way we refer to things in a package. We'll learn about packages later.\n",
    "*   We will meet other methods of lists as we go along.\n",
    "    *   In IPython, after typing a period after an object we can preview the\n",
    "        methods available to us by hitting the tab-key. Alternatively we can\n",
    "        see the methods by using the `dir` function or by accessing the help for\n",
    "        an object.\n",
    "\n",
    "## Use `del` to remove items from a list entirely.\n",
    "\n",
    "*   `del list_name[index]` removes an item from a list and shortens the list.\n",
    "*   Not a function or a method, but a statement in the language."
   ]
  },
  {
   "cell_type": "code",
   "execution_count": null,
   "metadata": {
    "button": false,
    "collapsed": true,
    "deletable": true,
    "new_sheet": false,
    "run_control": {
     "read_only": false
    }
   },
   "outputs": [],
   "source": [
    "# roi_volumes before removing last item: \n",
    "roi_volumes"
   ]
  },
  {
   "cell_type": "markdown",
   "metadata": {
    "button": false,
    "deletable": true,
    "new_sheet": false,
    "run_control": {
     "read_only": false
    }
   },
   "source": [
    "{: .python}"
   ]
  },
  {
   "cell_type": "code",
   "execution_count": null,
   "metadata": {
    "button": false,
    "collapsed": true,
    "deletable": true,
    "new_sheet": false,
    "run_control": {
     "read_only": false
    }
   },
   "outputs": [],
   "source": [
    "[26.5,145.3,12.7,16.2, 27.6,14.2,140]"
   ]
  },
  {
   "cell_type": "markdown",
   "metadata": {
    "button": false,
    "deletable": true,
    "new_sheet": false,
    "run_control": {
     "read_only": false
    }
   },
   "source": [
    "{: .output}"
   ]
  },
  {
   "cell_type": "code",
   "execution_count": null,
   "metadata": {
    "button": false,
    "collapsed": true,
    "deletable": true,
    "new_sheet": false,
    "run_control": {
     "read_only": false
    }
   },
   "outputs": [],
   "source": [
    "del roi_volumes[6]\n",
    "# roi_volumes after removing last item: \n",
    "roi_volumes"
   ]
  },
  {
   "cell_type": "markdown",
   "metadata": {
    "button": false,
    "deletable": true,
    "new_sheet": false,
    "run_control": {
     "read_only": false
    }
   },
   "source": [
    "{: .python}"
   ]
  },
  {
   "cell_type": "code",
   "execution_count": null,
   "metadata": {
    "button": false,
    "collapsed": true,
    "deletable": true,
    "new_sheet": false,
    "run_control": {
     "read_only": false
    }
   },
   "outputs": [],
   "source": [
    "[26.5,145.3,12.7,16.2, 27.6,14.2]"
   ]
  },
  {
   "cell_type": "markdown",
   "metadata": {
    "button": false,
    "deletable": true,
    "new_sheet": false,
    "run_control": {
     "read_only": false
    }
   },
   "source": [
    "{: .output}\n",
    "\n",
    "## The empty list contains no values.\n",
    "\n",
    "*   Use `[]` on its own to represent a list that doesn't contain any values.\n",
    "    *   \"The zero of lists.\"\n",
    "*   Helpful as a starting point for collecting values which we will see when we\n",
    "learn about iteration.\n",
    "\n",
    "## Lists may contain values of different types.\n",
    "\n",
    "*   A single list may contain numbers, strings, and anything else."
   ]
  },
  {
   "cell_type": "code",
   "execution_count": null,
   "metadata": {
    "button": false,
    "collapsed": true,
    "deletable": true,
    "new_sheet": false,
    "run_control": {
     "read_only": false
    }
   },
   "outputs": [],
   "source": [
    "goals = [1, 'Create lists.', 2, 'Extract items from lists.', 3, 'Modify lists.']"
   ]
  },
  {
   "cell_type": "markdown",
   "metadata": {
    "button": false,
    "deletable": true,
    "new_sheet": false,
    "run_control": {
     "read_only": false
    }
   },
   "source": [
    "{: .python}\n",
    "\n",
    "While this list can be created there are better ways of representing this type of information.\n",
    "\n",
    "## Character strings can be indexed like lists.\n",
    "\n",
    "*   As we saw before, indexing into strings is the same as lists."
   ]
  },
  {
   "cell_type": "code",
   "execution_count": null,
   "metadata": {
    "button": false,
    "collapsed": true,
    "deletable": true,
    "new_sheet": false,
    "run_control": {
     "read_only": false
    }
   },
   "outputs": [],
   "source": [
    "label_for_roi = 'cortex_left'\n",
    "# The character indexed by 0: \n",
    "label_for_roi[0]\n",
    "# The character indexed by 3: "
   ]
  },
  {
   "cell_type": "markdown",
   "metadata": {
    "button": false,
    "deletable": true,
    "new_sheet": false,
    "run_control": {
     "read_only": false
    }
   },
   "source": [
    "{: .python}"
   ]
  },
  {
   "cell_type": "code",
   "execution_count": null,
   "metadata": {
    "button": false,
    "collapsed": true,
    "deletable": true,
    "new_sheet": false,
    "run_control": {
     "read_only": false
    }
   },
   "outputs": [],
   "source": [
    "c"
   ]
  },
  {
   "cell_type": "markdown",
   "metadata": {
    "button": false,
    "deletable": true,
    "new_sheet": false,
    "run_control": {
     "read_only": false
    }
   },
   "source": [
    "{: .output}"
   ]
  },
  {
   "cell_type": "code",
   "execution_count": null,
   "metadata": {
    "button": false,
    "collapsed": true,
    "deletable": true,
    "new_sheet": false,
    "run_control": {
     "read_only": false
    }
   },
   "outputs": [],
   "source": [
    "label_for_roi[3]"
   ]
  },
  {
   "cell_type": "markdown",
   "metadata": {
    "button": false,
    "deletable": true,
    "new_sheet": false,
    "run_control": {
     "read_only": false
    }
   },
   "source": [
    "{: .python}"
   ]
  },
  {
   "cell_type": "code",
   "execution_count": null,
   "metadata": {
    "button": false,
    "collapsed": true,
    "deletable": true,
    "new_sheet": false,
    "run_control": {
     "read_only": false
    }
   },
   "outputs": [],
   "source": [
    "\n",
    "t"
   ]
  },
  {
   "cell_type": "markdown",
   "metadata": {
    "button": false,
    "deletable": true,
    "new_sheet": false,
    "run_control": {
     "read_only": false
    }
   },
   "source": [
    "{: .output}\n",
    "\n",
    "## Character strings are immutable.\n",
    "\n",
    "*   Cannot change the characters in a string after it has been created.\n",
    "    *   *Immutable*: cannot be changed after creation.\n",
    "    *   In contrast, lists are *mutable*: they can be modified in place.\n",
    "*   Python considers the string to be a single value with parts,\n",
    "    not a collection of values."
   ]
  },
  {
   "cell_type": "code",
   "execution_count": null,
   "metadata": {
    "button": false,
    "collapsed": true,
    "deletable": true,
    "new_sheet": false,
    "run_control": {
     "read_only": false
    }
   },
   "outputs": [],
   "source": [
    "label_for_roi[0] = 'C'"
   ]
  },
  {
   "cell_type": "markdown",
   "metadata": {
    "button": false,
    "deletable": true,
    "new_sheet": false,
    "run_control": {
     "read_only": false
    }
   },
   "source": [
    "{: .python}"
   ]
  },
  {
   "cell_type": "code",
   "execution_count": null,
   "metadata": {
    "button": false,
    "collapsed": true,
    "deletable": true,
    "new_sheet": false,
    "run_control": {
     "read_only": false
    }
   },
   "outputs": [],
   "source": [
    "TypeError: 'str' object does not support item assignment"
   ]
  },
  {
   "cell_type": "markdown",
   "metadata": {
    "button": false,
    "deletable": true,
    "new_sheet": false,
    "run_control": {
     "read_only": false
    }
   },
   "source": [
    "{: .error}\n",
    "\n",
    "*   Lists and character strings are both *collections*.\n",
    "\n",
    "## Indexing beyond the end of the collection is an error.\n",
    "\n",
    "*   Python reports an `IndexError` if we attempt to access a value that doesn't exist.\n",
    "    *   This is a kind of [runtime error]({{ page.root }}/05-error-messages/).\n",
    "    *   Cannot be detected as the code is parsed\n",
    "        because the index might be calculated based on data."
   ]
  },
  {
   "cell_type": "code",
   "execution_count": null,
   "metadata": {
    "button": false,
    "collapsed": true,
    "deletable": true,
    "new_sheet": false,
    "run_control": {
     "read_only": false
    }
   },
   "outputs": [],
   "source": [
    "# The character indexed by 99 is: \n",
    "label_for_roi[99]"
   ]
  },
  {
   "cell_type": "markdown",
   "metadata": {
    "button": false,
    "deletable": true,
    "new_sheet": false,
    "run_control": {
     "read_only": false
    }
   },
   "source": [
    "{: .python}"
   ]
  },
  {
   "cell_type": "code",
   "execution_count": null,
   "metadata": {
    "button": false,
    "collapsed": true,
    "deletable": true,
    "new_sheet": false,
    "run_control": {
     "read_only": false
    }
   },
   "outputs": [],
   "source": [
    "IndexError: string index out of range"
   ]
  },
  {
   "cell_type": "markdown",
   "metadata": {
    "button": false,
    "deletable": true,
    "new_sheet": false,
    "run_control": {
     "read_only": false
    }
   },
   "source": [
    "{: .output}\n",
    "\n",
    "> ## Fill in the Blanks\n",
    "> \n",
    "> Fill in the blanks so that the program below produces the output shown.\n",
    "> \n",
    "> ~~~\n",
    "> values = []\n",
    "> values.____(1)\n",
    "> values.____(3)\n",
    "> values.____(5)\n",
    "> print('first time:', values)\n",
    "> values = values[____]\n",
    "> print('second time:', values)\n",
    "> ~~~\n",
    "> {: .python}\n",
    "> \n",
    "> ~~~\n",
    "> first time: [1, 3, 5]\n",
    "> second time: [3, 5]\n",
    "> ~~~\n",
    "> {: .output}\n",
    "> \n",
    "> > ## Solution\n",
    "> > \n",
    "> > ~~~\n",
    "> > values = []\n",
    "> > values.append(1)\n",
    "> > values.append(3)\n",
    "> > values.append(5)\n",
    "> > print('first time:', values)\n",
    "> > values = values[1:3]\n",
    "> > print('second time:', values)\n",
    "> > ~~~\n",
    "> > {: .python}\n",
    "> {: .solution}\n",
    "{: .challenge}\n",
    "\n",
    "> ## How Large is a Slice?\n",
    "> \n",
    "> If 'low' and 'high' are both non-negative integers,\n",
    "> how long is the list `values[low:high]`?\n",
    "> \n",
    "> > ## Solution\n",
    "> > \n",
    "> > ~~~\n",
    "> > high-low\n",
    "> > ~~~\n",
    "> > {: .output}\n",
    "> {: .solution}\n",
    "{: .challenge}\n",
    "\n",
    "> ## From Strings to Lists and Back\n",
    "> \n",
    "> Given this:\n",
    "> \n",
    "> ~~~\n",
    "> print('string to list:', list('ADHD'))\n",
    "> print('list to string:', ''.join(['c', 'n', 's']))\n",
    "> ~~~\n",
    "> {: .python}\n",
    "> ~~~\n",
    "> string to list: ['A', 'D', 'H', 'D']\n",
    "> list to string: 'cns'\n",
    "> ~~~\n",
    "> {: .output}\n",
    "> \n",
    "> 1.  Explain in simple terms what `list('some string')` does.\n",
    "> 2.  What does `'-'.join(['x', 'y'])` generate?\n",
    "{: .challenge}\n",
    "\n",
    "> ## Working With the End\n",
    "> \n",
    "> What does the following program print?\n",
    "> \n",
    "> ~~~\n",
    "> roi_label = 'hippocampus'\n",
    "> print(roi_label[-1])\n",
    "> ~~~\n",
    "> {: .python}\n",
    "> \n",
    "> 1.  How does Python interpret a negative index?\n",
    "> 2.  If a list or string has N elements,\n",
    "> what is the most negative index that can safely be used with it,\n",
    "> and what location does that index represent?\n",
    "> 3.  If `values` is a list, what does `del values[-1]` do?\n",
    "> 4.  How can you display all elements but the last one without \n",
    "> changing `values`?\n",
    ">     (Hint: you will need to combine slicing and negative indexing.)\n",
    "> \n",
    "> > ## Solution\n",
    "> > \n",
    "> > ~~~\n",
    "> > 1: It retrieves elements by stepping backwards through the string.\n",
    "> > 2: -N. This location is the first element in the list.\n",
    "> > 3: It deletes the last element in the list.\n",
    "> > 4: values[0:-1]\n",
    "> > ~~~\n",
    "> > {: .output}\n",
    "> {: .solution}\n",
    "{: .challenge}\n",
    "\n",
    "> ## Stepping Through a List\n",
    "> \n",
    "> What does the following program print?\n",
    "> \n",
    "> ~~~\n",
    "> roi_label = 'hippocampus'\n",
    "> print(roi_label[::2])\n",
    "> print(roi_label[::-1])\n",
    "> ~~~\n",
    "> {: .python}\n",
    "> \n",
    "> 1.  If we write a slice as `low:high:stride`, what does `stride` do?\n",
    "> 2.  What expression would select every other element, starting from the second?\n",
    "> \n",
    "> > ## Solution\n",
    "> > \n",
    "> > ~~~\n",
    "> > hpoaps\n",
    "> > supmacoppih\n",
    "> > \n",
    "> > ~~~\n",
    "> > {: .output}\n",
    "> > 1: stride is the step to go through the list\n",
    "> > \n",
    "> > The answer to question 2 is:\n",
    "> > \n",
    "> > ~~~\n",
    "> > listobject[1::2]\n",
    "> > ~~~\n",
    "> > {: .python}\n",
    "> {: .solution}\n",
    "{: .challenge}\n",
    "\n",
    "> ## Slice Bounds\n",
    "> \n",
    "> What does the following program print?\n",
    "> \n",
    "> ~~~\n",
    "> roi_label = 'hippocampus'\n",
    "> print(roi_label[0:20])\n",
    "> print(roi_label[-1:3])\n",
    "> ~~~\n",
    "> {: .python}\n",
    "> \n",
    "> > ## Solution\n",
    "> > \n",
    "> > ~~~\n",
    "> > hippocampus\n",
    "> >        \n",
    "> > ~~~\n",
    "> > {: .output}\n",
    "> {: .solution}\n",
    "{: .challenge}\n",
    "\n",
    "> ## Sort and Sorted\n",
    "> \n",
    "> ~~~\n",
    "> roi_label_as_list = list(roi_label)\n",
    "> ~~~\n",
    "> {: .python}\n",
    "> \n",
    "> In simple terms, explain the difference between `sorted(roi_label_as_list)`\n",
    "> and `roi_label_as_list.sort()`.\n",
    "{: .challenge}\n",
    "\n",
    "> ## Copying (or Not)\n",
    "> \n",
    "> What do these two programs print?\n",
    "> In simple terms, explain the difference between `new = old` and `new = old[:]`.\n",
    "> For more information read about [deep copy vs shallow copy](https://docs.python.org/3/library/copy.html) \n",
    "> \n",
    "> ~~~\n",
    "> # Program A\n",
    "> old = list('Brain')\n",
    "> new = old      # simple assignment\n",
    "> new[0] = 'D'\n",
    "> print('new is', new, 'and old is', old)\n",
    "> ~~~\n",
    "> {: .python}\n",
    "> \n",
    "> ~~~\n",
    "> # Program B\n",
    "> old = list('Brain')\n",
    "> new = old[:]   # assigning a slice\n",
    "> new[0] = 'D'\n",
    "> print('new is', new, 'and old is', old)\n",
    "> ~~~\n",
    "> {: .python}\n",
    "{: .challenge}"
   ]
  }
 ],
 "metadata": {
  "kernelspec": {
   "display_name": "Python 3",
   "language": "python",
   "name": "python3"
  },
  "language_info": {
   "codemirror_mode": {
    "name": "ipython",
    "version": 3
   },
   "file_extension": ".py",
   "mimetype": "text/x-python",
   "name": "python",
   "nbconvert_exporter": "python",
   "pygments_lexer": "ipython3",
   "version": "3.5.0"
  }
 },
 "nbformat": 4,
 "nbformat_minor": 2
}
