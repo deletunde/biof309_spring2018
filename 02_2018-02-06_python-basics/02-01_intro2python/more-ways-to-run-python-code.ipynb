{
 "cells": [
  {
   "cell_type": "markdown",
   "metadata": {
    "slideshow": {
     "slide_type": "fragment"
    }
   },
   "source": [
    "<img align=left src=\"https://www.python.org/static/community_logos/python-logo-master-v3-TM.png\">"
   ]
  },
  {
   "cell_type": "markdown",
   "metadata": {
    "slideshow": {
     "slide_type": "skip"
    }
   },
   "source": [
    "---"
   ]
  },
  {
   "cell_type": "markdown",
   "metadata": {
    "slideshow": {
     "slide_type": "slide"
    }
   },
   "source": [
    "## Ways to Run a Python Program:\n",
    "\n",
    "1. Within the Python interpreter\n",
    "1. Executing a Python file (.py) with the Python Interpreter\n",
    "1. Using the Jupyter Notebook (we will be using this method)\n",
    "1. Use an Integrated Development Environment (IDE) such as [PyCharm](https://www.jetbrains.com/pycharm/download/)"
   ]
  },
  {
   "cell_type": "markdown",
   "metadata": {
    "slideshow": {
     "slide_type": "fragment"
    }
   },
   "source": [
    "### 1. Run a Python Program Within the Python interpreter\n",
    "\n",
    "- Open yout _Terminal (Mac)_ or _Command Prompt (Windows)_ \n",
    "- Start the python interpreter by typing __python__ in your Terminal or Command prompt and hit __Enter__\n",
    "\n",
    "        $ python\n",
    "\n",
    "- You should see something that looks like this:\n",
    "\n",
    "        Python 3.5.1 |Anaconda 4.0.0 (x86_64)| (default, Dec  7 2015, 11:24:55)\n",
    "        [GCC 4.2.1 (Apple Inc. build 5577)] on darwin\n",
    "        Type \"help\", \"copyright\", \"credits\" or \"license\" for more information.\n",
    "        >>>\n",
    "\n",
    "\n",
    "- Type __print(\"Hello World\")__ and hit __Enter__"
   ]
  },
  {
   "cell_type": "markdown",
   "metadata": {
    "slideshow": {
     "slide_type": "slide"
    }
   },
   "source": [
    "### 2. Executing a Python file (.py) with the Python Interpreter"
   ]
  },
  {
   "cell_type": "markdown",
   "metadata": {
    "slideshow": {
     "slide_type": "fragment"
    }
   },
   "source": [
    "Open a basic text editor ([Atom](https://atom.io) is great!) and type:\n",
    "\n",
    "    print(‘hello world’)\n",
    "\n",
    "Save the file as as text file \"hello_world.py\"\n",
    "\n",
    "__Note:__ Make sure there is not an extra extension on the end such as \".txt\"\n",
    "\n",
    "To run the script, in the Terminal (or DOS prompt) type:\n",
    "\n",
    "    $ python /Users/squiresrb/scripts/hello_world.py\n",
    "\n",
    "and hit return.\n",
    "\n",
    "You should see:\n",
    "\n",
    "    $ hello world"
   ]
  },
  {
   "cell_type": "markdown",
   "metadata": {
    "slideshow": {
     "slide_type": "slide"
    }
   },
   "source": [
    "### 3. Using the Jupyter Notebook"
   ]
  },
  {
   "cell_type": "code",
   "execution_count": 1,
   "metadata": {
    "collapsed": false,
    "slideshow": {
     "slide_type": "fragment"
    }
   },
   "outputs": [
    {
     "name": "stdout",
     "output_type": "stream",
     "text": [
      "Hello world\n"
     ]
    }
   ],
   "source": [
    "# This is a code cell. See the word \"Code\" in the drop-down menu above?\n",
    "\n",
    "# Click on the __Run__ button above to run this 'cell'\n",
    "\n",
    "print(\"Hello world\")"
   ]
  },
  {
   "cell_type": "markdown",
   "metadata": {
    "slideshow": {
     "slide_type": "skip"
    }
   },
   "source": [
    "---"
   ]
  },
  {
   "cell_type": "markdown",
   "metadata": {
    "slideshow": {
     "slide_type": "slide"
    }
   },
   "source": [
    "### 4. Use an Integrated Development Environment (IDE)"
   ]
  },
  {
   "cell_type": "markdown",
   "metadata": {
    "slideshow": {
     "slide_type": "slide"
    }
   },
   "source": [
    "#### [__PyCharm__](http://www.jetbrains.com/pycharm/)\n",
    "\n",
    "- Code completion, on-the-fly error highlighting, auto-fixes, etc.\n",
    "- Automated code refactorings and rich navigation capabilities\n",
    "- Integrated debugger and unit testing support\n",
    "- Native version control system (VCS) integrations\n",
    "- Customizable UI and key-bindings, with VIM emulation available\n",
    "- Free Community edition\n",
    "- Now support Jupyter Notebook editing and running.\n",
    "\n",
    "<img src=\"https://www.jetbrains.com/pycharm/img/screenshots/complexLook@2x.jpg\" width=\"600\">"
   ]
  },
  {
   "cell_type": "markdown",
   "metadata": {
    "slideshow": {
     "slide_type": "fragment"
    }
   },
   "source": [
    "#### [Spyder](http://code.google.com/p/spyderlib/)\n",
    "- Installed as part of Continuum Analytics Anaconda package\n",
    "- Many of the same features as PyCharm\n",
    "\n",
    "<img src=\"https://github.com/spyder-ide/spyder/blob/master/img_src/screenshot.png?raw=true\" width=\"600\">"
   ]
  },
  {
   "cell_type": "markdown",
   "metadata": {
    "slideshow": {
     "slide_type": "skip"
    }
   },
   "source": [
    "---"
   ]
  },
  {
   "cell_type": "markdown",
   "metadata": {
    "slideshow": {
     "slide_type": "slide"
    }
   },
   "source": [
    "#### (You can also run Python in the Cloud)\n",
    "\n",
    "- [Python Anywhere](http://www.pythonanywhere.com)\n",
    "\n",
    "- [Python Fiddle: Python Cloud IDE](http://pythonfiddle.com)\n",
    "\n",
    "- [Koding: Free Programming Virtual Machine](http://koding.com)\n",
    "\n",
    "See also: https://wiki.python.org/moin/FreeHosts"
   ]
  },
  {
   "cell_type": "code",
   "execution_count": null,
   "metadata": {
    "collapsed": false
   },
   "outputs": [],
   "source": []
  }
 ],
 "metadata": {
  "anaconda-cloud": {},
  "gist_id": "cedf51e5d24af8694bfe",
  "kernelspec": {
   "display_name": "Python 3",
   "language": "python",
   "name": "python3"
  },
  "language_info": {
   "codemirror_mode": {
    "name": "ipython",
    "version": 3
   },
   "file_extension": ".py",
   "mimetype": "text/x-python",
   "name": "python",
   "nbconvert_exporter": "python",
   "pygments_lexer": "ipython3",
   "version": "3.6.0"
  }
 },
 "nbformat": 4,
 "nbformat_minor": 0
}
