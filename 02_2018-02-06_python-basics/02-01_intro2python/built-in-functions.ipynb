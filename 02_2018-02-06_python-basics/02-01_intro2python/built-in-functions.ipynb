{
 "cells": [
  {
   "cell_type": "markdown",
   "metadata": {},
   "source": [
    "---\n",
    "title: \"Built-in Functions and Help\"\n",
    "teaching: 15\n",
    "exercises: 10\n",
    "questions:\n",
    "- \"How can I use built-in functions?\"\n",
    "- \"How can I find out what they do?\"\n",
    "- \"What kind of errors can occur in programs?\"\n",
    "objectives:\n",
    "- \"Explain the purpose of functions.\"\n",
    "- \"Correctly call built-in Python functions.\"\n",
    "- \"Correctly nest calls to built-in functions.\"\n",
    "- \"Use help to display documentation and source code for built-in functions.\"\n",
    "- \"Correctly describe situations in which SyntaxError and NameError occur.\"\n",
    "keypoints:\n",
    "- \"Use comments to add documentation to programs.\"\n",
    "- \"A function may take zero or more arguments.\"\n",
    "- \"Commonly-used built-in functions include `max`, `min`, and `print`.\"\n",
    "- \"Functions may only work for certain (combinations of) arguments.\"\n",
    "- \"Functions may have default values for some arguments.\"\n",
    "- \"Use the built-in function `help` to get help for a function in python or '?' after the function in IPython.\"\n",
    "- \"Every function returns something.\"\n",
    "- \"Python reports a syntax error when it can't understand the source of a program.\"\n",
    "- \"Python reports a runtime error when something goes wrong while a program is executing.\"\n",
    "- \"Fix syntax errors by reading the source code, and runtime errors by tracing the program's execution.\"\n",
    "---\n",
    "\n",
    "## A function may take zero or more arguments.\n",
    "\n",
    "*   We have seen some functions already --- now let's take a closer look.\n",
    "*   An *argument* is a value passed into a function.\n",
    "*   `len` takes exactly one.\n",
    "*   `int`, `str`, and `float` create a new value from an existing one.\n",
    "*   `print` takes zero or more.\n",
    "*   `print` with no arguments prints a blank line.\n",
    "    *   Must always use parentheses, even if they're empty,\n",
    "        so that Python knows a function is being called."
   ]
  },
  {
   "cell_type": "code",
   "execution_count": null,
   "metadata": {},
   "outputs": [],
   "source": [
    "print('before')\n",
    "print()\n",
    "print('after')"
   ]
  },
  {
   "cell_type": "markdown",
   "metadata": {},
   "source": [
    "{: .python}"
   ]
  },
  {
   "cell_type": "code",
   "execution_count": null,
   "metadata": {},
   "outputs": [],
   "source": [
    "before\n",
    "\n",
    "after"
   ]
  },
  {
   "cell_type": "markdown",
   "metadata": {},
   "source": [
    "{: .output}\n",
    "\n",
    "## Commonly-used built-in functions include `max`, `min`, and `round`.\n",
    "\n",
    "*   Use `max` to find the largest value of one or more values.\n",
    "*   Use `min` to find the smallest.\n",
    "*   Both work on character strings as well as numbers.\n",
    "    *   \"Larger\" and \"smaller\" use (0-9, A-Z, a-z) to compare letters."
   ]
  },
  {
   "cell_type": "code",
   "execution_count": null,
   "metadata": {},
   "outputs": [],
   "source": [
    "max(1, 2, 3)"
   ]
  },
  {
   "cell_type": "markdown",
   "metadata": {},
   "source": [
    "{: .python}"
   ]
  },
  {
   "cell_type": "code",
   "execution_count": null,
   "metadata": {},
   "outputs": [],
   "source": [
    "3"
   ]
  },
  {
   "cell_type": "markdown",
   "metadata": {},
   "source": [
    "{: .output}"
   ]
  },
  {
   "cell_type": "code",
   "execution_count": null,
   "metadata": {},
   "outputs": [],
   "source": [
    "min('a', 'A', '0')"
   ]
  },
  {
   "cell_type": "markdown",
   "metadata": {},
   "source": [
    "{: .python}"
   ]
  },
  {
   "cell_type": "code",
   "execution_count": null,
   "metadata": {},
   "outputs": [],
   "source": [
    "'0'"
   ]
  },
  {
   "cell_type": "markdown",
   "metadata": {},
   "source": [
    "{: .output}\n",
    "\n",
    "## Functions may only work for certain (combinations of) arguments.\n",
    "\n",
    "*   `max` and `min` must be given at least one argument.\n",
    "    *   \"Largest of the empty set\" is a meaningless question.\n",
    "*   And they must be given things that can meaningfully be compared."
   ]
  },
  {
   "cell_type": "code",
   "execution_count": null,
   "metadata": {},
   "outputs": [],
   "source": [
    "max(1, 'a')"
   ]
  },
  {
   "cell_type": "markdown",
   "metadata": {},
   "source": [
    "{: .python}"
   ]
  },
  {
   "cell_type": "code",
   "execution_count": null,
   "metadata": {},
   "outputs": [],
   "source": [
    "TypeError: unorderable types: str() > int()"
   ]
  },
  {
   "cell_type": "markdown",
   "metadata": {},
   "source": [
    "{: .error}\n",
    "\n",
    "## Functions may have default values for some arguments.\n",
    "\n",
    "*   `round` will round off a floating-point number.\n",
    "*   By default, rounds to zero decimal places."
   ]
  },
  {
   "cell_type": "code",
   "execution_count": null,
   "metadata": {},
   "outputs": [],
   "source": [
    "round(3.712)"
   ]
  },
  {
   "cell_type": "markdown",
   "metadata": {},
   "source": [
    "{: .python}"
   ]
  },
  {
   "cell_type": "code",
   "execution_count": null,
   "metadata": {},
   "outputs": [],
   "source": [
    "4"
   ]
  },
  {
   "cell_type": "markdown",
   "metadata": {},
   "source": [
    "{: .output}\n",
    "\n",
    "*   We can specify the number of decimal places we want."
   ]
  },
  {
   "cell_type": "code",
   "execution_count": null,
   "metadata": {},
   "outputs": [],
   "source": [
    "round(3.712, 1)"
   ]
  },
  {
   "cell_type": "markdown",
   "metadata": {},
   "source": [
    "{: .python}"
   ]
  },
  {
   "cell_type": "code",
   "execution_count": null,
   "metadata": {},
   "outputs": [],
   "source": [
    "3.7"
   ]
  },
  {
   "cell_type": "markdown",
   "metadata": {},
   "source": [
    "{: .output}\n",
    "\n",
    "\n",
    "\n",
    "## Use the built-in function `help` to get help for a function.\n",
    "\n",
    "*   Every built-in function has online documentation."
   ]
  },
  {
   "cell_type": "code",
   "execution_count": null,
   "metadata": {},
   "outputs": [],
   "source": [
    "help(round)"
   ]
  },
  {
   "cell_type": "markdown",
   "metadata": {},
   "source": [
    "{: .python}"
   ]
  },
  {
   "cell_type": "code",
   "execution_count": null,
   "metadata": {},
   "outputs": [],
   "source": [
    "Help on built-in function round in module builtins:\n",
    "\n",
    "round(...)\n",
    "    round(number[, ndigits]) -> number\n",
    "\n",
    "    Round a number to a given precision in decimal digits (default 0 digits).\n",
    "    This returns an int when called with one argument, otherwise the\n",
    "    same type as the number. ndigits may be negative."
   ]
  },
  {
   "cell_type": "markdown",
   "metadata": {},
   "source": [
    "{: .output}\n",
    "\n",
    "## IPython provides easier access to help\n",
    "\n",
    "*   As we open a parenthesis of a function we can see some useful help\n",
    "*   We can type `?` after a function or object to get help about it that\n",
    "includes what is displayed by the Python help function."
   ]
  },
  {
   "cell_type": "code",
   "execution_count": null,
   "metadata": {},
   "outputs": [],
   "source": [
    "print?"
   ]
  },
  {
   "cell_type": "markdown",
   "metadata": {},
   "source": [
    "{: .python}"
   ]
  },
  {
   "cell_type": "code",
   "execution_count": null,
   "metadata": {},
   "outputs": [],
   "source": [
    "Docstring:\n",
    "print(value, ..., sep=' ', end='\\n', file=sys.stdout, flush=False)\n",
    "\n",
    "Prints the values to a stream, or to sys.stdout by default.\n",
    "Optional keyword arguments:\n",
    "file:  a file-like object (stream); defaults to the current sys.stdout.\n",
    "sep:   string inserted between values, default a space.\n",
    "end:   string appended after the last value, default a newline.\n",
    "flush: whether to forcibly flush the stream.\n",
    "Type:      builtin_function_or_method"
   ]
  },
  {
   "cell_type": "markdown",
   "metadata": {},
   "source": [
    "Additionally IPython provides a convenient manner to view the source code of\n",
    "functions. This help is available by using `??`. Most of the built-in functions\n",
    "are not written in Python. For performance reasons they are written in compiled\n",
    "languages like C. In these cases, the `??` help command will display the same\n",
    "content as the previously mentioned help command."
   ]
  },
  {
   "cell_type": "code",
   "execution_count": null,
   "metadata": {},
   "outputs": [],
   "source": [
    "print??"
   ]
  },
  {
   "cell_type": "markdown",
   "metadata": {},
   "source": [
    "{: .python}"
   ]
  },
  {
   "cell_type": "code",
   "execution_count": null,
   "metadata": {},
   "outputs": [],
   "source": [
    "Docstring:\n",
    "print(value, ..., sep=' ', end='\\n', file=sys.stdout, flush=False)\n",
    "\n",
    "Prints the values to a stream, or to sys.stdout by default.\n",
    "Optional keyword arguments:\n",
    "file:  a file-like object (stream); defaults to the current sys.stdout.\n",
    "sep:   string inserted between values, default a space.\n",
    "end:   string appended after the last value, default a newline.\n",
    "flush: whether to forcibly flush the stream.\n",
    "Type:      builtin_function_or_method"
   ]
  },
  {
   "cell_type": "markdown",
   "metadata": {},
   "source": [
    "{: .output}\n",
    "\n",
    "\n",
    "## Python reports a syntax error when it can't understand the source of a program.\n",
    "\n",
    "*   Won't even try to run the program if it can't be parsed."
   ]
  },
  {
   "cell_type": "code",
   "execution_count": null,
   "metadata": {},
   "outputs": [],
   "source": [
    "# Forgot to close the quotation marks around the string.\n",
    "roi_label = 'hippocampus"
   ]
  },
  {
   "cell_type": "markdown",
   "metadata": {},
   "source": [
    "{: .python}"
   ]
  },
  {
   "cell_type": "code",
   "execution_count": null,
   "metadata": {},
   "outputs": [],
   "source": [
    "...\n",
    "SyntaxError: EOL while scanning string literal"
   ]
  },
  {
   "cell_type": "markdown",
   "metadata": {},
   "source": [
    "{: .error}"
   ]
  },
  {
   "cell_type": "code",
   "execution_count": null,
   "metadata": {},
   "outputs": [],
   "source": [
    "# An extra '=' in the assignment.\n",
    "brain_volume = = 1302"
   ]
  },
  {
   "cell_type": "markdown",
   "metadata": {},
   "source": [
    "{: .python}"
   ]
  },
  {
   "cell_type": "code",
   "execution_count": null,
   "metadata": {},
   "outputs": [],
   "source": [
    "...\n",
    "SyntaxError: invalid syntax"
   ]
  },
  {
   "cell_type": "markdown",
   "metadata": {},
   "source": [
    "{: .error}\n",
    "\n",
    "*   Look more closely at the error message:"
   ]
  },
  {
   "cell_type": "code",
   "execution_count": null,
   "metadata": {},
   "outputs": [],
   "source": [
    "# use a multiline expression by pressing ctrl + enter after each line\n",
    "brain_volume = 1302\n",
    "print( brain_volume \n",
    "# execute the multiline expression using shift + enter"
   ]
  },
  {
   "cell_type": "markdown",
   "metadata": {},
   "source": [
    "{: .python}"
   ]
  },
  {
   "cell_type": "code",
   "execution_count": null,
   "metadata": {},
   "outputs": [],
   "source": [
    "  print( brain_volume # in ipython we must execute this command using shift + enter\n",
    "\n",
    "  File \"<ipython-input-408-c217d1563eb4>\", line 2\n",
    "    print( brain_volume # in ipython we must execute this command using shift + enter\n",
    "                                                                            ^\n",
    "SyntaxError: unexpected EOF while parsing"
   ]
  },
  {
   "cell_type": "markdown",
   "metadata": {},
   "source": [
    "{: .error}\n",
    "\n",
    "*   The message indicates a problem on first line of the input (\"line 2\").\n",
    "    *   In this case the \"ipython-input\" section of the file name tells us that\n",
    "        we are working with input into IPython.\n",
    "*   Next is the problematic line of code, indicating the problem with a `^`\n",
    "    pointer.\n",
    "\n",
    "## Python reports a runtime error when something goes wrong while a program is executing."
   ]
  },
  {
   "cell_type": "code",
   "execution_count": null,
   "metadata": {},
   "outputs": [],
   "source": [
    "brain_volume = 1302\n",
    "grey_matter = 700 \n",
    "csf_and_white_matter = brain_volume - grey_matters # mis-spelled 'grey_matter'"
   ]
  },
  {
   "cell_type": "markdown",
   "metadata": {},
   "source": [
    "{: .python}"
   ]
  },
  {
   "cell_type": "code",
   "execution_count": null,
   "metadata": {},
   "outputs": [],
   "source": [
    "NameError: name 'grey_matters' is not defined"
   ]
  },
  {
   "cell_type": "markdown",
   "metadata": {},
   "source": [
    "{: .error}\n",
    "\n",
    "*   Fix syntax errors by reading the source and runtime errors by tracing execution.\n",
    "\n",
    "## Every function returns something.\n",
    "\n",
    "*   Every function call produces some result.\n",
    "*   If the function doesn't have a useful result to return, it usually returns\n",
    "    the special value `None`."
   ]
  },
  {
   "cell_type": "code",
   "execution_count": null,
   "metadata": {},
   "outputs": [],
   "source": [
    "result = print('hippocampus')"
   ]
  },
  {
   "cell_type": "markdown",
   "metadata": {},
   "source": [
    "{: .python}"
   ]
  },
  {
   "cell_type": "code",
   "execution_count": null,
   "metadata": {},
   "outputs": [],
   "source": [
    "hippocampus"
   ]
  },
  {
   "cell_type": "markdown",
   "metadata": {},
   "source": [
    "{: .output}"
   ]
  },
  {
   "cell_type": "code",
   "execution_count": null,
   "metadata": {},
   "outputs": [],
   "source": [
    "print(result)"
   ]
  },
  {
   "cell_type": "markdown",
   "metadata": {},
   "source": [
    "{: .python}"
   ]
  },
  {
   "cell_type": "code",
   "execution_count": null,
   "metadata": {},
   "outputs": [],
   "source": [
    "None"
   ]
  },
  {
   "cell_type": "markdown",
   "metadata": {},
   "source": [
    "{: .output}\n",
    "\n",
    "> ## What Happens When\n",
    ">\n",
    "> 1. Explain in simple terms the order of operations in the following program:\n",
    ">    when does the addition happen, when does the subtraction happen,\n",
    ">    when is each function called, etc.\n",
    "> 2. What is the final value of `radiance`?\n",
    ">\n",
    "> ~~~\n",
    "> radiance = 1.0\n",
    "> radiance = max(2.1, 2.0 + min(radiance, 1.1 * radiance - 0.5))\n",
    "> ~~~\n",
    "> {: .python}\n",
    "{: .challenge}\n",
    "\n",
    "> ## Spot the Difference\n",
    ">\n",
    "> 1. Predict what each of the `print` statements in the program below will print.\n",
    "> 2. Does `max(len(grey_matter), white_matter)` run or produce an error message?\n",
    ">    If it runs, does its result make any sense?\n",
    ">\n",
    "> ~~~\n",
    "> grey_matter = \"the good stuff\"\n",
    "> white_matter = \"the wires\"\n",
    "> print(max(grey_matter, white_matter))\n",
    "> print(max(len(grey_matter), len(white_matter)))\n",
    "> ~~~\n",
    "> {: .python}\n",
    "{: .challenge}\n",
    "\n",
    "> ## Working with None\n",
    ">\n",
    "> Why don't `max` and `min` return `None` when they are given no arguments?\n",
    "{: .challenge}\n",
    "\n",
    "> ## Last Character of a String\n",
    ">\n",
    "> If Python starts counting from zero,\n",
    "> and `len` returns the number of characters in a string,\n",
    "> what index expression will get the last character in the string `roi_label`?\n",
    "> (Note: we will see a simpler way to do this in a later episode.)\n",
    ">\n",
    "> > ## Solution\n",
    "> >\n",
    "> > `roi_label[len(roi_label) - 1]`\n",
    "> {: .solution}\n",
    "{: .challenge}"
   ]
  }
 ],
 "metadata": {},
 "nbformat": 4,
 "nbformat_minor": 2
}
