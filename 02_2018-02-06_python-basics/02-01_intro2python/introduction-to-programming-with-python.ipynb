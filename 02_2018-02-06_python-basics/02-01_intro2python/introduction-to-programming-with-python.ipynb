{
 "cells": [
  {
   "cell_type": "markdown",
   "metadata": {},
   "source": [
    "# Introduction to Programming (with Python)"
   ]
  },
  {
   "cell_type": "code",
   "execution_count": null,
   "metadata": {
    "collapsed": true
   },
   "outputs": [],
   "source": []
  },
  {
   "cell_type": "markdown",
   "metadata": {},
   "source": [
    "Assumptions\n",
    "- We have a reference sequence (in fasta)\n",
    "- We have three sequences for each strain / year (in fasta)\n",
    "- Organize by strain name, year\n",
    "    - Ara-1, 2, 3, 4, 5, 6\n",
    "    - Ara+1, 2, 3, 4, 5, 6\n",
    "\n",
    "Hints\n",
    "- The EMBOSS suite has program to compute the differences between two sequences\n"
   ]
  },
  {
   "cell_type": "markdown",
   "metadata": {},
   "source": [
    "## Pseudocode"
   ]
  },
  {
   "cell_type": "markdown",
   "metadata": {},
   "source": [
    "Get reference sequence\n",
    "\n",
    "Loop\n",
    "- Read data file(s)\n",
    "- Calculate mutations\n",
    "- Average among replicates\n",
    "- Save data\n",
    "\n",
    "Plot data"
   ]
  },
  {
   "cell_type": "code",
   "execution_count": null,
   "metadata": {
    "collapsed": true
   },
   "outputs": [],
   "source": []
  }
 ],
 "metadata": {
  "kernelspec": {
   "display_name": "Python 3",
   "language": "python",
   "name": "python3"
  },
  "language_info": {
   "codemirror_mode": {
    "name": "ipython",
    "version": 3
   },
   "file_extension": ".py",
   "mimetype": "text/x-python",
   "name": "python",
   "nbconvert_exporter": "python",
   "pygments_lexer": "ipython3",
   "version": "3.6.0"
  }
 },
 "nbformat": 4,
 "nbformat_minor": 2
}
