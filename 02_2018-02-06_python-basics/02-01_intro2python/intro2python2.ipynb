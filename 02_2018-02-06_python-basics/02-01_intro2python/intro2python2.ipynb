{
 "cells": [
  {
   "cell_type": "markdown",
   "metadata": {
    "nbpresent": {
     "id": "cd0bacec-f1ed-4d0a-a84a-0ffe103532ec"
    },
    "slideshow": {
     "slide_type": "slide"
    }
   },
   "source": [
    "## What are we going to cover today?\n",
    "\n",
    "- Intro survey\n",
    "- Syllabus overview\n",
    "- An introduction to computational thinking\n",
    "- What can you do with python\n",
    "- Why python?\n",
    "- Software installation\n",
    "- Jupyter notebook"
   ]
  },
  {
   "cell_type": "markdown",
   "metadata": {
    "nbpresent": {
     "id": "0d1f54aa-9f6c-4ac9-a926-5f2600c1319c"
    },
    "slideshow": {
     "slide_type": "slide"
    }
   },
   "source": [
    "## Introductory Survey\n",
    "\n",
    "https://goo.gl/forms/IDxumzHTT1P1Hso52\n",
    "    "
   ]
  },
  {
   "cell_type": "markdown",
   "metadata": {
    "nbpresent": {
     "id": "a62e6107-acfb-4a15-b938-31a3a6dddc1c"
    },
    "slideshow": {
     "slide_type": "slide"
    }
   },
   "source": [
    "### Course materials\n",
    "\n",
    "https://github.com/marskar/BIOF309_Fall2017\n",
    "\n",
    "We will learn how to access GitHub next class"
   ]
  },
  {
   "cell_type": "markdown",
   "metadata": {
    "collapsed": true,
    "nbpresent": {
     "id": "3652bd8c-f958-498b-bc0c-cd7b1936111b"
    },
    "slideshow": {
     "slide_type": "slide"
    }
   },
   "source": [
    "## An introduction to computational thinking\n",
    "\n",
    "What does it mean to think computationally?"
   ]
  },
  {
   "cell_type": "markdown",
   "metadata": {
    "slideshow": {
     "slide_type": "slide"
    }
   },
   "source": [
    "## Automate the Boring Stuff\n",
    "\n",
    "- Moving and renaming thousands of files and sorting them into folders\n",
    "- Filling out online forms, no typing required\n",
    "- Downloading files or copy text from a website whenever it updates\n",
    "- Having your computer text you custom notifications\n",
    "- Updating or formatting Excel spreadsheets\n",
    "- Checking your email and sending out prewritten responses"
   ]
  },
  {
   "cell_type": "markdown",
   "metadata": {
    "slideshow": {
     "slide_type": "slide"
    }
   },
   "source": [
    "## Why python?\n",
    "\n",
    "\n",
    "\n",
    "- Python is easy to learn\n",
    "- Python is powerful\n",
    "- There is one obvious way to do something\n",
    "- Packages\n",
    "    - There are almost 90,000 packages of software aready written\n",
    "    - Scientific python stack packages\n",
    "- Large standard library of built-in functions; batteries included\n",
    "- Python is easy to read\n",
    "- Can easily handle strings"
   ]
  },
  {
   "cell_type": "markdown",
   "metadata": {
    "slideshow": {
     "slide_type": "slide"
    }
   },
   "source": [
    "## Why python, continued...\n",
    "\n",
    "- Scales well\n",
    "- Python is fast\n",
    "- Python is object oriented by default\n",
    "- Python is the default teaching language at many / most universities\n",
    "- Indentation!\n",
    "- Killer apps - Django, pandas, scikit-learn\n",
    "- Free learning\n",
    "- Rapid development cycle"
   ]
  },
  {
   "cell_type": "markdown",
   "metadata": {
    "nbpresent": {
     "id": "512fc80e-1fea-4b57-9b99-01ef3bfcf44b"
    },
    "slideshow": {
     "slide_type": "slide"
    }
   },
   "source": [
    "How does python differe from other scripting languages\n",
    "- Implementation\n",
    "- Iterator - built-in\n",
    "- List comprehensions"
   ]
  },
  {
   "cell_type": "markdown",
   "metadata": {
    "nbpresent": {
     "id": "f2b75cfd-af79-4367-99c6-582a960d8a8e"
    },
    "slideshow": {
     "slide_type": "slide"
    }
   },
   "source": [
    "    >>> import this\n",
    "    The Zen of Python, by Tim Peters\n",
    "\n",
    "    Beautiful is better than ugly.\n",
    "    Explicit is better than implicit.\n",
    "    Simple is better than complex.\n",
    "    Complex is better than complicated.\n",
    "    Flat is better than nested.\n",
    "    Sparse is better than dense.\n",
    "    Readability counts.\n",
    "    Special cases aren't special enough to break the rules.\n",
    "    Although practicality beats purity.\n",
    "    Errors should never pass silently.\n",
    "    Unless explicitly silenced.\n",
    "    In the face of ambiguity, refuse the temptation to guess.\n",
    "    There should be one-- and preferably only one --obvious way to do it.\n",
    "    Although that way may not be obvious at first unless you're Dutch.\n",
    "    Now is better than never.\n",
    "    Although never is often better than *right* now.\n",
    "    If the implementation is hard to explain, it's a bad idea.\n",
    "    If the implementation is easy to explain, it may be a good idea.\n",
    "    Namespaces are one honking great idea -- let's do more of those!"
   ]
  },
  {
   "cell_type": "markdown",
   "metadata": {
    "nbpresent": {
     "id": "e1cef9ca-976a-4ee2-b22b-d6cd67ba918a"
    },
    "slideshow": {
     "slide_type": "slide"
    }
   },
   "source": [
    "## What can you do with python\n",
    "\n",
    "https://www.youtube.com/watch?v=-67hh86N42Q\n",
    "\n",
    "Examples\n",
    "- Automate the boring stuff examples\n",
    "- Bioinformatics pipelines\n",
    "- Scrape data from a webpage\n",
    "- Run machine learning algorithms on data\n",
    "- Make games\n",
    "- Build websites\n",
    "- Analyze Excel data\n",
    "- Analyze image data\n",
    "- Program roborts or drones\n",
    "\n",
    "Other examples:\n",
    "- https://www.quora.com/What-can-I-do-build-with-Python\n",
    "- https://wiki.python.org/moin/Applications\n",
    "- https://www.python.org/about/apps/"
   ]
  },
  {
   "cell_type": "markdown",
   "metadata": {
    "slideshow": {
     "slide_type": "slide"
    }
   },
   "source": [
    "## Jupyter notebook introduction"
   ]
  },
  {
   "cell_type": "code",
   "execution_count": 5,
   "metadata": {
    "slideshow": {
     "slide_type": "slide"
    }
   },
   "outputs": [
    {
     "name": "stdout",
     "output_type": "stream",
     "text": [
      "Hello world\n"
     ]
    }
   ],
   "source": [
    "## Our first program\n",
    "\n",
    "print(\"Hello world\")"
   ]
  },
  {
   "cell_type": "code",
   "execution_count": null,
   "metadata": {
    "collapsed": true,
    "slideshow": {
     "slide_type": "slide"
    }
   },
   "outputs": [],
   "source": [
    "## Add some interaction\n",
    "\n",
    "name = input()\n",
    "print(\"Hello \" + name)"
   ]
  },
  {
   "cell_type": "code",
   "execution_count": 3,
   "metadata": {
    "slideshow": {
     "slide_type": "slide"
    }
   },
   "outputs": [
    {
     "name": "stdout",
     "output_type": "stream",
     "text": [
      "Writing hello_world_interactive.py\n"
     ]
    }
   ],
   "source": [
    "%%writefile hello_world_interactive.py\n",
    "\n",
    "## Same as above but using Jupyter magic command '%%writefile' to save as a text file\n",
    "\n",
    "name = input()\n",
    "print(\"Hello \" + name)"
   ]
  },
  {
   "cell_type": "code",
   "execution_count": null,
   "metadata": {
    "collapsed": true
   },
   "outputs": [],
   "source": []
  }
 ],
 "metadata": {
  "anaconda-cloud": {},
  "celltoolbar": "Slideshow",
  "kernelspec": {
   "display_name": "Python [conda root]",
   "language": "python",
   "name": "conda-root-py"
  },
  "language_info": {
   "codemirror_mode": {
    "name": "ipython",
    "version": 3
   },
   "file_extension": ".py",
   "mimetype": "text/x-python",
   "name": "python",
   "nbconvert_exporter": "python",
   "pygments_lexer": "ipython3",
   "version": "3.5.3"
  },
  "nbpresent": {
   "slides": {
    "00858d89-6d34-40de-b315-535e7bb4c1cc": {
     "id": "00858d89-6d34-40de-b315-535e7bb4c1cc",
     "prev": "470eac44-73de-4b92-aa62-9a566e773c72",
     "regions": {
      "2cadb323-f400-4236-ac64-8136222c59be": {
       "attrs": {
        "height": 1,
        "width": 1,
        "x": 0,
        "y": 0
       },
       "content": {
        "cell": "e1cef9ca-976a-4ee2-b22b-d6cd67ba918a",
        "part": "source"
       },
       "id": "2cadb323-f400-4236-ac64-8136222c59be"
      }
     }
    },
    "27ddbdf8-6804-4041-97ce-432c2bf34883": {
     "id": "27ddbdf8-6804-4041-97ce-432c2bf34883",
     "prev": "5e53b601-1f24-4cfc-a8b7-06e196fabc47",
     "regions": {
      "41144e49-1d63-42d1-887a-54a78b70a34c": {
       "attrs": {
        "height": 1,
        "width": 1,
        "x": 0,
        "y": 0
       },
       "content": {
        "cell": "a62e6107-acfb-4a15-b938-31a3a6dddc1c",
        "part": "source"
       },
       "id": "41144e49-1d63-42d1-887a-54a78b70a34c"
      }
     }
    },
    "470eac44-73de-4b92-aa62-9a566e773c72": {
     "id": "470eac44-73de-4b92-aa62-9a566e773c72",
     "prev": "9decd017-c1ab-4621-9fe2-13437b09b4f3",
     "regions": {
      "f154de36-e7ae-4168-a35a-d2e7d8481e51": {
       "attrs": {
        "height": 1,
        "width": 1,
        "x": 0,
        "y": 0
       },
       "content": {
        "cell": "f2b75cfd-af79-4367-99c6-582a960d8a8e",
        "part": "source"
       },
       "id": "f154de36-e7ae-4168-a35a-d2e7d8481e51"
      }
     }
    },
    "5e53b601-1f24-4cfc-a8b7-06e196fabc47": {
     "id": "5e53b601-1f24-4cfc-a8b7-06e196fabc47",
     "prev": "c94d8812-9d06-4107-9fb6-2a8836cafec1",
     "regions": {
      "d10463e6-2bfb-46ba-94ba-d2b937ed869f": {
       "attrs": {
        "height": 1,
        "width": 1,
        "x": 0,
        "y": 0
       },
       "content": {
        "cell": "0d1f54aa-9f6c-4ac9-a926-5f2600c1319c",
        "part": "source"
       },
       "id": "d10463e6-2bfb-46ba-94ba-d2b937ed869f"
      }
     }
    },
    "7d00d8a7-c3de-4d9d-9448-b2315239c3c1": {
     "id": "7d00d8a7-c3de-4d9d-9448-b2315239c3c1",
     "prev": "27ddbdf8-6804-4041-97ce-432c2bf34883",
     "regions": {
      "114e9a7f-ddd5-4b93-9c36-85461fdb2c35": {
       "attrs": {
        "height": 1,
        "width": 1,
        "x": 0,
        "y": 0
       },
       "content": {
        "cell": "3652bd8c-f958-498b-bc0c-cd7b1936111b",
        "part": "source"
       },
       "id": "114e9a7f-ddd5-4b93-9c36-85461fdb2c35"
      }
     }
    },
    "9decd017-c1ab-4621-9fe2-13437b09b4f3": {
     "id": "9decd017-c1ab-4621-9fe2-13437b09b4f3",
     "layout": "manual",
     "prev": "7d00d8a7-c3de-4d9d-9448-b2315239c3c1",
     "regions": {
      "55fd4a83-1a2c-4b51-b168-8d3a740141a4": {
       "attrs": {
        "height": 1,
        "pad": 0.01,
        "treemap:weight": 1,
        "width": 1,
        "x": -0.000998003992015968,
        "y": 0.0017742293191394987
       },
       "content": {
        "cell": "512fc80e-1fea-4b57-9b99-01ef3bfcf44b",
        "part": "source"
       },
       "id": "55fd4a83-1a2c-4b51-b168-8d3a740141a4"
      },
      "dbeb86ed-adb3-4a88-b506-a64f094e1671": {
       "attrs": {
        "height": 0.8,
        "width": 0.8,
        "x": 0.1,
        "y": 0.1
       },
       "id": "dbeb86ed-adb3-4a88-b506-a64f094e1671"
      }
     },
     "theme": "ef687204-54f9-4946-8d9f-08a723904557"
    },
    "a43ec433-a7b7-4045-a1b0-75bf7667026f": {
     "id": "a43ec433-a7b7-4045-a1b0-75bf7667026f",
     "prev": "00858d89-6d34-40de-b315-535e7bb4c1cc",
     "regions": {
      "18ccd692-e8fc-4ed4-9518-a1846342a1cb": {
       "attrs": {
        "height": 1,
        "width": 1,
        "x": 0,
        "y": 0
       },
       "content": {
        "cell": "4fb0377c-059e-49bc-adad-813783dfba6d",
        "part": "source"
       },
       "id": "18ccd692-e8fc-4ed4-9518-a1846342a1cb"
      }
     }
    },
    "a7e21143-de12-47f4-87af-4f1c73aae3ec": {
     "id": "a7e21143-de12-47f4-87af-4f1c73aae3ec",
     "prev": "df1c844c-6e52-42dc-8958-8dcd0201d70d",
     "regions": {
      "a49cb777-159f-4a21-b47d-4d20548808f9": {
       "attrs": {
        "height": 1,
        "width": 1,
        "x": 0,
        "y": 0
       },
       "content": {
        "cell": "f0c6406e-a1d7-44a0-93f3-f7481b835298",
        "part": "source"
       },
       "id": "a49cb777-159f-4a21-b47d-4d20548808f9"
      }
     }
    },
    "c94d8812-9d06-4107-9fb6-2a8836cafec1": {
     "id": "c94d8812-9d06-4107-9fb6-2a8836cafec1",
     "prev": "a7e21143-de12-47f4-87af-4f1c73aae3ec",
     "regions": {
      "7b661971-b505-4647-976d-e276d82944ff": {
       "attrs": {
        "height": 1,
        "width": 1,
        "x": 0,
        "y": 0
       },
       "content": {
        "cell": "cd0bacec-f1ed-4d0a-a84a-0ffe103532ec",
        "part": "source"
       },
       "id": "7b661971-b505-4647-976d-e276d82944ff"
      }
     },
     "theme": null
    },
    "de1f7fdc-91ab-41ab-9fde-68ce7c4e8daf": {
     "id": "de1f7fdc-91ab-41ab-9fde-68ce7c4e8daf",
     "prev": "a43ec433-a7b7-4045-a1b0-75bf7667026f",
     "regions": {
      "8921b325-b296-4672-859a-22512b508dc0": {
       "attrs": {
        "height": 1,
        "width": 1,
        "x": 0,
        "y": 0
       },
       "id": "8921b325-b296-4672-859a-22512b508dc0"
      }
     }
    },
    "df1c844c-6e52-42dc-8958-8dcd0201d70d": {
     "id": "df1c844c-6e52-42dc-8958-8dcd0201d70d",
     "prev": null,
     "regions": {
      "cef9c292-9215-4271-a72a-69d4bfc1d2fe": {
       "attrs": {
        "height": 1,
        "width": 1,
        "x": 0,
        "y": -1.1500000000000021
       },
       "content": {
        "cell": "846af570-cba8-4235-a249-0ce18e556eab",
        "part": "whole"
       },
       "id": "cef9c292-9215-4271-a72a-69d4bfc1d2fe",
       "x": 0.5,
       "y": 0.5
      }
     }
    }
   },
   "themes": {
    "default": "a22a9762-40cc-4c86-80ef-d448d69982ec",
    "theme": {
     "28b01909-363a-41f9-8554-aa91d901d8c8": {
      "backgrounds": {
       "backgroundColor": {
        "background-color": "backgroundColor",
        "id": "backgroundColor"
       }
      },
      "id": "28b01909-363a-41f9-8554-aa91d901d8c8",
      "palette": {
       "backgroundColor": {
        "id": "backgroundColor",
        "rgb": [
         240,
         241,
         235
        ]
       },
       "headingColor": {
        "id": "headingColor",
        "rgb": [
         56,
         61,
         61
        ]
       },
       "linkColor": {
        "id": "linkColor",
        "rgb": [
         81,
         72,
         61
        ]
       },
       "mainColor": {
        "id": "mainColor",
        "rgb": [
         0,
         0,
         0
        ]
       }
      },
      "rules": {
       "a": {
        "color": "linkColor"
       },
       "h1": {
        "color": "headingColor",
        "font-family": "EB Garamond",
        "font-size": 7
       },
       "h2": {
        "color": "headingColor",
        "font-family": "EB Garamond",
        "font-size": 5
       },
       "h3": {
        "color": "headingColor",
        "font-family": "EB Garamond",
        "font-size": 3.75
       },
       "h4": {
        "color": "headingColor",
        "font-family": "EB Garamond",
        "font-size": 3
       },
       "h5": {
        "color": "headingColor",
        "font-family": "EB Garamond"
       },
       "h6": {
        "color": "headingColor",
        "font-family": "EB Garamond"
       },
       "h7": {
        "color": "headingColor",
        "font-family": "EB Garamond"
       },
       "li": {
        "color": "mainColor",
        "font-family": "EB Garamond",
        "font-size": 5
       },
       "p": {
        "color": "mainColor",
        "font-family": "EB Garamond",
        "font-size": 5
       }
      },
      "text-base": {
       "color": "mainColor",
       "font-family": "EB Garamond",
       "font-size": 5
      }
     },
     "486401aa-b24f-4fc7-b670-106c08e317b6": {
      "backgrounds": {
       "dc7afa04-bf90-40b1-82a5-726e3cff5267": {
        "background-color": "31af15d2-7e15-44c5-ab5e-e04b16a89eff",
        "id": "dc7afa04-bf90-40b1-82a5-726e3cff5267"
       }
      },
      "id": "486401aa-b24f-4fc7-b670-106c08e317b6",
      "palette": {
       "19cc588f-0593-49c9-9f4b-e4d7cc113b1c": {
        "id": "19cc588f-0593-49c9-9f4b-e4d7cc113b1c",
        "rgb": [
         252,
         252,
         252
        ]
       },
       "31af15d2-7e15-44c5-ab5e-e04b16a89eff": {
        "id": "31af15d2-7e15-44c5-ab5e-e04b16a89eff",
        "rgb": [
         68,
         68,
         68
        ]
       },
       "50f92c45-a630-455b-aec3-788680ec7410": {
        "id": "50f92c45-a630-455b-aec3-788680ec7410",
        "rgb": [
         197,
         226,
         245
        ]
       },
       "c5cc3653-2ee1-402a-aba2-7caae1da4f6c": {
        "id": "c5cc3653-2ee1-402a-aba2-7caae1da4f6c",
        "rgb": [
         43,
         126,
         184
        ]
       },
       "efa7f048-9acb-414c-8b04-a26811511a21": {
        "id": "efa7f048-9acb-414c-8b04-a26811511a21",
        "rgb": [
         25.118061674008803,
         73.60176211453744,
         107.4819383259912
        ]
       }
      },
      "rules": {
       "a": {
        "color": "19cc588f-0593-49c9-9f4b-e4d7cc113b1c"
       },
       "blockquote": {
        "color": "50f92c45-a630-455b-aec3-788680ec7410",
        "font-size": 3
       },
       "code": {
        "font-family": "Anonymous Pro"
       },
       "h1": {
        "color": "19cc588f-0593-49c9-9f4b-e4d7cc113b1c",
        "font-family": "Merriweather",
        "font-size": 8
       },
       "h2": {
        "color": "19cc588f-0593-49c9-9f4b-e4d7cc113b1c",
        "font-family": "Merriweather",
        "font-size": 6
       },
       "h3": {
        "color": "50f92c45-a630-455b-aec3-788680ec7410",
        "font-family": "Lato",
        "font-size": 5.5
       },
       "h4": {
        "color": "c5cc3653-2ee1-402a-aba2-7caae1da4f6c",
        "font-family": "Lato",
        "font-size": 5
       },
       "h5": {
        "font-family": "Lato"
       },
       "h6": {
        "font-family": "Lato"
       },
       "h7": {
        "font-family": "Lato"
       },
       "li": {
        "color": "50f92c45-a630-455b-aec3-788680ec7410",
        "font-size": 3.25
       },
       "pre": {
        "font-family": "Anonymous Pro",
        "font-size": 4
       }
      },
      "text-base": {
       "color": "19cc588f-0593-49c9-9f4b-e4d7cc113b1c",
       "font-family": "Lato",
       "font-size": 4
      }
     },
     "4a3c7dd0-49dd-4b7f-9823-004f638c0004": {
      "backgrounds": {
       "backgroundColor": {
        "background-color": "backgroundColor",
        "id": "backgroundColor"
       }
      },
      "id": "4a3c7dd0-49dd-4b7f-9823-004f638c0004",
      "palette": {
       "backgroundColor": {
        "id": "backgroundColor",
        "rgb": [
         0,
         43,
         54
        ]
       },
       "headingColor": {
        "id": "headingColor",
        "rgb": [
         238,
         232,
         213
        ]
       },
       "linkColor": {
        "id": "linkColor",
        "rgb": [
         38,
         139,
         210
        ]
       },
       "mainColor": {
        "id": "mainColor",
        "rgb": [
         147,
         161,
         161
        ]
       }
      },
      "rules": {
       "a": {
        "color": "linkColor"
       },
       "h1": {
        "color": "headingColor",
        "font-family": "Oswald",
        "font-size": 7
       },
       "h2": {
        "color": "headingColor",
        "font-family": "Oswald",
        "font-size": 5
       },
       "h3": {
        "color": "headingColor",
        "font-family": "Oswald",
        "font-size": 3.75
       },
       "h4": {
        "color": "headingColor",
        "font-family": "Oswald",
        "font-size": 3
       },
       "h5": {
        "color": "headingColor",
        "font-family": "Oswald"
       },
       "h6": {
        "color": "headingColor",
        "font-family": "Oswald"
       },
       "h7": {
        "color": "headingColor",
        "font-family": "Oswald"
       },
       "li": {
        "color": "mainColor",
        "font-family": "Lato",
        "font-size": 5
       },
       "p": {
        "color": "mainColor",
        "font-family": "Lato",
        "font-size": 5
       }
      },
      "text-base": {
       "color": "mainColor",
       "font-family": "Lato",
       "font-size": 5
      }
     },
     "67268b76-c060-425c-b164-d1cc164d78c2": {
      "backgrounds": {
       "backgroundColor": {
        "background-color": "backgroundColor",
        "id": "backgroundColor"
       }
      },
      "id": "67268b76-c060-425c-b164-d1cc164d78c2",
      "palette": {
       "backgroundColor": {
        "id": "backgroundColor",
        "rgb": [
         43,
         43,
         43
        ]
       },
       "headingColor": {
        "id": "headingColor",
        "rgb": [
         238,
         238,
         238
        ]
       },
       "linkColor": {
        "id": "linkColor",
        "rgb": [
         19,
         218,
         236
        ]
       },
       "mainColor": {
        "id": "mainColor",
        "rgb": [
         238,
         238,
         238
        ]
       }
      },
      "rules": {
       "a": {
        "color": "linkColor"
       },
       "h1": {
        "color": "headingColor",
        "font-family": "Oswald",
        "font-size": 7
       },
       "h2": {
        "color": "headingColor",
        "font-family": "Oswald",
        "font-size": 5
       },
       "h3": {
        "color": "headingColor",
        "font-family": "Oswald",
        "font-size": 3.75
       },
       "h4": {
        "color": "headingColor",
        "font-family": "Oswald",
        "font-size": 3
       },
       "h5": {
        "color": "headingColor",
        "font-family": "Oswald"
       },
       "h6": {
        "color": "headingColor",
        "font-family": "Oswald"
       },
       "h7": {
        "color": "headingColor",
        "font-family": "Oswald"
       },
       "li": {
        "color": "mainColor",
        "font-family": "Lato",
        "font-size": 5
       },
       "p": {
        "color": "mainColor",
        "font-family": "Lato",
        "font-size": 5
       }
      },
      "text-base": {
       "color": "mainColor",
       "font-family": "Lato",
       "font-size": 5
      }
     },
     "8831e80e-091a-4db6-922b-b099fac2d0bb": {
      "id": "8831e80e-091a-4db6-922b-b099fac2d0bb",
      "palette": {
       "19cc588f-0593-49c9-9f4b-e4d7cc113b1c": {
        "id": "19cc588f-0593-49c9-9f4b-e4d7cc113b1c",
        "rgb": [
         252,
         252,
         252
        ]
       },
       "31af15d2-7e15-44c5-ab5e-e04b16a89eff": {
        "id": "31af15d2-7e15-44c5-ab5e-e04b16a89eff",
        "rgb": [
         68,
         68,
         68
        ]
       },
       "50f92c45-a630-455b-aec3-788680ec7410": {
        "id": "50f92c45-a630-455b-aec3-788680ec7410",
        "rgb": [
         155,
         177,
         192
        ]
       },
       "c5cc3653-2ee1-402a-aba2-7caae1da4f6c": {
        "id": "c5cc3653-2ee1-402a-aba2-7caae1da4f6c",
        "rgb": [
         43,
         126,
         184
        ]
       },
       "efa7f048-9acb-414c-8b04-a26811511a21": {
        "id": "efa7f048-9acb-414c-8b04-a26811511a21",
        "rgb": [
         25.118061674008803,
         73.60176211453744,
         107.4819383259912
        ]
       }
      },
      "rules": {
       "blockquote": {
        "color": "50f92c45-a630-455b-aec3-788680ec7410"
       },
       "code": {
        "font-family": "Anonymous Pro"
       },
       "h1": {
        "color": "c5cc3653-2ee1-402a-aba2-7caae1da4f6c",
        "font-family": "Lato",
        "font-size": 8
       },
       "h2": {
        "color": "c5cc3653-2ee1-402a-aba2-7caae1da4f6c",
        "font-family": "Lato",
        "font-size": 6
       },
       "h3": {
        "color": "50f92c45-a630-455b-aec3-788680ec7410",
        "font-family": "Lato",
        "font-size": 5.5
       },
       "h4": {
        "color": "c5cc3653-2ee1-402a-aba2-7caae1da4f6c",
        "font-family": "Lato",
        "font-size": 5
       },
       "h5": {
        "font-family": "Lato"
       },
       "h6": {
        "font-family": "Lato"
       },
       "h7": {
        "font-family": "Lato"
       },
       "pre": {
        "font-family": "Anonymous Pro",
        "font-size": 4
       }
      },
      "text-base": {
       "font-family": "Merriweather",
       "font-size": 4
      }
     },
     "a22a9762-40cc-4c86-80ef-d448d69982ec": {
      "backgrounds": {
       "backgroundColor": {
        "background-color": "backgroundColor",
        "id": "backgroundColor"
       }
      },
      "id": "a22a9762-40cc-4c86-80ef-d448d69982ec",
      "palette": {
       "backgroundColor": {
        "id": "backgroundColor",
        "rgb": [
         256,
         256,
         256
        ]
       },
       "headingColor": {
        "id": "headingColor",
        "rgb": [
         0,
         0,
         0
        ]
       },
       "linkColor": {
        "id": "linkColor",
        "rgb": [
         0,
         0,
         139
        ]
       },
       "mainColor": {
        "id": "mainColor",
        "rgb": [
         0,
         0,
         0
        ]
       }
      },
      "rules": {
       "a": {
        "color": "linkColor"
       },
       "h1": {
        "color": "headingColor",
        "font-family": "News Cycle",
        "font-size": 7
       },
       "h2": {
        "color": "headingColor",
        "font-family": "News Cycle",
        "font-size": 5
       },
       "h3": {
        "color": "headingColor",
        "font-family": "News Cycle",
        "font-size": 3.75
       },
       "h4": {
        "color": "headingColor",
        "font-family": "News Cycle",
        "font-size": 3
       },
       "h5": {
        "color": "headingColor",
        "font-family": "News Cycle"
       },
       "h6": {
        "color": "headingColor",
        "font-family": "News Cycle"
       },
       "h7": {
        "color": "headingColor",
        "font-family": "News Cycle"
       },
       "li": {
        "color": "mainColor",
        "font-family": "Lato",
        "font-size": 5
       },
       "p": {
        "color": "mainColor",
        "font-family": "Lato",
        "font-size": 5
       }
      },
      "text-base": {
       "color": "mainColor",
       "font-family": "Lato",
       "font-size": 5
      }
     },
     "a594c836-187f-41bf-9d9c-2f1db96c95fd": {
      "backgrounds": {
       "backgroundColor": {
        "background-color": "backgroundColor",
        "id": "backgroundColor"
       }
      },
      "id": "a594c836-187f-41bf-9d9c-2f1db96c95fd",
      "palette": {
       "backgroundColor": {
        "id": "backgroundColor",
        "rgb": [
         17,
         17,
         17
        ]
       },
       "headingColor": {
        "id": "headingColor",
        "rgb": [
         238,
         238,
         238
        ]
       },
       "linkColor": {
        "id": "linkColor",
        "rgb": [
         231,
         173,
         82
        ]
       },
       "mainColor": {
        "id": "mainColor",
        "rgb": [
         238,
         238,
         238
        ]
       }
      },
      "rules": {
       "a": {
        "color": "linkColor"
       },
       "h1": {
        "color": "headingColor",
        "font-family": "Montserrat",
        "font-size": 7
       },
       "h2": {
        "color": "headingColor",
        "font-family": "Montserrat",
        "font-size": 5
       },
       "h3": {
        "color": "headingColor",
        "font-family": "Montserrat",
        "font-size": 3.75
       },
       "h4": {
        "color": "headingColor",
        "font-family": "Montserrat",
        "font-size": 3
       },
       "h5": {
        "color": "headingColor",
        "font-family": "Montserrat"
       },
       "h6": {
        "color": "headingColor",
        "font-family": "Montserrat"
       },
       "h7": {
        "color": "headingColor",
        "font-family": "Montserrat"
       },
       "li": {
        "color": "mainColor",
        "font-family": "Open Sans",
        "font-size": 4
       },
       "p": {
        "color": "mainColor",
        "font-family": "Open Sans",
        "font-size": 4
       }
      },
      "text-base": {
       "color": "mainColor",
       "font-family": "Open Sans",
       "font-size": 4
      }
     },
     "a664fffd-2f3b-4645-b2fc-249b318dad0e": {
      "backgrounds": {
       "backgroundColor": {
        "background-color": "backgroundColor",
        "id": "backgroundColor"
       }
      },
      "id": "a664fffd-2f3b-4645-b2fc-249b318dad0e",
      "palette": {
       "backgroundColor": {
        "id": "backgroundColor",
        "rgb": [
         256,
         256,
         256
        ]
       },
       "headingColor": {
        "id": "headingColor",
        "rgb": [
         34,
         34,
         34
        ]
       },
       "linkColor": {
        "id": "linkColor",
        "rgb": [
         42,
         118,
         221
        ]
       },
       "mainColor": {
        "id": "mainColor",
        "rgb": [
         34,
         34,
         34
        ]
       }
      },
      "rules": {
       "a": {
        "color": "linkColor"
       },
       "h1": {
        "color": "headingColor",
        "font-family": "Source Sans Pro",
        "font-size": 5.25
       },
       "h2": {
        "color": "headingColor",
        "font-family": "Source Sans Pro",
        "font-size": 4
       },
       "h3": {
        "color": "headingColor",
        "font-family": "Source Sans Pro",
        "font-size": 3.5
       },
       "h4": {
        "color": "headingColor",
        "font-family": "Source Sans Pro",
        "font-size": 3
       },
       "h5": {
        "color": "headingColor",
        "font-family": "Source Sans Pro"
       },
       "h6": {
        "color": "headingColor",
        "font-family": "Source Sans Pro"
       },
       "h7": {
        "color": "headingColor",
        "font-family": "Source Sans Pro"
       },
       "li": {
        "color": "mainColor",
        "font-family": "Source Sans Pro",
        "font-size": 6
       },
       "p": {
        "color": "mainColor",
        "font-family": "Source Sans Pro",
        "font-size": 6
       }
      },
      "text-base": {
       "color": "mainColor",
       "font-family": "Source Sans Pro",
       "font-size": 6
      }
     },
     "cbd4d825-010b-406a-b3ab-576180bb9d94": {
      "backgrounds": {
       "backgroundColor": {
        "background-color": "backgroundColor",
        "id": "backgroundColor"
       }
      },
      "id": "cbd4d825-010b-406a-b3ab-576180bb9d94",
      "palette": {
       "backgroundColor": {
        "id": "backgroundColor",
        "rgb": [
         253,
         246,
         227
        ]
       },
       "headingColor": {
        "id": "headingColor",
        "rgb": [
         88,
         110,
         117
        ]
       },
       "linkColor": {
        "id": "linkColor",
        "rgb": [
         38,
         139,
         210
        ]
       },
       "mainColor": {
        "id": "mainColor",
        "rgb": [
         101,
         123,
         131
        ]
       }
      },
      "rules": {
       "a": {
        "color": "linkColor"
       },
       "h1": {
        "color": "headingColor",
        "font-family": "Oswald",
        "font-size": 7
       },
       "h2": {
        "color": "headingColor",
        "font-family": "Oswald",
        "font-size": 5
       },
       "h3": {
        "color": "headingColor",
        "font-family": "Oswald",
        "font-size": 3.75
       },
       "h4": {
        "color": "headingColor",
        "font-family": "Oswald",
        "font-size": 3
       },
       "h5": {
        "color": "headingColor",
        "font-family": "Oswald"
       },
       "h6": {
        "color": "headingColor",
        "font-family": "Oswald"
       },
       "h7": {
        "color": "headingColor",
        "font-family": "Oswald"
       },
       "li": {
        "color": "mainColor",
        "font-family": "Lato",
        "font-size": 5
       },
       "p": {
        "color": "mainColor",
        "font-family": "Lato",
        "font-size": 5
       }
      },
      "text-base": {
       "color": "mainColor",
       "font-family": "Lato",
       "font-size": 5
      }
     },
     "eb7fb3aa-2aed-41d6-a4dc-a63d358bf5fb": {
      "backgrounds": {
       "backgroundColor": {
        "background-color": "backgroundColor",
        "id": "backgroundColor"
       }
      },
      "id": "eb7fb3aa-2aed-41d6-a4dc-a63d358bf5fb",
      "palette": {
       "backgroundColor": {
        "id": "backgroundColor",
        "rgb": [
         247,
         243,
         222
        ]
       },
       "headingColor": {
        "id": "headingColor",
        "rgb": [
         51,
         51,
         51
        ]
       },
       "linkColor": {
        "id": "linkColor",
        "rgb": [
         139,
         116,
         61
        ]
       },
       "mainColor": {
        "id": "mainColor",
        "rgb": [
         51,
         51,
         51
        ]
       }
      },
      "rules": {
       "a": {
        "color": "linkColor"
       },
       "h1": {
        "color": "headingColor",
        "font-family": "Oswald",
        "font-size": 7
       },
       "h2": {
        "color": "headingColor",
        "font-family": "Oswald",
        "font-size": 5
       },
       "h3": {
        "color": "headingColor",
        "font-family": "Oswald",
        "font-size": 3.75
       },
       "h4": {
        "color": "headingColor",
        "font-family": "Oswald",
        "font-size": 3
       },
       "h5": {
        "color": "headingColor",
        "font-family": "Oswald"
       },
       "h6": {
        "color": "headingColor",
        "font-family": "Oswald"
       },
       "h7": {
        "color": "headingColor",
        "font-family": "Oswald"
       },
       "li": {
        "color": "mainColor",
        "font-family": "Lato",
        "font-size": 5
       },
       "p": {
        "color": "mainColor",
        "font-family": "Lato",
        "font-size": 5
       }
      },
      "text-base": {
       "color": "mainColor",
       "font-family": "Lato",
       "font-size": 5
      }
     },
     "ef687204-54f9-4946-8d9f-08a723904557": {
      "backgrounds": {
       "backgroundColor": {
        "background-color": "backgroundColor",
        "id": "backgroundColor"
       }
      },
      "id": "ef687204-54f9-4946-8d9f-08a723904557",
      "palette": {
       "backgroundColor": {
        "id": "backgroundColor",
        "rgb": [
         34,
         34,
         34
        ]
       },
       "headingColor": {
        "id": "headingColor",
        "rgb": [
         256,
         256,
         256
        ]
       },
       "linkColor": {
        "id": "linkColor",
        "rgb": [
         66,
         175,
         250
        ]
       },
       "mainColor": {
        "id": "mainColor",
        "rgb": [
         256,
         256,
         256
        ]
       }
      },
      "rules": {
       "a": {
        "color": "linkColor"
       },
       "h1": {
        "color": "headingColor",
        "font-family": "Source Sans Pro",
        "font-size": 5.25
       },
       "h2": {
        "color": "headingColor",
        "font-family": "Source Sans Pro",
        "font-size": 4
       },
       "h3": {
        "color": "headingColor",
        "font-family": "Source Sans Pro",
        "font-size": 3.5
       },
       "h4": {
        "color": "headingColor",
        "font-family": "Source Sans Pro",
        "font-size": 3
       },
       "h5": {
        "color": "headingColor",
        "font-family": "Source Sans Pro"
       },
       "h6": {
        "color": "headingColor",
        "font-family": "Source Sans Pro"
       },
       "h7": {
        "color": "headingColor",
        "font-family": "Source Sans Pro"
       },
       "li": {
        "color": "mainColor",
        "font-family": "Source Sans Pro",
        "font-size": 6
       },
       "p": {
        "color": "mainColor",
        "font-family": "Source Sans Pro",
        "font-size": 6
       }
      },
      "text-base": {
       "color": "mainColor",
       "font-family": "Source Sans Pro",
       "font-size": 6
      }
     }
    }
   }
  }
 },
 "nbformat": 4,
 "nbformat_minor": 1
}
