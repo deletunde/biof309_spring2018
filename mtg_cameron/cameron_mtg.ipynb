{
 "cells": [
  {
   "cell_type": "code",
   "execution_count": 1,
   "metadata": {
    "collapsed": true
   },
   "outputs": [],
   "source": [
    "import os\n",
    "import numpy as np\n",
    "import pandas as pd\n",
    "from progress import progress"
   ]
  },
  {
   "cell_type": "code",
   "execution_count": 3,
   "metadata": {
    "collapsed": true
   },
   "outputs": [],
   "source": [
    "card_db = None\n",
    "player_db = None\n",
    "progress_x = None"
   ]
  },
  {
   "cell_type": "code",
   "execution_count": 4,
   "metadata": {
    "collapsed": true
   },
   "outputs": [],
   "source": [
    "def enumerate_files(directory):\n",
    "    file_list = []\n",
    "    for filename in os.listdir(directory):\n",
    "        file_list.append(filename)\n",
    "    file_list = tuple(file_list)\n",
    "    return file_list"
   ]
  },
  {
   "cell_type": "code",
   "execution_count": 7,
   "metadata": {},
   "outputs": [
    {
     "data": {
      "text/plain": [
       "141"
      ]
     },
     "execution_count": 7,
     "metadata": {},
     "output_type": "execute_result"
    }
   ],
   "source": [
    "# pumps files in deck list\n",
    "a = enumerate_files('Decklists/')\n",
    "len(a)"
   ]
  },
  {
   "cell_type": "code",
   "execution_count": 31,
   "metadata": {
    "collapsed": true
   },
   "outputs": [],
   "source": [
    "def _fetch_deck_info(filepath):\n",
    "    '''Takes text file and breaks it down into individual cards by deck list. Also grabs deck's pilot and archetype'''\n",
    "    maindeck = []  # Initially a list of MD cards and their counts. Converted to dataframe when finished getting info.\n",
    "    sidedeck = []  # Initially a list of SD cards and their counts. Converted to dataframe when finished getting info.\n",
    "    with open(filepath, \"r\") as file:\n",
    "        while True:\n",
    "            current_card = file.readline()\n",
    "            if not current_card:\n",
    "                break  # Marks the end of the deck\n",
    "            if current_card == \"\\n\":\n",
    "                break  # New line differentiates between main and side decks in file\n",
    "            current_card = current_card.strip()\n",
    "            count = 0\n",
    "            for character in current_card:\n",
    "                try:  # Gets the length of the integer that represents the card count\n",
    "                    int(character)\n",
    "                except:  # Separates the name of the card from its quantity\n",
    "                    quantity = current_card[0:count]\n",
    "                    card_name = current_card[count+1:]\n",
    "                    continue\n",
    "                count += 1\n",
    "            maindeck.append([card_name, quantity])\n",
    "        maindeck = pd.DataFrame(maindeck)\n",
    "        maindeck.columns = ['Card', 'Count']\n",
    "        while True:\n",
    "            current_card = file.readline()\n",
    "            if not current_card:\n",
    "                break\n",
    "            if current_card == \"\\n\":\n",
    "                '''Decklists that where downloaded from Wizard's websites\n",
    "                uses 2 new lines to differentiate between main and side decks.'''\n",
    "                continue\n",
    "\n",
    "            current_card = current_card.strip()\n",
    "            card_name = current_card[2:]\n",
    "            quantity = current_card[0]\n",
    "            sidedeck.append([card_name, quantity])\n",
    "        sidedeck = pd.DataFrame(sidedeck)\n",
    "        sidedeck.columns = ['Card', 'Count']\n",
    "    extention_location = filepath.rfind('.txt')\n",
    "    folder_location = filepath.find('/')+1\n",
    "    file = filepath[folder_location:extention_location]\n",
    "    piolet, archetype = file.split(\"_ \")\n",
    "    piolet = piolet.title()\n",
    "    return maindeck, sidedeck, piolet, archetype"
   ]
  },
  {
   "cell_type": "code",
   "execution_count": 32,
   "metadata": {},
   "outputs": [
    {
     "ename": "IsADirectoryError",
     "evalue": "[Errno 21] Is a directory: 'Decklists/'",
     "output_type": "error",
     "traceback": [
      "\u001b[0;31m---------------------------------------------------------------------------\u001b[0m",
      "\u001b[0;31mIsADirectoryError\u001b[0m                         Traceback (most recent call last)",
      "\u001b[0;32m<ipython-input-32-88f05ceb40e0>\u001b[0m in \u001b[0;36m<module>\u001b[0;34m()\u001b[0m\n\u001b[0;32m----> 1\u001b[0;31m \u001b[0m_fetch_deck_info\u001b[0m\u001b[0;34m(\u001b[0m\u001b[0;34m'Decklists/'\u001b[0m\u001b[0;34m)\u001b[0m\u001b[0;34m\u001b[0m\u001b[0m\n\u001b[0m",
      "\u001b[0;32m<ipython-input-31-8f6f2bc2c5d2>\u001b[0m in \u001b[0;36m_fetch_deck_info\u001b[0;34m(filepath)\u001b[0m\n\u001b[1;32m      3\u001b[0m     \u001b[0mmaindeck\u001b[0m \u001b[0;34m=\u001b[0m \u001b[0;34m[\u001b[0m\u001b[0;34m]\u001b[0m  \u001b[0;31m# Initially a list of MD cards and their counts. Converted to dataframe when finished getting info.\u001b[0m\u001b[0;34m\u001b[0m\u001b[0m\n\u001b[1;32m      4\u001b[0m     \u001b[0msidedeck\u001b[0m \u001b[0;34m=\u001b[0m \u001b[0;34m[\u001b[0m\u001b[0;34m]\u001b[0m  \u001b[0;31m# Initially a list of SD cards and their counts. Converted to dataframe when finished getting info.\u001b[0m\u001b[0;34m\u001b[0m\u001b[0m\n\u001b[0;32m----> 5\u001b[0;31m     \u001b[0;32mwith\u001b[0m \u001b[0mopen\u001b[0m\u001b[0;34m(\u001b[0m\u001b[0mfilepath\u001b[0m\u001b[0;34m,\u001b[0m \u001b[0;34m\"r\"\u001b[0m\u001b[0;34m)\u001b[0m \u001b[0;32mas\u001b[0m \u001b[0mfile\u001b[0m\u001b[0;34m:\u001b[0m\u001b[0;34m\u001b[0m\u001b[0m\n\u001b[0m\u001b[1;32m      6\u001b[0m         \u001b[0;32mwhile\u001b[0m \u001b[0;32mTrue\u001b[0m\u001b[0;34m:\u001b[0m\u001b[0;34m\u001b[0m\u001b[0m\n\u001b[1;32m      7\u001b[0m             \u001b[0mcurrent_card\u001b[0m \u001b[0;34m=\u001b[0m \u001b[0mfile\u001b[0m\u001b[0;34m.\u001b[0m\u001b[0mreadline\u001b[0m\u001b[0;34m(\u001b[0m\u001b[0;34m)\u001b[0m\u001b[0;34m\u001b[0m\u001b[0m\n",
      "\u001b[0;31mIsADirectoryError\u001b[0m: [Errno 21] Is a directory: 'Decklists/'"
     ]
    }
   ],
   "source": [
    "_fetch_deck_info('Decklists/')"
   ]
  },
  {
   "cell_type": "code",
   "execution_count": null,
   "metadata": {
    "collapsed": true
   },
   "outputs": [],
   "source": [
    "def _generate_deck_database(directory):\n",
    "    file_list = enumerate_files(directory)  # Enumerate all deck files w/ cards, their piolets, and their archetypes\n",
    "    player_columns = ['Player', 'Archetype']  # Set up player/archetype databsae\n",
    "    # -------------------------------------------------------------------\n",
    "    global player_db\n",
    "    player_db = pd.DataFrame(columns=player_columns)\n",
    "    card_list_columns = ['Card', 'Main Deck', 'Side Deck', 'MD_Players', 'SD_Players']  # Set up deck database\n",
    "    global card_db\n",
    "    card_db = pd.DataFrame(columns=card_list_columns)\n",
    "    card_db = card_db.append({'Card': 'PLACEHOLDER CARD',\n",
    "                              'Main Deck': 0,\n",
    "                              'Side Deck': 0,\n",
    "                              'MD_Players': \"\",\n",
    "                              'SD_Players': \"\"},\n",
    "                             ignore_index=True)\n",
    "    "
   ]
  },
  {
   "cell_type": "code",
   "execution_count": null,
   "metadata": {
    "collapsed": true
   },
   "outputs": [],
   "source": [
    "#print(card_db.dtypes())\n",
    "    # -------------------------------------------------------------------\n",
    "\n",
    "    def _add_to_deck_DB(deck, decktype, player):\n",
    "        '''A function that adds a deck from file to the player and card databases'''\n",
    "        global card_db\n",
    "        if decktype == \"Main Deck\":  # Differentiates between maindecks and sidedecks\n",
    "            otherdecktype = \"Side Deck\"\n",
    "            playertype = \"MD_Players\"\n",
    "            otherplayertype = \"SD_Players\"\n",
    "        elif decktype == \"Side Deck\":\n",
    "            otherdecktype = \"Main Deck\"\n",
    "            otherplayertype = \"MD_Players\"\n",
    "            playertype = \"SD_Players\"\n",
    "        for index, row in deck.iterrows():  # Itterates through cards in the deck and adds them to the database\n",
    "            if card_db.index[card_db['Card'] == row['Card']].tolist():  # If the card is already in the DB\n",
    "                dupe_row = card_db.index[card_db['Card'] == row['Card']].tolist()\n",
    "                card_db.at[dupe_row, decktype] = int(card_db.loc[dupe_row, decktype]) + int(row['Count'])\n",
    "                ''' Is broken:\n",
    "                joinedplayerlist = list(card_db.loc[dupe_row, playertype]) + list(player)\n",
    "                card_db.at[dupe_row, playertype] = joinedplayerlist\n",
    "                '''\n",
    "            else:  # If the card isn't in the DB, add it with its count and its piolet.\n",
    "                card_db = card_db.append({'Card': row['Card'],\n",
    "                                          decktype: row['Count'],\n",
    "                                          otherdecktype: 0,\n",
    "                                          playertype: player,\n",
    "                                          otherplayertype: \"\"},\n",
    "                                         ignore_index=True)\n",
    "    deckcount = len(file_list)\n",
    "    deckprogress = 0\n",
    "    for file in file_list:  # for each deck\n",
    "        progress(deckprogress, deckcount, status=\"Putting together databases.\")\n",
    "        deck = _fetch_deck_info(\"Decklists/\" + file_list[file_list.index(file)])  # fetch the deck\n",
    "        # Player Lis\n",
    "        player_info = pd.DataFrame({'Player': deck[2],'Archetype': deck[3]}, index=[0])\n",
    "        player_db = pd.concat([player_db, player_info], ignore_index=True)\n",
    "        # Push deck list to card_db\n",
    "        _add_to_deck_DB(deck[0], \"Main Deck\", deck[2])\n",
    "        _add_to_deck_DB(deck[1], \"Side Deck\", deck[2])\n",
    "        deckprogress += 1\n",
    "    progress(deckcount, deckcount, status=\"Putting together databases. Done!\")\n",
    "\n",
    "    player_db = player_db.reindex(columns=player_columns)\n",
    "    pass"
   ]
  },
  {
   "cell_type": "code",
   "execution_count": 8,
   "metadata": {},
   "outputs": [
    {
     "name": "stdout",
     "output_type": "stream",
     "text": [
      "Formatting Data\n",
      "\n",
      "\n"
     ]
    },
    {
     "ename": "NameError",
     "evalue": "name '_generate_deck_database' is not defined",
     "output_type": "error",
     "traceback": [
      "\u001b[0;31m---------------------------------------------------------------------------\u001b[0m",
      "\u001b[0;31mNameError\u001b[0m                                 Traceback (most recent call last)",
      "\u001b[0;32m<ipython-input-8-ad41900e86a7>\u001b[0m in \u001b[0;36m<module>\u001b[0;34m()\u001b[0m\n\u001b[1;32m      2\u001b[0m     \u001b[0mprint\u001b[0m\u001b[0;34m(\u001b[0m\u001b[0;34m\"Formatting Data\"\u001b[0m\u001b[0;34m)\u001b[0m\u001b[0;34m\u001b[0m\u001b[0m\n\u001b[1;32m      3\u001b[0m     \u001b[0mprint\u001b[0m\u001b[0;34m(\u001b[0m\u001b[0;34m\"\\n\"\u001b[0m\u001b[0;34m)\u001b[0m\u001b[0;34m\u001b[0m\u001b[0m\n\u001b[0;32m----> 4\u001b[0;31m     \u001b[0m_generate_deck_database\u001b[0m\u001b[0;34m(\u001b[0m\u001b[0;34m'Decklists'\u001b[0m\u001b[0;34m)\u001b[0m  \u001b[0;31m# Begin to generate two databases, the players as well as the cards\u001b[0m\u001b[0;34m\u001b[0m\u001b[0m\n\u001b[0m\u001b[1;32m      5\u001b[0m     \u001b[0mprint\u001b[0m\u001b[0;34m(\u001b[0m\u001b[0;34m\"\\n\"\u001b[0m\u001b[0;34m)\u001b[0m\u001b[0;34m\u001b[0m\u001b[0m\n\u001b[1;32m      6\u001b[0m     \u001b[0mprint\u001b[0m\u001b[0;34m(\u001b[0m\u001b[0;34m\"Outputting Data\"\u001b[0m\u001b[0;34m)\u001b[0m\u001b[0;34m\u001b[0m\u001b[0m\n",
      "\u001b[0;31mNameError\u001b[0m: name '_generate_deck_database' is not defined"
     ]
    }
   ],
   "source": [
    "if __name__ == \"__main__\":\n",
    "    print(\"Formatting Data\")\n",
    "    print(\"\\n\")\n",
    "    _generate_deck_database('Decklists')  # Begin to generate two databases, the players as well as the cards\n",
    "    print(\"\\n\")\n",
    "    print(\"Outputting Data\")\n",
    "    print(\"\\n\")\n",
    "    print(card_db.head())  # Output the card database. BUG: Only the first alphabetical piolet is listed as running given card.\n",
    "    print(\"\\n\")\n",
    "    print(player_db.groupby('Archetype')['Player'].unique().head())  # Output who's running what"
   ]
  },
  {
   "cell_type": "code",
   "execution_count": 11,
   "metadata": {
    "collapsed": true
   },
   "outputs": [],
   "source": [
    "# this is the problem\n",
    "import pandas as pd\n",
    "card_list_columns = ['Card', 'Main Deck', 'Side Deck', 'MD_Players', 'SD_Players']  # Set up deck database\n",
    "global card_db\n",
    "card_db = pd.DataFrame(columns=card_list_columns)"
   ]
  },
  {
   "cell_type": "code",
   "execution_count": 15,
   "metadata": {},
   "outputs": [
    {
     "name": "stdout",
     "output_type": "stream",
     "text": [
      "<class 'pandas.core.frame.DataFrame'>\n",
      "Index: 0 entries\n",
      "Data columns (total 5 columns):\n",
      "Card          0 non-null object\n",
      "Main Deck     0 non-null object\n",
      "Side Deck     0 non-null object\n",
      "MD_Players    0 non-null object\n",
      "SD_Players    0 non-null object\n",
      "dtypes: object(5)\n",
      "memory usage: 80.0+ bytes\n"
     ]
    }
   ],
   "source": [
    "card_db.info()"
   ]
  },
  {
   "cell_type": "code",
   "execution_count": 30,
   "metadata": {
    "collapsed": true
   },
   "outputs": [],
   "source": [
    "card_dict = {'Card': 'PLACEHOLDER CARD',\n",
    "    'Main Deck': 0,\n",
    "    'Side Deck': 0,\n",
    "    'MD_Players': \"\",\n",
    "    'SD_Players': \"\"}\n",
    "card_list = card_dict.to"
   ]
  },
  {
   "cell_type": "code",
   "execution_count": 55,
   "metadata": {},
   "outputs": [
    {
     "data": {
      "text/html": [
       "<div>\n",
       "<style>\n",
       "    .dataframe thead tr:only-child th {\n",
       "        text-align: right;\n",
       "    }\n",
       "\n",
       "    .dataframe thead th {\n",
       "        text-align: left;\n",
       "    }\n",
       "\n",
       "    .dataframe tbody tr th {\n",
       "        vertical-align: top;\n",
       "    }\n",
       "</style>\n",
       "<table border=\"1\" class=\"dataframe\">\n",
       "  <thead>\n",
       "    <tr style=\"text-align: right;\">\n",
       "      <th></th>\n",
       "      <th>0</th>\n",
       "      <th>1</th>\n",
       "      <th>2</th>\n",
       "      <th>3</th>\n",
       "    </tr>\n",
       "  </thead>\n",
       "  <tbody>\n",
       "    <tr>\n",
       "      <th>0</th>\n",
       "      <td>0.0</td>\n",
       "      <td>0.0</td>\n",
       "      <td>0.0</td>\n",
       "      <td>0.0</td>\n",
       "    </tr>\n",
       "    <tr>\n",
       "      <th>1</th>\n",
       "      <td>0.0</td>\n",
       "      <td>0.0</td>\n",
       "      <td>0.0</td>\n",
       "      <td>0.0</td>\n",
       "    </tr>\n",
       "    <tr>\n",
       "      <th>2</th>\n",
       "      <td>0.0</td>\n",
       "      <td>0.0</td>\n",
       "      <td>0.0</td>\n",
       "      <td>0.0</td>\n",
       "    </tr>\n",
       "    <tr>\n",
       "      <th>3</th>\n",
       "      <td>0.0</td>\n",
       "      <td>0.0</td>\n",
       "      <td>0.0</td>\n",
       "      <td>0.0</td>\n",
       "    </tr>\n",
       "  </tbody>\n",
       "</table>\n",
       "</div>"
      ],
      "text/plain": [
       "     0    1    2    3\n",
       "0  0.0  0.0  0.0  0.0\n",
       "1  0.0  0.0  0.0  0.0\n",
       "2  0.0  0.0  0.0  0.0\n",
       "3  0.0  0.0  0.0  0.0"
      ]
     },
     "execution_count": 55,
     "metadata": {},
     "output_type": "execute_result"
    }
   ],
   "source": [
    "import numpy as np\n",
    "import pandas as pd\n",
    "df = pd.DataFrame(np.zeros((4, 4)))\n",
    "df  # 4 by 4 dataframe filled with zeros"
   ]
  },
  {
   "cell_type": "code",
   "execution_count": 56,
   "metadata": {},
   "outputs": [
    {
     "data": {
      "text/plain": [
       "0    float64\n",
       "1    float64\n",
       "2    float64\n",
       "3    float64\n",
       "dtype: object"
      ]
     },
     "execution_count": 56,
     "metadata": {},
     "output_type": "execute_result"
    }
   ],
   "source": [
    "df.dtypes  # all four columns are float64 type"
   ]
  },
  {
   "cell_type": "code",
   "execution_count": 57,
   "metadata": {},
   "outputs": [],
   "source": [
    "df[1] = df[1].astype(\"object\")#df = df.astype('object')# change to object type"
   ]
  },
  {
   "cell_type": "code",
   "execution_count": 58,
   "metadata": {},
   "outputs": [
    {
     "data": {
      "text/plain": [
       "0    float64\n",
       "1     object\n",
       "2    float64\n",
       "3    float64\n",
       "dtype: object"
      ]
     },
     "execution_count": 58,
     "metadata": {},
     "output_type": "execute_result"
    }
   ],
   "source": [
    "df.dtypes  # double check that it worked"
   ]
  },
  {
   "cell_type": "code",
   "execution_count": 59,
   "metadata": {},
   "outputs": [
    {
     "name": "stderr",
     "output_type": "stream",
     "text": [
      "/usr/local/lib/python3.6/site-packages/ipykernel_launcher.py:1: SettingWithCopyWarning: \n",
      "A value is trying to be set on a copy of a slice from a DataFrame\n",
      "\n",
      "See the caveats in the documentation: http://pandas.pydata.org/pandas-docs/stable/indexing.html#indexing-view-versus-copy\n",
      "  \"\"\"Entry point for launching an IPython kernel.\n"
     ]
    }
   ],
   "source": [
    "df[1][2] = [1, 2, 3]  # insert a list"
   ]
  },
  {
   "cell_type": "code",
   "execution_count": 60,
   "metadata": {},
   "outputs": [
    {
     "data": {
      "text/html": [
       "<div>\n",
       "<style>\n",
       "    .dataframe thead tr:only-child th {\n",
       "        text-align: right;\n",
       "    }\n",
       "\n",
       "    .dataframe thead th {\n",
       "        text-align: left;\n",
       "    }\n",
       "\n",
       "    .dataframe tbody tr th {\n",
       "        vertical-align: top;\n",
       "    }\n",
       "</style>\n",
       "<table border=\"1\" class=\"dataframe\">\n",
       "  <thead>\n",
       "    <tr style=\"text-align: right;\">\n",
       "      <th></th>\n",
       "      <th>0</th>\n",
       "      <th>1</th>\n",
       "      <th>2</th>\n",
       "      <th>3</th>\n",
       "    </tr>\n",
       "  </thead>\n",
       "  <tbody>\n",
       "    <tr>\n",
       "      <th>0</th>\n",
       "      <td>0.0</td>\n",
       "      <td>0</td>\n",
       "      <td>0.0</td>\n",
       "      <td>0.0</td>\n",
       "    </tr>\n",
       "    <tr>\n",
       "      <th>1</th>\n",
       "      <td>0.0</td>\n",
       "      <td>0</td>\n",
       "      <td>0.0</td>\n",
       "      <td>0.0</td>\n",
       "    </tr>\n",
       "    <tr>\n",
       "      <th>2</th>\n",
       "      <td>0.0</td>\n",
       "      <td>[1, 2, 3]</td>\n",
       "      <td>0.0</td>\n",
       "      <td>0.0</td>\n",
       "    </tr>\n",
       "    <tr>\n",
       "      <th>3</th>\n",
       "      <td>0.0</td>\n",
       "      <td>0</td>\n",
       "      <td>0.0</td>\n",
       "      <td>0.0</td>\n",
       "    </tr>\n",
       "  </tbody>\n",
       "</table>\n",
       "</div>"
      ],
      "text/plain": [
       "     0          1    2    3\n",
       "0  0.0          0  0.0  0.0\n",
       "1  0.0          0  0.0  0.0\n",
       "2  0.0  [1, 2, 3]  0.0  0.0\n",
       "3  0.0          0  0.0  0.0"
      ]
     },
     "execution_count": 60,
     "metadata": {},
     "output_type": "execute_result"
    }
   ],
   "source": [
    "df  # look at the dataframe again"
   ]
  },
  {
   "cell_type": "code",
   "execution_count": 48,
   "metadata": {},
   "outputs": [
    {
     "data": {
      "text/html": [
       "<div>\n",
       "<style>\n",
       "    .dataframe thead tr:only-child th {\n",
       "        text-align: right;\n",
       "    }\n",
       "\n",
       "    .dataframe thead th {\n",
       "        text-align: left;\n",
       "    }\n",
       "\n",
       "    .dataframe tbody tr th {\n",
       "        vertical-align: top;\n",
       "    }\n",
       "</style>\n",
       "<table border=\"1\" class=\"dataframe\">\n",
       "  <thead>\n",
       "    <tr style=\"text-align: right;\">\n",
       "      <th></th>\n",
       "      <th>0</th>\n",
       "      <th>1</th>\n",
       "      <th>2</th>\n",
       "      <th>3</th>\n",
       "    </tr>\n",
       "  </thead>\n",
       "  <tbody>\n",
       "    <tr>\n",
       "      <th>0</th>\n",
       "      <td>0</td>\n",
       "      <td>0</td>\n",
       "      <td>0</td>\n",
       "      <td>0</td>\n",
       "    </tr>\n",
       "    <tr>\n",
       "      <th>1</th>\n",
       "      <td>0</td>\n",
       "      <td>0</td>\n",
       "      <td>0</td>\n",
       "      <td>0</td>\n",
       "    </tr>\n",
       "    <tr>\n",
       "      <th>2</th>\n",
       "      <td>0</td>\n",
       "      <td>[1, 2, 3]</td>\n",
       "      <td>0</td>\n",
       "      <td>0</td>\n",
       "    </tr>\n",
       "    <tr>\n",
       "      <th>3</th>\n",
       "      <td>0</td>\n",
       "      <td>0</td>\n",
       "      <td>0</td>\n",
       "      <td>0</td>\n",
       "    </tr>\n",
       "  </tbody>\n",
       "</table>\n",
       "</div>"
      ],
      "text/plain": [
       "   0          1  2  3\n",
       "0  0          0  0  0\n",
       "1  0          0  0  0\n",
       "2  0  [1, 2, 3]  0  0\n",
       "3  0          0  0  0"
      ]
     },
     "execution_count": 48,
     "metadata": {},
     "output_type": "execute_result"
    }
   ],
   "source": [
    "import numpy as np\n",
    "import pandas as pd\n",
    "df = pd.DataFrame(np.zeros((4, 4)))\n",
    "df  # 4 by 4 dataframe filled with zeros\n",
    "df.dtypes  # all four columns are float64 type\n",
    "df = df.astype('object')  # change to object type\n",
    "df.dtypes  # double check that it worked\n",
    "df[1][2] = [1, 2, 3]  # insert a list\n",
    "df  # look at the dataframe again"
   ]
  },
  {
   "cell_type": "code",
   "execution_count": 70,
   "metadata": {},
   "outputs": [
    {
     "name": "stdout",
     "output_type": "stream",
     "text": [
      "Card          object\n",
      "Main Deck     object\n",
      "Side Deck     object\n",
      "MD_Players    object\n",
      "SD_Players    object\n",
      "dtype: object\n"
     ]
    }
   ],
   "source": [
    "import pandas as pd\n",
    "card_list_columns = ['Card', 'Main Deck', 'Side Deck', 'MD_Players', 'SD_Players']  # Set up deck database\n",
    "global card_db\n",
    "card_db = pd.DataFrame(columns=card_list_columns)\n",
    "card_db = card_db.append({'Card': 'PLACEHOLDER CARD',\n",
    "                              'Main Deck': 0,\n",
    "                              'Side Deck': 0,\n",
    "                              'MD_Players': \"\",\n",
    "                              'SD_Players': \"\"},\n",
    "                             ignore_index=True)\n",
    "print(card_db.dtypes)"
   ]
  },
  {
   "cell_type": "code",
   "execution_count": 18,
   "metadata": {},
   "outputs": [
    {
     "data": {
      "text/plain": [
       "dict_keys(['Card', 'Main Deck', 'Side Deck', 'MD_Players', 'SD_Players'])"
      ]
     },
     "execution_count": 18,
     "metadata": {},
     "output_type": "execute_result"
    }
   ],
   "source": [
    "cam_dict.keys()"
   ]
  },
  {
   "cell_type": "code",
   "execution_count": 22,
   "metadata": {},
   "outputs": [
    {
     "ename": "TypeError",
     "evalue": "'dict' object is not callable",
     "output_type": "error",
     "traceback": [
      "\u001b[0;31m---------------------------------------------------------------------------\u001b[0m",
      "\u001b[0;31mTypeError\u001b[0m                                 Traceback (most recent call last)",
      "\u001b[0;32m<ipython-input-22-0d64e57a7eb2>\u001b[0m in \u001b[0;36m<module>\u001b[0;34m()\u001b[0m\n\u001b[1;32m      1\u001b[0m \u001b[0mrow\u001b[0m \u001b[0;34m=\u001b[0m \u001b[0;36m1\u001b[0m\u001b[0;34m\u001b[0m\u001b[0m\n\u001b[0;32m----> 2\u001b[0;31m \u001b[0;32mfor\u001b[0m \u001b[0mkey\u001b[0m \u001b[0;32min\u001b[0m \u001b[0mcam_dict\u001b[0m\u001b[0;34m(\u001b[0m\u001b[0;34m)\u001b[0m\u001b[0;34m:\u001b[0m\u001b[0;34m\u001b[0m\u001b[0m\n\u001b[0m\u001b[1;32m      3\u001b[0m     \u001b[0mcard_db\u001b[0m\u001b[0;34m[\u001b[0m\u001b[0mrow\u001b[0m\u001b[0;34m,\u001b[0m\u001b[0mkey\u001b[0m\u001b[0;34m]\u001b[0m \u001b[0;34m=\u001b[0m \u001b[0mcam_dict\u001b[0m\u001b[0;34m[\u001b[0m\u001b[0mkey\u001b[0m\u001b[0;34m]\u001b[0m\u001b[0;34m\u001b[0m\u001b[0m\n\u001b[1;32m      4\u001b[0m \u001b[0mrow\u001b[0m \u001b[0;34m+=\u001b[0m \u001b[0;36m1\u001b[0m\u001b[0;34m\u001b[0m\u001b[0m\n",
      "\u001b[0;31mTypeError\u001b[0m: 'dict' object is not callable"
     ]
    }
   ],
   "source": [
    "row = 1\n",
    "for key in cam_dict():\n",
    "    card_db[row,key] = cam_dict[key]\n",
    "row += 1"
   ]
  },
  {
   "cell_type": "code",
   "execution_count": 29,
   "metadata": {},
   "outputs": [
    {
     "ename": "TypeError",
     "evalue": "Can only append a Series if ignore_index=True or if the Series has a name",
     "output_type": "error",
     "traceback": [
      "\u001b[0;31m---------------------------------------------------------------------------\u001b[0m",
      "\u001b[0;31mTypeError\u001b[0m                                 Traceback (most recent call last)",
      "\u001b[0;32m<ipython-input-29-206526f52ac7>\u001b[0m in \u001b[0;36m<module>\u001b[0;34m()\u001b[0m\n\u001b[1;32m      4\u001b[0m                               \u001b[0;34m'MD_Players'\u001b[0m\u001b[0;34m:\u001b[0m \u001b[0;34m\"\"\u001b[0m\u001b[0;34m,\u001b[0m\u001b[0;34m\u001b[0m\u001b[0m\n\u001b[1;32m      5\u001b[0m                               'SD_Players': \"\"},\n\u001b[0;32m----> 6\u001b[0;31m                              ignore_index=False)\n\u001b[0m\u001b[1;32m      7\u001b[0m \u001b[0mprint\u001b[0m\u001b[0;34m(\u001b[0m\u001b[0mcard_db\u001b[0m\u001b[0;34m.\u001b[0m\u001b[0mdtypes\u001b[0m\u001b[0;34m(\u001b[0m\u001b[0;34m)\u001b[0m\u001b[0;34m)\u001b[0m\u001b[0;34m\u001b[0m\u001b[0m\n",
      "\u001b[0;32m/usr/local/lib/python3.6/site-packages/pandas/core/frame.py\u001b[0m in \u001b[0;36mappend\u001b[0;34m(self, other, ignore_index, verify_integrity)\u001b[0m\n\u001b[1;32m   4515\u001b[0m                 \u001b[0mother\u001b[0m \u001b[0;34m=\u001b[0m \u001b[0mSeries\u001b[0m\u001b[0;34m(\u001b[0m\u001b[0mother\u001b[0m\u001b[0;34m)\u001b[0m\u001b[0;34m\u001b[0m\u001b[0m\n\u001b[1;32m   4516\u001b[0m             \u001b[0;32mif\u001b[0m \u001b[0mother\u001b[0m\u001b[0;34m.\u001b[0m\u001b[0mname\u001b[0m \u001b[0;32mis\u001b[0m \u001b[0;32mNone\u001b[0m \u001b[0;32mand\u001b[0m \u001b[0;32mnot\u001b[0m \u001b[0mignore_index\u001b[0m\u001b[0;34m:\u001b[0m\u001b[0;34m\u001b[0m\u001b[0m\n\u001b[0;32m-> 4517\u001b[0;31m                 raise TypeError('Can only append a Series if ignore_index=True'\n\u001b[0m\u001b[1;32m   4518\u001b[0m                                 ' or if the Series has a name')\n\u001b[1;32m   4519\u001b[0m \u001b[0;34m\u001b[0m\u001b[0m\n",
      "\u001b[0;31mTypeError\u001b[0m: Can only append a Series if ignore_index=True or if the Series has a name"
     ]
    }
   ],
   "source": [
    "card_db = card_db.append({'Card': 'PLACEHOLDER CARD',\n",
    "                              'Main Deck': 0,\n",
    "                              'Side Deck': 0,\n",
    "                              'MD_Players': \"\",\n",
    "                              'SD_Players': \"\"},\n",
    "                             ignore_index=True)\n",
    "print(card_db.dtypes())"
   ]
  },
  {
   "cell_type": "code",
   "execution_count": 27,
   "metadata": {},
   "outputs": [],
   "source": [
    "card_db = pd.DataFrame(card_dict, index=[0])"
   ]
  },
  {
   "cell_type": "code",
   "execution_count": 28,
   "metadata": {},
   "outputs": [
    {
     "data": {
      "text/html": [
       "<div>\n",
       "<style>\n",
       "    .dataframe thead tr:only-child th {\n",
       "        text-align: right;\n",
       "    }\n",
       "\n",
       "    .dataframe thead th {\n",
       "        text-align: left;\n",
       "    }\n",
       "\n",
       "    .dataframe tbody tr th {\n",
       "        vertical-align: top;\n",
       "    }\n",
       "</style>\n",
       "<table border=\"1\" class=\"dataframe\">\n",
       "  <thead>\n",
       "    <tr style=\"text-align: right;\">\n",
       "      <th></th>\n",
       "      <th>Card</th>\n",
       "      <th>MD_Players</th>\n",
       "      <th>Main Deck</th>\n",
       "      <th>SD_Players</th>\n",
       "      <th>Side Deck</th>\n",
       "    </tr>\n",
       "  </thead>\n",
       "  <tbody>\n",
       "    <tr>\n",
       "      <th>0</th>\n",
       "      <td>PLACEHOLDER CARD</td>\n",
       "      <td></td>\n",
       "      <td>0</td>\n",
       "      <td></td>\n",
       "      <td>0</td>\n",
       "    </tr>\n",
       "  </tbody>\n",
       "</table>\n",
       "</div>"
      ],
      "text/plain": [
       "               Card MD_Players  Main Deck SD_Players  Side Deck\n",
       "0  PLACEHOLDER CARD                     0                     0"
      ]
     },
     "execution_count": 28,
     "metadata": {},
     "output_type": "execute_result"
    }
   ],
   "source": [
    "my_db"
   ]
  },
  {
   "cell_type": "code",
   "execution_count": 81,
   "metadata": {
    "collapsed": true
   },
   "outputs": [],
   "source": [
    "import pandas as pd\n",
    "card_list_columns = ['Card', 'Main Deck', 'Side Deck', 'MD_Players', 'SD_Players']  # Set up deck database\n",
    "global card_db\n",
    "card_db = pd.DataFrame(columns=card_list_columns)\n",
    "card_db = card_db.append({'Card': 'PLACEHOLDER CARD',\n",
    "                              'Main Deck': 0,\n",
    "                              'Side Deck': 0,\n",
    "                              'MD_Players': \"\",\n",
    "                              'SD_Players': \"\"},\n",
    "                             ignore_index=True)\n",
    "\n",
    "card_db.loc[0, 'MD_Players'] = ['list','of','cards']\n",
    "card_db"
   ]
  },
  {
   "cell_type": "code",
   "execution_count": 73,
   "metadata": {},
   "outputs": [
    {
     "data": {
      "text/html": [
       "<div>\n",
       "<style>\n",
       "    .dataframe thead tr:only-child th {\n",
       "        text-align: right;\n",
       "    }\n",
       "\n",
       "    .dataframe thead th {\n",
       "        text-align: left;\n",
       "    }\n",
       "\n",
       "    .dataframe tbody tr th {\n",
       "        vertical-align: top;\n",
       "    }\n",
       "</style>\n",
       "<table border=\"1\" class=\"dataframe\">\n",
       "  <thead>\n",
       "    <tr style=\"text-align: right;\">\n",
       "      <th></th>\n",
       "      <th>Card</th>\n",
       "      <th>Main Deck</th>\n",
       "      <th>Side Deck</th>\n",
       "      <th>MD_Players</th>\n",
       "      <th>SD_Players</th>\n",
       "    </tr>\n",
       "  </thead>\n",
       "  <tbody>\n",
       "    <tr>\n",
       "      <th>0</th>\n",
       "      <td>PLACEHOLDER CARD</td>\n",
       "      <td>0</td>\n",
       "      <td>0</td>\n",
       "      <td>[]</td>\n",
       "      <td>[]</td>\n",
       "    </tr>\n",
       "  </tbody>\n",
       "</table>\n",
       "</div>"
      ],
      "text/plain": [
       "               Card Main Deck Side Deck MD_Players SD_Players\n",
       "0  PLACEHOLDER CARD         0         0         []         []"
      ]
     },
     "execution_count": 73,
     "metadata": {},
     "output_type": "execute_result"
    }
   ],
   "source": [
    "card_db"
   ]
  },
  {
   "cell_type": "code",
   "execution_count": 82,
   "metadata": {},
   "outputs": [],
   "source": [
    "card_db.loc[0, 'MD_Players'] = ['list','of','cards']"
   ]
  },
  {
   "cell_type": "code",
   "execution_count": 83,
   "metadata": {},
   "outputs": [
    {
     "data": {
      "text/html": [
       "<div>\n",
       "<style>\n",
       "    .dataframe thead tr:only-child th {\n",
       "        text-align: right;\n",
       "    }\n",
       "\n",
       "    .dataframe thead th {\n",
       "        text-align: left;\n",
       "    }\n",
       "\n",
       "    .dataframe tbody tr th {\n",
       "        vertical-align: top;\n",
       "    }\n",
       "</style>\n",
       "<table border=\"1\" class=\"dataframe\">\n",
       "  <thead>\n",
       "    <tr style=\"text-align: right;\">\n",
       "      <th></th>\n",
       "      <th>Card</th>\n",
       "      <th>Main Deck</th>\n",
       "      <th>Side Deck</th>\n",
       "      <th>MD_Players</th>\n",
       "      <th>SD_Players</th>\n",
       "    </tr>\n",
       "  </thead>\n",
       "  <tbody>\n",
       "    <tr>\n",
       "      <th>0</th>\n",
       "      <td>PLACEHOLDER CARD</td>\n",
       "      <td>0</td>\n",
       "      <td>0</td>\n",
       "      <td>[list, of, cards]</td>\n",
       "      <td></td>\n",
       "    </tr>\n",
       "  </tbody>\n",
       "</table>\n",
       "</div>"
      ],
      "text/plain": [
       "               Card Main Deck Side Deck         MD_Players SD_Players\n",
       "0  PLACEHOLDER CARD         0         0  [list, of, cards]           "
      ]
     },
     "execution_count": 83,
     "metadata": {},
     "output_type": "execute_result"
    }
   ],
   "source": [
    "card_db"
   ]
  },
  {
   "cell_type": "code",
   "execution_count": null,
   "metadata": {
    "collapsed": true
   },
   "outputs": [],
   "source": []
  }
 ],
 "metadata": {
  "kernelspec": {
   "display_name": "Python 3",
   "language": "python",
   "name": "python3"
  },
  "language_info": {
   "codemirror_mode": {
    "name": "ipython",
    "version": 3
   },
   "file_extension": ".py",
   "mimetype": "text/x-python",
   "name": "python",
   "nbconvert_exporter": "python",
   "pygments_lexer": "ipython3",
   "version": "3.6.2"
  }
 },
 "nbformat": 4,
 "nbformat_minor": 2
}
