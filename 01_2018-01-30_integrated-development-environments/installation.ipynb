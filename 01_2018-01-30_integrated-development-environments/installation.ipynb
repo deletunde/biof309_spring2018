{
  "cells": [
    {
      "cell_type": "markdown",
      "source": [
        "# Installing Python\n",
        "---"
      ],
      "metadata": {}
    },
    {
      "cell_type": "markdown",
      "source": [
        "[`Python`](http://python.org/) is a popular language for research computing, and great for general-purpose programming as well. Installing all of its research packages individually can be a bit difficult, so we recommend [Anaconda](https://www.continuum.io/anaconda), an all-in-one installer."
      ],
      "metadata": {}
    },
    {
      "cell_type": "markdown",
      "source": [
        "Regardless of how you choose to install it, please make sure you install **Python version 3.x** (e.g., 3.6 is fine).\n",
        "\n",
        "We will teach Python using the [Jupyter Notebook](http://jupyter.org/), a programming environment that runs in a web browser. For this to work you will need a reasonably up-to-date browser. The current versions of the Chrome, Safari and Firefox browsers are all supported (some older browsers, including Internet Explorer version 9 and below, are not).\n",
        "\n---"
      ],
      "metadata": {}
    },
    {
      "cell_type": "markdown",
      "source": [
        "### Windows\n",
        "\n",
        "[Video tutorial](https://www.youtube.com/watch?v=xxQ0mzZ8UvA)\n",
        "\n",
        "1. Open http://continuum.io/downloads with your web browser.\n",
        "1. Download the `Python 3` installer for Windows.\n",
        "1. Install `Python 3` using all of the defaults for installation except make sure to check **Make Anaconda the default Python**.\n",
        "\n---"
      ],
      "metadata": {}
    },
    {
      "cell_type": "markdown",
      "source": [
        "### Mac OSX\n",
        "\n",
        "[Video tutorial](https://www.youtube.com/watch?v=TcSAln46u9U)\n",
        "\n",
        "1. Open http://continuum.io/downloads with your web browser.\n",
        "1. Download the `Python 3` installer for OS X.\n",
        "1. Install `Python 3` using all of the defaults for installation.\n",
        "\n---"
      ],
      "metadata": {}
    },
    {
      "cell_type": "markdown",
      "source": [
        "### Linux\n",
        "\n",
        "1. Open http://continuum.io/downloads with your web browser.\n",
        "1. Download the `Python 3` installer for Linux.\n",
        "1. Install `Python 3` using all of the defaults for installation. (Installation requires using the shell. If you aren't comfortable doing the installation yourself stop here and request help at the workshop.)\n",
        "1. Open a terminal window.\n",
        "1. Type:\n",
        "~~~\n",
        "bash Anaconda3-\n",
        "~~~\n",
        "and then press tab. The name of the file you just downloaded should appear.\n",
        "\n",
        "1. Press enter. You will follow the text-only prompts. When there is a colon at the bottom of the screen press the down arrow to move down through the text. Type yes and press enter to approve the license. Press enter to approve the default location for the files. Type yes and press enter to prepend Anaconda to your PATH (this makes the Anaconda distribution the default `Python`).\n",
        "\n---"
      ],
      "metadata": {}
    },
    {
      "cell_type": "markdown",
      "source": [
        "This installation tutorial is taken from [Software Carpentry](http://swcarpentry.github.io/workshop-template/#setup)"
      ],
      "metadata": {}
    },
    {
      "cell_type": "markdown",
      "source": [
        "## Anaconda install in-depth"
      ],
      "metadata": {}
    },
    {
      "cell_type": "markdown",
      "source": [
        "## Step 1: Install Anaconda \n",
        "\n",
        "To install Anaconda, follow these [instructions][instruc]\n",
        "You have two options:\n",
        "\n",
        "1. Graphical Install (for Windows or Mac);\n",
        "\n",
        "2. Command Line Install (for Mac or Linux)\n",
        "\n",
        "If you have not used the command line before, you should pick the Graphical Install option.\n",
        "\n",
        "Make sure to pick the appropriate install option for your system (32 vs. 64-bit and Windows, Mac or Linux). \n",
        "\n",
        "If you use the Graphical Install option, you should keep defaults (add Anaconda to path and use Anaconda as default python).\n",
        "\n",
        "You will not need Anaconda Cloud for anything at this point.\n"
      ],
      "metadata": {}
    },
    {
      "cell_type": "markdown",
      "source": [
        "# Optional steps (skip for now)"
      ],
      "metadata": {}
    },
    {
      "cell_type": "markdown",
      "source": [
        "\n",
        "## Step 2: Create a new Environment in Anaconda Navigator\n",
        "\n",
        "- After installing Anaconda, open Anaconda Navigator \n",
        "- Create a new Environment in the Environment tab\n",
        "- Click the Environments tab\n",
        "- Create new Environment and pick a name (e.g. biof309)\n",
        "\n",
        "## Step 3: Install necessary packages\n",
        "\n",
        "- To enable UNIX commands on Windows, install m2-base\n",
        "- To enable Git commands, install m2-git\n",
        "- To enable SQL commands, install sqlite\n",
        "- To enable R commands, install r-essentials and rpy2 \n",
        "\n",
        "## Step 4: Run an Application in the Environment you just created\n",
        "\n",
        "Return to Applications tab, pick the Environment you just created (e.g. biof309)\n",
        "\n",
        "Now you have three main options:\n",
        "1. Install Jupyter QtConsole (for the command line use of git, sql, R and python) or \n",
        "2. Open Jupyter Notebook (if your instructor provides you with a ipynb file) or \n",
        "3. Install Rstudio (useful for R lessons only, ask your instructor)\n",
        "\n",
        "You are now ready for every Software and Data Carpentry lesson!\n",
        "[instruc]: https://docs.continuum.io/anaconda/install"
      ],
      "metadata": {}
    },
    {
      "cell_type": "markdown",
      "source": [
        "## Miniconda installation (as a backup)"
      ],
      "metadata": {}
    },
    {
      "cell_type": "markdown",
      "source": [
        "---\n",
        "layout: page\n",
        "title: Miniconda Setup\n",
        "permalink: /setup/\n",
        "---\n",
        "\n",
        "# Miniconda Setup Instructions\n",
        "\n",
        "## Step 1: Install Miniconda \n",
        "\n",
        "To install Miniconda, follow these [instructions][instruc] \n",
        "\n",
        "Make sure to download the Python 3.6 version from the [installation page][install]\n",
        "\n",
        "You are now ready to get started!\n",
        "\n",
        "[instruc]: https://conda.io/docs/install/quick.html\n",
        "[install]: https://conda.io/miniconda.html\n"
      ],
      "metadata": {}
    },
    {
      "cell_type": "markdown",
      "source": [
        "## Miniconda optional steps (skip for now)"
      ],
      "metadata": {}
    },
    {
      "cell_type": "markdown",
      "source": [
        "## Step 2: Setup an environment\n",
        "Open up Anaconda prompt and type in or copy the command below"
      ],
      "metadata": {}
    },
    {
      "cell_type": "markdown",
      "source": [
        "conda create -n biof309 python=3.6 jupyter"
      ],
      "metadata": {
        "inputHidden": false,
        "outputHidden": false
      }
    },
    {
      "cell_type": "markdown",
      "source": [
        "## Step 3: Open the environment you created\n",
        "If you use Windows, type !activate swc below\n",
        "If you use Linux or OS X, type !source activate swc below"
      ],
      "metadata": {}
    },
    {
      "cell_type": "markdown",
      "source": [
        "activate biof309"
      ],
      "metadata": {
        "inputHidden": false,
        "outputHidden": false
      }
    }
  ],
  "metadata": {
    "kernel_info": {
      "name": "python3"
    },
    "kernelspec": {
      "name": "python3",
      "language": "python",
      "display_name": "Python 3"
    },
    "language_info": {
      "name": "python",
      "version": "3.6.2",
      "mimetype": "text/x-python",
      "codemirror_mode": {
        "name": "ipython",
        "version": 3
      },
      "pygments_lexer": "ipython3",
      "nbconvert_exporter": "python",
      "file_extension": ".py"
    },
    "nteract": {
      "version": "0.2.0"
    }
  },
  "nbformat": 4,
  "nbformat_minor": 2
}