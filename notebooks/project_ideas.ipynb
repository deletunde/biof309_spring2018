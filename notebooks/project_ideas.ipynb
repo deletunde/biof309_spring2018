{
 "cells": [
  {
   "cell_type": "markdown",
   "metadata": {},
   "source": [
    "# project ideas for data ninjas\n",
    "\n",
    "* Quantitative _____________.\n",
    "* Use Python to crunch a data set and/or perform some calculation.\n",
    "* Identify a bottleneck, think up a task that requires a lot of data shovelling in your work\n",
    "* Will require writing up a project proposal\n",
    "* There will be a Google document where you'll put the project title and description up to avoid project overlap\n",
    "* You can help each other, but everyone must do a separate project, meaning you write your own code\n",
    "    * Write your code in a nicely packaged module so if you wanted to collaborate in the future, you can exchange modules\n",
    "\n",
    "### Some of last year's projects\n",
    "\n",
    "* DNA enhancer responsible for cell fate specification regulate transcription \n",
    "* FASTA header switcher\n",
    "* Strand is repaired tg mismatches\n",
    "* justin kerr - word clouds\n",
    "\n",
    "![square word cloud](http://www.chriscoletta.com/biof309/square_word_cloud.png)\n",
    "\n",
    "![brain-shaped word cloud](http://www.chriscoletta.com/biof309/brain_word_cloud.png)\n",
    "\n",
    "* Interaction between protein and solvent\n",
    "* Immunopathology, b-cell lymphoma - VDJ recombination how b cells reorganize locus to get iga igb antibodies\n",
    "* Range of b-cell lymphomas: different processes of maturation, plasma cells that are acancerous\n",
    "* q-pcr output analyzer\n",
    "\n",
    "### Quantitative Sports\n",
    "\n",
    "* [Pro-Football-Reference.com](http://www.pro-football-reference.com/years/2013/)  NFL stats\n",
    "    * [A visualization of NFL stats here](http://nandayadav.github.io/nflstats2013/)\n",
    "    * use machine learning to do fantasy football predictions.\n",
    "    * New York Times 4th down bot\n",
    "    * Come up with a replacement statistic for the much-maligned QB rating, then do some historical revisionism, who was an overrated/underrated QB from NFL history.\n",
    "* [Regressing](http://regressing.deadspin.com)\n",
    "* [Flowing Data](http://flowingdata.com/)\n",
    "\n",
    "### Quantitative Finance\n",
    "\n",
    "* \"Trendspotting in asset markets\" Nobel Prize in Economics 2013 Fama, Hanson, and Shiller (Teach us all how to get rich quick!)\n",
    "* Fraud detection using forensic accounting/Benford's Law\n",
    "\n",
    "### Games\n",
    "\n",
    "* Blokus game simulation, monte carlo, perhaps develop algorithm, perhaps implement the game\n",
    "    * \"Blokus kinda like tetris except the object is not to be as compact as possible, in fact your pieces can't touch each other at all. No piece is like any other.\"\n",
    "    \n",
    "### Do a calculation\n",
    "\n",
    "* [Spot the station](http://spotthestation.nasa.gov/)\n",
    "    * Develop an ISS orbiting simulation, or a position of some star as it would appear to us on earch, or graph the procession of the perihelion of mercury\n",
    "* Cannon firing program that gives you angles to aim your cannon, given a projectile initial speed and height, and location of enemy in x,y, & z.\n",
    "    * Good opportunity for GUI!\n",
    "\n",
    "### Political/Cultural Data\n",
    "\n",
    "* [New Organizing Institute US political data](http://neworganizing.com/data/)\n",
    "   * FEC filings, Governance Project (db of 50,000 elected officials, 2012 nationwide General Election ballot data, polling data from the Voter Information Project (VIP)\n",
    "* [Google Trends](http://www.google.com/trends/)\n",
    "    * See where, when and what people searched for in Google.\n",
    "\n",
    "### Machine Learning\n",
    "\n",
    "* Attempt a [Kaggle](http://www.kaggle.com/competitions) competition\n",
    "* Applying to job/college? Have drunken pictures of you on the internet? Create python automated web crawling program to look for potential offenders, show specificity vs selectivity.\n",
    "\n",
    "### Learn an API\n",
    "\n",
    "* Clean out your gmail inbox using [google python api](http://code.google.com/p/google-api-python-client/) \n",
    "* Pull data from Google Docs using Google Drive SDK (software development kit)\n",
    "* Do a project using the rPy API\n",
    "\n",
    "### Crazy superfluous stuff\n",
    "\n",
    "* [They Might Be Giants Song Lyrics Usage](http://davidamackenzie.com/tmbg_lyrics/)\n",
    "    * Each dot is a word, the x-axis is the number of times the word appeared in a They Might Be Giants song, the y-axis is the proportion of the frequency they used it in a song versus frequency of how often it's used in the English language as a whole, based on the Google Books ngrams dataset. This guy created a text scraper, which is a computer program that systematically visits all the links in a web page and captures the information contained thereupon"
   ]
  },
  {
   "cell_type": "code",
   "execution_count": null,
   "metadata": {},
   "outputs": [],
   "source": []
  }
 ],
 "metadata": {
  "hide_input": false,
  "kernelspec": {
   "display_name": "Python 3",
   "language": "python",
   "name": "python3"
  },
  "language_info": {
   "codemirror_mode": {
    "name": "ipython",
    "version": 3
   },
   "file_extension": ".py",
   "mimetype": "text/x-python",
   "name": "python",
   "nbconvert_exporter": "python",
   "pygments_lexer": "ipython3",
   "version": "3.6.3"
  },
  "toc": {
   "nav_menu": {},
   "number_sections": false,
   "sideBar": true,
   "skip_h1_title": false,
   "toc_cell": false,
   "toc_position": {},
   "toc_section_display": "block",
   "toc_window_display": false
  },
  "varInspector": {
   "cols": {
    "lenName": 16,
    "lenType": 16,
    "lenVar": 40
   },
   "kernels_config": {
    "python": {
     "delete_cmd_postfix": "",
     "delete_cmd_prefix": "del ",
     "library": "var_list.py",
     "varRefreshCmd": "print(var_dic_list())"
    },
    "r": {
     "delete_cmd_postfix": ") ",
     "delete_cmd_prefix": "rm(",
     "library": "var_list.r",
     "varRefreshCmd": "cat(var_dic_list()) "
    }
   },
   "types_to_exclude": [
    "module",
    "function",
    "builtin_function_or_method",
    "instance",
    "_Feature"
   ],
   "window_display": false
  }
 },
 "nbformat": 4,
 "nbformat_minor": 1
}
