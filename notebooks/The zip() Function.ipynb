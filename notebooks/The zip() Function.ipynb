{
 "cells": [
  {
   "cell_type": "markdown",
   "metadata": {},
   "source": [
    "# The zip() Function\n",
    "---\n",
    "### The [zip()](https://docs.python.org/3.3/library/functions.html#zip) function allows you to iterate over several iterables in parallel.  This is done by zipping two or more iterables together to make a single iterable, which is the zip object.\n",
    "\n",
    "### That probably sounds like a bunch of gobbledygook, so I'll try to illustrate this function using an example from [DataCamp](https://campus.datacamp.com/courses/python-data-science-toolbox-part-2/using-iterators-in-pythonland?ex=9).  By zipping together three lists into a single iterable, then use the new zip object as an iterable in a loop.  What's slick is that each time I'll iterate through the loop I'll be able to call up items from each of the three lists."
   ]
  },
  {
   "cell_type": "code",
   "execution_count": null,
   "metadata": {
    "collapsed": true
   },
   "outputs": [],
   "source": [
    "# below are three lists that we will use throughout this example\n",
    "\n",
    "mutants = ['charles xavier',\n",
    "           'bobby drake',\n",
    "           'kurt wagner',\n",
    "           'max eisenhardt',\n",
    "           'kitty pride']\n",
    "\n",
    "aliases = ['prof x', \n",
    "           'iceman', \n",
    "           'nightcrawler', \n",
    "           'magneto', \n",
    "           'shadowcat']\n",
    "\n",
    "powers = ['telepathy',\n",
    "          'thermokinesis',\n",
    "          'teleportation',\n",
    "          'magnetokinesis',\n",
    "          'intangibility']"
   ]
  },
  {
   "cell_type": "markdown",
   "metadata": {},
   "source": [
    "### If you're an X-Men fan you may notice that these lists are in a specific order.  The first indexed item in the \"mutants\" list is 'charles xavier', and his alias is the first indexed item in \"aliases\" list, which is 'prof x'.  His corresponding power is 'telepathy', which is the first indexed item in the \"powers\" list.  Let's say we want to print all of these off in a nice statement in the following format:\n",
    "\n",
    "### \"The mutant {mutant_name} is also known as {alias}, and their power is {power}.\"\n",
    "\n",
    "### There are loads of ways this could be accomplished, but an elegant solution would be to use the \"zip()\" function. "
   ]
  },
  {
   "cell_type": "code",
   "execution_count": null,
   "metadata": {
    "collapsed": true
   },
   "outputs": [],
   "source": [
    "# Use the \"zip()\" function to stick them all together as \"mutant_data\"\n",
    "mutant_data = zip(mutants, aliases, powers)"
   ]
  },
  {
   "cell_type": "code",
   "execution_count": null,
   "metadata": {},
   "outputs": [],
   "source": [
    "# Lets try to print this \"mutant_data\" variable to see how the zipped iterable is organized\n",
    "print(mutant_data)"
   ]
  },
  {
   "cell_type": "code",
   "execution_count": null,
   "metadata": {},
   "outputs": [],
   "source": [
    "# Hmmm, this output isn't too helpful. If we want to see how a zip object is organized we'll\n",
    "# have to \"unzip\" it, which we can do by placing \"*\" in front of the zipped object\n",
    "mutant_data = zip(mutants, aliases, powers)\n",
    "print(*mutant_data)"
   ]
  },
  {
   "cell_type": "code",
   "execution_count": null,
   "metadata": {},
   "outputs": [],
   "source": [
    "# NICE!  We can see above that we have a few tuples, and each tuple has 3 strings\n",
    "# Let's try to \"unzip\" it again, just for giggles...\n",
    "print(*mutant_data)"
   ]
  },
  {
   "cell_type": "markdown",
   "metadata": {},
   "source": [
    "### WHAT?!? where did the tuples go?  why isn't there a print message?\n",
    "\n",
    "### This illustrates a bit of the inner workings of a zip object in Python3.  In Python3 the zip object is a one-time-use iterator.  Yup, just one use.  But fear not!  If you want to call the same zip object over and over you can convert it into a list, which we'll do now."
   ]
  },
  {
   "cell_type": "code",
   "execution_count": null,
   "metadata": {},
   "outputs": [],
   "source": [
    "# let's recreate a zip object...\n",
    "mutant_data = zip(mutants, aliases, powers)\n",
    "\n",
    "# ...and convert a zip object to a list\n",
    "mutant_zip_list = list(mutant_data)\n",
    "print(mutant_zip_list)"
   ]
  },
  {
   "cell_type": "markdown",
   "metadata": {},
   "source": [
    "### Nice! So printing \"mutant_zip_list\" gives us a list of tuples\n",
    "\n",
    "### Just as a refresher:\n",
    "* a list uses \"[ ]\" (square brackets) and can be changed/modified (mutable)\n",
    "* a tuple uses \"( )\" (parenthesis) and cannot be changed/modified (immutable)\n",
    "\n",
    "### Now let's poke this \"mutant_zip_list\" a bit to get a better feel for what we have"
   ]
  },
  {
   "cell_type": "code",
   "execution_count": null,
   "metadata": {},
   "outputs": [],
   "source": [
    "# Let's use \"type()\" to make sure \"mutant_zip_list\" is a list\n",
    "print('The variable \"mutant_zip_list\" is typed as: {type}' \\\n",
    "      .format(type = str(type(mutant_zip_list))))\n",
    "\n",
    "# Using \"len()\" will give us the length of the list\n",
    "print('The length of \"mutant_zip_list\" is: {length}' .format(length = len(mutant_zip_list)))"
   ]
  },
  {
   "cell_type": "markdown",
   "metadata": {},
   "source": [
    "### So our list \"mutant_zip_list\" is 5 items long.\n",
    "\n",
    "### Now let's check the type of each item in the list and see how long each one is."
   ]
  },
  {
   "cell_type": "code",
   "execution_count": null,
   "metadata": {},
   "outputs": [],
   "source": [
    "# Again, we'll use the \"type()\" function, but instead of applying it to to all of \n",
    "# \"mutant_data_list\" we'll instead just apply it to the first object in the list...\n",
    "print('Each of the 5 items in \"mutant_zip_list\" are typed as: {type}' \\\n",
    "      .format(type = str(type(mutant_zip_list[0])))) # i'm calling for the type of item [0], but it doesn't matter which item in the list I choose (it could be [1] or [3], but it can't be [5] because our list is 5 items long, and in Python we start counting at \"0\")\n",
    "\n",
    "# ...and we'll use the \"len()\" function to see how many things are in this item\n",
    "print('The length of each item in \"mutant_zip_list\" is: {length}' .format(length = len(mutant_zip_list[0])))"
   ]
  },
  {
   "cell_type": "markdown",
   "metadata": {},
   "source": [
    "### So based on the output above, each of the 5 items in the \"mutant_zip_list\" list is a tuple, and each of those 5 tuples has 3 things in it."
   ]
  },
  {
   "cell_type": "code",
   "execution_count": null,
   "metadata": {},
   "outputs": [],
   "source": [
    "# So let's say we want to bring up the second item in our list, we can do the following:\n",
    "mutant_zip_list[1]"
   ]
  },
  {
   "cell_type": "code",
   "execution_count": null,
   "metadata": {},
   "outputs": [],
   "source": [
    "# And if we want to just want to access Bobby Drake's power (which is the third item in \n",
    "# this tuple) we can do the following:\n",
    "mutant_zip_list[1][2]"
   ]
  },
  {
   "cell_type": "markdown",
   "metadata": {},
   "source": [
    "### So to summarize, we had three lists that were a mutant's name (\"mutants\"), alias (\"aliases\"), and power (\"powers\").  It's important to note that all three of those lists have 5 things in them (specifically, each of those \"things\" are strings).  We used the \"zip()\" function to zip those three lists together to make \"mutant_data\", but we couldn't get a good view of how a zipped object is organized, so we converted \"mutant_data\" to a list called \"mutant_zip_list\".  Even though \"mutant_zip_list\" isn't exactly the same type as \"mutant_data\", it allows us to get an idea of how a zipped object is organized.  \n",
    "\n",
    "### Regarding organization, \"mutant_zip_list\" is a list with 5 things in it.  Each of those 5 things is a tuple, and each tuple has 3 things in it.  Those three things are strings, and those strings came from the three lists we started with.  Notice that the order in our original lists is kept intact (i.e. the first tuple begins with 'charles xavier', who was the first mutant in our \"mutants\" list, 'bobby drake' is in the second tuple, and so on.\n",
    "---\n",
    "### So now that we have an idea of how a zipped object is organized, lets forget about the \"mutant_zip_list\" and just use \"mutant_data\""
   ]
  },
  {
   "cell_type": "code",
   "execution_count": null,
   "metadata": {},
   "outputs": [],
   "source": [
    "# Let's re-create our \"mutant_data\" zip object\n",
    "mutant_data = zip(mutants, aliases, powers)\n",
    "mutant_data"
   ]
  },
  {
   "cell_type": "code",
   "execution_count": null,
   "metadata": {},
   "outputs": [],
   "source": [
    "# Because this type is iterable, we can use it in a loop!\n",
    "\n",
    "# Let's see what happens when we print each item in \"mutant_data\"\n",
    "for i in mutant_data:\n",
    "    print(i)"
   ]
  },
  {
   "cell_type": "code",
   "execution_count": null,
   "metadata": {
    "collapsed": true
   },
   "outputs": [],
   "source": [
    "# WOW! We can see all 5 tuples\n",
    "# Tt's just so pretty, let's run that loop again...\n",
    "for i in mutant_data:\n",
    "    print(i)"
   ]
  },
  {
   "cell_type": "markdown",
   "metadata": {},
   "source": [
    "### WHAT?!?  Where did the tuples go?  Why isn't there a print message?  Remember, a zip object is a one-time-use object."
   ]
  },
  {
   "cell_type": "code",
   "execution_count": null,
   "metadata": {},
   "outputs": [],
   "source": [
    "# So now that we know our zip object is a one-time-use object, we'll be making it each time\n",
    "# we run a loop like this:\n",
    "\n",
    "for i in zip(mutants, aliases, powers):\n",
    "    print(i)"
   ]
  },
  {
   "cell_type": "code",
   "execution_count": null,
   "metadata": {},
   "outputs": [],
   "source": [
    "# now let's call just the name of each mutant when we run this loop\n",
    "# well call the first indexed item in each of the 5 tuples\n",
    "\n",
    "for i in zip(mutants, aliases, powers):\n",
    "    print(i[0])"
   ]
  },
  {
   "cell_type": "code",
   "execution_count": null,
   "metadata": {},
   "outputs": [],
   "source": [
    "# Nice!  We can also do this another way.\n",
    "# We know that each tuple has three variables in it, so we can build that into our \"for\" loop.\n",
    "\n",
    "for mutant, alias, power in zip(mutants, aliases, powers):\n",
    "    print(mutant)"
   ]
  },
  {
   "cell_type": "markdown",
   "metadata": {},
   "source": [
    "### BINGO!  Remember how we wanted to print each of the X-Men, their alias, and their power?\n",
    "\n",
    "### \"The mutant {mutant_name} is also known as {alias}, and their power is {power}.\"\n",
    "\n",
    "### Now we can do it!"
   ]
  },
  {
   "cell_type": "code",
   "execution_count": null,
   "metadata": {},
   "outputs": [],
   "source": [
    "# Here we'll run the loop using a zip object...\n",
    "for mutant, alias, power in zip(mutants, aliases, powers):\n",
    "    print(\"The mutant {mutant} is also known as {alias}, and their power is {power}.\" \\\n",
    "         .format(mutant=mutant, alias=alias, power=power))"
   ]
  },
  {
   "cell_type": "code",
   "execution_count": null,
   "metadata": {},
   "outputs": [],
   "source": [
    "# ...and here we'll use the zip object \"mutant_zip_list\", which we made earlier by \n",
    "# converting our original zip object to a list.  Notice that we get the same output.\n",
    "for mutant, alias, power in mutant_zip_list:\n",
    "    print(\"The mutant {mutant} is also known as {alias}, and their power is {power}.\"\\\n",
    "         .format(mutant=mutant, alias=alias, power=power))"
   ]
  },
  {
   "cell_type": "markdown",
   "metadata": {},
   "source": [
    "### So what can you do if you want to \"unzip\" that zipped object to recreate the lists you started with?  We'll have to use the \"*\" again to unpack the zip object."
   ]
  },
  {
   "cell_type": "code",
   "execution_count": null,
   "metadata": {},
   "outputs": [],
   "source": [
    "# We'll extract the lists that made up \"mutant_zip_list\", same the lists under\n",
    "# new variable names, convert those variables from a tuples object to a list object,\n",
    "# then compare the new lists to our original lists that we started this notebook with.\n",
    "\n",
    "mutant_data = zip(mutants, aliases, powers)\n",
    "print(*mutant_data)\n",
    "\n",
    "mutant_data = zip(mutants, aliases, powers)\n",
    "result1, result2, result3 = zip(*mutant_data)\n",
    "\n",
    "# note that the initial results are tuples\n",
    "print('Here are the newly extracted tuples from \"mutant_data\":')\n",
    "print(result1)\n",
    "print(result2)\n",
    "print(result3)\n",
    "\n",
    "# convert the original tuple results to lists\n",
    "result4 = list(result1)\n",
    "result5 = list(result2)\n",
    "result6 = list(result3)\n",
    "\n",
    "print('---')\n",
    "print('Now those tuples have been converted into lists:')\n",
    "print(result4)\n",
    "print(result5)\n",
    "print(result6)\n",
    "\n",
    "# check to make sure the results are identical to the original lists\n",
    "print('---')\n",
    "print('And now we can check to see if our newly extracted lists match the originals')\n",
    "print('Is \"result4\" identical to the \"mutants\" list: {result}'.format(result=result4 == mutants))\n",
    "print('Is \"result5\" identical to the \"aliases\" list: {result}'.format(result=result5 == aliases))\n",
    "print('Is \"result6\" identical to the \"powers\" list: {result}'.format(result=result6 == powers))"
   ]
  },
  {
   "cell_type": "markdown",
   "metadata": {},
   "source": [
    "### That's pretty much it!  Or at least all I have.  Feel free to go on to the stuff below, it gets into the weeds a bit, but hopefully now you have a better understanding of the zip() function.\n",
    "---"
   ]
  },
  {
   "cell_type": "markdown",
   "metadata": {},
   "source": [
    "### If you're dealing with a zipped object that has been converted to a list, you can use a [list comprehension](http://blog.teamtreehouse.com/python-single-line-loops) to extract a single element from the zipped list to its own list.  Note that a list comprehension is not the same thing as running a loop, this is simply a quick way to make a list."
   ]
  },
  {
   "cell_type": "code",
   "execution_count": null,
   "metadata": {},
   "outputs": [],
   "source": [
    "# Let's extract the aliases from \"mutant_zip_list\" and save them as the variable \"a\"\n",
    "a = [x[1] for x in mutant_zip_list] # the aliases are in index position \"1\"\n",
    "print(a)\n",
    "\n",
    "# now let's make sure list \"a\" is identical to \"aliases\"\n",
    "print(a == aliases)"
   ]
  },
  {
   "cell_type": "code",
   "execution_count": null,
   "metadata": {},
   "outputs": [],
   "source": [
    "# We can do something similar if we want to extract all the original lists \n",
    "# from \"mutant_zip_list\"\n",
    "\n",
    "# This isn't pretty at all, I'm totally open to improvements :)\n",
    "\n",
    "# First we'll make some empty lists\n",
    "c = []\n",
    "d = []\n",
    "e = []\n",
    "\n",
    "# Put those empty lists into a list\n",
    "my_lists = [c,d,e]\n",
    "\n",
    "# Iterate through the list of empty lists and appending the indexed items \n",
    "# from \"mutant_zip_list\"\n",
    "for index, my_list in enumerate(my_lists):\n",
    "    for x in mutant_zip_list:\n",
    "        my_list.append(x[index])\n",
    "\n",
    "# Create a list of the original lists\n",
    "mutant_lists = [mutants, aliases, powers]\n",
    "\n",
    "# Check the newly generated lists against the original lists\n",
    "for my_new_list, mutant_list in zip(my_lists, mutant_lists):\n",
    "    print(my_new_list)\n",
    "    print(my_new_list == mutant_list)\n",
    "    print('---')"
   ]
  },
  {
   "cell_type": "code",
   "execution_count": null,
   "metadata": {
    "collapsed": true
   },
   "outputs": [],
   "source": []
  }
 ],
 "metadata": {
  "kernelspec": {
   "display_name": "Python 3",
   "language": "python",
   "name": "python3"
  },
  "language_info": {
   "codemirror_mode": {
    "name": "ipython",
    "version": 3
   },
   "file_extension": ".py",
   "mimetype": "text/x-python",
   "name": "python",
   "nbconvert_exporter": "python",
   "pygments_lexer": "ipython3",
   "version": "3.6.1"
  }
 },
 "nbformat": 4,
 "nbformat_minor": 2
}
