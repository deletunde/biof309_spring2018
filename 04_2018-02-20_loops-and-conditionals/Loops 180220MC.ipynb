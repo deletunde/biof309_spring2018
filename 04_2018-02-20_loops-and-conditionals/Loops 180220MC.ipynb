{
 "cells": [
  {
   "cell_type": "markdown",
   "metadata": {
    "slideshow": {
     "slide_type": "slide"
    }
   },
   "source": [
    "# Loops\n",
    "---\n",
    "## Resources:\n",
    "* [Python Loops](https://www.learnpython.org/en/Loops)\n",
    "* [Loop Iterators](http://nbviewer.jupyter.org/github/jakevdp/WhirlwindTourOfPython/blob/master/10-Iterators.ipynb) - [Jake Vanderplas](https://github.com/jakevdp)"
   ]
  },
  {
   "cell_type": "markdown",
   "metadata": {},
   "source": [
    "## Outline\n",
    "---\n",
    "- Review\n",
    "- What are loops?\n",
    "- Two types of loops:\n",
    "    - \"for\"\n",
    "    - \"while\"\n",
    "- Using range()\n",
    "- Things to consider:\n",
    "    - nested loops\n",
    "    - global and local variables\n",
    "    - good iteration techniques\n",
    "- Exercise\n",
    "- Move on to Conditional Statements"
   ]
  },
  {
   "cell_type": "markdown",
   "metadata": {},
   "source": [
    "## Review\n",
    "---"
   ]
  },
  {
   "cell_type": "code",
   "execution_count": null,
   "metadata": {
    "collapsed": true
   },
   "outputs": [],
   "source": []
  },
  {
   "cell_type": "markdown",
   "metadata": {},
   "source": [
    "## What are loops?\n",
    "---\n",
    "- a loop repeats over a block of code\n",
    "- allows you to repeat specific actions over a set of values\n",
    "\n",
    "### Two Types of Python Loops\n",
    "1) \"for\" Loop - do something \"n\" number of times  \n",
    "2) \"while\" Loop - do something as long as condition \"n\" is met"
   ]
  },
  {
   "cell_type": "markdown",
   "metadata": {},
   "source": [
    "### Anatomy of a \"for\" Loop\n",
    "\n",
    "```python\n",
    "for LOOP_VARIABLE in ITERABLE:\n",
    "    print(LOOP_VARIABLE)\n",
    "```\n",
    "The \"LOOP_VARIABLE\" is the item in the \"ITERABLE\" that is being called by the following indented python commands\n",
    "\n",
    "What can the \"ITERABLE\" be?\n",
    "- str()\n",
    "- list()\n",
    "- range()\n",
    "- etc.\n"
   ]
  },
  {
   "cell_type": "code",
   "execution_count": null,
   "metadata": {
    "collapsed": true
   },
   "outputs": [],
   "source": [
    "# try making a \"for\" loop using a number type as the iterable\n",
    "\n",
    "a = 1.1\n",
    "\n",
    "for i in a:\n",
    "    print(i)"
   ]
  },
  {
   "cell_type": "code",
   "execution_count": null,
   "metadata": {},
   "outputs": [],
   "source": [
    "# a \"for\" loop using a string as the iterable\n",
    "\n",
    "example_string = \"Python!\"\n",
    "\n",
    "for i in example_string:\n",
    "    print(i)\n",
    "\n",
    "# \"i\" = each character in \"example_string\"\n",
    "# \"example_string\" = a string that is the iterable in this loop\n",
    "\n",
    "# when a string is used as the iterator, the \"for\" loop iterates\n",
    "# over each character in the string"
   ]
  },
  {
   "cell_type": "code",
   "execution_count": null,
   "metadata": {},
   "outputs": [],
   "source": [
    "# a \"for\" loop using a list as the iterable\n",
    "\n",
    "example_list = [1, 'two', 3.3]\n",
    "\n",
    "for i in example_list:\n",
    "    print(i)\n",
    "    \n",
    "# \"i\" = each item in example_list\n",
    "# \"example_list\" = a list that is the iterable in this loop"
   ]
  },
  {
   "cell_type": "markdown",
   "metadata": {},
   "source": [
    "### Using the \"range()\" Function in Loops\n",
    "- range() - returns a \"range\" type with numbers in a specified range\n",
    "- this can be used to run your \"for\" loop a specific number of times\n"
   ]
  },
  {
   "cell_type": "code",
   "execution_count": null,
   "metadata": {},
   "outputs": [],
   "source": [
    "# create a range of integers from 0 to 9 using \"range()\"\n",
    "a = range(0,10)\n",
    "print(a)\n",
    "print(type(a))"
   ]
  },
  {
   "cell_type": "code",
   "execution_count": null,
   "metadata": {},
   "outputs": [],
   "source": [
    "# a \"for\" loop using a range as the iterable\n",
    "\n",
    "example_range = range(0,10)\n",
    "\n",
    "for i in example_range:\n",
    "    print(i)\n",
    "    \n",
    "# \"i\" = each integer in the example_range\n",
    "# \"example_range\" = a range that is the iterable in this loop"
   ]
  },
  {
   "cell_type": "code",
   "execution_count": null,
   "metadata": {},
   "outputs": [],
   "source": [
    "# a \"for\" loop using a range as the iterable\n",
    "\n",
    "# in this loop, the user is choosing the number of times\n",
    "# a message is printed\n",
    "\n",
    "# in this example the iterable is being defined in the\n",
    "# opening line of the \"for\" loop\n",
    "\n",
    "for i in range(0,int(input())):\n",
    "    print(\"Oh, it's a printed line!\")\n",
    "    \n",
    "# \"i\" = each integer in the range()\n",
    "# range() = a range that is the iterable in this loop"
   ]
  },
  {
   "cell_type": "markdown",
   "metadata": {},
   "source": [
    "### \"break\" and \"continue\" Statements\n",
    "- \"break\" - exit a loop entirely\n",
    "- \"continue\" - skip the current block"
   ]
  },
  {
   "cell_type": "code",
   "execution_count": null,
   "metadata": {},
   "outputs": [],
   "source": [
    "# example of using the \"break\" statement\n",
    "for i in range(0,10):\n",
    "    if i == 3:\n",
    "        break\n",
    "    print(i)"
   ]
  },
  {
   "cell_type": "code",
   "execution_count": null,
   "metadata": {},
   "outputs": [],
   "source": [
    "# example of using the \"continue\" statement\n",
    "for i in range(0,10):\n",
    "    if i == 3:\n",
    "        continue\n",
    "    print(i)"
   ]
  },
  {
   "cell_type": "markdown",
   "metadata": {},
   "source": [
    "### Anatomy of a \"while\" Loop\n",
    "\n",
    "```python\n",
    "CONDITION = True\n",
    "\n",
    "while CONDITION == True:\n",
    "    print('message')\n",
    "    # option to alter the \"CONDITION\"\n",
    "    CONDITION = False\n",
    "```\n",
    "The \"while\" loop will continue to repeat as long as the condition is met.  \n",
    "\n",
    "We can use [operations and operators](https://www.tutorialspoint.com/python/python_basic_operators.htm) to form the condition to be met, and that condition can be modified with each iteration of the loop\n"
   ]
  },
  {
   "cell_type": "code",
   "execution_count": null,
   "metadata": {},
   "outputs": [],
   "source": [
    "CONDITION = True\n",
    "\n",
    "while CONDITION == True:\n",
    "    print('message')\n",
    "    # option to alter the \"CONDITION\"\n",
    "    CONDITION = False\n"
   ]
  },
  {
   "cell_type": "markdown",
   "metadata": {},
   "source": [
    "## Exercise\n",
    "---\n",
    "- Write a \"for\" loop that runs a Janken function 10 times\n",
    "- Write a \"while\" loop that runs a Janken function as long as the player beats the machine"
   ]
  },
  {
   "cell_type": "code",
   "execution_count": null,
   "metadata": {
    "collapsed": true
   },
   "outputs": [],
   "source": [
    "import random\n",
    "\n",
    "def janken(player_input):\n",
    "   \"\"\"calls for player input and randomly outputs a competing response, then states whether it was a tie or if the player won or lost\"\"\"\n",
    "   print(\"Player 1, select your weapon!\")\n",
    "   print(\"Player 1 chose: \" + player_input + \"!\")\n",
    "   x = random.choice([\"rock\", \"paper\", \"scissors\"])\n",
    "   print(\"Computer chose: \" + x + \"!\")\n",
    "   if x == player_input:\n",
    "        print(\"Tie!\")\n",
    "   elif (player_input == \"rock\" and x == \"paper\") or \\\n",
    "        (player_input == \"paper\" and x == \"scissors\") or \\\n",
    "        (player_input == \"scissors\" and x == \"rock\"):\n",
    "            print(\"You lost!\")\n",
    "   else:\n",
    "       print(\"You won!\")"
   ]
  },
  {
   "cell_type": "code",
   "execution_count": null,
   "metadata": {
    "collapsed": true
   },
   "outputs": [],
   "source": []
  }
 ],
 "metadata": {
  "kernelspec": {
   "display_name": "Python 3",
   "language": "python",
   "name": "python3"
  },
  "language_info": {
   "codemirror_mode": {
    "name": "ipython",
    "version": 3
   },
   "file_extension": ".py",
   "mimetype": "text/x-python",
   "name": "python",
   "nbconvert_exporter": "python",
   "pygments_lexer": "ipython3",
   "version": "3.6.1"
  }
 },
 "nbformat": 4,
 "nbformat_minor": 2
}
