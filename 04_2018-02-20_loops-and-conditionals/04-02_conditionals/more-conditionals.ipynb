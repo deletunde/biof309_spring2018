{
 "cells": [
  {
   "cell_type": "markdown",
   "metadata": {},
   "source": [
    "---\n",
    "title: \"Conditionals\"\n",
    "teaching: 15\n",
    "exercises: 5\n",
    "questions:\n",
    "- \"How can programs do different things for different data?\"\n",
    "objectives:\n",
    "- \"Correctly write programs that use if and else statements and simple Boolean expressions (without logical operators).\"\n",
    "- \"Trace the execution of unnested conditionals and conditionals inside loops.\"\n",
    "keypoints:\n",
    "- \"Boolean values, either True or False, represent the truth of a statement in Python\"\n",
    "- \"As well as functions that specifically return values of type bool,\n",
    "  statements about truth use what are called comparative operators.\"\n",
    "- \"Use `if` statements to control whether or not a block of code is executed.\"\n",
    "- \"Conditionals are often used with iteration.\"\n",
    "- \"Use `else` to execute a block of code when an `if` condition is *not* true.\"\n",
    "- \"Use `elif` to specify additional tests.\"\n",
    "- \"Conditions are tested once, in order.\"\n",
    "- \"Create a table showing variables' values to trace a program's execution.\"\n",
    "---\n",
    "\n",
    "## Comparisons in Python\n",
    "\n",
    "Python allows us to test the truth of statements using certain functions as\n",
    "well as by using what are called comparison operators. These include `>`, '<',\n",
    "`>=`, `<=`, `==`, `!=`, `is`, `is not`\n",
    "\n",
    "Some examples of using these operators:"
   ]
  },
  {
   "cell_type": "code",
   "execution_count": null,
   "metadata": {},
   "outputs": [],
   "source": [
    "5 > 4"
   ]
  },
  {
   "cell_type": "markdown",
   "metadata": {},
   "source": [
    "{: .python}"
   ]
  },
  {
   "cell_type": "code",
   "execution_count": null,
   "metadata": {},
   "outputs": [],
   "source": [
    "True"
   ]
  },
  {
   "cell_type": "markdown",
   "metadata": {},
   "source": [
    "{: .output}"
   ]
  },
  {
   "cell_type": "code",
   "execution_count": null,
   "metadata": {},
   "outputs": [],
   "source": [
    "5 == 5"
   ]
  },
  {
   "cell_type": "markdown",
   "metadata": {},
   "source": [
    "{: .python}"
   ]
  },
  {
   "cell_type": "code",
   "execution_count": null,
   "metadata": {},
   "outputs": [],
   "source": [
    "True"
   ]
  },
  {
   "cell_type": "markdown",
   "metadata": {},
   "source": [
    "{: .output}"
   ]
  },
  {
   "cell_type": "code",
   "execution_count": null,
   "metadata": {},
   "outputs": [],
   "source": [
    "5 != 5"
   ]
  },
  {
   "cell_type": "markdown",
   "metadata": {},
   "source": [
    "{: .python}"
   ]
  },
  {
   "cell_type": "code",
   "execution_count": null,
   "metadata": {},
   "outputs": [],
   "source": [
    "False"
   ]
  },
  {
   "cell_type": "markdown",
   "metadata": {},
   "source": [
    "{: .output}"
   ]
  },
  {
   "cell_type": "code",
   "execution_count": null,
   "metadata": {},
   "outputs": [],
   "source": [
    " 5 is not 5.0"
   ]
  },
  {
   "cell_type": "markdown",
   "metadata": {},
   "source": [
    "{: .python}"
   ]
  },
  {
   "cell_type": "code",
   "execution_count": null,
   "metadata": {},
   "outputs": [],
   "source": [
    "True"
   ]
  },
  {
   "cell_type": "markdown",
   "metadata": {},
   "source": [
    "{: .output}\n",
    "\n",
    "## The assert statement\n",
    "\n",
    "The `assert` statement is an important tool available to us to make sure our\n",
    "programs behave as we intend. We follow the assert command by an expression\n",
    "that it will assess for truth. If the expression `False` is returned our\n",
    "program will not execute. This is far better than continuing further to produce\n",
    "an obscure runtime error. Worse still if our program is executed with some of\n",
    "our assumptions not mess it may generate some content in error and we would\n",
    "have no idea this has happened.\n",
    "\n",
    "## Use `if` statements to control whether or not a block of code is executed.\n",
    "\n",
    "*   An `if` statement (more properly called a *conditional* statement)\n",
    "    controls whether some block of code is executed or not.\n",
    "*   Structure is similar to a `for` statement:\n",
    "    *   First line opens with `if` and ends with a colon\n",
    "    *   Body containing one or more statements is indented (usually by 4 spaces)"
   ]
  },
  {
   "cell_type": "code",
   "execution_count": null,
   "metadata": {},
   "outputs": [],
   "source": [
    "metasearch_dir = Path('data_not_in_repo/metasearch')\n",
    "data_exists = metasearch_dir.exists()\n",
    "if data_exists:\n",
    "    print('Data directory has been downloaded')"
   ]
  },
  {
   "cell_type": "markdown",
   "metadata": {},
   "source": [
    "{: .python}"
   ]
  },
  {
   "cell_type": "code",
   "execution_count": null,
   "metadata": {},
   "outputs": [],
   "source": [
    "Data directory has been downloaded"
   ]
  },
  {
   "cell_type": "markdown",
   "metadata": {},
   "source": [
    "{: .output}\n",
    "\n",
    "If the statement does not evaluate to `True` the indented code will not be\n",
    "evaluated and in this case nothing will be printed:"
   ]
  },
  {
   "cell_type": "code",
   "execution_count": null,
   "metadata": {},
   "outputs": [],
   "source": [
    "fake_dir = Path('metasearch/fast_cars')\n",
    "if fake_dir.exists():\n",
    "    print('Directory exists!')"
   ]
  },
  {
   "cell_type": "markdown",
   "metadata": {},
   "source": [
    "{: .python}\n",
    "\n",
    "## Recording changes to our analysis.\n",
    "\n",
    "We should edit our script at this point to tidy it up. What changes can we make\n",
    "that will best promote reproducibility? Ideally we would have written a\n",
    "conditional statement at the beginning of our analysis so that we are certain\n",
    "that both conditions of our if/else code block evaluated. In reality we will\n",
    "always have bits of code that we have to add to our code in retrospect. Ideally\n",
    "at this point we would delete our data directory to check that every condition\n",
    "runs.\n",
    "\n",
    "\n",
    "## Use `else` to execute a block of code when an `if` condition is *not* true.\n",
    "\n",
    "*   `else` is always attached to `if`.\n",
    "*   Allows us to specify an alternative to execute when the `if` *branch* isn't taken."
   ]
  },
  {
   "cell_type": "code",
   "execution_count": null,
   "metadata": {},
   "outputs": [],
   "source": [
    "fake_dir = Path('metasearch/fast_cars')\n",
    "if fake_dir.exists():\n",
    "    print('Directory exists!')\n",
    "else:\n",
    "    print('There is no directory with the path: ', fake_dir)"
   ]
  },
  {
   "cell_type": "markdown",
   "metadata": {},
   "source": [
    "{: .python}"
   ]
  },
  {
   "cell_type": "code",
   "execution_count": null,
   "metadata": {},
   "outputs": [],
   "source": [
    "There is no directory with the path: metasearch/fast_cars"
   ]
  },
  {
   "cell_type": "markdown",
   "metadata": {},
   "source": [
    "{: .output}\n",
    "\n",
    "## Use `elif` to specify additional tests.\n",
    "\n",
    "*   May want to provide several alternative choices, each with its own test.\n",
    "*   Use `elif` (short for \"else if\") and a condition to specify these.\n",
    "*   Always associated with an `if`.\n",
    "*   Must come before the `else` (which is the \"catch all\")."
   ]
  },
  {
   "cell_type": "code",
   "execution_count": null,
   "metadata": {},
   "outputs": [],
   "source": [
    "from pathlib import Path\n",
    "metasearch_dir = Path('data_not_in_repo/metasearch')\n",
    "data_exists = metasearch_dir.exists()\n",
    "in_repro_course = Path.cwd().name == 'repro_course'\n",
    "if data_exists and in_repro_course:\n",
    "    print('Data directory has been downloaded')\n",
    "elif in_repro_course:\n",
    "    !git clone https://github.com/OpenNeuroLab/metasearch.git {metasearch_dir}\n",
    "else:\n",
    "    assert(False)"
   ]
  },
  {
   "cell_type": "markdown",
   "metadata": {},
   "source": [
    "{: .python}"
   ]
  },
  {
   "cell_type": "code",
   "execution_count": null,
   "metadata": {},
   "outputs": [],
   "source": [
    "Data directory has been downloaded"
   ]
  },
  {
   "cell_type": "markdown",
   "metadata": {},
   "source": [
    "{: .output}\n",
    "\n",
    "We can see that at this point if we change to another directory our script will\n",
    "no longer display text as expected when we execute it:"
   ]
  },
  {
   "cell_type": "code",
   "execution_count": null,
   "metadata": {},
   "outputs": [],
   "source": [
    "%cd .. # to change into the parent directory\n",
    "%run repro_course/metasearch_analysis.py"
   ]
  },
  {
   "cell_type": "markdown",
   "metadata": {},
   "source": [
    "{: .python}\n",
    "\n",
    "If we run our file in debug mode and then press `c` for continue we can see the\n",
    "exception we raised with our `assert` statement."
   ]
  },
  {
   "cell_type": "code",
   "execution_count": null,
   "metadata": {},
   "outputs": [],
   "source": [
    "%run -d repro_course/metasearch_analysis.py"
   ]
  },
  {
   "cell_type": "markdown",
   "metadata": {},
   "source": [
    "{: .python}"
   ]
  },
  {
   "cell_type": "code",
   "execution_count": null,
   "metadata": {},
   "outputs": [],
   "source": [
    "---------------------------------------------------------------------------\n",
    "AssertionError                            Traceback (most recent call last)\n",
    "/usr/local/Anaconda/envs/py3.5/lib/python3.5/site-packages/IPython/core/interactiveshell.py in safe_execfile(self, fname, *where, **kw)\n",
    "   2479                 py3compat.execfile(\n",
    "   2480                     fname, glob, loc,\n",
    "-> 2481                     self.compile if kw['shell_futures'] else None)\n",
    "   2482             except SystemExit as status:\n",
    "   2483                 # If the call was made with 0 or None exit status (sys.exit(0)\n",
    "\n",
    "/usr/local/Anaconda/envs/py3.5/lib/python3.5/site-packages/IPython/utils/py3compat.py in execfile(fname, glob, loc, compiler)\n",
    "    184         with open(fname, 'rb') as f:\n",
    "    185             compiler = compiler or compile\n",
    "--> 186             exec(compiler(f.read(), fname, 'exec'), glob, loc)\n",
    "    187 \n",
    "    188     # Refactor print statements in doctests.\n",
    "\n",
    "/home/rodgersleejg/repro_course/metasearch_analysis.py in <module>()\n",
    "      1 # coding: utf-8\n",
    "----> 2 from pathlib import Path\n",
    "      3 metasearch_dir = Path('data_not_in_repo/metasearch')\n",
    "      4 data_exists = metasearch_dir.exists()\n",
    "      5 in_repro_course = Path.cwd().name == 'repro_course'\n",
    "\n",
    "AssertionError: "
   ]
  },
  {
   "cell_type": "markdown",
   "metadata": {},
   "source": [
    "{: .output}\n",
    "\n",
    "\n",
    "We will now change back to our repro_course directory to continue with our analysis."
   ]
  },
  {
   "cell_type": "code",
   "execution_count": null,
   "metadata": {},
   "outputs": [],
   "source": [
    "%cd repro_course"
   ]
  },
  {
   "cell_type": "markdown",
   "metadata": {},
   "source": [
    "{: .python}"
   ]
  },
  {
   "cell_type": "code",
   "execution_count": null,
   "metadata": {},
   "outputs": [],
   "source": [
    "/home/this_user/repro_course"
   ]
  },
  {
   "cell_type": "markdown",
   "metadata": {},
   "source": [
    "{: .output}\n",
    "\n",
    "\n",
    "## Final points on conditionals\n",
    "\n",
    "*   Python steps through the branches of the conditional in order, testing each in turn.\n",
    "*   So ordering matters.\n",
    "\n",
    "*   Often use conditionals in a loop to \"evolve\" the values of variables.\n",
    "*   Conditionals are often used inside loops.\n",
    "*   Conditional statements can be incorporated into list comprehensions:"
   ]
  },
  {
   "cell_type": "code",
   "execution_count": null,
   "metadata": {},
   "outputs": [],
   "source": [
    "[ x for x in range(10) if x > 4]"
   ]
  },
  {
   "cell_type": "markdown",
   "metadata": {},
   "source": [
    "{: .python}"
   ]
  },
  {
   "cell_type": "code",
   "execution_count": null,
   "metadata": {},
   "outputs": [],
   "source": [
    "[5, 6, 7, 8, 9]"
   ]
  },
  {
   "cell_type": "markdown",
   "metadata": {},
   "source": [
    "{: .output}\n",
    "\n",
    "*  It is important to be aware of all of the different cases that can arise\n",
    "   from our conditional testing. In our example with testing for certain\n",
    "   conditions on our file system we tested two statements using two outcomes.\n",
    "   This yields 4 unique states that our program could theoretically encounter.\n",
    "   Have we written our code to account for each of these situations?\n",
    "*  A useful set of tools are provided by the itertools package. In our current\n",
    "   situation the `product` function can quickly show us all of the test cases\n",
    "   that we should consider:"
   ]
  },
  {
   "cell_type": "code",
   "execution_count": null,
   "metadata": {},
   "outputs": [],
   "source": [
    "import itertools\n",
    "meta_exist = ['metasearch in pwd', 'metasearch not in pwd']\n",
    "repro_as_pwd = ['repro_course is pwd', 'repro_course not pwd']\n",
    "list(itertools.product(meta_exist, repro_as_pwd))"
   ]
  },
  {
   "cell_type": "markdown",
   "metadata": {},
   "source": [
    "{: .python}"
   ]
  },
  {
   "cell_type": "code",
   "execution_count": null,
   "metadata": {},
   "outputs": [],
   "source": [
    "[('metasearch in pwd', 'repro_course is pwd'),\n",
    " ('metasearch in pwd', 'repro_course not pwd'),\n",
    " ('metasearch not in pwd', 'repro_course is pwd'),\n",
    " ('metasearch not in pwd', 'repro_course not pwd')]"
   ]
  },
  {
   "cell_type": "markdown",
   "metadata": {},
   "source": [
    "{: .output}\n",
    "\n",
    "\n",
    "## Saving our work.\n",
    "\n",
    "First we should search for our command where we used an else statement (`%hist\n",
    "-n -g else`) then we should append this command to our script."
   ]
  },
  {
   "cell_type": "code",
   "execution_count": null,
   "metadata": {},
   "outputs": [],
   "source": [
    "%save -a metasearch_analysis.py 42 # enter the number of the multi-line if-else statement"
   ]
  },
  {
   "cell_type": "markdown",
   "metadata": {},
   "source": [
    "{: .python}"
   ]
  },
  {
   "cell_type": "code",
   "execution_count": null,
   "metadata": {},
   "outputs": [],
   "source": [
    "The following commands were written to file `metasearch_analysis.py`:\n",
    "from pathlib import Path\n",
    "metasearch_dir = Path('data_not_in_repo/metasearch')\n",
    "data_exists = metasearch_dir.exists()\n",
    "in_repro_course = Path.cwd().name == 'repro_course'\n",
    "if data_exists and in_repro_course:\n",
    "    print('Data directory has been downloaded')\n",
    "elif in_repro_course:\n",
    "    get_ipython().system('git clone https://github.com/OpenNeuroLab/metasearch.git {metasearch_dir}')\n",
    "else:\n",
    "    assert(False)"
   ]
  },
  {
   "cell_type": "markdown",
   "metadata": {},
   "source": [
    "{: .output}\n",
    "\n",
    "\n",
    "> ## Identifying Variable Name Errors\n",
    "> \n",
    "> 1. Read the code below and try to identify what the errors are\n",
    ">    *without* running it.\n",
    "> 2. Run the code and read the error message.\n",
    ">    What type of `NameError` do you think this is?\n",
    ">    Is it a string with no quotes, a misspelled variable, or a \n",
    ">    variable that should have been defined but was not?\n",
    "> 3. Fix the error.\n",
    "> 4. Repeat steps 2 and 3, until you have fixed all the errors.\n",
    "> \n",
    "> ~~~\n",
    "> for number in range(10):\n",
    ">     # use a if the number is a multiple of 3, otherwise use b\n",
    ">     if (Number % 3) == 0:\n",
    ">         message = message + a\n",
    ">     else:\n",
    ">         message = message + \"b\"\n",
    "> print(message)\n",
    "> ~~~\n",
    "> {: .python}\n",
    "{: .challenge}\n",
    "\n",
    "\n",
    "> ## Compound Relations Using `and`, `or`, and Parentheses\n",
    "> \n",
    "> Often, you want some combination of things to be true.  You can combine\n",
    "> relations within a conditional using `and` and `or`.  Continuing the example\n",
    "> above, suppose you have\n",
    "> \n",
    "> ~~~\n",
    "> mass     = [ 3.54,  2.07,  9.22,  1.86,  1.71]\n",
    "> velocity = [10.00, 20.00, 30.00, 25.00, 20.00]\n",
    "> \n",
    "> i = 0\n",
    "> for i in range(5):\n",
    ">     if mass[i] > 5 and velocity[i] > 20:\n",
    ">         print \"Fast heavy object.  Duck!\"\n",
    ">     elif mass[i] > 2 and mass[i] <= 5 and velocity[i] <= 20:\n",
    ">         print \"Normal traffic\"\n",
    ">     elif mass[i] <= 2 and velocity <= 20:\n",
    ">         print \"Slow light object.  Ignore it\"\n",
    ">     else:\n",
    ">         print \"Whoa!  Something is up with the data.  Check it\"\n",
    "> ~~~\n",
    "> {: .python}\n",
    "> \n",
    "> Just like with arithmetic, you can and should use parentheses whenever there\n",
    "> is possible ambiguity.  A good general rule is to *always* use parentheses\n",
    "> when mixing `and` and `or` in the same condition.  That is, instead of:\n",
    "> \n",
    "> ~~~\n",
    "> if mass[i] <= 2 or mass[i] >= 5 and velocity[i] > 20:\n",
    "> ~~~\n",
    "> {: .python}\n",
    "> \n",
    "> write one of these:\n",
    "> \n",
    "> ~~~\n",
    "> if (mass[i] <= 2 or mass[i] >= 5) and velocity[i] > 20:\n",
    "> if mass[i] <= 2 or (mass[i] >= 5 and velocity[i] > 20):\n",
    "> ~~~\n",
    "> {: .python}\n",
    "> \n",
    "> so it is perfectly clear to a reader (and to Python) what you really mean.\n",
    "{: .callout}\n",
    "\n",
    "> ## Tracing Execution\n",
    "> \n",
    "> What does this program print?\n",
    "> \n",
    "> ~~~\n",
    "> pressure = 71.9\n",
    "> if pressure 50.0:\n",
    ">     pressure = 25.0\n",
    "> elif pressure <= 50.0:\n",
    ">     pressure = 0.0\n",
    "> print(pressure)\n",
    "> ~~~\n",
    "> {: .python}\n",
    "{: .challenge}"
   ]
  }
 ],
 "metadata": {},
 "nbformat": 4,
 "nbformat_minor": 2
}
