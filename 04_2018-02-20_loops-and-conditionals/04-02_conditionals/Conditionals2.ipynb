{
 "cells": [
  {
   "cell_type": "markdown",
   "metadata": {},
   "source": [
    "[Source](http://swcarpentry.github.io/python-novice-gapminder/17-conditionals/ \"Permalink to Plotting and Programming in Python: Conditionals\")\n",
    "\n",
    "# Plotting and Programming in Python: Conditionals\n",
    "\n",
    "> ## Overview\n",
    ">\n",
    "> **Teaching:** 10 min   \n",
    "**Exercises:** 15 min\n",
    ">\n",
    "> **Objectives**\n",
    ">\n",
    "> * Correctly write programs that use if and else statements and simple Boolean expressions (without logical operators).\n",
    ">\n",
    "> * Trace the execution of unnested conditionals and conditionals inside loops.\n",
    "\n",
    "## Use `if` statements to control whether or not a block of code is executed.\n",
    "\n",
    "* An `if` statement (more properly called a _conditional_ statement) controls whether some block of code is executed or not.\n",
    "* Structure is similar to a `for` statement:\n",
    "    * First line opens with `if` and ends with a colon\n",
    "    * Body containing one or more statements is indented (usually by 4 spaces)"
   ]
  },
  {
   "cell_type": "code",
   "execution_count": null,
   "metadata": {
    "collapsed": true
   },
   "outputs": [],
   "source": []
  },
  {
   "cell_type": "markdown",
   "metadata": {},
   "source": [
    "## Use `else` to execute a block of code when an `if` condition is _not_ true.\n",
    "\n",
    "* `else` is always attached to `if`.\n",
    "* Allows us to specify an alternative to execute when the `if` _branch_ isn't taken."
   ]
  },
  {
   "cell_type": "code",
   "execution_count": null,
   "metadata": {
    "collapsed": true
   },
   "outputs": [],
   "source": []
  },
  {
   "cell_type": "markdown",
   "metadata": {},
   "source": [
    "## Use `elif` to specify additional tests.\n",
    "\n",
    "* May want to provide several alternative choices, each with its own test.\n",
    "* Use `elif` (short for \"else if\") and a condition to specify these.\n",
    "* Always associated with an `if`.\n",
    "* Must come before the `else` (which is the \"catch all\").\n",
    "\n",
    "I can also generate more complex conditional statements with boolean operators like **and** and **or**, and use comparators like \"<\", \">\""
   ]
  },
  {
   "cell_type": "code",
   "execution_count": null,
   "metadata": {
    "collapsed": true
   },
   "outputs": [],
   "source": []
  },
  {
   "cell_type": "markdown",
   "metadata": {},
   "source": [
    "## Conditions are tested once, in order.\n",
    "\n",
    "* Python steps through the branches of the conditional in order, testing each in turn.\n",
    "* So ordering matters."
   ]
  },
  {
   "cell_type": "code",
   "execution_count": null,
   "metadata": {
    "collapsed": true
   },
   "outputs": [],
   "source": []
  },
  {
   "cell_type": "markdown",
   "metadata": {},
   "source": [
    "* Does _not_ automatically go back and re-evaluate if values change."
   ]
  },
  {
   "cell_type": "code",
   "execution_count": null,
   "metadata": {
    "collapsed": true
   },
   "outputs": [],
   "source": []
  },
  {
   "cell_type": "markdown",
   "metadata": {},
   "source": [
    "  \n",
    "> ## Key Points\n",
    ">\n",
    "> * Use `if` statements to control whether or not a block of code is executed.\n",
    ">\n",
    "> * Use `else` to execute a block of code when an `if` condition is _not_ true.\n",
    ">\n",
    "> * Use `elif` to specify additional tests.\n",
    ">\n",
    "> * Conditions are tested once, in order."
   ]
  }
 ],
 "metadata": {
  "anaconda-cloud": {},
  "kernelspec": {
   "display_name": "Python 3",
   "language": "python",
   "name": "python3"
  },
  "language_info": {
   "codemirror_mode": {
    "name": "ipython",
    "version": 3
   },
   "file_extension": ".py",
   "mimetype": "text/x-python",
   "name": "python",
   "nbconvert_exporter": "python",
   "pygments_lexer": "ipython3",
   "version": "3.6.0"
  }
 },
 "nbformat": 4,
 "nbformat_minor": 1
}
