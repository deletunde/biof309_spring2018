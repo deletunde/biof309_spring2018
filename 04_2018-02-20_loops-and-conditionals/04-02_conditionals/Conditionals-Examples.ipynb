{
  "cells": [
    {
      "cell_type": "markdown",
      "source": [
        "# Conditionals examples"
      ],
      "metadata": {}
    },
    {
      "cell_type": "markdown",
      "source": [
        "---"
      ],
      "metadata": {}
    },
    {
      "cell_type": "markdown",
      "source": [
        "Source: [Python for Biologists](http://pythonforbiologists.com/index.php/introduction-to-python-for-biologists/conditions/)\n",
        "\n\n\nIn this folder you’ll find a text file called __data.csv__, containing some made-up data for a number of genes. Each line contains the following fields for a single gene in this order: species name, sequence, gene name, expression level. The fields are separated by commas (hence the name of the file – csv stands for Comma Separated Values). Think of it as a representation of a table in a spreadsheet – each line is a row, and each field in a line is a column. All the exercises for this section use the data read from this file."
      ],
      "metadata": {}
    },
    {
      "cell_type": "markdown",
      "source": [
        "### Several species\n",
        "\nPrint out the gene names for all genes belonging to Drosophila melanogaster or Drosophila simulans."
      ],
      "metadata": {}
    },
    {
      "cell_type": "code",
      "source": [
        "# %load data.csv\n",
        "Drosophila melanogaster,atatatatatcgcgtatatatacgactatatgcattaattatagcatatcgatatatatatcgatattatatcgcattatacgcgcgtaattatatcgcgtaattacga,kdy647,264\n",
        "Drosophila melanogaster,actgtgacgtgtactgtacgactatcgatacgtagtactgatcgctactgtaatgcatccatgctgacgtatctaagt,jdg766,185\n",
        "Drosophila simulans,atcgatcatgtcgatcgatgatgcatccgactatcgtcgatcgtgatcgatcgatcgatcatcgatcgatgtcgatcatgtcgatatcgt,kdy533,485\n",
        "Drosophila yakuba,cgcgcgctcgcgcatacggcctaatgcgcgcgctagcgatgc,hdt739,85\n",
        "Drosophila ananassae,ttacgatcgatcgatcgatcgatcgtcgatcgtcgatgctacatcgatcatcatcggattagtcacatcgatcgatcatcgactgatcgtcgatcgtagatgctgacatcgatagca,hdu045,356\n",
        "Drosophila ananassae,gcatcgatcgatcgcggcgcatcgatcgcgatcatcgatcatacgcgtcatatctatacgtcactgccgcgcgtatctacgcgatgactagctagact,teg436,222\n"
      ],
      "outputs": [],
      "execution_count": null,
      "metadata": {
        "collapsed": true
      }
    },
    {
      "cell_type": "code",
      "source": [
        "# Look at csv module\n",
        "\n",
        "import csv\n",
        "with open('data.csv') as csvfile:\n",
        "    raw_data = csv.reader(csvfile, delimiter=' ', quotechar='|')\n",
        "    for row in raw_data:\n",
        "        print(', '.join(row))"
      ],
      "outputs": [
        {
          "output_type": "stream",
          "name": "stdout",
          "text": [
            "Drosophila, melanogaster,atatatatatcgcgtatatatacgactatatgcattaattatagcatatcgatatatatatcgatattatatcgcattatacgcgcgtaattatatcgcgtaattacga,kdy647,264\n",
            "Drosophila, melanogaster,actgtgacgtgtactgtacgactatcgatacgtagtactgatcgctactgtaatgcatccatgctgacgtatctaagt,jdg766,185\n",
            "Drosophila, simulans,atcgatcatgtcgatcgatgatgcatccgactatcgtcgatcgtgatcgatcgatcgatcatcgatcgatgtcgatcatgtcgatatcgt,kdy533,485\n",
            "Drosophila, yakuba,cgcgcgctcgcgcatacggcctaatgcgcgcgctagcgatgc,hdt739,85\n",
            "Drosophila, ananassae,ttacgatcgatcgatcgatcgatcgtcgatcgtcgatgctacatcgatcatcatcggattagtcacatcgatcgatcatcgactgatcgtcgatcgtagatgctgacatcgatagca,hdu045,356\n",
            "Drosophila, ananassae,gcatcgatcgatcgcggcgcatcgatcgcgatcatcgatcatacgcgtcatatctatacgtcactgccgcgcgtatctacgcgatgactagctagact,teg436,222\n"
          ]
        }
      ],
      "execution_count": 6,
      "metadata": {
        "collapsed": false
      }
    },
    {
      "cell_type": "code",
      "source": [
        "# Look at csv module\n",
        "\n",
        "import csv\n",
        "with open('data.csv') as csvfile:\n",
        "    raw_data = csv.reader(csvfile)\n",
        "    for row in raw_data:\n",
        "        print(row)"
      ],
      "outputs": [
        {
          "output_type": "stream",
          "name": "stdout",
          "text": [
            "['Drosophila melanogaster', 'atatatatatcgcgtatatatacgactatatgcattaattatagcatatcgatatatatatcgatattatatcgcattatacgcgcgtaattatatcgcgtaattacga', 'kdy647', '264']\n",
            "['Drosophila melanogaster', 'actgtgacgtgtactgtacgactatcgatacgtagtactgatcgctactgtaatgcatccatgctgacgtatctaagt', 'jdg766', '185']\n",
            "['Drosophila simulans', 'atcgatcatgtcgatcgatgatgcatccgactatcgtcgatcgtgatcgatcgatcgatcatcgatcgatgtcgatcatgtcgatatcgt', 'kdy533', '485']\n",
            "['Drosophila yakuba', 'cgcgcgctcgcgcatacggcctaatgcgcgcgctagcgatgc', 'hdt739', '85']\n",
            "['Drosophila ananassae', 'ttacgatcgatcgatcgatcgatcgtcgatcgtcgatgctacatcgatcatcatcggattagtcacatcgatcgatcatcgactgatcgtcgatcgtagatgctgacatcgatagca', 'hdu045', '356']\n",
            "['Drosophila ananassae', 'gcatcgatcgatcgcggcgcatcgatcgcgatcatcgatcatacgcgtcatatctatacgtcactgccgcgcgtatctacgcgatgactagctagact', 'teg436', '222']\n"
          ]
        }
      ],
      "execution_count": 5,
      "metadata": {
        "collapsed": false
      }
    },
    {
      "cell_type": "code",
      "source": [
        "# Look at csv module\n",
        "\n",
        "import csv\n",
        "with open('data.csv') as csvfile:\n",
        "    raw_data = csv.reader(csvfile)\n",
        "    for row in raw_data:\n",
        "        if row[0] == 'Drosophila melanogaster' or row[0] == 'Drosophila simulans':\n",
        "            print(row[2])"
      ],
      "outputs": [
        {
          "output_type": "stream",
          "name": "stdout",
          "text": [
            "kdy647\n",
            "jdg766\n",
            "kdy533\n"
          ]
        }
      ],
      "execution_count": 7,
      "metadata": {
        "collapsed": false
      }
    },
    {
      "cell_type": "code",
      "source": [
        "import csv\n",
        "with open('data.csv') as csvfile:\n",
        "    raw_data = csv.reader(csvfile)\n",
        "    for row in raw_data:\n",
        "        if row[0] in ['Drosophila melanogaster', 'Drosophila simulans']:\n",
        "            print(row[2])"
      ],
      "outputs": [
        {
          "output_type": "stream",
          "name": "stdout",
          "text": [
            "kdy647\n",
            "jdg766\n",
            "kdy533\n"
          ]
        }
      ],
      "execution_count": 8,
      "metadata": {
        "collapsed": false
      }
    },
    {
      "cell_type": "markdown",
      "source": [
        "### Length range\n",
        "\nPrint out the gene names for all genes between 90 and 110 bases long."
      ],
      "metadata": {}
    },
    {
      "cell_type": "code",
      "source": [
        "import csv\n",
        "with open('data.csv') as csvfile:\n",
        "    raw_data = csv.reader(csvfile)\n",
        "    for row in raw_data:\n",
        "        if len(row[1]) >= 90 or len(row[1]) <= 110:\n",
        "            print(row[2])"
      ],
      "outputs": [
        {
          "output_type": "stream",
          "name": "stdout",
          "text": [
            "kdy647\n",
            "jdg766\n",
            "kdy533\n",
            "hdt739\n",
            "hdu045\n",
            "teg436\n"
          ]
        }
      ],
      "execution_count": 11,
      "metadata": {
        "collapsed": false
      }
    },
    {
      "cell_type": "markdown",
      "source": [
        "### AT content\n",
        "\nPrint out the gene names for all genes whose AT content is less than 0.5 and whose expression level is greater than 200."
      ],
      "metadata": {}
    },
    {
      "cell_type": "code",
      "source": [
        "def is_at_rich(dna):\n",
        "    length = len(dna)\n",
        "    a_count = dna.upper().count('A')\n",
        "    t_count = dna.upper().count('T')\n",
        "    at_content = (a_count + t_count) / length\n",
        "    return at_content < 0.5"
      ],
      "outputs": [],
      "execution_count": 15,
      "metadata": {
        "collapsed": true
      }
    },
    {
      "cell_type": "code",
      "source": [
        "import csv\n",
        "with open('data.csv') as csvfile:\n",
        "    raw_data = csv.reader(csvfile)\n",
        "    for row in raw_data:\n",
        "        if is_at_rich(row[1]) and int(row[3]) > 200:\n",
        "            print(row[2])"
      ],
      "outputs": [
        {
          "output_type": "stream",
          "name": "stdout",
          "text": [
            "teg436\n"
          ]
        }
      ],
      "execution_count": 16,
      "metadata": {
        "collapsed": false
      }
    },
    {
      "cell_type": "markdown",
      "source": [
        "### Complex condition\n",
        "\nPrint out the gene names for all genes whose name begins with “k” or “h” except those belonging to Drosophila melanogaster."
      ],
      "metadata": {}
    },
    {
      "cell_type": "code",
      "source": [
        "import csv\n",
        "with open('data.csv') as csvfile:\n",
        "    raw_data = csv.reader(csvfile)\n",
        "    for row in raw_data:\n",
        "        if (row[2].startswith('k') or row[2].startswith('h')) and row[0] != 'Drosophila melanogaster':\n",
        "            print(row[2])"
      ],
      "outputs": [
        {
          "output_type": "stream",
          "name": "stdout",
          "text": [
            "kdy533\n",
            "hdt739\n",
            "hdu045\n"
          ]
        }
      ],
      "execution_count": 20,
      "metadata": {
        "collapsed": false
      }
    },
    {
      "cell_type": "markdown",
      "source": [
        "### High low medium\n",
        "\nFor each gene, print out a message giving the gene name and saying whether its AT content is high (greater than 0.65), low (less than 0.45) or medium (between 0.45 and 0.65)."
      ],
      "metadata": {
        "collapsed": true
      }
    },
    {
      "cell_type": "code",
      "source": [
        "def at_percentage(dna):\n",
        "    length = len(dna)\n",
        "    a_count = dna.upper().count('A')\n",
        "    t_count = dna.upper().count('T')\n",
        "    at_content = (a_count + t_count) / length\n",
        "    return at_content"
      ],
      "outputs": [],
      "execution_count": 21,
      "metadata": {
        "collapsed": true
      }
    },
    {
      "cell_type": "code",
      "source": [
        "import csv\n",
        "with open('data.csv') as csvfile:\n",
        "    raw_data = csv.reader(csvfile)\n",
        "    for row in raw_data:\n",
        "        at_percent = at_percentage(row[1])\n",
        "        if at_percent > 0.65:\n",
        "            print('AT content is high')\n",
        "        elif at_percent < 0.45:\n",
        "            print('AT content is high')\n",
        "        else:\n",
        "            print('AT content is medium')"
      ],
      "outputs": [
        {
          "output_type": "stream",
          "name": "stdout",
          "text": [
            "AT content is high\n",
            "AT content is medium\n",
            "AT content is medium\n",
            "AT content is high\n",
            "AT content is medium\n",
            "AT content is medium\n"
          ]
        }
      ],
      "execution_count": 22,
      "metadata": {
        "collapsed": false
      }
    },
    {
      "cell_type": "code",
      "source": [],
      "outputs": [],
      "execution_count": null,
      "metadata": {
        "collapsed": true
      }
    }
  ],
  "metadata": {
    "anaconda-cloud": {},
    "kernelspec": {
      "name": "python3",
      "language": "python",
      "display_name": "Python 3"
    },
    "language_info": {
      "mimetype": "text/x-python",
      "codemirror_mode": {
        "version": 3,
        "name": "ipython"
      },
      "name": "python",
      "nbconvert_exporter": "python",
      "pygments_lexer": "ipython3",
      "version": "3.5.3",
      "file_extension": ".py"
    },
    "kernel_info": {
      "name": "python3"
    },
    "nteract": {
      "version": "0.2.0"
    }
  },
  "nbformat": 4,
  "nbformat_minor": 0
}