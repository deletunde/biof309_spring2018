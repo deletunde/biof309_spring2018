{
 "cells": [
  {
   "cell_type": "markdown",
   "metadata": {
    "button": false,
    "deletable": true,
    "new_sheet": false,
    "run_control": {
     "read_only": false
    }
   },
   "source": [
    "# BIOF 309 - Introduction to Python\n",
    "## Class 7: Control Flow\n",
    "\n",
    "Control Flow ([wiki article](http://en.wikipedia.org/wiki/Control_flow)) is the part of a programming language's syntax that enables execution of the program to follow down one or more branches of instructions conditionaly, or going in loops.\n",
    "\n",
    "### Table Of Contents\n",
    "1. [Boolean Expressions](#boolean)\n",
    "2. [Conditional Statements](#conditional)\n",
    "3. [While loop](#while)\n",
    "4. [For loop](#for)\n",
    "5. [Exception handling](#exceptions)\n",
    "\n",
    "\n",
    "---"
   ]
  },
  {
   "cell_type": "markdown",
   "metadata": {
    "button": false,
    "deletable": true,
    "new_sheet": false,
    "run_control": {
     "read_only": false
    }
   },
   "source": [
    "## <a name=\"boolean\">Boolean Expressions</a>\n",
    "\n",
    "<code>True</code> and <code>False</code> are reserved words in Python.\n",
    "In addition the following values evaluate to <code>False</code> in a truth test:\n",
    "\n",
    "+ <code>False</code>\n",
    "+ <code>None</code>\n",
    "+ 0 of any type, including 0, 0L, 0.0, 0j\n",
    "+ An empty sequence: \"\", (), [], {}\n",
    "\n",
    "Any other value evaluates to <code>True</code>. More on this later.\n"
   ]
  },
  {
   "cell_type": "markdown",
   "metadata": {
    "button": false,
    "deletable": true,
    "new_sheet": false,
    "run_control": {
     "read_only": false
    }
   },
   "source": [
    "### <code>and</code>, <code>or</code>, and <code>not</code>\n",
    "\n",
    "<code>and</code> and <code>or</code> are [binary operators](http://en.wikipedia.org/wiki/Binary_operation), meaning you slap them in between two truth values to make one value. <code>not</code> is a [unary operator](http://en.wikipedia.org/wiki/Unary_operation) that negates the value after it."
   ]
  },
  {
   "cell_type": "code",
   "execution_count": 2,
   "metadata": {
    "button": false,
    "collapsed": false,
    "deletable": true,
    "new_sheet": false,
    "run_control": {
     "read_only": false
    }
   },
   "outputs": [
    {
     "data": {
      "text/plain": [
       "False"
      ]
     },
     "execution_count": 2,
     "metadata": {},
     "output_type": "execute_result"
    }
   ],
   "source": [
    "True and False"
   ]
  },
  {
   "cell_type": "code",
   "execution_count": 3,
   "metadata": {
    "button": false,
    "collapsed": false,
    "deletable": true,
    "new_sheet": false,
    "run_control": {
     "read_only": false
    }
   },
   "outputs": [
    {
     "data": {
      "text/plain": [
       "True"
      ]
     },
     "execution_count": 3,
     "metadata": {},
     "output_type": "execute_result"
    }
   ],
   "source": [
    "True or False"
   ]
  },
  {
   "cell_type": "code",
   "execution_count": 20,
   "metadata": {
    "button": false,
    "collapsed": false,
    "deletable": true,
    "new_sheet": false,
    "run_control": {
     "read_only": false
    }
   },
   "outputs": [
    {
     "name": "stdout",
     "output_type": "stream",
     "text": [
      "False\n"
     ]
    }
   ],
   "source": [
    "my_bool_value = True and False\n",
    "print my_bool_value"
   ]
  },
  {
   "cell_type": "code",
   "execution_count": 7,
   "metadata": {
    "button": false,
    "collapsed": false,
    "deletable": true,
    "new_sheet": false,
    "run_control": {
     "read_only": false
    }
   },
   "outputs": [
    {
     "data": {
      "text/plain": [
       "False"
      ]
     },
     "execution_count": 7,
     "metadata": {},
     "output_type": "execute_result"
    }
   ],
   "source": [
    "not True"
   ]
  },
  {
   "cell_type": "markdown",
   "metadata": {
    "button": false,
    "deletable": true,
    "new_sheet": false,
    "run_control": {
     "read_only": false
    }
   },
   "source": [
    "### Order of Operations\n",
    "\n",
    "In Python there is an [order of operations](http://docs.python.org/2/reference/expressions.html#operator-precedence), so some operators are evaluated before others. Operations of equivalent precedence are evaluated left to right. Use parentheses to clarify boolean expressions. <code>and</code> and <code>or</code> are [short-circuit operators](http://en.wikipedia.org/wiki/Short-circuit_evaluation), which means that \"the second argument is executed or evaluated only if the first argument does not suffice to determine the value of the expression.\""
   ]
  },
  {
   "cell_type": "code",
   "execution_count": 32,
   "metadata": {
    "button": false,
    "collapsed": false,
    "deletable": true,
    "new_sheet": false,
    "run_control": {
     "read_only": false
    }
   },
   "outputs": [
    {
     "data": {
      "text/plain": [
       "False"
      ]
     },
     "execution_count": 32,
     "metadata": {},
     "output_type": "execute_result"
    }
   ],
   "source": [
    "# \"and\" has a higher order of precedence than \"or\", so the following\n",
    "# expression is equivalent to \"False or (True and False)\"\n",
    "False or True and False"
   ]
  },
  {
   "cell_type": "code",
   "execution_count": 33,
   "metadata": {
    "button": false,
    "collapsed": false,
    "deletable": true,
    "new_sheet": false,
    "run_control": {
     "read_only": false
    }
   },
   "outputs": [
    {
     "data": {
      "text/plain": [
       "True"
      ]
     },
     "execution_count": 33,
     "metadata": {},
     "output_type": "execute_result"
    }
   ],
   "source": [
    "# Again, the \"and\" part is evaluated before the \"or\" part so the\n",
    "# following expression is equivalent to \"True or (False and True)\"\n",
    "True or False and True"
   ]
  },
  {
   "cell_type": "code",
   "execution_count": 40,
   "metadata": {
    "button": false,
    "collapsed": false,
    "deletable": true,
    "new_sheet": false,
    "run_control": {
     "read_only": false
    }
   },
   "outputs": [
    {
     "data": {
      "text/plain": [
       "True"
      ]
     },
     "execution_count": 40,
     "metadata": {},
     "output_type": "execute_result"
    }
   ],
   "source": [
    "# \"not\" has higher precedence than either and or or.\n",
    "not False and True"
   ]
  },
  {
   "cell_type": "code",
   "execution_count": 37,
   "metadata": {
    "button": false,
    "collapsed": false,
    "deletable": true,
    "new_sheet": false,
    "run_control": {
     "read_only": false
    }
   },
   "outputs": [
    {
     "data": {
      "text/plain": [
       "False"
      ]
     },
     "execution_count": 37,
     "metadata": {},
     "output_type": "execute_result"
    }
   ],
   "source": [
    "# Here the operators have the same precedence, so the short-circuit\n",
    "# kicks in and only the first pair of values are evaluated\n",
    "True and False and True and True and True"
   ]
  },
  {
   "cell_type": "markdown",
   "metadata": {
    "button": false,
    "deletable": true,
    "new_sheet": false,
    "run_control": {
     "read_only": false
    }
   },
   "source": [
    "### <code>any()</code> and <code>all()</code>\n",
    "\n",
    "If you need to chain lots of booleans together, use the built-in Python functions [<code>any()</code>](http://docs.python.org/2/library/functions.html#any) or [<code>all()</code>](http://docs.python.org/2/library/functions.html#all)"
   ]
  },
  {
   "cell_type": "code",
   "execution_count": 35,
   "metadata": {
    "button": false,
    "collapsed": false,
    "deletable": true,
    "new_sheet": false,
    "run_control": {
     "read_only": false
    }
   },
   "outputs": [
    {
     "data": {
      "text/plain": [
       "True"
      ]
     },
     "execution_count": 35,
     "metadata": {},
     "output_type": "execute_result"
    }
   ],
   "source": [
    "# Equivalent to \"True or False or True or False or True\"\n",
    "any( [True, False, True, False, True ] )"
   ]
  },
  {
   "cell_type": "code",
   "execution_count": 36,
   "metadata": {
    "button": false,
    "collapsed": false,
    "deletable": true,
    "new_sheet": false,
    "run_control": {
     "read_only": false
    }
   },
   "outputs": [
    {
     "data": {
      "text/plain": [
       "False"
      ]
     },
     "execution_count": 36,
     "metadata": {},
     "output_type": "execute_result"
    }
   ],
   "source": [
    "# Equivalent to \"True and False and True and False and True\"\n",
    "all( [True, False, True, False, True ] )"
   ]
  },
  {
   "cell_type": "markdown",
   "metadata": {
    "button": false,
    "deletable": true,
    "new_sheet": false,
    "run_control": {
     "read_only": false
    }
   },
   "source": [
    "### Comparison operators\n",
    "\n",
    "All of the following have the same order of precedence:\n",
    "\n",
    "* <code>in</code>\n",
    "* <code>not in</code>\n",
    "* <code><</code>\n",
    "* <code><=</code>\n",
    "* <code>></code>\n",
    "* <code>>=</code>\n",
    "* <code><></code> or <code>!=</code> (equivalent)\n",
    "* <code>==</code>\n",
    "* <code>is</code>\n",
    "* <code>is not</code>"
   ]
  },
  {
   "cell_type": "code",
   "execution_count": 41,
   "metadata": {
    "button": false,
    "collapsed": false,
    "deletable": true,
    "new_sheet": false,
    "run_control": {
     "read_only": false
    }
   },
   "outputs": [
    {
     "data": {
      "text/plain": [
       "True"
      ]
     },
     "execution_count": 41,
     "metadata": {},
     "output_type": "execute_result"
    }
   ],
   "source": [
    "list1 = [12,34,56,78,90]\n",
    "90 in list1"
   ]
  },
  {
   "cell_type": "code",
   "execution_count": 42,
   "metadata": {
    "button": false,
    "collapsed": false,
    "deletable": true,
    "new_sheet": false,
    "run_control": {
     "read_only": false
    }
   },
   "outputs": [
    {
     "data": {
      "text/plain": [
       "True"
      ]
     },
     "execution_count": 42,
     "metadata": {},
     "output_type": "execute_result"
    }
   ],
   "source": [
    "91 not in list1"
   ]
  },
  {
   "cell_type": "code",
   "execution_count": 44,
   "metadata": {
    "button": false,
    "collapsed": false,
    "deletable": true,
    "new_sheet": false,
    "run_control": {
     "read_only": false
    }
   },
   "outputs": [
    {
     "data": {
      "text/plain": [
       "True"
      ]
     },
     "execution_count": 44,
     "metadata": {},
     "output_type": "execute_result"
    }
   ],
   "source": [
    "# in and not in also work for testing if a string contains part\n",
    "# of another string:\n",
    "name = \"Chris Coletta\"\n",
    "\"Chris\" in name"
   ]
  },
  {
   "cell_type": "code",
   "execution_count": 45,
   "metadata": {
    "button": false,
    "collapsed": false,
    "deletable": true,
    "new_sheet": false,
    "run_control": {
     "read_only": false
    }
   },
   "outputs": [
    {
     "data": {
      "text/plain": [
       "False"
      ]
     },
     "execution_count": 45,
     "metadata": {},
     "output_type": "execute_result"
    }
   ],
   "source": [
    "\"Christopher\" in name"
   ]
  },
  {
   "cell_type": "code",
   "execution_count": 46,
   "metadata": {
    "button": false,
    "collapsed": false,
    "deletable": true,
    "new_sheet": false,
    "run_control": {
     "read_only": false
    }
   },
   "outputs": [
    {
     "data": {
      "text/plain": [
       "True"
      ]
     },
     "execution_count": 46,
     "metadata": {},
     "output_type": "execute_result"
    }
   ],
   "source": [
    "# In the context of a dict in and not in refer to the keys \n",
    "# of the dict, not the values:\n",
    "person_dict = { 'f_name' : 'Chris', 'l_name' : 'Coletta', \\\n",
    "             'favorite program' : 'Star Trek' }\n",
    "'f_name' in person_dict"
   ]
  },
  {
   "cell_type": "code",
   "execution_count": 47,
   "metadata": {
    "button": false,
    "collapsed": false,
    "deletable": true,
    "new_sheet": false,
    "run_control": {
     "read_only": false
    }
   },
   "outputs": [
    {
     "data": {
      "text/plain": [
       "False"
      ]
     },
     "execution_count": 47,
     "metadata": {},
     "output_type": "execute_result"
    }
   ],
   "source": [
    "# But:\n",
    "'Chris' in person_dict"
   ]
  },
  {
   "cell_type": "code",
   "execution_count": 48,
   "metadata": {
    "button": false,
    "collapsed": false,
    "deletable": true,
    "new_sheet": false,
    "run_control": {
     "read_only": false
    }
   },
   "outputs": [
    {
     "data": {
      "text/plain": [
       "False"
      ]
     },
     "execution_count": 48,
     "metadata": {},
     "output_type": "execute_result"
    }
   ],
   "source": [
    "5<4"
   ]
  },
  {
   "cell_type": "code",
   "execution_count": 49,
   "metadata": {
    "button": false,
    "collapsed": false,
    "deletable": true,
    "new_sheet": false,
    "run_control": {
     "read_only": false
    }
   },
   "outputs": [
    {
     "data": {
      "text/plain": [
       "True"
      ]
     },
     "execution_count": 49,
     "metadata": {},
     "output_type": "execute_result"
    }
   ],
   "source": [
    "45 >= 45"
   ]
  },
  {
   "cell_type": "code",
   "execution_count": 50,
   "metadata": {
    "button": false,
    "collapsed": false,
    "deletable": true,
    "new_sheet": false,
    "run_control": {
     "read_only": false
    }
   },
   "outputs": [
    {
     "data": {
      "text/plain": [
       "True"
      ]
     },
     "execution_count": 50,
     "metadata": {},
     "output_type": "execute_result"
    }
   ],
   "source": [
    "# Arithmetic operators have higher precedence than comparisons:\n",
    "2 + 2 != 5"
   ]
  },
  {
   "cell_type": "markdown",
   "metadata": {
    "button": false,
    "deletable": true,
    "new_sheet": false,
    "run_control": {
     "read_only": false
    }
   },
   "source": [
    "### Identity tests: <code>is</code> and <code>is not</code>\n",
    "\n",
    "The operators <code>is</code> and <code>is not</code> are even stricter than <code>==</code> and <code>!=</code>. <code>is</code> returns <code>True</code> if and only if the two values are **bound to the same object**, not just have the same value."
   ]
  },
  {
   "cell_type": "code",
   "execution_count": 8,
   "metadata": {
    "button": false,
    "collapsed": false,
    "deletable": true,
    "new_sheet": false,
    "run_control": {
     "read_only": false
    }
   },
   "outputs": [],
   "source": [
    "t1 = t2 = True\n",
    "t3 = True"
   ]
  },
  {
   "cell_type": "code",
   "execution_count": 9,
   "metadata": {
    "button": false,
    "collapsed": false,
    "deletable": true,
    "new_sheet": false,
    "run_control": {
     "read_only": false
    }
   },
   "outputs": [
    {
     "data": {
      "text/plain": [
       "True"
      ]
     },
     "execution_count": 9,
     "metadata": {},
     "output_type": "execute_result"
    }
   ],
   "source": [
    "t1 is t2"
   ]
  },
  {
   "cell_type": "code",
   "execution_count": 10,
   "metadata": {
    "button": false,
    "collapsed": false,
    "deletable": true,
    "new_sheet": false,
    "run_control": {
     "read_only": false
    }
   },
   "outputs": [
    {
     "data": {
      "text/plain": [
       "True"
      ]
     },
     "execution_count": 10,
     "metadata": {},
     "output_type": "execute_result"
    }
   ],
   "source": [
    "t1 is t3"
   ]
  },
  {
   "cell_type": "code",
   "execution_count": 14,
   "metadata": {
    "button": false,
    "collapsed": false,
    "deletable": true,
    "new_sheet": false,
    "run_control": {
     "read_only": false
    }
   },
   "outputs": [
    {
     "data": {
      "text/plain": [
       "True"
      ]
     },
     "execution_count": 14,
     "metadata": {},
     "output_type": "execute_result"
    }
   ],
   "source": [
    "name1 = 43\n",
    "name2 = 43\n",
    "name1 is name2"
   ]
  },
  {
   "cell_type": "markdown",
   "metadata": {
    "button": false,
    "deletable": true,
    "new_sheet": false,
    "run_control": {
     "read_only": false
    }
   },
   "source": [
    "Use the built in Python function <code>id()</code> to ascertain if a name points to the same object. The return value of the function is an id number that is used internally in Python."
   ]
  },
  {
   "cell_type": "code",
   "execution_count": 15,
   "metadata": {
    "button": false,
    "collapsed": false,
    "deletable": true,
    "new_sheet": false,
    "run_control": {
     "read_only": false
    }
   },
   "outputs": [
    {
     "name": "stdout",
     "output_type": "stream",
     "text": [
      "4298189072 4298189072\n"
     ]
    }
   ],
   "source": [
    "print id(name1), id(name2)"
   ]
  },
  {
   "cell_type": "markdown",
   "metadata": {
    "button": false,
    "deletable": true,
    "new_sheet": false,
    "run_control": {
     "read_only": false
    }
   },
   "source": [
    "When you create two empty lists you get two different objects, so <code>is</code> returns False (and therefore <code>is not</code> returns True)."
   ]
  },
  {
   "cell_type": "code",
   "execution_count": 16,
   "metadata": {
    "button": false,
    "collapsed": false,
    "deletable": true,
    "new_sheet": false,
    "run_control": {
     "read_only": false
    }
   },
   "outputs": [
    {
     "data": {
      "text/plain": [
       "False"
      ]
     },
     "execution_count": 16,
     "metadata": {},
     "output_type": "execute_result"
    }
   ],
   "source": [
    "list1 = ['a', 'b', 'c']\n",
    "list2 = ['a', 'b', 'c']\n",
    "list1 is list2"
   ]
  },
  {
   "cell_type": "code",
   "execution_count": 18,
   "metadata": {
    "button": false,
    "collapsed": false,
    "deletable": true,
    "new_sheet": false,
    "run_control": {
     "read_only": false
    }
   },
   "outputs": [
    {
     "name": "stdout",
     "output_type": "stream",
     "text": [
      "4329745368 4329758448\n"
     ]
    }
   ],
   "source": [
    "# the ids of the two lists are different\n",
    "print id(list1), id(list2)"
   ]
  },
  {
   "cell_type": "markdown",
   "metadata": {
    "button": false,
    "deletable": true,
    "new_sheet": false,
    "run_control": {
     "read_only": false
    }
   },
   "source": [
    "## <a name=\"conditional\">Conditional Statements</a>\n",
    "\n",
    "Most times you'll write conditional statements on multiple lines, which means you'll have to indent any statements that you want to be evaluated only if the condition is true."
   ]
  },
  {
   "cell_type": "code",
   "execution_count": 51,
   "metadata": {
    "button": false,
    "collapsed": false,
    "deletable": true,
    "new_sheet": false,
    "run_control": {
     "read_only": false
    }
   },
   "outputs": [
    {
     "name": "stdout",
     "output_type": "stream",
     "text": [
      "True fact.\n",
      "Yup.\n",
      "This line prints regardless.\n"
     ]
    }
   ],
   "source": [
    "# Simple conditional\n",
    "if True:\n",
    "    print \"True fact.\"\n",
    "    print \"Yup.\"\n",
    "print \"This line prints regardless.\""
   ]
  },
  {
   "cell_type": "code",
   "execution_count": 52,
   "metadata": {
    "button": false,
    "collapsed": false,
    "deletable": true,
    "new_sheet": false,
    "run_control": {
     "read_only": false
    }
   },
   "outputs": [
    {
     "name": "stdout",
     "output_type": "stream",
     "text": [
      "True fact.\n",
      "Yup.\n",
      "This line prints regardless.\n"
     ]
    }
   ],
   "source": [
    "# One alternative conditional\n",
    "if True:\n",
    "    print \"True fact.\"\n",
    "    print \"Yup.\"\n",
    "else:\n",
    "    print \"This ain't gonna print.\"\n",
    "print \"This line prints regardless.\""
   ]
  },
  {
   "cell_type": "code",
   "execution_count": 55,
   "metadata": {
    "button": false,
    "collapsed": false,
    "deletable": true,
    "new_sheet": false,
    "run_control": {
     "read_only": false
    }
   },
   "outputs": [
    {
     "name": "stdout",
     "output_type": "stream",
     "text": [
      "We don't serve your kind in here, R2D2\n"
     ]
    }
   ],
   "source": [
    "# Multi-test conditional\n",
    "person = {'name' : 'R2D2', 'species' : 'droid' }\n",
    "\n",
    "if person['species'] is 'human':\n",
    "    print \"Welcome to the Mos Eisley Cantina,\", person['name']\n",
    "elif person['species'] is 'wookie':\n",
    "    print \"AAAAARRRRRAAGGHHARRAAAGHHHARA,\", person['name']\n",
    "elif person['species'] is 'droid':\n",
    "    print \"We don't serve your kind in here,\", person['name']\n",
    "else:\n",
    "    print \"What kind of lifeform are you??\""
   ]
  },
  {
   "cell_type": "markdown",
   "metadata": {
    "button": false,
    "deletable": true,
    "new_sheet": false,
    "run_control": {
     "read_only": false
    }
   },
   "source": [
    "If you want Python to do nothing if the condition is true, you can't just leave a blank line, you have to use the keyword <code>pass</code>, properly indented."
   ]
  },
  {
   "cell_type": "code",
   "execution_count": 58,
   "metadata": {
    "button": false,
    "collapsed": false,
    "deletable": true,
    "new_sheet": false,
    "run_control": {
     "read_only": false
    }
   },
   "outputs": [],
   "source": [
    "planet_earth = { 'population' : 6e9, 'color' : 'blue' }\n",
    "\n",
    "# There's nothing I can do...\n",
    "if planet_earth['color'] == 'blue':\n",
    "    pass\n",
    "else:\n",
    "    print \"Floating in my tin can.\""
   ]
  },
  {
   "cell_type": "code",
   "execution_count": 60,
   "metadata": {
    "button": false,
    "collapsed": false,
    "deletable": true,
    "new_sheet": false,
    "run_control": {
     "read_only": false
    }
   },
   "outputs": [],
   "source": [
    "# You can put the single conditionals on one line if you want, but why?\n",
    "if 'man' is 5: the_devil = 6"
   ]
  },
  {
   "cell_type": "markdown",
   "metadata": {
    "button": false,
    "deletable": true,
    "new_sheet": false,
    "run_control": {
     "read_only": false
    }
   },
   "source": [
    "### Ternary operator\n",
    "\n",
    "You can use the ternary syntax to put one-alternitive conditionals all on one line (but again, why?). Ternary operators are expressions that take the form \"*value-if-true* <code>if</code> *condition* <code>else</code> *value-if-false*\"."
   ]
  },
  {
   "cell_type": "code",
   "execution_count": 62,
   "metadata": {
    "button": false,
    "collapsed": false,
    "deletable": true,
    "new_sheet": false,
    "run_control": {
     "read_only": false
    }
   },
   "outputs": [
    {
     "data": {
      "text/plain": [
       "'walk 500 miles.'"
      ]
     },
     "execution_count": 62,
     "metadata": {},
     "output_type": "execute_result"
    }
   ],
   "source": [
    "hands = 'down'\n",
    "plans_tonight = 'party in the usa' if hands == 'up' else 'walk 500 miles.'\n",
    "plans_tonight"
   ]
  },
  {
   "cell_type": "markdown",
   "metadata": {
    "button": false,
    "deletable": true,
    "new_sheet": false,
    "run_control": {
     "read_only": false
    }
   },
   "source": [
    "## <a name=\"while\"><code>while</code> loops</a>\n",
    "\n",
    "A while loop evaluates a boolean expression and does the code in the loop over and over as long as the expression evaluates to true."
   ]
  },
  {
   "cell_type": "code",
   "execution_count": 65,
   "metadata": {
    "button": false,
    "collapsed": false,
    "deletable": true,
    "new_sheet": false,
    "run_control": {
     "read_only": false
    }
   },
   "outputs": [
    {
     "name": "stdout",
     "output_type": "stream",
     "text": [
      "No beer, you 15-year-old, wait until next year.\n",
      "No beer, you 16-year-old, wait until next year.\n",
      "No beer, you 17-year-old, wait until next year.\n",
      "No beer, you 18-year-old, wait until next year.\n",
      "No beer, you 19-year-old, wait until next year.\n",
      "No beer, you 20-year-old, wait until next year.\n",
      "You're 21, it's party time!\n"
     ]
    }
   ],
   "source": [
    "age = 15\n",
    "while age < 21:\n",
    "    print \"No beer, you {}-year-old, wait until next year.\".format(age)\n",
    "    age += 1\n",
    "\n",
    "print \"You're 21, it's party time!\""
   ]
  },
  {
   "cell_type": "markdown",
   "metadata": {
    "button": false,
    "deletable": true,
    "new_sheet": false,
    "run_control": {
     "read_only": false
    }
   },
   "source": [
    "Another way to structure a while loop is to \"loop forever\" and use a conditional statement with the <code>break</code> keyword."
   ]
  },
  {
   "cell_type": "code",
   "execution_count": 66,
   "metadata": {
    "button": false,
    "collapsed": false,
    "deletable": true,
    "new_sheet": false,
    "run_control": {
     "read_only": false
    }
   },
   "outputs": [
    {
     "name": "stdout",
     "output_type": "stream",
     "text": [
      "No beer, you 15-year-old, wait until next year.\n",
      "No beer, you 16-year-old, wait until next year.\n",
      "No beer, you 17-year-old, wait until next year.\n",
      "No beer, you 18-year-old, wait until next year.\n",
      "No beer, you 19-year-old, wait until next year.\n",
      "No beer, you 20-year-old, wait until next year.\n",
      "You're 21, it's party time!\n"
     ]
    }
   ],
   "source": [
    "age = 15\n",
    "# loop forever\n",
    "while True:\n",
    "    if age >= 21:\n",
    "        break\n",
    "    print \"No beer, you {}-year-old, wait until next year.\".format(age)\n",
    "    age += 1\n",
    "\n",
    "print \"You're 21, it's party time!\""
   ]
  },
  {
   "cell_type": "markdown",
   "metadata": {
    "button": false,
    "deletable": true,
    "new_sheet": false,
    "run_control": {
     "read_only": false
    }
   },
   "source": [
    "## <a name=\"for\"><code>for</code> loops</a>\n",
    "\n",
    "* \"Python’s <code>for</code> statement iterates over the items of any sequence (a list or a string), in the order that they appear in the sequence.\" [reference](http://docs.python.org/2/tutorial/controlflow.html). Often times if you know exactly how many times you need to loop, you'll use the <code>range()</code> function, which returns a list of numbers for the for loop to iterate over. Each time through the loop, Python with put the next item in the sequence into the variable whose name you declare by putting it between the <code>for</code> and <code>in</code> keywords."
   ]
  },
  {
   "cell_type": "code",
   "execution_count": 70,
   "metadata": {
    "button": false,
    "collapsed": false,
    "deletable": true,
    "new_sheet": false,
    "run_control": {
     "read_only": false
    }
   },
   "outputs": [
    {
     "data": {
      "text/plain": [
       "[0, 1, 2, 3, 4, 5, 6, 7, 8, 9]"
      ]
     },
     "execution_count": 70,
     "metadata": {},
     "output_type": "execute_result"
    }
   ],
   "source": [
    "# range counts from 0\n",
    "range(10)"
   ]
  },
  {
   "cell_type": "code",
   "execution_count": 69,
   "metadata": {
    "button": false,
    "collapsed": false,
    "deletable": true,
    "new_sheet": false,
    "run_control": {
     "read_only": false
    }
   },
   "outputs": [
    {
     "name": "stdout",
     "output_type": "stream",
     "text": [
      "This is the 0th time through the for loop.\n",
      "This is the 1st time through the for loop.\n",
      "This is the 2nd time through the for loop.\n",
      "This is the 3rd time through the for loop.\n",
      "This is the 4th time through the for loop.\n",
      "This is the 5th time through the for loop.\n",
      "This is the 6th time through the for loop.\n",
      "This is the 7th time through the for loop.\n",
      "This is the 8th time through the for loop.\n",
      "This is the 9th time through the for loop.\n"
     ]
    }
   ],
   "source": [
    "for i in range(10):\n",
    "    if i == 1:\n",
    "        suffix = 'st'\n",
    "    elif i == 2:\n",
    "        suffix = 'nd'\n",
    "    elif i == 3:\n",
    "        suffix = 'rd'\n",
    "    else:\n",
    "        suffix = 'th'\n",
    "    print \"This is the {}{} time through the for loop.\".format(i, suffix)"
   ]
  },
  {
   "cell_type": "code",
   "execution_count": 72,
   "metadata": {
    "button": false,
    "collapsed": false,
    "deletable": true,
    "new_sheet": false,
    "run_control": {
     "read_only": false
    }
   },
   "outputs": [
    {
     "name": "stdout",
     "output_type": "stream",
     "text": [
      "see dick run!\n",
      "see jane run!\n",
      "see spot run!\n",
      "see mom run!\n",
      "see dad run!\n"
     ]
    }
   ],
   "source": [
    "name_list = ['dick', 'jane', 'spot', 'mom', 'dad' ]\n",
    "for name in name_list:\n",
    "    print \"see {} run!\".format( name )"
   ]
  },
  {
   "cell_type": "markdown",
   "metadata": {
    "button": false,
    "deletable": true,
    "new_sheet": false,
    "run_control": {
     "read_only": false
    }
   },
   "source": [
    "Use the function <code>enumerate()</code> if you need to slap an index onto an iterable you already have. Each time through the loop <code>enumerate()</code> returns a tuple of two values, the first being the index, and the second being the value. See how you can unpack the tuple right inside the for loop:"
   ]
  },
  {
   "cell_type": "code",
   "execution_count": 74,
   "metadata": {
    "button": false,
    "collapsed": false,
    "deletable": true,
    "new_sheet": false,
    "run_control": {
     "read_only": false
    }
   },
   "outputs": [
    {
     "name": "stdout",
     "output_type": "stream",
     "text": [
      "Line 0: See dick run!\n",
      "Line 1: See jane run!\n",
      "Line 2: See spot run!\n",
      "Line 3: See mom run!\n",
      "Line 4: See dad run!\n"
     ]
    }
   ],
   "source": [
    "for index, name in enumerate( name_list ):\n",
    "    print \"Line {}: See {} run!\".format( index, name )"
   ]
  },
  {
   "cell_type": "markdown",
   "metadata": {
    "button": false,
    "deletable": true,
    "new_sheet": false,
    "run_control": {
     "read_only": false
    }
   },
   "source": [
    "The code in above cell is quivalent to zipping together a range of indices with an iterable:\n"
   ]
  },
  {
   "cell_type": "code",
   "execution_count": 75,
   "metadata": {
    "button": false,
    "collapsed": false,
    "deletable": true,
    "new_sheet": false,
    "run_control": {
     "read_only": false
    }
   },
   "outputs": [
    {
     "name": "stdout",
     "output_type": "stream",
     "text": [
      "[(0, 'dick'), (1, 'jane'), (2, 'spot'), (3, 'mom'), (4, 'dad')]\n"
     ]
    }
   ],
   "source": [
    "num_names = len( name_list )\n",
    "indices = range( num_names )\n",
    "zipped_together = zip( indices, name_list )\n",
    "print zipped_together"
   ]
  },
  {
   "cell_type": "code",
   "execution_count": 76,
   "metadata": {
    "button": false,
    "collapsed": false,
    "deletable": true,
    "new_sheet": false,
    "run_control": {
     "read_only": false
    }
   },
   "outputs": [
    {
     "name": "stdout",
     "output_type": "stream",
     "text": [
      "Line 0: See dick run!\n",
      "Line 1: See jane run!\n",
      "Line 2: See spot run!\n",
      "Line 3: See mom run!\n",
      "Line 4: See dad run!\n"
     ]
    }
   ],
   "source": [
    "for index, name in zipped_together:\n",
    "    print \"Line {}: See {} run!\".format( index, name )"
   ]
  },
  {
   "cell_type": "markdown",
   "metadata": {
    "button": false,
    "deletable": true,
    "new_sheet": false,
    "run_control": {
     "read_only": false
    }
   },
   "source": [
    "You can prematurely end iteration of a for loop using the <code>break</code> keyword as shown in the <code>while</code> loop example above. You can also have the iteration skip over executing all or part of the code in a single iteration by using the <code>continue</code> keyword."
   ]
  },
  {
   "cell_type": "code",
   "execution_count": 93,
   "metadata": {
    "button": false,
    "collapsed": false,
    "deletable": true,
    "new_sheet": false,
    "run_control": {
     "read_only": false
    }
   },
   "outputs": [
    {
     "name": "stdout",
     "output_type": "stream",
     "text": [
      "1 is odd.\n",
      "3 is odd.\n",
      "5 is odd.\n",
      "7 is odd.\n",
      "9 is odd.\n"
     ]
    }
   ],
   "source": [
    "# Only process odd numbers:\n",
    "for i in range(10):\n",
    "    # Remember, % operator is for modulus (remainder) division\n",
    "    if i % 2 == 0:\n",
    "        continue\n",
    "    print i, \"is odd.\""
   ]
  },
  {
   "cell_type": "markdown",
   "metadata": {
    "button": false,
    "deletable": true,
    "new_sheet": false,
    "run_control": {
     "read_only": false
    }
   },
   "source": [
    "The range function can start and stop at different numbers, and count by different step values. Se how if you give a start and a stop value, the start value is **inclusive** and the stop value is **exclusive**:"
   ]
  },
  {
   "cell_type": "code",
   "execution_count": 13,
   "metadata": {
    "button": false,
    "collapsed": false,
    "deletable": true,
    "new_sheet": false,
    "run_control": {
     "read_only": false
    }
   },
   "outputs": [
    {
     "data": {
      "text/plain": [
       "[1, 2, 3, 4, 5, 6, 7, 8, 9, 10, 11, 12]"
      ]
     },
     "execution_count": 13,
     "metadata": {},
     "output_type": "execute_result"
    }
   ],
   "source": [
    "# Gives numbers 1-12\n",
    "range(1,13)"
   ]
  },
  {
   "cell_type": "code",
   "execution_count": 15,
   "metadata": {
    "button": false,
    "collapsed": false,
    "deletable": true,
    "new_sheet": false,
    "run_control": {
     "read_only": false
    }
   },
   "outputs": [
    {
     "data": {
      "text/plain": [
       "[-5, -4, -3, -2, -1, 0, 1, 2, 3]"
      ]
     },
     "execution_count": 15,
     "metadata": {},
     "output_type": "execute_result"
    }
   ],
   "source": [
    "range(-5, 4)"
   ]
  },
  {
   "cell_type": "code",
   "execution_count": 16,
   "metadata": {
    "button": false,
    "collapsed": false,
    "deletable": true,
    "new_sheet": false,
    "run_control": {
     "read_only": false
    }
   },
   "outputs": [
    {
     "data": {
      "text/plain": [
       "[10, 9, 8, 7, 6, 5, 4, 3, 2, 1, 0, -1, -2, -3, -4]"
      ]
     },
     "execution_count": 16,
     "metadata": {},
     "output_type": "execute_result"
    }
   ],
   "source": [
    "# Count backwards\n",
    "range(10, -5, -1)"
   ]
  },
  {
   "cell_type": "code",
   "execution_count": 18,
   "metadata": {
    "button": false,
    "collapsed": false,
    "deletable": true,
    "new_sheet": false,
    "run_control": {
     "read_only": false
    }
   },
   "outputs": [
    {
     "ename": "TypeError",
     "evalue": "range() integer step argument expected, got float.",
     "output_type": "error",
     "traceback": [
      "\u001b[0;31m---------------------------------------------------------------------------\u001b[0m\n\u001b[0;31mTypeError\u001b[0m                                 Traceback (most recent call last)",
      "\u001b[0;32m<ipython-input-18-88903596827c>\u001b[0m in \u001b[0;36m<module>\u001b[0;34m()\u001b[0m\n\u001b[1;32m      1\u001b[0m \u001b[0;31m# the range function only works with integers, though:\u001b[0m\u001b[0;34m\u001b[0m\u001b[0;34m\u001b[0m\u001b[0m\n\u001b[0;32m----> 2\u001b[0;31m \u001b[0mrange\u001b[0m\u001b[0;34m(\u001b[0m\u001b[0;36m10\u001b[0m\u001b[0;34m,\u001b[0m\u001b[0;36m20\u001b[0m\u001b[0;34m,\u001b[0m\u001b[0;36m0.5\u001b[0m\u001b[0;34m)\u001b[0m\u001b[0;34m\u001b[0m\u001b[0m\n\u001b[0m",
      "\u001b[0;31mTypeError\u001b[0m: range() integer step argument expected, got float."
     ]
    }
   ],
   "source": [
    "# the range function only works with integers, though:\n",
    "range(10,20,0.5)"
   ]
  },
  {
   "cell_type": "markdown",
   "metadata": {
    "button": false,
    "deletable": true,
    "new_sheet": false,
    "run_control": {
     "read_only": false
    }
   },
   "source": [
    "### Nested <code>for</code> loops\n",
    "\n",
    "You can put for loops inside other for loops. For example here's a brute force way to create a multiplication table."
   ]
  },
  {
   "cell_type": "code",
   "execution_count": 12,
   "metadata": {
    "button": false,
    "collapsed": false,
    "deletable": true,
    "new_sheet": false,
    "run_control": {
     "read_only": false
    }
   },
   "outputs": [
    {
     "data": {
      "text/plain": [
       "array([[  1,   2,   3,   4,   5,   6,   7,   8,   9,  10,  11,  12],\n",
       "       [  2,   4,   6,   8,  10,  12,  14,  16,  18,  20,  22,  24],\n",
       "       [  3,   6,   9,  12,  15,  18,  21,  24,  27,  30,  33,  36],\n",
       "       [  4,   8,  12,  16,  20,  24,  28,  32,  36,  40,  44,  48],\n",
       "       [  5,  10,  15,  20,  25,  30,  35,  40,  45,  50,  55,  60],\n",
       "       [  6,  12,  18,  24,  30,  36,  42,  48,  54,  60,  66,  72],\n",
       "       [  7,  14,  21,  28,  35,  42,  49,  56,  63,  70,  77,  84],\n",
       "       [  8,  16,  24,  32,  40,  48,  56,  64,  72,  80,  88,  96],\n",
       "       [  9,  18,  27,  36,  45,  54,  63,  72,  81,  90,  99, 108],\n",
       "       [ 10,  20,  30,  40,  50,  60,  70,  80,  90, 100, 110, 120],\n",
       "       [ 11,  22,  33,  44,  55,  66,  77,  88,  99, 110, 121, 132],\n",
       "       [ 12,  24,  36,  48,  60,  72,  84,  96, 108, 120, 132, 144]])"
      ]
     },
     "execution_count": 12,
     "metadata": {},
     "output_type": "execute_result"
    }
   ],
   "source": [
    "import numpy as np\n",
    "# Create an empty 12x12 array designed to hold integers\n",
    "mult_table = np.empty((12,12), dtype=np.int)\n",
    "\n",
    "for i in range(1,13):\n",
    "    for j in range(1,13):\n",
    "        mult_table[i-1, j-1] = i * j\n",
    "\n",
    "mult_table"
   ]
  },
  {
   "cell_type": "markdown",
   "metadata": {
    "button": false,
    "deletable": true,
    "new_sheet": false,
    "run_control": {
     "read_only": false
    }
   },
   "source": [
    "## <a name=\"exceptions\">Exception handling</a>\n",
    "\n",
    "Another way to control the flow of a program is to gracefully handle any errors that can come up in the course of executing a program. More info on this is available [here](http://docs.python.org/2/tutorial/errors.html)."
   ]
  },
  {
   "cell_type": "markdown",
   "metadata": {
    "button": false,
    "deletable": true,
    "new_sheet": false,
    "run_control": {
     "read_only": false
    }
   },
   "source": [
    "### Syntax errors\n",
    "\n",
    "Python raises a SyntaxError of the code you typed in is wrong. Pretty straight forward - just fix the code."
   ]
  },
  {
   "cell_type": "code",
   "execution_count": 77,
   "metadata": {
    "button": false,
    "collapsed": false,
    "deletable": true,
    "new_sheet": false,
    "run_control": {
     "read_only": false
    }
   },
   "outputs": [
    {
     "ename": "NameError",
     "evalue": "name 'blahbedeeblah' is not defined",
     "output_type": "error",
     "traceback": [
      "\u001b[0;31m---------------------------------------------------------------------------\u001b[0m\n\u001b[0;31mNameError\u001b[0m                                 Traceback (most recent call last)",
      "\u001b[0;32m<ipython-input-77-491ee2b9f9bb>\u001b[0m in \u001b[0;36m<module>\u001b[0;34m()\u001b[0m\n\u001b[0;32m----> 1\u001b[0;31m \u001b[0;32mprint\u001b[0m \u001b[0mblahbedeeblah\u001b[0m\u001b[0;34m\u001b[0m\u001b[0m\n\u001b[0m",
      "\u001b[0;31mNameError\u001b[0m: name 'blahbedeeblah' is not defined"
     ]
    }
   ],
   "source": [
    "print blahbedeeblah"
   ]
  },
  {
   "cell_type": "markdown",
   "metadata": {
    "button": false,
    "deletable": true,
    "new_sheet": false,
    "run_control": {
     "read_only": false
    }
   },
   "source": [
    "### Exceptions\n",
    "\n",
    "As it says in the docs, \"even if a statement or expression is syntactically correct, it may cause an error when an attempt is made to execute it.\" (Learn about all the different types of exceptions [here](http://docs.python.org/2/library/exceptions.html)). You can safeguard yourself by putting risky code inside a try-except block:"
   ]
  },
  {
   "cell_type": "code",
   "execution_count": 84,
   "metadata": {
    "button": false,
    "collapsed": false,
    "deletable": true,
    "new_sheet": false,
    "run_control": {
     "read_only": false
    }
   },
   "outputs": [
    {
     "ename": "ZeroDivisionError",
     "evalue": "integer division or modulo by zero",
     "output_type": "error",
     "traceback": [
      "\u001b[0;31m---------------------------------------------------------------------------\u001b[0m\n\u001b[0;31mZeroDivisionError\u001b[0m                         Traceback (most recent call last)",
      "\u001b[0;32m<ipython-input-84-8fb125fc27fc>\u001b[0m in \u001b[0;36m<module>\u001b[0;34m()\u001b[0m\n\u001b[1;32m      1\u001b[0m \u001b[0;31m# Some risky code (raises a ZeroDivisionError exception)\u001b[0m\u001b[0;34m\u001b[0m\u001b[0;34m\u001b[0m\u001b[0m\n\u001b[0;32m----> 2\u001b[0;31m \u001b[0;36m10\u001b[0m\u001b[0;34m/\u001b[0m\u001b[0;36m0\u001b[0m\u001b[0;34m\u001b[0m\u001b[0m\n\u001b[0m",
      "\u001b[0;31mZeroDivisionError\u001b[0m: integer division or modulo by zero"
     ]
    }
   ],
   "source": [
    "# Some risky code (raises a ZeroDivisionError exception)\n",
    "10/0"
   ]
  },
  {
   "cell_type": "code",
   "execution_count": 82,
   "metadata": {
    "button": false,
    "collapsed": false,
    "deletable": true,
    "new_sheet": false,
    "run_control": {
     "read_only": false
    }
   },
   "outputs": [
    {
     "name": "stdout",
     "output_type": "stream",
     "text": [
      "0: (can't divide by 0)\n",
      "1: 10 / 1 = 10.00 \n",
      "2: 10 / 2 = 5.00 \n",
      "3: 10 / 3 = 3.33 \n",
      "4: 10 / 4 = 2.50 \n",
      "5: 10 / 5 = 2.00 \n",
      "6: 10 / 6 = 1.67 \n",
      "7: 10 / 7 = 1.43 \n",
      "8: 10 / 8 = 1.25 \n",
      "9: 10 / 9 = 1.11 \n"
     ]
    }
   ],
   "source": [
    "sequence = range(10)\n",
    "\n",
    "for value in sequence:\n",
    "    try:\n",
    "        print \"{val}: 10 / {val} = {quot:0.2f} \".format( val=value, quot=10.0/value )\n",
    "    except:\n",
    "        print \"0: (can't divide by 0)\""
   ]
  },
  {
   "cell_type": "markdown",
   "metadata": {
    "button": false,
    "deletable": true,
    "new_sheet": false,
    "run_control": {
     "read_only": false
    }
   },
   "source": [
    "You can have different types of exceptions handled in different ways by specifying the type of exception in the <code>except</code> clause:"
   ]
  },
  {
   "cell_type": "code",
   "execution_count": 88,
   "metadata": {
    "button": false,
    "collapsed": false,
    "deletable": true,
    "new_sheet": false,
    "run_control": {
     "read_only": false
    }
   },
   "outputs": [
    {
     "name": "stdout",
     "output_type": "stream",
     "text": [
      "5: 10 / 5 = 2.00 \n",
      "4: 10 / 4 = 2.50 \n",
      "3: 10 / 3 = 3.33 \n",
      "2: 10 / 2 = 5.00 \n",
      "1: 10 / 1 = 10.00 \n",
      "0: (can't divide by 0)\n",
      "Uh oh. Type problem: unsupported operand type(s) for /: 'float' and 'str'\n"
     ]
    }
   ],
   "source": [
    "sequence = [5, 4, 3, 2, 1, 0, 'liftoff']\n",
    "\n",
    "for value in sequence:\n",
    "    try:\n",
    "        print \"{val}: 10 / {val} = {quot:0.2f} \".format( val=value, quot=10.0/value )\n",
    "    except ZeroDivisionError:\n",
    "        print \"0: (can't divide by 0)\"\n",
    "    # The details of the error can be captured if you use the \n",
    "    # \"as\" keyword like so:\n",
    "    except TypeError as e:\n",
    "        print \"Uh oh. Type problem:\", e"
   ]
  },
  {
   "cell_type": "markdown",
   "metadata": {
    "button": false,
    "deletable": true,
    "new_sheet": false,
    "run_control": {
     "read_only": false
    }
   },
   "source": [
    "Use the keyword <code>finally</code> as part of the try-except block to define a \"clean-up action\":"
   ]
  },
  {
   "cell_type": "code",
   "execution_count": 91,
   "metadata": {
    "button": false,
    "collapsed": false,
    "deletable": true,
    "new_sheet": false,
    "run_control": {
     "read_only": false
    }
   },
   "outputs": [
    {
     "name": "stdout",
     "output_type": "stream",
     "text": [
      "5: 10 / 5 = 2.00 \n",
      "4: 10 / 4 = 2.50 \n",
      "3: 10 / 3 = 3.33 \n",
      "2: 10 / 2 = 5.00 \n",
      "1: 10 / 1 = 10.00 \n",
      "Can't divide by 0. Bail out of for loop.\n",
      "Out of 7 items in sequence, 5 calculations were performed.\n"
     ]
    }
   ],
   "source": [
    "sequence = [5, 4, 3, 2, 1, 0, 'liftoff']\n",
    "calculation_count = 0 \n",
    "\n",
    "try:\n",
    "    for value in sequence:\n",
    "        print \"{val}: 10 / {val} = {quot:0.2f} \".format( val=value, quot=10.0/value )\n",
    "        calculation_count += 1\n",
    "except ZeroDivisionError:\n",
    "    print \"Can't divide by 0. Bail out of for loop.\"\n",
    "except TypeError:\n",
    "    print \"Type problem. Bail out of for loop.\"\n",
    "finally:\n",
    "    # Statements in this clause execute last regardless if an\n",
    "    # error ocurred or not.\n",
    "    print \"Out of {} items in sequence, {} calculations were performed.\".format(\n",
    "            len( sequence ), calculation_count )"
   ]
  }
 ],
 "metadata": {
  "kernelspec": {
   "display_name": "Python 3",
   "language": "python",
   "name": "python3"
  },
  "language_info": {
   "codemirror_mode": {
    "name": "ipython",
    "version": 3
   },
   "file_extension": ".py",
   "mimetype": "text/x-python",
   "name": "python",
   "nbconvert_exporter": "python",
   "pygments_lexer": "ipython3",
   "version": "3.5.0"
  }
 },
 "nbformat": 4,
 "nbformat_minor": 0
}
