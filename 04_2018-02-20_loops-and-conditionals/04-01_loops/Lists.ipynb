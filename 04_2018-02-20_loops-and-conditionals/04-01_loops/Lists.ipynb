{
 "cells": [
  {
   "cell_type": "markdown",
   "metadata": {},
   "source": [
    "[Source](http://swcarpentry.github.io/python-novice-gapminder/11-lists/ \"Permalink to Plotting and Programming in Python: Lists\")\n",
    "\n",
    "# Plotting and Programming in Python: Lists\n",
    "\n",
    "> ## Overview\n",
    ">\n",
    "> **Teaching:** 10 min   \n",
    "**Exercises:** 10 min\n",
    ">\n",
    "> **Objectives**\n",
    ">\n",
    "> * Explain why programs need collections of values.\n",
    ">\n",
    "> * Write programs that create flat lists, index them, slice them, and modify them through assignment and method calls.\n",
    "\n",
    "## A list stores many values in a single structure.\n",
    "\n",
    "* Doing calculations with a hundred variables called `pressure_001`, `pressure_002`, etc., would be at least as slow as doing them by hand.\n",
    "* Use a _list_ to store many values together.\n",
    "    * Contained within square brackets [`...]`.\n",
    "    * Values separated by commas `,`.\n",
    "* Use `len` to find out how many values are in a list."
   ]
  },
  {
   "cell_type": "code",
   "execution_count": null,
   "metadata": {
    "collapsed": true
   },
   "outputs": [],
   "source": []
  },
  {
   "cell_type": "markdown",
   "metadata": {},
   "source": [
    "## Use an item's index to fetch it from a list.\n",
    "\n",
    "* Just like strings"
   ]
  },
  {
   "cell_type": "code",
   "execution_count": null,
   "metadata": {
    "collapsed": true
   },
   "outputs": [],
   "source": []
  },
  {
   "cell_type": "markdown",
   "metadata": {},
   "source": [
    "## Lists' values can be replaced by assigning to them.\n",
    "\n",
    "* Use an index expression on the left of assignment to replace a value."
   ]
  },
  {
   "cell_type": "code",
   "execution_count": null,
   "metadata": {
    "collapsed": true
   },
   "outputs": [],
   "source": []
  },
  {
   "cell_type": "markdown",
   "metadata": {},
   "source": [
    "## Appending items to a list lengthens it.\n",
    "\n",
    "* Use `list_name.append` to add items to the end of a list."
   ]
  },
  {
   "cell_type": "code",
   "execution_count": null,
   "metadata": {
    "collapsed": true
   },
   "outputs": [],
   "source": []
  },
  {
   "cell_type": "markdown",
   "metadata": {},
   "source": [
    "* `append` is a _method_ of lists.\n",
    "    * Like a function, but tied to a particular object.\n",
    "* Use `object_name.method_name` to call methods.\n",
    "    * Deliberately resembles the way we refer to things in a library.\n",
    "* We will meet other methods of lists as we go along.\n",
    "    * Use `help(list)` for a preview.\n",
    "\n",
    "## Use `del` to remove items from a list entirely.\n",
    "\n",
    "* `del list_name[index]` removes an item from a list and shortens the list.\n",
    "* Not a function or a method, but a statement in the language."
   ]
  },
  {
   "cell_type": "code",
   "execution_count": null,
   "metadata": {
    "collapsed": true
   },
   "outputs": [],
   "source": []
  },
  {
   "cell_type": "markdown",
   "metadata": {},
   "source": [
    "## The empty list contains no values.\n",
    "\n",
    "* Use `[]` on its own to represent a list that doesn't contain any values.\n",
    "* Helpful as a starting point for collecting values (which we will see in the next lesson).\n",
    "\n",
    "## Lists may contain values of different types.\n",
    "\n",
    "* A single list may contain numbers, strings, and anything else."
   ]
  },
  {
   "cell_type": "code",
   "execution_count": null,
   "metadata": {
    "collapsed": true
   },
   "outputs": [],
   "source": []
  },
  {
   "cell_type": "markdown",
   "metadata": {},
   "source": [
    "## Character strings can be indexed like lists.\n",
    "\n",
    "* Get single characters from a character string using indexes in square brackets."
   ]
  },
  {
   "cell_type": "code",
   "execution_count": null,
   "metadata": {
    "collapsed": true
   },
   "outputs": [],
   "source": []
  },
  {
   "cell_type": "markdown",
   "metadata": {},
   "source": [
    "## Character strings are immutable.\n",
    "\n",
    "* Cannot change the characters in a string after it has been created.\n",
    "    * _Immutable_: cannot be changed after creation.\n",
    "    * In contrast, lists are _mutable_: they can be modified in place.\n",
    "* Python considers the string to be a single value with parts, not a collection of values."
   ]
  },
  {
   "cell_type": "code",
   "execution_count": null,
   "metadata": {
    "collapsed": true
   },
   "outputs": [],
   "source": []
  },
  {
   "cell_type": "markdown",
   "metadata": {},
   "source": [
    "* Lists and character strings are both _collections_.\n",
    "\n",
    "## Indexing beyond the end of the collection is an error.\n",
    "\n",
    "* Python reports an `IndexError` if we attempt to access a value that doesn't exist.\n",
    "    * This is a kind of [runtime error][2].\n",
    "    * Cannot be detected as the code is parsed because the index might be calculated based on data."
   ]
  },
  {
   "cell_type": "code",
   "execution_count": null,
   "metadata": {
    "collapsed": true
   },
   "outputs": [],
   "source": []
  },
  {
   "cell_type": "markdown",
   "metadata": {},
   "source": [
    "\n",
    "> ## Key Points\n",
    ">\n",
    "> * A list stores many values in a single structure.\n",
    ">\n",
    "> * Use an item's index to fetch it from a list.\n",
    ">\n",
    "> * Lists' values can be replaced by assigning to them.\n",
    ">\n",
    "> * Appending items to a list lengthens it.\n",
    ">\n",
    "> * Use `del` to remove items from a list entirely.\n",
    ">\n",
    "> * The empty list contains no values.\n",
    ">\n",
    "> * Lists may contain values of different types.\n",
    ">\n",
    "> * Character strings can be indexed like lists.\n",
    ">\n",
    "> * Character strings are immutable.\n",
    ">\n",
    "> * Indexing beyond the end of the collection is an error.\n",
    "\n",
    "[1]: ../09-for-loops/\n",
    "[2]: ../05-error-messages/\n",
    "  "
   ]
  }
 ],
 "metadata": {
  "anaconda-cloud": {},
  "kernelspec": {
   "display_name": "Python 3",
   "language": "python",
   "name": "python3"
  },
  "language_info": {
   "codemirror_mode": {
    "name": "ipython",
    "version": 3
   },
   "file_extension": ".py",
   "mimetype": "text/x-python",
   "name": "python",
   "nbconvert_exporter": "python",
   "pygments_lexer": "ipython3",
   "version": "3.6.0"
  }
 },
 "nbformat": 4,
 "nbformat_minor": 1
}
