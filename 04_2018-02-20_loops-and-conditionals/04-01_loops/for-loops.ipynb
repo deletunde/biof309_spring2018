{
 "cells": [
  {
   "cell_type": "markdown",
   "metadata": {},
   "source": [
    "---\n",
    "title: \"Iteration in Python\"\n",
    "teaching: 10\n",
    "exercises: 15\n",
    "questions:\n",
    "- \"How can I make a program do many things?\"\n",
    "objectives:\n",
    "- \"Implement a list comprehension to iterate over a collection.\"\n",
    "- \"Understand how a list comprehension is the application of a function to each element of a collection.\"\n",
    "- \"Understand that other types of comprehension exist.\"\n",
    "- \"Know the structure of a for loop.\"\n",
    "- \"Know about the existence of dictionary and generator comprehensions\"\n",
    "- \"Know about for loops that use the Accumulator pattern to aggregate values.\"\n",
    "keypoints:\n",
    "- \"The process of iteration executes commands once for each value in a collection.\"\n",
    "- \"Python uses comprehensions to iterate. List comprehensions are especially common.\"\n",
    "- \"Loop variables can be called anything (but it is strongly advised to have a meaningful name to the looping variable).\"\n",
    "- \"Use `range` to iterate over a sequence of numbers.\"\n",
    "- \"Generator and dictionary comprehensions are similar to list comprehensions but their output is slightly different.\"\n",
    "- \"A `for` loop is made up of a loop variable, a collection, and a body.\"\n",
    "- \"The first line of the `for` loop must end with a colon, and the body must be indented.\"\n",
    "- \"Indentation is always meaningful in Python.\"\n",
    "- \"The body of a for loop can contain many statements.\"\n",
    "- \"The Accumulator pattern turns many values into one.\"\n",
    "---\n",
    "## Performing an operation many times\n",
    "\n",
    "In our previous lesson we learnt how to store multiple numbers together in a\n",
    "list. We constructed a list with a number of roi volumes, shown below, that we\n",
    "would now like to perform some operations upon. For example, we want to divide\n",
    "each number by 1000."
   ]
  },
  {
   "cell_type": "code",
   "execution_count": null,
   "metadata": {},
   "outputs": [],
   "source": [
    "roi_volumes = [2.73,145.3,12.7,16.2, 27.6]\n",
    "len(roi_volumes * 1000)"
   ]
  },
  {
   "cell_type": "markdown",
   "metadata": {},
   "source": [
    "{: .python}"
   ]
  },
  {
   "cell_type": "code",
   "execution_count": null,
   "metadata": {},
   "outputs": [],
   "source": [
    "5000"
   ]
  },
  {
   "cell_type": "markdown",
   "metadata": {},
   "source": [
    "{: .output}\n",
    "\n",
    "That hasn't conveniently multiplied each element of the list by 1000. It has\n",
    "instead replicated our list 1000 times. An attempt at division just fails\n",
    "outright:"
   ]
  },
  {
   "cell_type": "code",
   "execution_count": null,
   "metadata": {},
   "outputs": [],
   "source": [
    "roi_volumes / 1000"
   ]
  },
  {
   "cell_type": "markdown",
   "metadata": {},
   "source": [
    "{: .python}"
   ]
  },
  {
   "cell_type": "code",
   "execution_count": null,
   "metadata": {},
   "outputs": [],
   "source": [
    "---------------------------------------------------------------------------\n",
    "TypeError                                 Traceback (most recent call last)\n",
    "<ipython-input-5-c4ca083b5b87> in <module>()\n",
    "----> 1 roi_volumes/10\n",
    "\n",
    "TypeError: unsupported operand type(s) for /: 'list' and 'int'"
   ]
  },
  {
   "cell_type": "markdown",
   "metadata": {},
   "source": [
    "{: .output}\n",
    "\n",
    "> ## The Numpy package\n",
    "> \n",
    "> When dealing with arrays of numbers the package Numpy is the ideal place to\n",
    "> start. It efficiently handles multi-dimension numeric data. With this package\n",
    "> we have access to convenient operations for matrices of numbers that we\n",
    "> attempted to perform above. For the purposes of instruction we will use list\n",
    "> comprehensions to perform these operations instead. Although it presents an\n",
    "> unrealistic way of operatic on matrices we will quickly see that it\n",
    "> generalizes to other types of data.\n",
    "{: .callout}\n",
    "\n",
    "\n",
    "## Iteration in Python using a list comprehension\n",
    "\n",
    "\n",
    "Python gives us a convenient tool to create lists using iteration called a list\n",
    "comprehension. A list comprehension allows us to iterate over a variable (also\n",
    "called traversing the variable) . Some variables, or rather some types, support\n",
    "iteration and are called \"iterables\" while some do not. As we traverse our\n",
    "collection we represent each element by a temporary variable called a looping\n",
    "variable. The output of our list comprehension is the result some operation on\n",
    "this looping variable.\n",
    "\n",
    "In summary  In order to construct a list comprehension we need the following:\n",
    "\n",
    "* a collection we want to iterate over (\"roi_volumes\")\n",
    "* an arbitrary name for our looping variable (\"x\")\n",
    "* an operation (a function) to apply to our looping variable\n",
    "* square brackets to denote that the expression is a list comprehension\n",
    "\n",
    "Lets implement our previous attempt to multiply \"roi_volumes\" by 1000 using a\n",
    "list comprehension:"
   ]
  },
  {
   "cell_type": "code",
   "execution_count": null,
   "metadata": {},
   "outputs": [],
   "source": [
    "converted_roi_volumes = [x * 1000 for x in roi_volumes]\n",
    "converted_roi_volumes"
   ]
  },
  {
   "cell_type": "markdown",
   "metadata": {},
   "source": [
    "{: .python}"
   ]
  },
  {
   "cell_type": "code",
   "execution_count": null,
   "metadata": {},
   "outputs": [],
   "source": [
    "[2730.0, 145300.0, 12700.0, 16200.0, 27600.0]"
   ]
  },
  {
   "cell_type": "markdown",
   "metadata": {},
   "source": [
    "{: .output}\n",
    "\n",
    "This is a little messy because of the unnecessary precision after the\n",
    "decimal point. We'll use the built-in function `round` to fix that:"
   ]
  },
  {
   "cell_type": "code",
   "execution_count": null,
   "metadata": {},
   "outputs": [],
   "source": [
    "converted_roi_volumes = [round(x * 1000) for x in roi_volumes]\n",
    "converted_roi_volumes"
   ]
  },
  {
   "cell_type": "markdown",
   "metadata": {},
   "source": [
    "{: .python}"
   ]
  },
  {
   "cell_type": "code",
   "execution_count": null,
   "metadata": {},
   "outputs": [],
   "source": [
    "[2730, 145300, 12700, 16200, 27600]"
   ]
  },
  {
   "cell_type": "markdown",
   "metadata": {},
   "source": [
    "{: .output}\n",
    "\n",
    "Now we have output that we wanted. \n",
    "\n",
    "\n",
    "\n",
    "> ## Python looping variables are elements of the collection\n",
    "> \n",
    "> The looping variable may confuse some people. In other programming languages\n",
    "> the value of the looping variable is a number, which can be used as an index\n",
    "> into a collection. It can take a little time to get used to this switch. We\n",
    "> will see later that we can easily access the current element's index too if\n",
    "> we wish.\n",
    "{: .callout}\n",
    "\n",
    "## List comprehensions with strings\n",
    "\n",
    "Another type of iterable is the string type. So as an example"
   ]
  },
  {
   "cell_type": "code",
   "execution_count": null,
   "metadata": {},
   "outputs": [],
   "source": [
    "roi_label = 'hippocampus'\n",
    "[L for L in roi_label]"
   ]
  },
  {
   "cell_type": "markdown",
   "metadata": {},
   "source": [
    "{: .python}"
   ]
  },
  {
   "cell_type": "code",
   "execution_count": null,
   "metadata": {},
   "outputs": [],
   "source": [
    " ['h', 'i', 'p', 'p', 'o', 'c', 'a', 'm', 'p', 'u', 's']\n",
    " ~~~\n",
    "{: .output}\n",
    "\n",
    "\n",
    "## Use `range` to iterate over a sequence of numbers.\n",
    "\n",
    "*   The built-in function `range` produces a sequence of numbers.\n",
    "    *   This is *not* a list: the numbers are produced on demand to make\n",
    "        looping over large ranges more efficient.\n",
    "*   `range(N)` is the numbers 0..N-1\n",
    "    *   This is the legal indices of a list or character string of length N\n",
    "\n",
    "Some output generated using the `range()` function:\n"
   ]
  },
  {
   "cell_type": "markdown",
   "metadata": {},
   "source": [
    "range(5)"
   ]
  },
  {
   "cell_type": "code",
   "execution_count": null,
   "metadata": {},
   "outputs": [],
   "source": [
    "{: .python}\n"
   ]
  },
  {
   "cell_type": "markdown",
   "metadata": {},
   "source": [
    "range(0,5)"
   ]
  },
  {
   "cell_type": "code",
   "execution_count": null,
   "metadata": {},
   "outputs": [],
   "source": [
    "{: .output}\n"
   ]
  },
  {
   "cell_type": "markdown",
   "metadata": {},
   "source": [
    "range(0, 5)"
   ]
  },
  {
   "cell_type": "code",
   "execution_count": null,
   "metadata": {},
   "outputs": [],
   "source": [
    "{: .python}\n"
   ]
  },
  {
   "cell_type": "markdown",
   "metadata": {},
   "source": [
    "range(0,5)"
   ]
  },
  {
   "cell_type": "code",
   "execution_count": null,
   "metadata": {},
   "outputs": [],
   "source": [
    "{: .output}\n"
   ]
  },
  {
   "cell_type": "markdown",
   "metadata": {},
   "source": [
    "list(range(0, 5))"
   ]
  },
  {
   "cell_type": "code",
   "execution_count": null,
   "metadata": {},
   "outputs": [],
   "source": [
    "{: .python}\n"
   ]
  },
  {
   "cell_type": "markdown",
   "metadata": {},
   "source": [
    "[0, 1, 2, 3, 4]"
   ]
  },
  {
   "cell_type": "code",
   "execution_count": null,
   "metadata": {},
   "outputs": [],
   "source": [
    "{: .output}\n",
    "\n",
    "* For the last command entered in the above code we converted the range object\n",
    "into a list. This had the advantage that we could see every number it generates\n",
    "but generally we don't want to do that. Usually we would just use it for\n",
    "iteration and never generate all of its contents at once. \n",
    "\n",
    "* Note that when specifying the start and stop value for a range the resulting\n",
    "  elements include the start value but not the stop value.\n",
    "\n",
    "Here's an example of combining the range function, a useful type of iterable, with a list comprehension:\n"
   ]
  },
  {
   "cell_type": "markdown",
   "metadata": {},
   "source": [
    "[str(x) for x in range(10)]"
   ]
  },
  {
   "cell_type": "code",
   "execution_count": null,
   "metadata": {},
   "outputs": [],
   "source": [
    "{: .python}\n"
   ]
  },
  {
   "cell_type": "markdown",
   "metadata": {},
   "source": [
    "['0', '1', '2', '3', '4', '5', '6', '7', '8', '9']"
   ]
  },
  {
   "cell_type": "code",
   "execution_count": null,
   "metadata": {},
   "outputs": [],
   "source": [
    "{: .output}\n",
    "\n",
    "## Other types of comprehensions\n",
    "\n",
    "In addition to list comprehensions, Python has what are called generator\n",
    "comprehensions and dictionary comprehensions. These can be useful in different\n",
    "situations. These comprehensions are constructed with parentheses and braces and  produce variables of type \"generator\" and \"dict\" respectively.\n",
    "Later we will see that some of the functions in Python's standard library return the generator. In a similar manner to the range object we just saw it is enough to know that we can work with the data more easily by simply converting it to a list:\n",
    "\n"
   ]
  },
  {
   "cell_type": "markdown",
   "metadata": {},
   "source": [
    "a_generator = (x for x in roi_label)\n",
    "a_generator"
   ]
  },
  {
   "cell_type": "code",
   "execution_count": null,
   "metadata": {},
   "outputs": [],
   "source": [
    "{: .python}\n"
   ]
  },
  {
   "cell_type": "markdown",
   "metadata": {},
   "source": [
    "<generator object <genexpr> at 0x2ba6900a2888>"
   ]
  },
  {
   "cell_type": "code",
   "execution_count": null,
   "metadata": {},
   "outputs": [],
   "source": [
    "{: .output}\n"
   ]
  },
  {
   "cell_type": "markdown",
   "metadata": {},
   "source": [
    "list(a_generator)"
   ]
  },
  {
   "cell_type": "code",
   "execution_count": null,
   "metadata": {},
   "outputs": [],
   "source": [
    "{: .python}\n"
   ]
  },
  {
   "cell_type": "markdown",
   "metadata": {},
   "source": [
    "['h', 'i', 'p', 'p', 'o', 'c', 'a', 'm', 'p', 'u', 's']"
   ]
  },
  {
   "cell_type": "code",
   "execution_count": null,
   "metadata": {},
   "outputs": [],
   "source": [
    "{: .output}\n",
    "\n",
    "\n",
    "## A \"for\" loop in Python\n",
    "\n",
    "Like other languages Python can also express iteration as  a for loop:\n"
   ]
  },
  {
   "cell_type": "markdown",
   "metadata": {},
   "source": [
    "for x in roi_volumes:\n",
    "    print(x)"
   ]
  },
  {
   "cell_type": "code",
   "execution_count": null,
   "metadata": {},
   "outputs": [],
   "source": [
    "{: .python}\n",
    "\n",
    "*   This `for` loop is equivalent to:\n"
   ]
  },
  {
   "cell_type": "markdown",
   "metadata": {},
   "source": [
    "print(2.73)\n",
    "print(145.3)\n",
    "print(12.7)\n",
    "print(16.2)\n",
    "print( 27.6)"
   ]
  },
  {
   "cell_type": "code",
   "execution_count": null,
   "metadata": {},
   "outputs": [],
   "source": [
    "{: .python}\n",
    "\n",
    "*   And the `for` loop's output is:\n"
   ]
  },
  {
   "cell_type": "markdown",
   "metadata": {},
   "source": [
    "2.73\n",
    "145.3\n",
    "12.7\n",
    "16.2\n",
    "27.6"
   ]
  },
  {
   "cell_type": "code",
   "execution_count": null,
   "metadata": {},
   "outputs": [],
   "source": [
    "{: .output}\n",
    "\n",
    "## The first line of the `for` loop must end with a colon, and the body must be indented.\n",
    "\n",
    "*   The colon at the end of the first line signals the start of a *block* of statements.\n",
    "*   Python uses indentation rather than `{}` or `begin`/`end` to show *nesting*.\n",
    "    *   Any consistent indentation is legal, but the Python [style\n",
    "        guide](https://www.python.org/dev/peps/pep-0008/) for code encourages 4\n",
    "        spaces.\n"
   ]
  },
  {
   "cell_type": "markdown",
   "metadata": {},
   "source": [
    "for number in [2, 3, 5]:\n",
    "print(number)"
   ]
  },
  {
   "cell_type": "code",
   "execution_count": null,
   "metadata": {},
   "outputs": [],
   "source": [
    "{: .python}"
   ]
  },
  {
   "cell_type": "markdown",
   "metadata": {},
   "source": [
    "IndentationError: expected an indented block"
   ]
  },
  {
   "cell_type": "code",
   "execution_count": null,
   "metadata": {},
   "outputs": [],
   "source": [
    "{: .error}\n",
    "\n",
    "*   Indentation is always meaningful in Python.\n",
    "\n",
    "## The body of a loop can contain many statements.\n",
    "\n",
    "*   No loop should be more than a few lines long. It makes it too hard for\n",
    "    people   to keep larger chunks of code in mind.\n"
   ]
  },
  {
   "cell_type": "markdown",
   "metadata": {},
   "source": [
    "for x in roi_volumes:\n",
    "    squared = round(x ** 2)\n",
    "    cubed = round(x ** 3)\n",
    "    print(x, squared, cubed)"
   ]
  },
  {
   "cell_type": "code",
   "execution_count": null,
   "metadata": {},
   "outputs": [],
   "source": [
    "{: .python}\n"
   ]
  },
  {
   "cell_type": "markdown",
   "metadata": {},
   "source": [
    "2.73 7 20\n",
    "145.3 21112 3067587\n",
    "12.7 161 2048\n",
    "16.2 262 4252\n",
    "27.6 762 21025"
   ]
  },
  {
   "cell_type": "code",
   "execution_count": null,
   "metadata": {},
   "outputs": [],
   "source": [
    "{: .output}\n",
    "\n",
    "*   We will learn about functions later. With a function we can capture the\n",
    "    code in the body of this for loop and have a simple one line expression to\n",
    "    return the values we want given an input collection.\n",
    "\n",
    "\n",
    "\n",
    "\n",
    "## The Accumulator pattern turns many values into one.\n",
    "\n",
    "*   A common pattern in programs is to:\n",
    "    1.  Initialize an *accumulator* variable to zero, the empty string, or the empty list.\n",
    "    2.  Update the variable with values from a collection.\n"
   ]
  },
  {
   "cell_type": "markdown",
   "metadata": {},
   "source": [
    "# Sum the integers 1 to 10.\n",
    "total = 0\n",
    "for number in range(1,11):\n",
    "   total = total + number\n",
    "print(total)"
   ]
  },
  {
   "cell_type": "code",
   "execution_count": null,
   "metadata": {},
   "outputs": [],
   "source": [
    "{: .python}"
   ]
  },
  {
   "cell_type": "markdown",
   "metadata": {},
   "source": [
    "55"
   ]
  },
  {
   "cell_type": "code",
   "execution_count": null,
   "metadata": {},
   "outputs": [],
   "source": [
    "{: .output}\n",
    "\n",
    "## Patterns of computation that a list comprehension doesn't work for.\n",
    "\n",
    "* It is important to spot this accumulator pattern because list comprehensions\n",
    "  cannot solve this task.\n",
    "* The above code collapses (or aggregates) 10 numbers into a single integer\n",
    "  using a loop. In this case we can see that we are just taking the sum of all\n",
    "  the numbers. An easier way of doing this is by using the sum function in\n",
    "  python:\n"
   ]
  },
  {
   "cell_type": "markdown",
   "metadata": {},
   "source": [
    "sum(range(1,11))"
   ]
  },
  {
   "cell_type": "code",
   "execution_count": null,
   "metadata": {},
   "outputs": [],
   "source": [
    "{: .python}\n"
   ]
  },
  {
   "cell_type": "markdown",
   "metadata": {},
   "source": [
    "55\n",
    "~~~\n",
    "{: .output}\n",
    "\n",
    "* Another pattern of computation that list comprehensions cannot be used for is\n",
    "  the application of a windowing function to some data. We will see an example\n",
    "  in the cumulative sum exercise in this lesson. Later we will see that\n",
    "  packages like Numpy and Pandas can typically do these types of operations for us.\n",
    "\n",
    "\n",
    "> ## UPPERCASE\n",
    "> \n",
    "> ~~~\n",
    "> list_of_strings = list('hippocampus')\n",
    "> ~~~\n",
    "> {: .python}\n",
    "> \n",
    "> What is the type of the variable list_of_strings? What is its length? Use a\n",
    "> list comprehension to return a list with each element of the list containing\n",
    "> a single letter of the word hippocampus but as an uppercase character.\n",
    "> \n",
    ">> ## Solution\n",
    ">> \n",
    ">> ~~~\n",
    ">> print('Type: ', type(list_of_strings))\n",
    ">> print('Length: ', len(list_of_strings))\n",
    ">> answer = [x.upper() for x in list_of_strings]\n",
    ">> print(answer)\n",
    ">> ~~~\n",
    ">> {: .python}\n",
    ">> \n",
    ">> ~~~\n",
    ">> Type:  <class 'list'> \n",
    ">> Length:  11\n",
    ">> ['H', 'I', 'P', 'P', 'O', 'C', 'A', 'M', 'P', 'U', 'S']\n",
    ">> ~~~\n",
    ">> {: .output}\n",
    "> {: .solution}\n",
    "{: .challenge}\n",
    "\n",
    "> ## Classifying Errors\n",
    "> \n",
    "> Is an indentation error a syntax error or a runtime error?\n",
    "{: .challenge}\n",
    "\n",
    "\n",
    "\n",
    "> ## Cumulative Sum\n",
    "> \n",
    "> ~~~\n",
    "> data = [1,2,2,5]\n",
    "> ~~~\n",
    "> {: .python}\n",
    "> \n",
    "> Given the above list, reorder and properly indent the lines of code below\n",
    "> so that they print an array with the cumulative sum of data.\n",
    "> The result should be `[1, 3, 5, 10]`.\n",
    "> \n",
    "> \n",
    "> \n",
    "> ~~~\n",
    "> cumulative += [sum]\n",
    "> for number in data:\n",
    "> cumulative = []\n",
    "> sum += number\n",
    "> print(cumulative)\n",
    "> \n",
    "> sum=0\n",
    "> ~~~\n",
    "> {: .python}\n",
    "> \n",
    "> > ## Solution\n",
    "> > \n",
    "> > ~~~\n",
    "> > sum=0\n",
    "> > cumulative = []\n",
    "> > for number in data:\n",
    "> >     sum += number\n",
    "> >     cumulative += [sum]\n",
    "> > print(cumulative)\n",
    "> >        \n",
    "> > ~~~\n",
    "> > {: .python}\n",
    "> {: .solution}\n",
    "{: .challenge}\n",
    "\n",
    "\n",
    "> ## Identifying Item Errors\n",
    "> \n",
    "> 1. Read the code below and try to identify what the errors are\n",
    ">    *without* running it.\n",
    "> 2. Run the code, and read the error message. What type of error is it?\n",
    "> 3. Fix the error.\n",
    "> \n",
    "> ~~~\n",
    "> regions = ['hippocampus', 'hypothalamus', 'insula', 'LGN']\n",
    "> print('My favorite brain region is ', regions[4])\n",
    "> ~~~\n",
    "> {: .python}\n",
    "{: .challenge}"
   ]
  }
 ],
 "metadata": {},
 "nbformat": 4,
 "nbformat_minor": 2
}
